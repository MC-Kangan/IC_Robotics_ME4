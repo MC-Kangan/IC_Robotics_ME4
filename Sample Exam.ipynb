{
 "cells": [
  {
   "cell_type": "code",
   "execution_count": 1,
   "id": "c764ad2e",
   "metadata": {},
   "outputs": [],
   "source": [
    "import numpy as np\n",
    "import pandas as pd\n",
    "import matplotlib.pyplot as plt\n",
    "from mpl_toolkits.mplot3d import Axes3D\n",
    "from sympy import *\n",
    "from robot_tools import *\n",
    "import math"
   ]
  },
  {
   "cell_type": "code",
   "execution_count": 2,
   "id": "6ba1bb9b",
   "metadata": {},
   "outputs": [],
   "source": [
    "def image_projection(w, h, nx, ny, f, coord_universe, T0C, Display = False):\n",
    "    \n",
    "    '''\n",
    "    w: width of retina in m\n",
    "    h: height of retina in m\n",
    "    nx: horizontal pixels number\n",
    "    ny: vertical pixels number\n",
    "    f: focal length in m\n",
    "    coord_universe: list -> Coordinate of the object / point in the universe frame\n",
    "    TOC: Sympy Matrix -> Position of camera relative to the universe\n",
    "    \n",
    "    '''\n",
    "    \n",
    "    [xp, yp, zp] = coord_universe \n",
    "    \n",
    "    # Size of te individual pixel\n",
    "    Dw = symbols('dw')\n",
    "    Dh = symbols('dh')\n",
    "\n",
    "    # Principal point (centre of the renita)\n",
    "    U0 = symbols('u0')\n",
    "    V0 = symbols('v0')\n",
    "\n",
    "    # Focal length in m\n",
    "    F = symbols('f')\n",
    "\n",
    "    # Coordinate of the object / point in the universe frame\n",
    "    Xp = symbols('x_p')\n",
    "    Yp = symbols('y_p')\n",
    "    Zp = symbols('z_p')\n",
    "    \n",
    "    # Coordinate of the object homogeneous form\n",
    "    P0 = Matrix([Xp, Yp, Zp, 1])\n",
    "\n",
    "    # Camera parameters\n",
    "    CM = Matrix([[F/Dw, 0, U0, 0],\n",
    "                 [0, F/Dh, V0, 0],\n",
    "                 [0, 0, 1, 0]])\n",
    "\n",
    "    RES = CM * T0C**-1 * P0\n",
    "    \n",
    "    # Retina coordinate homogeneous form\n",
    "    homo_retina = RES.subs({U0: nx/2, V0: ny/2, \n",
    "                    F: f, \n",
    "                    Dw: w/nx, Dh: h/ny, \n",
    "                    Xp: xp, Yp: yp, Zp: zp})\n",
    "    \n",
    "    # Retina coordinate\n",
    "    retina = Matrix([round(homo_retina[0]/homo_retina[-1], 1), \n",
    "                     round(homo_retina[1]/homo_retina[-1], 1)])\n",
    "    \n",
    "    if Display:\n",
    "        print('Camera parameters matrix')\n",
    "        display(CM.subs({F: f, Dw: w/nx, Dh: h/ny, U0: nx/2, V0: ny/2}))\n",
    "        \n",
    "        print('Position of camera to the universe')\n",
    "        display(T0C)\n",
    "        \n",
    "        print('Position of the object in the universe')\n",
    "        display(P0.subs({Xp: xp, Yp: yp, Zp: zp}))\n",
    "        \n",
    "        print('Retina coordinates homogeneous')\n",
    "        display(homo_retina)\n",
    "        \n",
    "        print('Retina coordinates')\n",
    "        display(retina)\n",
    "        \n",
    "    # Retina coordinate\n",
    "    u, v = int(retina[0]), int(retina[1])\n",
    "    return [u, v]"
   ]
  },
  {
   "cell_type": "markdown",
   "id": "76b0ad51",
   "metadata": {},
   "source": [
    "## Qn 1"
   ]
  },
  {
   "cell_type": "code",
   "execution_count": 3,
   "id": "b33b5d97",
   "metadata": {},
   "outputs": [
    {
     "data": {
      "text/latex": [
       "$\\displaystyle ^0T_{1}$"
      ],
      "text/plain": [
       "^0T_1"
      ]
     },
     "metadata": {},
     "output_type": "display_data"
    },
    {
     "data": {
      "text/latex": [
       "$\\displaystyle \\left[\\begin{matrix}\\cos{\\left(\\theta_{1} \\right)} & - \\sin{\\left(\\theta_{1} \\right)} & 0 & 0\\\\\\sin{\\left(\\theta_{1} \\right)} & \\cos{\\left(\\theta_{1} \\right)} & 0 & 0\\\\0 & 0 & 1 & L_{1} + L_{2}\\\\0 & 0 & 0 & 1\\end{matrix}\\right]$"
      ],
      "text/plain": [
       "Matrix([\n",
       "[cos(\\theta_1), -sin(\\theta_1), 0,       0],\n",
       "[sin(\\theta_1),  cos(\\theta_1), 0,       0],\n",
       "[            0,              0, 1, L1 + L2],\n",
       "[            0,              0, 0,       1]])"
      ]
     },
     "metadata": {},
     "output_type": "display_data"
    },
    {
     "data": {
      "text/latex": [
       "$\\displaystyle ^1T_{2}$"
      ],
      "text/plain": [
       "^1T_2"
      ]
     },
     "metadata": {},
     "output_type": "display_data"
    },
    {
     "data": {
      "text/latex": [
       "$\\displaystyle \\left[\\begin{matrix}1 & 0 & 0 & 0\\\\0 & 0 & 1 & L_{3} + d_{1}\\\\0 & -1 & 0 & 0\\\\0 & 0 & 0 & 1\\end{matrix}\\right]$"
      ],
      "text/plain": [
       "Matrix([\n",
       "[1,  0, 0,       0],\n",
       "[0,  0, 1, L3 + d1],\n",
       "[0, -1, 0,       0],\n",
       "[0,  0, 0,       1]])"
      ]
     },
     "metadata": {},
     "output_type": "display_data"
    },
    {
     "data": {
      "text/latex": [
       "$\\displaystyle ^2T_{3}$"
      ],
      "text/plain": [
       "^2T_3"
      ]
     },
     "metadata": {},
     "output_type": "display_data"
    },
    {
     "data": {
      "text/latex": [
       "$\\displaystyle \\left[\\begin{matrix}\\cos{\\left(\\theta_{2} \\right)} & - \\sin{\\left(\\theta_{2} \\right)} & 0 & 0\\\\\\sin{\\left(\\theta_{2} \\right)} & \\cos{\\left(\\theta_{2} \\right)} & 0 & 0\\\\0 & 0 & 1 & 0\\\\0 & 0 & 0 & 1\\end{matrix}\\right]$"
      ],
      "text/plain": [
       "Matrix([\n",
       "[cos(\\theta_2), -sin(\\theta_2), 0, 0],\n",
       "[sin(\\theta_2),  cos(\\theta_2), 0, 0],\n",
       "[            0,              0, 1, 0],\n",
       "[            0,              0, 0, 1]])"
      ]
     },
     "metadata": {},
     "output_type": "display_data"
    },
    {
     "data": {
      "text/latex": [
       "$\\displaystyle ^3T_{E}$"
      ],
      "text/plain": [
       "^3T_E"
      ]
     },
     "metadata": {},
     "output_type": "display_data"
    },
    {
     "data": {
      "text/latex": [
       "$\\displaystyle \\left[\\begin{matrix}1 & 0 & 0 & 0\\\\0 & 1 & 0 & 0\\\\0 & 0 & 1 & L_{4}\\\\0 & 0 & 0 & 1\\end{matrix}\\right]$"
      ],
      "text/plain": [
       "Matrix([\n",
       "[1, 0, 0,  0],\n",
       "[0, 1, 0,  0],\n",
       "[0, 0, 1, L4],\n",
       "[0, 0, 0,  1]])"
      ]
     },
     "metadata": {},
     "output_type": "display_data"
    },
    {
     "data": {
      "text/latex": [
       "$\\displaystyle ^0T_{E}$"
      ],
      "text/plain": [
       "^0T_E"
      ]
     },
     "metadata": {},
     "output_type": "display_data"
    },
    {
     "data": {
      "text/latex": [
       "$\\displaystyle \\left[\\begin{matrix}\\cos{\\left(\\theta_{1} \\right)} \\cos{\\left(\\theta_{2} \\right)} & - \\sin{\\left(\\theta_{2} \\right)} \\cos{\\left(\\theta_{1} \\right)} & - \\sin{\\left(\\theta_{1} \\right)} & \\left(- L_{3} - L_{4} - d_{1}\\right) \\sin{\\left(\\theta_{1} \\right)}\\\\\\sin{\\left(\\theta_{1} \\right)} \\cos{\\left(\\theta_{2} \\right)} & - \\sin{\\left(\\theta_{1} \\right)} \\sin{\\left(\\theta_{2} \\right)} & \\cos{\\left(\\theta_{1} \\right)} & \\left(L_{3} + L_{4} + d_{1}\\right) \\cos{\\left(\\theta_{1} \\right)}\\\\- \\sin{\\left(\\theta_{2} \\right)} & - \\cos{\\left(\\theta_{2} \\right)} & 0 & L_{1} + L_{2}\\\\0 & 0 & 0 & 1\\end{matrix}\\right]$"
      ],
      "text/plain": [
       "Matrix([\n",
       "[cos(\\theta_1)*cos(\\theta_2), -sin(\\theta_2)*cos(\\theta_1), -sin(\\theta_1), (-L3 - L4 - d1)*sin(\\theta_1)],\n",
       "[sin(\\theta_1)*cos(\\theta_2), -sin(\\theta_1)*sin(\\theta_2),  cos(\\theta_1),  (L3 + L4 + d1)*cos(\\theta_1)],\n",
       "[             -sin(\\theta_2),               -cos(\\theta_2),              0,                       L1 + L2],\n",
       "[                          0,                            0,              0,                             1]])"
      ]
     },
     "metadata": {},
     "output_type": "display_data"
    },
    {
     "data": {
      "text/latex": [
       "$\\displaystyle \\left[\\begin{matrix}\\cos{\\left(\\theta_{1} \\right)} \\cos{\\left(\\theta_{2} \\right)} & - \\sin{\\left(\\theta_{2} \\right)} \\cos{\\left(\\theta_{1} \\right)} & - \\sin{\\left(\\theta_{1} \\right)} & \\left(- d_{1} - 2.5\\right) \\sin{\\left(\\theta_{1} \\right)}\\\\\\sin{\\left(\\theta_{1} \\right)} \\cos{\\left(\\theta_{2} \\right)} & - \\sin{\\left(\\theta_{1} \\right)} \\sin{\\left(\\theta_{2} \\right)} & \\cos{\\left(\\theta_{1} \\right)} & \\left(d_{1} + 2.5\\right) \\cos{\\left(\\theta_{1} \\right)}\\\\- \\sin{\\left(\\theta_{2} \\right)} & - \\cos{\\left(\\theta_{2} \\right)} & 0 & 2\\\\0 & 0 & 0 & 1\\end{matrix}\\right]$"
      ],
      "text/plain": [
       "Matrix([\n",
       "[cos(\\theta_1)*cos(\\theta_2), -sin(\\theta_2)*cos(\\theta_1), -sin(\\theta_1), (-d1 - 2.5)*sin(\\theta_1)],\n",
       "[sin(\\theta_1)*cos(\\theta_2), -sin(\\theta_1)*sin(\\theta_2),  cos(\\theta_1),  (d1 + 2.5)*cos(\\theta_1)],\n",
       "[             -sin(\\theta_2),               -cos(\\theta_2),              0,                         2],\n",
       "[                          0,                            0,              0,                         1]])"
      ]
     },
     "execution_count": 3,
     "metadata": {},
     "output_type": "execute_result"
    }
   ],
   "source": [
    "# Q(a, b)\n",
    "\n",
    "# Corrected\n",
    "L1 = symbols('L1')\n",
    "L2 = symbols('L2')\n",
    "L3 = symbols('L3')\n",
    "L4 = symbols('L4')\n",
    "d1 = symbols('d1')\n",
    "theta1 = symbols('\\\\theta_1')\n",
    "theta2 = symbols('\\\\theta_2')\n",
    "\n",
    "DH1 = [0, 0, L1 + L2, theta1]\n",
    "T01 = Tlink(DH1)\n",
    "symprint('T', 0, 1)\n",
    "matprint(T01)\n",
    "\n",
    "DH2 = [0, -pi/2, L3 + d1, 0]\n",
    "T12 = Tlink(DH2)\n",
    "symprint('T',1, 2)\n",
    "matprint(T12)\n",
    "\n",
    "DH3 = [0, 0, 0, theta2]\n",
    "T23 = Tlink(DH3)\n",
    "symprint('T',2, 3)\n",
    "matprint(T23)\n",
    "\n",
    "DHE = [0, 0, L4, 0]\n",
    "T3E = Tlink(DHE)\n",
    "symprint('T',3, 'E')\n",
    "matprint(T3E)\n",
    "\n",
    "T0E = simplify(T01 * T12 * T23 * T3E)\n",
    "symprint('T',0, 'E')\n",
    "matprint(T0E)\n",
    "\n",
    "\n",
    "T0E.subs({L1: 1, L2: 1, L3: 2, L4:0.5})"
   ]
  },
  {
   "cell_type": "code",
   "execution_count": 4,
   "id": "b2f8b43a",
   "metadata": {},
   "outputs": [
    {
     "data": {
      "text/latex": [
       "$\\displaystyle \\left[\\begin{matrix}\\cos{\\left(\\theta_{1} \\right)} & 0 & - \\sin{\\left(\\theta_{1} \\right)} & \\left(- d_{1} - 2.5\\right) \\sin{\\left(\\theta_{1} \\right)}\\\\\\sin{\\left(\\theta_{1} \\right)} & 0 & \\cos{\\left(\\theta_{1} \\right)} & \\left(d_{1} + 2.5\\right) \\cos{\\left(\\theta_{1} \\right)}\\\\0 & -1 & 0 & 2\\\\0 & 0 & 0 & 1\\end{matrix}\\right]$"
      ],
      "text/plain": [
       "Matrix([\n",
       "[cos(\\theta_1),  0, -sin(\\theta_1), (-d1 - 2.5)*sin(\\theta_1)],\n",
       "[sin(\\theta_1),  0,  cos(\\theta_1),  (d1 + 2.5)*cos(\\theta_1)],\n",
       "[            0, -1,              0,                         2],\n",
       "[            0,  0,              0,                         1]])"
      ]
     },
     "execution_count": 4,
     "metadata": {},
     "output_type": "execute_result"
    }
   ],
   "source": [
    "# Q(c)\n",
    "\n",
    "T0E.subs({L1: 1, L2: 1, L3: 2, L4:0.5, theta2: 0})"
   ]
  },
  {
   "cell_type": "code",
   "execution_count": 5,
   "id": "9dd6649c",
   "metadata": {},
   "outputs": [
    {
     "data": {
      "text/plain": [
       "0.0"
      ]
     },
     "execution_count": 5,
     "metadata": {},
     "output_type": "execute_result"
    }
   ],
   "source": [
    "# Q(d)\n",
    "\n",
    "theta1 = np.arctan2(0, 1)\n",
    "theta1"
   ]
  },
  {
   "cell_type": "code",
   "execution_count": 6,
   "id": "71164dfd",
   "metadata": {},
   "outputs": [
    {
     "data": {
      "text/latex": [
       "$\\displaystyle ^1\\Omega_{1}$"
      ],
      "text/plain": [
       "^1\\Omega_1"
      ]
     },
     "metadata": {},
     "output_type": "display_data"
    },
    {
     "data": {
      "text/latex": [
       "$\\displaystyle \\left[\\begin{matrix}0\\\\0\\\\\\dot{\\theta_1}\\end{matrix}\\right]$"
      ],
      "text/plain": [
       "Matrix([\n",
       "[             0],\n",
       "[             0],\n",
       "[\\dot{\\theta_1}]])"
      ]
     },
     "metadata": {},
     "output_type": "display_data"
    },
    {
     "data": {
      "text/latex": [
       "$\\displaystyle ^1V_{1}$"
      ],
      "text/plain": [
       "^1V_1"
      ]
     },
     "metadata": {},
     "output_type": "display_data"
    },
    {
     "data": {
      "text/latex": [
       "$\\displaystyle \\left[\\begin{matrix}0\\\\0\\\\0\\end{matrix}\\right]$"
      ],
      "text/plain": [
       "Matrix([\n",
       "[0],\n",
       "[0],\n",
       "[0]])"
      ]
     },
     "metadata": {},
     "output_type": "display_data"
    },
    {
     "data": {
      "text/latex": [
       "$\\displaystyle ^2\\Omega_{2}$"
      ],
      "text/plain": [
       "^2\\Omega_2"
      ]
     },
     "metadata": {},
     "output_type": "display_data"
    },
    {
     "data": {
      "text/latex": [
       "$\\displaystyle \\left[\\begin{matrix}0\\\\- \\dot{\\theta_1}\\\\0\\end{matrix}\\right]$"
      ],
      "text/plain": [
       "Matrix([\n",
       "[              0],\n",
       "[-\\dot{\\theta_1}],\n",
       "[              0]])"
      ]
     },
     "metadata": {},
     "output_type": "display_data"
    },
    {
     "data": {
      "text/latex": [
       "$\\displaystyle ^2V_{2}$"
      ],
      "text/plain": [
       "^2V_2"
      ]
     },
     "metadata": {},
     "output_type": "display_data"
    },
    {
     "data": {
      "text/latex": [
       "$\\displaystyle \\left[\\begin{matrix}- \\dot{\\theta_1} \\left(d_{1} + 2\\right)\\\\0\\\\\\dot{d_1}\\end{matrix}\\right]$"
      ],
      "text/plain": [
       "Matrix([\n",
       "[-\\dot{\\theta_1}*(d1 + 2)],\n",
       "[                       0],\n",
       "[               \\dot{d_1}]])"
      ]
     },
     "metadata": {},
     "output_type": "display_data"
    },
    {
     "data": {
      "text/latex": [
       "$\\displaystyle ^3\\Omega_{3}$"
      ],
      "text/plain": [
       "^3\\Omega_3"
      ]
     },
     "metadata": {},
     "output_type": "display_data"
    },
    {
     "data": {
      "text/latex": [
       "$\\displaystyle \\left[\\begin{matrix}- \\dot{\\theta_1} \\sin{\\left(\\theta_{2} \\right)}\\\\- \\dot{\\theta_1} \\cos{\\left(\\theta_{2} \\right)}\\\\\\dot{\\theta_2}\\end{matrix}\\right]$"
      ],
      "text/plain": [
       "Matrix([\n",
       "[-\\dot{\\theta_1}*sin(\\theta_2)],\n",
       "[-\\dot{\\theta_1}*cos(\\theta_2)],\n",
       "[               \\dot{\\theta_2}]])"
      ]
     },
     "metadata": {},
     "output_type": "display_data"
    },
    {
     "data": {
      "text/latex": [
       "$\\displaystyle ^3V_{3}$"
      ],
      "text/plain": [
       "^3V_3"
      ]
     },
     "metadata": {},
     "output_type": "display_data"
    },
    {
     "data": {
      "text/latex": [
       "$\\displaystyle \\left[\\begin{matrix}- \\dot{\\theta_1} \\left(d_{1} + 2\\right) \\cos{\\left(\\theta_{2} \\right)}\\\\\\dot{\\theta_1} \\left(d_{1} + 2\\right) \\sin{\\left(\\theta_{2} \\right)}\\\\\\dot{d_1}\\end{matrix}\\right]$"
      ],
      "text/plain": [
       "Matrix([\n",
       "[-\\dot{\\theta_1}*(d1 + 2)*cos(\\theta_2)],\n",
       "[ \\dot{\\theta_1}*(d1 + 2)*sin(\\theta_2)],\n",
       "[                             \\dot{d_1}]])"
      ]
     },
     "metadata": {},
     "output_type": "display_data"
    },
    {
     "data": {
      "text/latex": [
       "$\\displaystyle ^e\\Omega_{e}$"
      ],
      "text/plain": [
       "^e\\Omega_e"
      ]
     },
     "metadata": {},
     "output_type": "display_data"
    },
    {
     "data": {
      "text/latex": [
       "$\\displaystyle \\left[\\begin{matrix}- \\dot{\\theta_1} \\sin{\\left(\\theta_{2} \\right)}\\\\- \\dot{\\theta_1} \\cos{\\left(\\theta_{2} \\right)}\\\\\\dot{\\theta_2}\\end{matrix}\\right]$"
      ],
      "text/plain": [
       "Matrix([\n",
       "[-\\dot{\\theta_1}*sin(\\theta_2)],\n",
       "[-\\dot{\\theta_1}*cos(\\theta_2)],\n",
       "[               \\dot{\\theta_2}]])"
      ]
     },
     "metadata": {},
     "output_type": "display_data"
    },
    {
     "data": {
      "text/latex": [
       "$\\displaystyle ^eV_{e}$"
      ],
      "text/plain": [
       "^eV_e"
      ]
     },
     "metadata": {},
     "output_type": "display_data"
    },
    {
     "data": {
      "text/latex": [
       "$\\displaystyle \\left[\\begin{matrix}\\dot{\\theta_1} \\left(- d_{1} - 2.5\\right) \\cos{\\left(\\theta_{2} \\right)}\\\\\\dot{\\theta_1} \\left(d_{1} + 2.5\\right) \\sin{\\left(\\theta_{2} \\right)}\\\\\\dot{d_1}\\end{matrix}\\right]$"
      ],
      "text/plain": [
       "Matrix([\n",
       "[\\dot{\\theta_1}*(-d1 - 2.5)*cos(\\theta_2)],\n",
       "[ \\dot{\\theta_1}*(d1 + 2.5)*sin(\\theta_2)],\n",
       "[                               \\dot{d_1}]])"
      ]
     },
     "metadata": {},
     "output_type": "display_data"
    },
    {
     "data": {
      "text/latex": [
       "$\\displaystyle ^eJ_{e}$"
      ],
      "text/plain": [
       "^eJ_e"
      ]
     },
     "metadata": {},
     "output_type": "display_data"
    },
    {
     "data": {
      "text/latex": [
       "$\\displaystyle \\left[\\begin{matrix}\\left(- d_{1} - 2.5\\right) \\cos{\\left(\\theta_{2} \\right)} & 0\\\\\\left(d_{1} + 2.5\\right) \\sin{\\left(\\theta_{2} \\right)} & 0\\\\0 & 1\\\\- \\sin{\\left(\\theta_{2} \\right)} & 0\\\\- \\cos{\\left(\\theta_{2} \\right)} & 0\\\\0 & 0\\end{matrix}\\right]$"
      ],
      "text/plain": [
       "Matrix([\n",
       "[(-d1 - 2.5)*cos(\\theta_2), 0],\n",
       "[ (d1 + 2.5)*sin(\\theta_2), 0],\n",
       "[                        0, 1],\n",
       "[           -sin(\\theta_2), 0],\n",
       "[           -cos(\\theta_2), 0],\n",
       "[                        0, 0]])"
      ]
     },
     "metadata": {},
     "output_type": "display_data"
    },
    {
     "data": {
      "text/latex": [
       "$\\displaystyle ^0J_{}$"
      ],
      "text/plain": [
       "^0J_"
      ]
     },
     "metadata": {},
     "output_type": "display_data"
    },
    {
     "data": {
      "text/latex": [
       "$\\displaystyle \\left[\\begin{matrix}\\left(- d_{1} - 2.5\\right) \\cos{\\left(\\theta_{1} \\right)} & - \\sin{\\left(\\theta_{1} \\right)}\\\\\\left(- d_{1} - 2.5\\right) \\sin{\\left(\\theta_{1} \\right)} & \\cos{\\left(\\theta_{1} \\right)}\\\\0 & 0\\\\0 & 0\\\\0 & 0\\\\1 & 0\\end{matrix}\\right]$"
      ],
      "text/plain": [
       "Matrix([\n",
       "[(-d1 - 2.5)*cos(\\theta_1), -sin(\\theta_1)],\n",
       "[(-d1 - 2.5)*sin(\\theta_1),  cos(\\theta_1)],\n",
       "[                        0,              0],\n",
       "[                        0,              0],\n",
       "[                        0,              0],\n",
       "[                        1,              0]])"
      ]
     },
     "metadata": {},
     "output_type": "display_data"
    }
   ],
   "source": [
    "# Q(e)\n",
    "\n",
    "t = symbols('t')\n",
    "theta1 = Function(r\"\\theta_1\")(t)\n",
    "theta1_dot = diff(theta1, t)\n",
    "theta1_ddot = diff(theta1, t, t)\n",
    "\n",
    "t = symbols('t')\n",
    "theta2 = Function(r\"\\theta_2\")(t)\n",
    "theta2_dot = diff(theta2, t)\n",
    "theta2_ddot = diff(theta2, t, t)\n",
    "\n",
    "t = symbols('t')\n",
    "d1 = Function(r\"d_1\")(t)\n",
    "d1_dot = diff(d1, t)\n",
    "d1_ddot = diff(d1, t, t)\n",
    "\n",
    "\n",
    "alias = {}\n",
    "\n",
    "# display as theta dot instead of d(theta)/dt, and ignore dependency (t)\n",
    "alias.update({theta1: symbols(r\"\\theta_1\"),\n",
    "              theta1_dot: symbols(r\"\\dot{\\theta_1}\"),\n",
    "              theta1_ddot: symbols(r\"\\ddot{\\theta_1}\"),\n",
    "              theta2: symbols(r\"\\theta_2\"),\n",
    "              theta2_dot: symbols(r\"\\dot{\\theta_2}\"),\n",
    "              theta2_ddot: symbols(r\"\\ddot{\\theta_2}\"),\n",
    "              d1: symbols(r\"\\d_1\"),\n",
    "              d1_dot: symbols(r\"\\dot{d_1}\"),\n",
    "              d1_ddot: symbols(r\"\\ddot{d_1}\")\n",
    "             })\n",
    "\n",
    "\n",
    "omega = Matrix([0, 0, 0])\n",
    "v = Matrix([0, 0, 0])\n",
    "\n",
    "T01 = T01.subs({L1: 1, L2: 1, L3: 2, L4: 0.5, theta2: 0})\n",
    "T12 = T12.subs({L1: 1, L2: 1, L3: 2, L4: 0.5, theta2: 0})\n",
    "T23 = T23.subs({L1: 1, L2: 1, L3: 2, L4: 0.5, theta2: 0})\n",
    "T3E = T3E.subs({L1: 1, L2: 1, L3: 2, L4: 0.5, theta2: 0})\n",
    "\n",
    "omega_11, v_11 = revolute_joint(frame = 1, \n",
    "                                theta_dot = theta1_dot, \n",
    "                                transform_low_high = T01, \n",
    "                                omega = omega, v = v, \n",
    "                                alias = alias)\n",
    "\n",
    "omega_22, v_22 = prismatic_joint(frame = 2, \n",
    "                                d_dot = d1_dot, \n",
    "                                transform_low_high = T12, \n",
    "                                omega = omega_11, v = v_11, \n",
    "                                alias = alias)\n",
    "\n",
    "omega_33, v_33 = revolute_joint(frame = 3, \n",
    "                                theta_dot = theta2_dot, \n",
    "                                transform_low_high = T23, \n",
    "                                omega = omega_22, v = v_22, \n",
    "                                alias = alias)\n",
    "\n",
    "omega_ee, v_ee = revolute_joint(frame = 'e', \n",
    "                                theta_dot = '', \n",
    "                                transform_low_high = T3E, \n",
    "                                omega = omega_33, v = v_33, \n",
    "                                alias = alias)\n",
    "\n",
    "Jee, J0 = Jacobian(parameters = [theta1_dot, d1_dot], \n",
    "                   v_ee = v_ee, \n",
    "                   omega_ee = omega_ee, \n",
    "                   transform_low_high = T0E,\n",
    "                   alias = alias)"
   ]
  },
  {
   "cell_type": "markdown",
   "id": "f8fe0d17",
   "metadata": {},
   "source": [
    "## Qn 3"
   ]
  },
  {
   "cell_type": "code",
   "execution_count": 7,
   "id": "48daaf40",
   "metadata": {},
   "outputs": [
    {
     "data": {
      "text/latex": [
       "$\\displaystyle \\left[\\begin{matrix}400.0 + \\frac{216.0}{W}\\\\300.0\\end{matrix}\\right]$"
      ],
      "text/plain": [
       "Matrix([\n",
       "[400.0 + 216.0/W],\n",
       "[          300.0]])"
      ]
     },
     "execution_count": 7,
     "metadata": {},
     "output_type": "execute_result"
    }
   ],
   "source": [
    "# Given info\n",
    "\n",
    "nx = 800\n",
    "ny = 600\n",
    "f = 1.8\n",
    "T0C = Matrix([[0, -1, 0, 2],\n",
    "              [1, 0, 0, 1],\n",
    "              [0, 0, 1, 0],\n",
    "              [0, 0, 0, 1]])\n",
    "\n",
    "xp, yp, zp = 2, 4, 20 # Coordinate in the universe\n",
    "\n",
    "# Retina size\n",
    "W = symbols('W')\n",
    "H = symbols('H') \n",
    "\n",
    "Dw = W/nx \n",
    "Dh = H/ny\n",
    "\n",
    "# Principal point (centre of the renita)\n",
    "U0 = symbols('u0')\n",
    "V0 = symbols('v0')\n",
    "\n",
    "# Focal length in m\n",
    "F = symbols('f')\n",
    "\n",
    "# Coordinate of the object / point in the universe frame\n",
    "Xp = symbols('x_p')\n",
    "Yp = symbols('y_p')\n",
    "Zp = symbols('z_p')\n",
    "\n",
    "# Coordinate of the object homogeneous form\n",
    "P0 = Matrix([Xp, Yp, Zp, 1])\n",
    "\n",
    "# Camera parameters\n",
    "CM = Matrix([[F/Dw, 0, U0, 0],\n",
    "             [0, F/Dh, V0, 0],\n",
    "             [0, 0, 1, 0]])\n",
    "\n",
    "RES = CM * T0C**-1 * P0\n",
    "\n",
    "# Retina coordinate homogeneous form\n",
    "homo_retina = RES.subs({U0: nx/2, V0: ny/2, \n",
    "                F: f,\n",
    "                Xp: xp, Yp: yp, Zp: zp})\n",
    "\n",
    "# Retina coordinate\n",
    "retina = Matrix([homo_retina[0]/homo_retina[-1], \n",
    "                 homo_retina[1]/homo_retina[-1]])\n",
    "\n",
    "retina"
   ]
  },
  {
   "cell_type": "markdown",
   "id": "7705266a",
   "metadata": {},
   "source": [
    "## Q4"
   ]
  },
  {
   "cell_type": "code",
   "execution_count": 8,
   "id": "83cfa142",
   "metadata": {},
   "outputs": [
    {
     "name": "stdout",
     "output_type": "stream",
     "text": [
      "Displacement equations for theta_1\n"
     ]
    },
    {
     "data": {
      "text/latex": [
       "$\\displaystyle - 0.72 t^{3} + 5.4 t^{2} + 30$"
      ],
      "text/plain": [
       "-0.72*t**3 + 5.4*t**2 + 30"
      ]
     },
     "metadata": {},
     "output_type": "display_data"
    },
    {
     "name": "stdout",
     "output_type": "stream",
     "text": [
      "\n",
      "Velocity equations for theta_1\n"
     ]
    },
    {
     "data": {
      "text/latex": [
       "$\\displaystyle - 2.16 t^{2} + 10.8 t$"
      ],
      "text/plain": [
       "-2.16*t**2 + 10.8*t"
      ]
     },
     "metadata": {},
     "output_type": "display_data"
    },
    {
     "name": "stdout",
     "output_type": "stream",
     "text": [
      "\n",
      "Acceleration equations for theta_1\n"
     ]
    },
    {
     "data": {
      "text/latex": [
       "$\\displaystyle 10.8 - 4.32 t$"
      ],
      "text/plain": [
       "10.8 - 4.32*t"
      ]
     },
     "metadata": {},
     "output_type": "display_data"
    },
    {
     "data": {
      "image/png": "[encoded data removed]",
      "text/plain": [
       "<Figure size 640x480 with 1 Axes>"
      ]
     },
     "metadata": {},
     "output_type": "display_data"
    },
    {
     "data": {
      "image/png": "[encoded data removed]",
      "text/plain": [
       "<Figure size 640x480 with 1 Axes>"
      ]
     },
     "metadata": {},
     "output_type": "display_data"
    },
    {
     "data": {
      "image/png": "[encoded data removed]",
      "text/plain": [
       "<Figure size 640x480 with 1 Axes>"
      ]
     },
     "metadata": {},
     "output_type": "display_data"
    }
   ],
   "source": [
    "# Part 1\n",
    "t1 = [30, 75]\n",
    "\n",
    "angle_lst = [t1]\n",
    "\n",
    "tf = 5\n",
    "t_lst = np.arange(0, tf + 0.1, 0.1)\n",
    "\n",
    "for i in range(len(angle_lst)):\n",
    "    \n",
    "    a0 = angle_lst[i][0]\n",
    "    a1 = 0\n",
    "    a2 = 3/tf**2 * (angle_lst[i][-1] - angle_lst[i][0])\n",
    "    a3 = -2/tf**3 * (angle_lst[i][-1] - angle_lst[i][0])\n",
    "    \n",
    "    t = symbols('t')\n",
    "    print(f'Displacement equations for theta_{i+1}')\n",
    "    eqn_disp = a0 + a1 * t + a2 * t**2 + a3 * t**3\n",
    "    \n",
    "    display(eqn_disp)\n",
    "    \n",
    "    disp = [eqn_disp.subs(t, i) for i in t_lst]\n",
    "    \n",
    "    disp_deg_1 = [float(i) for i in disp]\n",
    "    \n",
    "    print('')\n",
    "    \n",
    "    print(f'Velocity equations for theta_{i+1}')\n",
    "    eqn_vel = a1 + 2 * a2 * t + 3 * a3 * t**2\n",
    "    \n",
    "    vel = [eqn_vel.subs(t, i) for i in t_lst]\n",
    "    display(eqn_vel)\n",
    "    \n",
    "    vel_list_1 = [float(i) for i in vel]\n",
    "    \n",
    "    print('')\n",
    "    \n",
    "    print(f'Acceleration equations for theta_{i+1}')\n",
    "    eqn_acc = 2 * a2 + 6 * a3 * t\n",
    "    \n",
    "    acc = [eqn_acc.subs(t, i) for i in t_lst]\n",
    "    display(eqn_acc)\n",
    "    \n",
    "    acc_list_1 = [float(i) for i in acc]\n",
    "    \n",
    "    plt.scatter(t_lst, disp_deg_1, label = f'theta_{i+1}')\n",
    "    plt.title('Displacement')\n",
    "    plt.show()\n",
    "    \n",
    "    plt.scatter(t_lst, vel_list_1, label = f'theta_{i+1}')\n",
    "    plt.title('Velocity')\n",
    "    plt.show()\n",
    "    \n",
    "    plt.scatter(t_lst, acc_list_1, label = f'theta_{i+1}')\n",
    "    plt.title('Acceleration')\n",
    "    plt.show()\n",
    "    \n",
    "    \n",
    "    "
   ]
  },
  {
   "cell_type": "code",
   "execution_count": 9,
   "id": "8b6e492f",
   "metadata": {},
   "outputs": [
    {
     "name": "stdout",
     "output_type": "stream",
     "text": [
      "Displacement equations for theta_1\n"
     ]
    },
    {
     "data": {
      "text/latex": [
       "$\\displaystyle - 2.22222222222222 t^{3} + 10.0 t^{2} + 75$"
      ],
      "text/plain": [
       "-2.22222222222222*t**3 + 10.0*t**2 + 75"
      ]
     },
     "metadata": {},
     "output_type": "display_data"
    },
    {
     "name": "stdout",
     "output_type": "stream",
     "text": [
      "\n",
      "Velocity equations for theta_1\n"
     ]
    },
    {
     "data": {
      "text/latex": [
       "$\\displaystyle - 6.66666666666667 t^{2} + 20.0 t$"
      ],
      "text/plain": [
       "-6.66666666666667*t**2 + 20.0*t"
      ]
     },
     "metadata": {},
     "output_type": "display_data"
    },
    {
     "name": "stdout",
     "output_type": "stream",
     "text": [
      "\n",
      "Acceleration equations for theta_1\n"
     ]
    },
    {
     "data": {
      "text/latex": [
       "$\\displaystyle 20.0 - 13.3333333333333 t$"
      ],
      "text/plain": [
       "20.0 - 13.3333333333333*t"
      ]
     },
     "metadata": {},
     "output_type": "display_data"
    },
    {
     "data": {
      "image/png": "[encoded data removed]",
      "text/plain": [
       "<Figure size 640x480 with 1 Axes>"
      ]
     },
     "metadata": {},
     "output_type": "display_data"
    },
    {
     "data": {
      "image/png": "[encoded data removed]",
      "text/plain": [
       "<Figure size 640x480 with 1 Axes>"
      ]
     },
     "metadata": {},
     "output_type": "display_data"
    },
    {
     "data": {
      "image/png": "[encoded data removed]",
      "text/plain": [
       "<Figure size 640x480 with 1 Axes>"
      ]
     },
     "metadata": {},
     "output_type": "display_data"
    }
   ],
   "source": [
    "# Part 1\n",
    "t1 = [75, 105]\n",
    "\n",
    "angle_lst = [t1]\n",
    "\n",
    "tf = 3\n",
    "t_lst = np.arange(0, tf + 0.1, 0.1)\n",
    "\n",
    "for i in range(len(angle_lst)):\n",
    "    \n",
    "    a0 = angle_lst[i][0]\n",
    "    a1 = 0\n",
    "    a2 = 3/tf**2 * (angle_lst[i][-1] - angle_lst[i][0])\n",
    "    a3 = -2/tf**3 * (angle_lst[i][-1] - angle_lst[i][0])\n",
    "    \n",
    "    t = symbols('t')\n",
    "    print(f'Displacement equations for theta_{i+1}')\n",
    "    eqn_disp = a0 + a1 * t + a2 * t**2 + a3 * t**3\n",
    "    \n",
    "    display(eqn_disp)\n",
    "    \n",
    "    disp = [eqn_disp.subs(t, i) for i in t_lst]\n",
    "    \n",
    "    disp_deg_2 = [float(i) for i in disp]\n",
    "    \n",
    "    print('')\n",
    "    \n",
    "    print(f'Velocity equations for theta_{i+1}')\n",
    "    eqn_vel = a1 + 2 * a2 * t + 3 * a3 * t**2\n",
    "    \n",
    "    vel = [eqn_vel.subs(t, i) for i in t_lst]\n",
    "    display(eqn_vel)\n",
    "    \n",
    "    vel_list_2 = [float(i) for i in vel]\n",
    "    \n",
    "    print('')\n",
    "    \n",
    "    print(f'Acceleration equations for theta_{i+1}')\n",
    "    eqn_acc = 2 * a2 + 6 * a3 * t\n",
    "    \n",
    "    acc = [eqn_acc.subs(t, i) for i in t_lst]\n",
    "    display(eqn_acc)\n",
    "    \n",
    "    acc_list_2 = [float(i) for i in acc]\n",
    "    \n",
    "    plt.scatter(t_lst, disp_deg_2, label = f'theta_{i+1}')\n",
    "    plt.title('Displacement')\n",
    "    plt.show()\n",
    "    \n",
    "    plt.scatter(t_lst, vel_list_2, label = f'theta_{i+1}')\n",
    "    plt.title('Velocity')\n",
    "    plt.show()\n",
    "    \n",
    "    plt.scatter(t_lst, acc_list_2, label = f'theta_{i+1}')\n",
    "    plt.title('Acceleration')\n",
    "    plt.show()\n",
    "    "
   ]
  },
  {
   "cell_type": "code",
   "execution_count": 10,
   "id": "75e69d4f",
   "metadata": {},
   "outputs": [
    {
     "data": {
      "text/plain": [
       "<matplotlib.legend.Legend at 0x1379e3580>"
      ]
     },
     "execution_count": 10,
     "metadata": {},
     "output_type": "execute_result"
    },
    {
     "data": {
      "image/png": "[encoded data removed]",
      "text/plain": [
       "<Figure size 640x480 with 1 Axes>"
      ]
     },
     "metadata": {},
     "output_type": "display_data"
    }
   ],
   "source": [
    "# Join both graph together\n",
    "\n",
    "time = np.arange(0, 8+0.2, 0.1)\n",
    "disp_deg = np.concatenate([disp_deg_1, disp_deg_2])\n",
    "vel_list = np.concatenate([vel_list_1, vel_list_2])\n",
    "acc_list = np.concatenate([acc_list_1, acc_list_2])\n",
    "plt.plot(time, disp_deg, label = 'disp')\n",
    "plt.plot(time, vel_list, label = 'vel')\n",
    "plt.plot(time, acc_list, label = 'acc')\n",
    "plt.legend()"
   ]
  },
  {
   "cell_type": "code",
   "execution_count": null,
   "id": "02f265ed",
   "metadata": {},
   "outputs": [],
   "source": []
  }
 ],
 "metadata": {
  "kernelspec": {
   "display_name": "Python 3 (ipykernel)",
   "language": "python",
   "name": "python3"
  },
  "language_info": {
   "codemirror_mode": {
    "name": "ipython",
    "version": 3
   },
   "file_extension": ".py",
   "mimetype": "text/x-python",
   "name": "python",
   "nbconvert_exporter": "python",
   "pygments_lexer": "ipython3",
   "version": "3.8.15"
  }
 },
 "nbformat": 4,
 "nbformat_minor": 5
}
