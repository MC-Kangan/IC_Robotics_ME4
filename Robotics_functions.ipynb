{
 "cells": [
  {
   "cell_type": "code",
   "execution_count": 1,
   "id": "bf878bc1",
   "metadata": {},
   "outputs": [],
   "source": [
    "import numpy as np\n",
    "import pandas as pd\n",
    "import matplotlib.pyplot as plt\n",
    "from mpl_toolkits.mplot3d import Axes3D\n",
    "from sympy import *\n",
    "import math"
   ]
  },
  {
   "cell_type": "code",
   "execution_count": 2,
   "id": "54d13c0d",
   "metadata": {},
   "outputs": [],
   "source": [
    "# Rotational matrix\n",
    "\n",
    "def s(angle, rad = True):\n",
    "    if rad == False:\n",
    "        angle = math.radians(angle)\n",
    "    return math.sin(angle)\n",
    "\n",
    "def c(angle, rad = True):\n",
    "    if rad == False:\n",
    "        angle = math.radians(angle)\n",
    "    return math.cos(angle)\n",
    "\n",
    "def Rotation_BA(alpha, beta, gamma, rad = True):\n",
    "    if rad == False:\n",
    "        a, b, y = math.radians(alpha), math.radians(beta), math.radians(gamma)\n",
    "    else:\n",
    "        a, b, y = alpha, beta, gamma\n",
    "    row1 = np.array([c(y)*c(b), c(y)*s(b)*s(a) - s(y)*c(a), c(y)*s(b)*c(a) + s(y)*s(a)])\n",
    "    row2 = np.array([s(y)*c(b), s(y)*s(b)*s(a) + c(y)*c(a), s(y)*s(b)*c(a) - c(y)*s(a)])\n",
    "    row3 = np.array([-s(b), c(b)*s(a), c(b)*c(a)])\n",
    "    result = np.concatenate([row1, row2, row3]).reshape(3,3)\n",
    "    return result\n",
    "\n",
    "def Rotation(angle, direction, rad = True):\n",
    "    if rad == False:\n",
    "        angle = math.radians(angle)\n",
    "    \n",
    "    if direction == 'x':\n",
    "        R = np.array([[1, 0, 0],\n",
    "                      [0, c(angle), -s(angle)],\n",
    "                      [0, s(angle), c(angle)]])\n",
    "    elif direction == 'y':\n",
    "        R = np.array([[c(angle), 0, s(angle)],\n",
    "                      [0, 1, 0],\n",
    "                      [-s(angle), 0, c(angle)]])\n",
    "    elif direction == 'z':\n",
    "        R = np.array([[c(angle), -s(angle), 0],\n",
    "                      [s(angle), c(angle), 0],\n",
    "                      [0, 0, 1]])\n",
    "    return R\n",
    "\n",
    "def Rotation_non_pincipal_axes(angle, direction, rad = True):\n",
    "    if rad == False:\n",
    "        a = math.radians(angle)\n",
    "    else:\n",
    "        a = angle\n",
    "    \n",
    "    # Convert the direction to unit vector, if the direction is already unit vector, norm = 1\n",
    "    [ux, uy, uz] = direction/np.linalg.norm(direction)\n",
    "    \n",
    "    # Use equation 33\n",
    "    row1 = np.array([ux*ux*(1-c(a))+c(a), ux*uy*(1-c(a))-uz*s(a), ux*uz*(1-c(a))+uy*s(a)]).reshape(1, -1)\n",
    "    row2 = np.array([ux*uy*(1-c(a))+uz*s(a), uy*uy*(1-c(a))+c(a), uy*uz*(1-c(a))-ux*s(a)]).reshape(1, -1)\n",
    "    row3 = np.array([ux*uz*(1-c(a))-uy*s(a), uy*uz*(1-c(a))+ux*s(a), uz*uz*(1-c(a))+c(a)]).reshape(1, -1)\n",
    "    result = np.concatenate([row1, row2, row3], axis = 0)\n",
    "    \n",
    "    return result\n",
    "        \n",
    "\n",
    "def Transformation(rotation, translation):\n",
    "    '''\n",
    "    Transform from frame B to frame A\n",
    "    rotation: rotation of B relative to A\n",
    "    translation or B0: Position of origin of frame B with respect to A\n",
    "    \n",
    "    '''\n",
    "    # Translation from B to A\n",
    "    \n",
    "    if np.shape(rotation)!= (3,3):\n",
    "        print('Wrong rotation matrix')\n",
    "        return None\n",
    "    if np.shape(translation)!= (3,1):\n",
    "        print('Wrong translation matrix')\n",
    "        return None\n",
    "    T = np.concatenate([rotation, translation], axis = 1)\n",
    "    add_row = np.array([0,0,0,1]).reshape(1,-1)\n",
    "    T = np.concatenate([T, add_row], axis = 0)\n",
    "    return T\n",
    "  \n",
    "def Mapping(transformation, coordinate):\n",
    "    '''\n",
    "    Map a point through a transformation matrix\n",
    "    '''\n",
    "    if np.shape(transformation)!= (4,4):\n",
    "        print('Wrong transformation matrix')\n",
    "        return None\n",
    "    if np.shape(coordinate)!= (3,1):\n",
    "        print('Wrong coordinate matrix')\n",
    "        return None\n",
    "    \n",
    "    coordinate = np.append(coordinate, [[1]], axis = 0)\n",
    "    \n",
    "    result = np.matmul(transformation, coordinate)\n",
    "    \n",
    "    # need to ignore the last value in the last row\n",
    "    return result[:-1]\n",
    "\n",
    "def Euler_parameters(alpha, A_U, rad = True):\n",
    "    if rad == False:\n",
    "        alpha = math.radians(alpha)\n",
    "    [ux, uy, uz] = A_U\n",
    "    \n",
    "    e0 = ux*s(alpha/2)\n",
    "    e1 = uy*s(alpha/2)\n",
    "    e2 = uz*s(alpha/2)\n",
    "    e3 = c(alpha/2)\n",
    "    \n",
    "    print(f'Check the summed square: {round(e0**2 + e1**2 + e2**2 + e3**2,2)}')\n",
    "    return [e0, e1, e2, e3]\n",
    "\n",
    "def Get_angle_from_rotation(rotation):\n",
    "    if np.shape(rotation)!= (3,3):\n",
    "        print('Wrong rotation matrix')\n",
    "        return None\n",
    "    [r11, r12, r13, r21, r22, r23, r31, r32, r33] = np.squeeze(rotation.reshape(1,-1))\n",
    "    \n",
    "    # Cosine is an even function, thus we expect to have 2 answers, 1 postive and 1 negative \n",
    "    alpha1 = np.arccos((r11 + r22 + r33 - 1)/2)\n",
    "    print(f'Alpha 1 is {alpha1} rad, {np.degrees(alpha1)} degrees')\n",
    "    \n",
    "    # A_U is the unit vector of revolution relative to a fixed frame {A}\n",
    "    A_U_1 = 1/(2*s(alpha1))*np.array([r32-r23, r13-r31, r21-r12])\n",
    "    print(f'Rotation axis 1 is {A_U_1}')\n",
    "    \n",
    "    euler1 = Euler_parameters(alpha1, A_U_1, rad = True)\n",
    "    print(f'Euler parameter 1 is {euler1}')\n",
    "    \n",
    "    print('-----------------------------')\n",
    "    alpha2 = -alpha1\n",
    "    print(f'Alpha 2 is {alpha2} rad, {np.degrees(alpha2)} degrees')\n",
    "    A_U_2 = 1/(2*s(alpha2))*np.array([r32-r23, r13-r31, r21-r12])\n",
    "    \n",
    "    print(f'Rotation axis 2 is {A_U_2}')\n",
    "    euler2 = Euler_parameters(alpha2, A_U_2, rad = True)\n",
    "    \n",
    "    print(f'Euler parameter 2 is {euler2}')\n",
    "    \n",
    "    return [alpha1, A_U_1, euler1], [alpha2, A_U_2, euler2]\n",
    "\n",
    "def Tlink(DH):\n",
    "    # This function calculates the Homogeneous Transformation matrix for a\n",
    "    # link, receiving as input the DH parameters for the link\n",
    "    # DH parameters are in the form of an array with: link length, link\n",
    "    # twist, joint offset, joint angle\n",
    "\n",
    "    # Set: a:link length; alpha:link twist; d:joint offset; theta:joint\n",
    "    # angle\n",
    "    a = DH[0]; alpha = DH[1]; d = DH[2]; theta = DH[3];\n",
    "\n",
    "    # Set a 4x4 symbolic T matrix \n",
    "    T = zeros(4)\n",
    "    # Line 1\n",
    "    T[0,0] = cos(theta); T[0,1] = -sin(theta); T[0,2] = 0; T[0,3] = a;\n",
    "    # Line 2\n",
    "    T[1,0] = sin(theta)*cos(alpha); T[1,1] = cos(theta)*cos(alpha); \n",
    "    T[1,2] = -sin(alpha); T[1,3] = -sin(alpha)*d;\n",
    "    # Line 3\n",
    "    T[2,0] = sin(theta)*sin(alpha); T[2,1] = cos(theta)*sin(alpha); \n",
    "    T[2,2] = cos(alpha); T[2,3] = cos(alpha)*d;\n",
    "    # Line 4\n",
    "    T[3,0] = 0; T[3,1] = 0; T[3,2] = 0; T[3,3] = 1;\n",
    "\n",
    "    return T\n",
    "\n",
    "def symprint(symbol, sup, sub, dot=False):\n",
    "    if dot == 1:\n",
    "        symbol = r'\\dot{%s}' % symbol\n",
    "    elif dot == 2:\n",
    "        symbol = r'\\ddot{%s}' % symbol\n",
    "    if sup == '':\n",
    "        info = r\"{}_{}\".format(symbol, sub)\n",
    "    else:\n",
    "        info = r\"^{}{}_{}\".format(sup, symbol, sub)\n",
    "    display(symbols(info))\n",
    "    \n",
    "def Position_finder(sym_matrix):\n",
    "    # exclude the last row and display the last column\n",
    "    return sym_matrix[:-1,-1]\n",
    "\n",
    "def revolute_joint(frame, theta_dot, transform_low_high, omega, v, Display = True, Display_all_details = False):\n",
    "\n",
    "    # Transpose and extract the 3x3 matrix\n",
    "    rotation_high_low = transform_low_high.T[:3, :3]\n",
    "    P = transform_low_high[:3, -1]\n",
    "    # theta_dot = symbols(r'\\dot{\\theta_{%s}}' % frame)\n",
    "    if frame != 'e':\n",
    "        omega_new = simplify(rotation_high_low * omega + theta_dot * Matrix([0, 0, 1]))\n",
    "    else:\n",
    "        omega_new = simplify(rotation_high_low * omega)\n",
    "    v_new = simplify(rotation_high_low * (v + omega.cross(P)))\n",
    "    \n",
    "    if Display_all_details:\n",
    "        print('R')\n",
    "        display(rotation_high_low)\n",
    "        print('v_prev')\n",
    "        display(v)\n",
    "        print('omega_prev')\n",
    "        display(omega)\n",
    "        print('P')\n",
    "        display(P)\n",
    "        print('omega x P')\n",
    "        display(omega.cross(P))\n",
    "        print('theta_dot * k')\n",
    "        display(theta_dot * Matrix([0, 0, 1]))\n",
    "    \n",
    "    if Display:\n",
    "        symprint('\\Omega', frame, frame)\n",
    "        display(omega_new)\n",
    "        symprint('V', frame, frame)\n",
    "        display(v_new)\n",
    "    \n",
    "    return [omega_new, v_new]\n",
    "\n",
    "def prismatic_joint(frame, d_dot, transform_low_high, omega, v, Display = True, Display_all_details = False):\n",
    "\n",
    "    # Transpose and extract the 3x3 matrix\n",
    "    rotation_high_low = transform_low_high.T[:3, :3]\n",
    "    P = transform_low_high[:3, -1]\n",
    "    # d_dot = symbols(r'\\dot{d_{%s}}' % frame)\n",
    "    omega_new = simplify(rotation_high_low * omega)\n",
    "    if frame != 'e':\n",
    "        v_new  = simplify(rotation_high_low * (v + omega.cross(P)) + d_dot * Matrix([0, 0, 1])) \n",
    "    else:\n",
    "        v_new  = simplify(rotation_high_low * (v + omega.cross(P))) \n",
    "    \n",
    "    if Display_all_details:\n",
    "        print('R')\n",
    "        display(rotation_high_low)\n",
    "        print('v_prev')\n",
    "        display(v)\n",
    "        print('omega_prev')\n",
    "        display(omega)\n",
    "        print('P')\n",
    "        display(P)\n",
    "        print('omega x P')\n",
    "        display(omega.cross(P))\n",
    "        print('d_dot * k')\n",
    "        display(d_dot * Matrix([0, 0, 1]))\n",
    "    \n",
    "    if Display:\n",
    "        symprint('\\Omega', frame, frame)\n",
    "        display(omega_new)\n",
    "        symprint('V', frame, frame)\n",
    "        display(v_new)    \n",
    "    \n",
    "    return [omega_new, v_new]\n",
    "\n",
    "def Jacobian(parameters, v_ee, omega_ee, transform_low_high, Display = True, Display_all_details = False):\n",
    "    \n",
    "    if len(parameters) == 3:\n",
    "        a, b, c = parameters\n",
    "        Jee = Matrix([[v_ee[0].diff(a), v_ee[0].diff(b), v_ee[0].diff(c)],\n",
    "                      [v_ee[1].diff(a), v_ee[1].diff(b), v_ee[1].diff(c)],\n",
    "                      [v_ee[2].diff(a), v_ee[2].diff(b), v_ee[2].diff(c)],\n",
    "                      [omega_ee[0].diff(a), omega_ee[0].diff(b), omega_ee[0].diff(c)],\n",
    "                      [omega_ee[1].diff(a), omega_ee[1].diff(b), omega_ee[1].diff(c)],\n",
    "                      [omega_ee[2].diff(a), omega_ee[2].diff(b), omega_ee[2].diff(c)]])\n",
    "        if Display_all_details:\n",
    "            display(simplify(Matrix([[transform_low_high[:3, :3], zeros(3)],[zeros(3), transform_low_high[:3, :3]]])))\n",
    "        J0 = simplify(Matrix([[transform_low_high[:3, :3], zeros(3)],[zeros(3), transform_low_high[:3, :3]]]) * Jee)\n",
    "        \n",
    "    elif len(parameters) == 4:\n",
    "        a, b, c, d = parameters\n",
    "        Jee = Matrix([[v_ee[0].diff(a), v_ee[0].diff(b), v_ee[0].diff(c), v_ee[0].diff(d)],\n",
    "                      [v_ee[1].diff(a), v_ee[1].diff(b), v_ee[1].diff(c), v_ee[1].diff(d)],\n",
    "                      [v_ee[2].diff(a), v_ee[2].diff(b), v_ee[2].diff(c), v_ee[2].diff(d)],\n",
    "                      [omega_ee[0].diff(a), omega_ee[0].diff(b), omega_ee[0].diff(c), omega_ee[0].diff(d)],\n",
    "                      [omega_ee[1].diff(a), omega_ee[1].diff(b), omega_ee[1].diff(c), omega_ee[1].diff(d)],\n",
    "                      [omega_ee[2].diff(a), omega_ee[2].diff(b), omega_ee[2].diff(c), omega_ee[2].diff(d)]])\n",
    "    \n",
    "    if Display:\n",
    "        symprint('J', 'e', 'e')\n",
    "        display(Jee)\n",
    "        symprint('J', 0, '')\n",
    "        display(J0)\n",
    "\n",
    "        \n",
    "    return [Jee, J0]"
   ]
  },
  {
   "cell_type": "code",
   "execution_count": 21,
   "id": "62d72429",
   "metadata": {},
   "outputs": [
    {
     "data": {
      "text/plain": [
       "array([[ 1.       ,  0.       ,  0.       ],\n",
       "       [ 0.       ,  0.5      , -0.8660254],\n",
       "       [ 0.       ,  0.8660254,  0.5      ]])"
      ]
     },
     "execution_count": 21,
     "metadata": {},
     "output_type": "execute_result"
    }
   ],
   "source": [
    "# Tut 1.9.2\n",
    "Rotation(60, 'x', rad = False)\n",
    "\n",
    "# R = Rotation_BA(60, 0, 0, rad = False)\n",
    "# np.shape(R) == (3,3)"
   ]
  },
  {
   "cell_type": "code",
   "execution_count": 4,
   "id": "36602110",
   "metadata": {},
   "outputs": [
    {
     "data": {
      "text/plain": [
       "array([[4.23205081],\n",
       "       [8.        ],\n",
       "       [2.8660254 ]])"
      ]
     },
     "execution_count": 4,
     "metadata": {},
     "output_type": "execute_result"
    }
   ],
   "source": [
    "# Tut 1.9.3\n",
    "\n",
    "# Rotation matrix\n",
    "R = Rotation(30, 'y', rad = False)\n",
    "B0 = np.array([2,4,3]).reshape(3,1)\n",
    "# Transformation matrix\n",
    "T = Transformation(R, B0)\n",
    "\n",
    "P = np.array([2,4,1]).reshape(3,1)\n",
    "\n",
    "# Apply mapping\n",
    "result = Mapping(T, P)\n",
    "result\n"
   ]
  },
  {
   "cell_type": "code",
   "execution_count": 5,
   "id": "6765662c",
   "metadata": {},
   "outputs": [
    {
     "name": "stdout",
     "output_type": "stream",
     "text": [
      "[[ 0.70710678 -0.5        -0.5       ]\n",
      " [ 0.5         0.85355339 -0.14644661]\n",
      " [ 0.5        -0.14644661  0.85355339]]\n",
      "Alpha 1 is 0.7853981633974484 rad, 45.00000000000001 degrees\n",
      "Rotation axis 1 is [ 0.         -0.70710678  0.70710678]\n",
      "Check the summed square: 1.0\n",
      "Euler parameter 1 is [0.0, -0.2705980500730985, 0.2705980500730985, 0.9238795325112867]\n",
      "-----------------------------\n",
      "Alpha 2 is -0.7853981633974484 rad, -45.00000000000001 degrees\n",
      "Rotation axis 2 is [-0.          0.70710678 -0.70710678]\n",
      "Check the summed square: 1.0\n",
      "Euler parameter 2 is [0.0, -0.2705980500730985, 0.2705980500730985, 0.9238795325112867]\n"
     ]
    },
    {
     "data": {
      "text/plain": [
       "([0.7853981633974484,\n",
       "  array([ 0.        , -0.70710678,  0.70710678]),\n",
       "  [0.0, -0.2705980500730985, 0.2705980500730985, 0.9238795325112867]],\n",
       " [-0.7853981633974484,\n",
       "  array([-0.        ,  0.70710678, -0.70710678]),\n",
       "  [0.0, -0.2705980500730985, 0.2705980500730985, 0.9238795325112867]])"
      ]
     },
     "execution_count": 5,
     "metadata": {},
     "output_type": "execute_result"
    }
   ],
   "source": [
    "# Tut 1.9.4\n",
    "R = np.array([np.sqrt(2)/2, -0.5, -0.5, \n",
    "              0.5, np.sqrt(2)/4 + 0.5, np.sqrt(2)/4 - 0.5,\n",
    "              0.5, np.sqrt(2)/4 - 0.5, np.sqrt(2)/4 + 0.5]).reshape(3,3)\n",
    "print(R)\n",
    "\n",
    "# Cos is an even function!!\n",
    "Get_angle_from_rotation(R)"
   ]
  },
  {
   "cell_type": "code",
   "execution_count": 6,
   "id": "fa945ccb",
   "metadata": {},
   "outputs": [
    {
     "data": {
      "text/plain": [
       "array([[ 0.70710678, -0.5       , -0.5       ],\n",
       "       [ 0.5       ,  0.85355339, -0.14644661],\n",
       "       [ 0.5       , -0.14644661,  0.85355339]])"
      ]
     },
     "execution_count": 6,
     "metadata": {},
     "output_type": "execute_result"
    }
   ],
   "source": [
    "# Tut 1.9.5\n",
    "direction = np.array([0, 1/np.sqrt(2), -1/np.sqrt(2)])\n",
    "\n",
    "Rotation_non_pincipal_axes(-45, direction, rad = False)"
   ]
  },
  {
   "cell_type": "code",
   "execution_count": 7,
   "id": "81ff25c2",
   "metadata": {},
   "outputs": [
    {
     "data": {
      "image/png": "[encoded data removed]",
      "text/plain": [
       "<Figure size 640x480 with 1 Axes>"
      ]
     },
     "metadata": {},
     "output_type": "display_data"
    }
   ],
   "source": [
    "# Tut 1.9.6-7\n",
    "\n",
    "# create the figure and axes objects\n",
    "fig = plt.figure()\n",
    "ax = fig.add_subplot(111, projection='3d')\n",
    "\n",
    "# define the coordinates of the two points\n",
    "x = np.array([0, 2])\n",
    "y = np.array([0, 4])\n",
    "z = np.array([0, 3])\n",
    "\n",
    "x1 = np.array([2, 4.23])\n",
    "y1 = np.array([4, 8])\n",
    "z1 = np.array([3, 2.87])\n",
    "# plot the two points\n",
    "ax.scatter(x, y, z, color=['blue', 'red'])\n",
    "ax.scatter(x1, y1, z1, color=['red', 'purple'])\n",
    "\n",
    "# plot the line between the two points\n",
    "ax.plot(x, y, z, color='green', label='line 1')\n",
    "ax.plot(x1, y1, z1, color='green', label='line 2')\n",
    "\n",
    "# set the labels for the axes and the legend\n",
    "ax.set_xlabel('X-axis')\n",
    "ax.set_ylabel('Y-axis')\n",
    "ax.set_zlabel('Z-axis')\n",
    "ax.legend()\n",
    "\n",
    "# show the plot\n",
    "plt.show()"
   ]
  },
  {
   "cell_type": "markdown",
   "id": "9e280514",
   "metadata": {},
   "source": [
    "### Tut 2.6.1"
   ]
  },
  {
   "cell_type": "code",
   "execution_count": 194,
   "id": "6e82039e",
   "metadata": {},
   "outputs": [
    {
     "data": {
      "image/png": "[encoded data removed]",
      "text/latex": [
       "$\\displaystyle ^0T_{1}$"
      ],
      "text/plain": [
       "^0T₁"
      ]
     },
     "metadata": {},
     "output_type": "display_data"
    },
    {
     "data": {
      "image/png": "[encoded data removed]",
      "text/latex": [
       "$\\displaystyle \\left[\\begin{matrix}\\cos{\\left(\\theta_{1} \\right)} & - \\sin{\\left(\\theta_{1} \\right)} & 0 & 0\\\\\\sin{\\left(\\theta_{1} \\right)} & \\cos{\\left(\\theta_{1} \\right)} & 0 & 0\\\\0 & 0 & 1 & L_{1}\\\\0 & 0 & 0 & 1\\end{matrix}\\right]$"
      ],
      "text/plain": [
       "⎡cos(θ₁)  -sin(θ₁)  0  0 ⎤\n",
       "⎢                        ⎥\n",
       "⎢sin(θ₁)  cos(θ₁)   0  0 ⎥\n",
       "⎢                        ⎥\n",
       "⎢   0        0      1  L₁⎥\n",
       "⎢                        ⎥\n",
       "⎣   0        0      0  1 ⎦"
      ]
     },
     "metadata": {},
     "output_type": "display_data"
    },
    {
     "data": {
      "image/png": "[encoded data removed]",
      "text/latex": [
       "$\\displaystyle ^1T_{2}$"
      ],
      "text/plain": [
       "^1T₂"
      ]
     },
     "metadata": {},
     "output_type": "display_data"
    },
    {
     "data": {
      "image/png": "[encoded data removed]",
      "text/latex": [
       "$\\displaystyle \\left[\\begin{matrix}\\cos{\\left(\\theta_{2} \\right)} & - \\sin{\\left(\\theta_{2} \\right)} & 0 & L_{2}\\\\\\sin{\\left(\\theta_{2} \\right)} & \\cos{\\left(\\theta_{2} \\right)} & 0 & 0\\\\0 & 0 & 1 & 0\\\\0 & 0 & 0 & 1\\end{matrix}\\right]$"
      ],
      "text/plain": [
       "⎡cos(θ₂)  -sin(θ₂)  0  L₂⎤\n",
       "⎢                        ⎥\n",
       "⎢sin(θ₂)  cos(θ₂)   0  0 ⎥\n",
       "⎢                        ⎥\n",
       "⎢   0        0      1  0 ⎥\n",
       "⎢                        ⎥\n",
       "⎣   0        0      0  1 ⎦"
      ]
     },
     "metadata": {},
     "output_type": "display_data"
    },
    {
     "data": {
      "image/png": "[encoded data removed]",
      "text/latex": [
       "$\\displaystyle ^2T_{3}$"
      ],
      "text/plain": [
       "^2T₃"
      ]
     },
     "metadata": {},
     "output_type": "display_data"
    },
    {
     "data": {
      "image/png": "[encoded data removed]",
      "text/latex": [
       "$\\displaystyle \\left[\\begin{matrix}1 & 0 & 0 & L_{3}\\\\0 & 1 & 0 & 0\\\\0 & 0 & 1 & d_{3}\\\\0 & 0 & 0 & 1\\end{matrix}\\right]$"
      ],
      "text/plain": [
       "⎡1  0  0  L₃⎤\n",
       "⎢           ⎥\n",
       "⎢0  1  0  0 ⎥\n",
       "⎢           ⎥\n",
       "⎢0  0  1  d₃⎥\n",
       "⎢           ⎥\n",
       "⎣0  0  0  1 ⎦"
      ]
     },
     "metadata": {},
     "output_type": "display_data"
    },
    {
     "data": {
      "image/png": "[encoded data removed]",
      "text/latex": [
       "$\\displaystyle ^0T_{3}$"
      ],
      "text/plain": [
       "^0T₃"
      ]
     },
     "metadata": {},
     "output_type": "display_data"
    },
    {
     "data": {
      "image/png": "[encoded data removed]",
      "text/latex": [
       "$\\displaystyle \\left[\\begin{matrix}\\cos{\\left(\\theta_{1} + \\theta_{2} \\right)} & - \\sin{\\left(\\theta_{1} + \\theta_{2} \\right)} & 0 & L_{2} \\cos{\\left(\\theta_{1} \\right)} + L_{3} \\cos{\\left(\\theta_{1} + \\theta_{2} \\right)}\\\\\\sin{\\left(\\theta_{1} + \\theta_{2} \\right)} & \\cos{\\left(\\theta_{1} + \\theta_{2} \\right)} & 0 & L_{2} \\sin{\\left(\\theta_{1} \\right)} + L_{3} \\sin{\\left(\\theta_{1} + \\theta_{2} \\right)}\\\\0 & 0 & 1 & L_{1} + d_{3}\\\\0 & 0 & 0 & 1\\end{matrix}\\right]$"
      ],
      "text/plain": [
       "⎡cos(θ₁ + θ₂)  -sin(θ₁ + θ₂)  0  L₂⋅cos(θ₁) + L₃⋅cos(θ₁ + θ₂)⎤\n",
       "⎢                                                            ⎥\n",
       "⎢sin(θ₁ + θ₂)  cos(θ₁ + θ₂)   0  L₂⋅sin(θ₁) + L₃⋅sin(θ₁ + θ₂)⎥\n",
       "⎢                                                            ⎥\n",
       "⎢     0              0        1            L₁ + d₃           ⎥\n",
       "⎢                                                            ⎥\n",
       "⎣     0              0        0               1              ⎦"
      ]
     },
     "metadata": {},
     "output_type": "display_data"
    },
    {
     "data": {
      "text/plain": [
       "'The position of the end effector'"
      ]
     },
     "metadata": {},
     "output_type": "display_data"
    },
    {
     "data": {
      "image/png": "[encoded data removed]",
      "text/latex": [
       "$\\displaystyle \\left[\\begin{matrix}L_{2} \\cos{\\left(\\theta_{1} \\right)} + L_{3} \\cos{\\left(\\theta_{1} + \\theta_{2} \\right)}\\\\L_{2} \\sin{\\left(\\theta_{1} \\right)} + L_{3} \\sin{\\left(\\theta_{1} + \\theta_{2} \\right)}\\\\L_{1} + d_{3}\\end{matrix}\\right]$"
      ],
      "text/plain": [
       "⎡L₂⋅cos(θ₁) + L₃⋅cos(θ₁ + θ₂)⎤\n",
       "⎢                            ⎥\n",
       "⎢L₂⋅sin(θ₁) + L₃⋅sin(θ₁ + θ₂)⎥\n",
       "⎢                            ⎥\n",
       "⎣          L₁ + d₃           ⎦"
      ]
     },
     "metadata": {},
     "output_type": "display_data"
    }
   ],
   "source": [
    "# Tut 2.6.1\n",
    "\n",
    "DH1 = [0, 0, symbols('L1'), symbols('theta1')]\n",
    "T01 = Tlink(DH1)\n",
    "symprint('T',0, 1)\n",
    "display(T01)\n",
    "\n",
    "DH2 = [symbols('L2'), 0, 0, symbols('theta2')]\n",
    "T12 = Tlink(DH2)\n",
    "symprint('T',1, 2)\n",
    "display(T12)\n",
    "\n",
    "DH3 = [symbols('L3'), 0, symbols('d3'), 0]\n",
    "T23 = Tlink(DH3)\n",
    "symprint('T',2, 3)\n",
    "display(T23)\n",
    "\n",
    "symprint('T',0, 3)\n",
    "T03 = simplify(T01*T12*T23)\n",
    "display(T03)\n",
    "\n",
    "display('The position of the end effector')\n",
    "display(Position_finder(T03))"
   ]
  },
  {
   "cell_type": "code",
   "execution_count": 197,
   "id": "e226e7ad",
   "metadata": {},
   "outputs": [
    {
     "data": {
      "image/png": "[encoded data removed]",
      "text/latex": [
       "$\\displaystyle ^1\\Omega_{1}$"
      ],
      "text/plain": [
       "^1\\Omega₁"
      ]
     },
     "metadata": {},
     "output_type": "display_data"
    },
    {
     "data": {
      "image/png": "[encoded data removed]",
      "text/latex": [
       "$\\displaystyle \\left[\\begin{matrix}0\\\\0\\\\\\dot{\\theta_1}\\end{matrix}\\right]$"
      ],
      "text/plain": [
       "⎡      0       ⎤\n",
       "⎢              ⎥\n",
       "⎢      0       ⎥\n",
       "⎢              ⎥\n",
       "⎣\\dot{\\theta_1}⎦"
      ]
     },
     "metadata": {},
     "output_type": "display_data"
    },
    {
     "data": {
      "image/png": "[encoded data removed]",
      "text/latex": [
       "$\\displaystyle ^1V_{1}$"
      ],
      "text/plain": [
       "^1V₁"
      ]
     },
     "metadata": {},
     "output_type": "display_data"
    },
    {
     "data": {
      "image/png": "[encoded data removed]",
      "text/latex": [
       "$\\displaystyle \\left[\\begin{matrix}0\\\\0\\\\0\\end{matrix}\\right]$"
      ],
      "text/plain": [
       "⎡0⎤\n",
       "⎢ ⎥\n",
       "⎢0⎥\n",
       "⎢ ⎥\n",
       "⎣0⎦"
      ]
     },
     "metadata": {},
     "output_type": "display_data"
    },
    {
     "data": {
      "image/png": "[encoded data removed]",
      "text/latex": [
       "$\\displaystyle ^2\\Omega_{2}$"
      ],
      "text/plain": [
       "^2\\Omega₂"
      ]
     },
     "metadata": {},
     "output_type": "display_data"
    },
    {
     "data": {
      "image/png": "[encoded data removed]",
      "text/latex": [
       "$\\displaystyle \\left[\\begin{matrix}0\\\\0\\\\\\dot{\\theta_1} + \\dot{\\theta_2}\\end{matrix}\\right]$"
      ],
      "text/plain": [
       "⎡               0               ⎤\n",
       "⎢                               ⎥\n",
       "⎢               0               ⎥\n",
       "⎢                               ⎥\n",
       "⎣\\dot{\\theta_1} + \\dot{\\theta_2}⎦"
      ]
     },
     "metadata": {},
     "output_type": "display_data"
    },
    {
     "data": {
      "image/png": "[encoded data removed]",
      "text/latex": [
       "$\\displaystyle ^2V_{2}$"
      ],
      "text/plain": [
       "^2V₂"
      ]
     },
     "metadata": {},
     "output_type": "display_data"
    },
    {
     "data": {
      "image/png": "[encoded data removed]",
      "text/latex": [
       "$\\displaystyle \\left[\\begin{matrix}L_{2} \\dot{\\theta_1} \\sin{\\left(\\theta_{2} \\right)}\\\\L_{2} \\dot{\\theta_1} \\cos{\\left(\\theta_{2} \\right)}\\\\0\\end{matrix}\\right]$"
      ],
      "text/plain": [
       "⎡L₂⋅\\dot{\\theta_1}⋅sin(θ₂)⎤\n",
       "⎢                         ⎥\n",
       "⎢L₂⋅\\dot{\\theta_1}⋅cos(θ₂)⎥\n",
       "⎢                         ⎥\n",
       "⎣            0            ⎦"
      ]
     },
     "metadata": {},
     "output_type": "display_data"
    },
    {
     "data": {
      "image/png": "[encoded data removed]",
      "text/latex": [
       "$\\displaystyle ^3\\Omega_{3}$"
      ],
      "text/plain": [
       "^3\\Omega₃"
      ]
     },
     "metadata": {},
     "output_type": "display_data"
    },
    {
     "data": {
      "image/png": "[encoded data removed]",
      "text/latex": [
       "$\\displaystyle \\left[\\begin{matrix}0\\\\0\\\\\\dot{\\theta_1} + \\dot{\\theta_2}\\end{matrix}\\right]$"
      ],
      "text/plain": [
       "⎡               0               ⎤\n",
       "⎢                               ⎥\n",
       "⎢               0               ⎥\n",
       "⎢                               ⎥\n",
       "⎣\\dot{\\theta_1} + \\dot{\\theta_2}⎦"
      ]
     },
     "metadata": {},
     "output_type": "display_data"
    },
    {
     "data": {
      "image/png": "[encoded data removed]",
      "text/latex": [
       "$\\displaystyle ^3V_{3}$"
      ],
      "text/plain": [
       "^3V₃"
      ]
     },
     "metadata": {},
     "output_type": "display_data"
    },
    {
     "data": {
      "image/png": "[encoded data removed]",
      "text/latex": [
       "$\\displaystyle \\left[\\begin{matrix}L_{2} \\dot{\\theta_1} \\sin{\\left(\\theta_{2} \\right)}\\\\L_{2} \\dot{\\theta_1} \\cos{\\left(\\theta_{2} \\right)} + L_{3} \\left(\\dot{\\theta_1} + \\dot{\\theta_2}\\right)\\\\\\dot{d_3}\\end{matrix}\\right]$"
      ],
      "text/plain": [
       "⎡                   L₂⋅\\dot{\\theta_1}⋅sin(θ₂)                    ⎤\n",
       "⎢                                                                ⎥\n",
       "⎢L₂⋅\\dot{\\theta_1}⋅cos(θ₂) + L₃⋅(\\dot{\\theta_1} + \\dot{\\theta_2})⎥\n",
       "⎢                                                                ⎥\n",
       "⎣                           \\dot{d_3}                            ⎦"
      ]
     },
     "metadata": {},
     "output_type": "display_data"
    },
    {
     "data": {
      "image/png": "[encoded data removed]",
      "text/latex": [
       "$\\displaystyle ^eJ_{e}$"
      ],
      "text/plain": [
       "^eJₑ"
      ]
     },
     "metadata": {},
     "output_type": "display_data"
    },
    {
     "data": {
      "image/png": "[encoded data removed]",
      "text/latex": [
       "$\\displaystyle \\left[\\begin{matrix}L_{2} \\sin{\\left(\\theta_{2} \\right)} & 0 & 0\\\\L_{2} \\cos{\\left(\\theta_{2} \\right)} + L_{3} & L_{3} & 0\\\\0 & 0 & 1\\\\0 & 0 & 0\\\\0 & 0 & 0\\\\1 & 1 & 0\\end{matrix}\\right]$"
      ],
      "text/plain": [
       "⎡  L₂⋅sin(θ₂)     0   0⎤\n",
       "⎢                      ⎥\n",
       "⎢L₂⋅cos(θ₂) + L₃  L₃  0⎥\n",
       "⎢                      ⎥\n",
       "⎢       0         0   1⎥\n",
       "⎢                      ⎥\n",
       "⎢       0         0   0⎥\n",
       "⎢                      ⎥\n",
       "⎢       0         0   0⎥\n",
       "⎢                      ⎥\n",
       "⎣       1         1   0⎦"
      ]
     },
     "metadata": {},
     "output_type": "display_data"
    },
    {
     "data": {
      "image/png": "[encoded data removed]",
      "text/latex": [
       "$\\displaystyle ^0J_{}$"
      ],
      "text/plain": [
       "^0J"
      ]
     },
     "metadata": {},
     "output_type": "display_data"
    },
    {
     "data": {
      "image/png": "[encoded data removed]",
      "text/latex": [
       "$\\displaystyle \\left[\\begin{matrix}- L_{2} \\sin{\\left(\\theta_{1} \\right)} - L_{3} \\sin{\\left(\\theta_{1} + \\theta_{2} \\right)} & - L_{3} \\sin{\\left(\\theta_{1} + \\theta_{2} \\right)} & 0\\\\L_{2} \\cos{\\left(\\theta_{1} \\right)} + L_{3} \\cos{\\left(\\theta_{1} + \\theta_{2} \\right)} & L_{3} \\cos{\\left(\\theta_{1} + \\theta_{2} \\right)} & 0\\\\0 & 0 & 1\\\\0 & 0 & 0\\\\0 & 0 & 0\\\\1 & 1 & 0\\end{matrix}\\right]$"
      ],
      "text/plain": [
       "⎡-L₂⋅sin(θ₁) - L₃⋅sin(θ₁ + θ₂)  -L₃⋅sin(θ₁ + θ₂)  0⎤\n",
       "⎢                                                  ⎥\n",
       "⎢L₂⋅cos(θ₁) + L₃⋅cos(θ₁ + θ₂)   L₃⋅cos(θ₁ + θ₂)   0⎥\n",
       "⎢                                                  ⎥\n",
       "⎢              0                       0          1⎥\n",
       "⎢                                                  ⎥\n",
       "⎢              0                       0          0⎥\n",
       "⎢                                                  ⎥\n",
       "⎢              0                       0          0⎥\n",
       "⎢                                                  ⎥\n",
       "⎣              1                       1          0⎦"
      ]
     },
     "metadata": {},
     "output_type": "display_data"
    }
   ],
   "source": [
    "# 4.6.1\n",
    " \n",
    "omega = Matrix([0, 0, 0])\n",
    "v = Matrix([0, 0, 0])\n",
    "\n",
    "# Define speed variables\n",
    "theta_1_dot = symbols('\\dot{\\\\theta_1}')\n",
    "theta_2_dot = symbols('\\dot{\\\\theta_2}')\n",
    "d_3_dot = symbols('\\dot{d_3}')\n",
    "\n",
    "omega_11, v_11 = revolute_joint(frame = 1, theta_dot = theta_1_dot, transform_low_high = T01, omega = omega, v = v)\n",
    "omega_22, v_22 = revolute_joint(frame = 2, theta_dot = theta_2_dot, transform_low_high = T12, omega = omega_11, v = v_11)\n",
    "omega_33, v_33 = prismatic_joint(frame = 3, d_dot = d_3_dot, transform_low_high = T23, omega = omega_22, v = v_22)\n",
    "\n",
    "Jee, J0 = Jacobian(parameters = [theta_1_dot, theta_2_dot, d_3_dot], v_ee = v_33, omega_ee = omega_33, transform_low_high = T03)\n"
   ]
  },
  {
   "cell_type": "markdown",
   "id": "c0742463",
   "metadata": {},
   "source": [
    "### Tut 2.6.2"
   ]
  },
  {
   "cell_type": "code",
   "execution_count": 198,
   "id": "79483a61",
   "metadata": {},
   "outputs": [
    {
     "data": {
      "image/png": "[encoded data removed]",
      "text/latex": [
       "$\\displaystyle ^0T_{1}$"
      ],
      "text/plain": [
       "^0T₁"
      ]
     },
     "metadata": {},
     "output_type": "display_data"
    },
    {
     "data": {
      "image/png": "[encoded data removed]",
      "text/latex": [
       "$\\displaystyle \\left[\\begin{matrix}\\cos{\\left(\\theta_{1} \\right)} & - \\sin{\\left(\\theta_{1} \\right)} & 0 & 0\\\\\\sin{\\left(\\theta_{1} \\right)} & \\cos{\\left(\\theta_{1} \\right)} & 0 & 0\\\\0 & 0 & 1 & L_{1}\\\\0 & 0 & 0 & 1\\end{matrix}\\right]$"
      ],
      "text/plain": [
       "⎡cos(θ₁)  -sin(θ₁)  0  0 ⎤\n",
       "⎢                        ⎥\n",
       "⎢sin(θ₁)  cos(θ₁)   0  0 ⎥\n",
       "⎢                        ⎥\n",
       "⎢   0        0      1  L₁⎥\n",
       "⎢                        ⎥\n",
       "⎣   0        0      0  1 ⎦"
      ]
     },
     "metadata": {},
     "output_type": "display_data"
    },
    {
     "data": {
      "image/png": "[encoded data removed]",
      "text/latex": [
       "$\\displaystyle ^1T_{2}$"
      ],
      "text/plain": [
       "^1T₂"
      ]
     },
     "metadata": {},
     "output_type": "display_data"
    },
    {
     "data": {
      "image/png": "[encoded data removed]",
      "text/latex": [
       "$\\displaystyle \\left[\\begin{matrix}\\cos{\\left(\\theta_{2} \\right)} & - \\sin{\\left(\\theta_{2} \\right)} & 0 & 0\\\\0 & 0 & -1 & 0\\\\\\sin{\\left(\\theta_{2} \\right)} & \\cos{\\left(\\theta_{2} \\right)} & 0 & 0\\\\0 & 0 & 0 & 1\\end{matrix}\\right]$"
      ],
      "text/plain": [
       "⎡cos(θ₂)  -sin(θ₂)  0   0⎤\n",
       "⎢                        ⎥\n",
       "⎢   0        0      -1  0⎥\n",
       "⎢                        ⎥\n",
       "⎢sin(θ₂)  cos(θ₂)   0   0⎥\n",
       "⎢                        ⎥\n",
       "⎣   0        0      0   1⎦"
      ]
     },
     "metadata": {},
     "output_type": "display_data"
    },
    {
     "data": {
      "image/png": "[encoded data removed]",
      "text/latex": [
       "$\\displaystyle ^2T_{3}$"
      ],
      "text/plain": [
       "^2T₃"
      ]
     },
     "metadata": {},
     "output_type": "display_data"
    },
    {
     "data": {
      "image/png": "[encoded data removed]",
      "text/latex": [
       "$\\displaystyle \\left[\\begin{matrix}\\cos{\\left(\\theta_{3} \\right)} & - \\sin{\\left(\\theta_{3} \\right)} & 0 & L_{2}\\\\\\sin{\\left(\\theta_{3} \\right)} & \\cos{\\left(\\theta_{3} \\right)} & 0 & 0\\\\0 & 0 & 1 & 0\\\\0 & 0 & 0 & 1\\end{matrix}\\right]$"
      ],
      "text/plain": [
       "⎡cos(θ₃)  -sin(θ₃)  0  L₂⎤\n",
       "⎢                        ⎥\n",
       "⎢sin(θ₃)  cos(θ₃)   0  0 ⎥\n",
       "⎢                        ⎥\n",
       "⎢   0        0      1  0 ⎥\n",
       "⎢                        ⎥\n",
       "⎣   0        0      0  1 ⎦"
      ]
     },
     "metadata": {},
     "output_type": "display_data"
    },
    {
     "data": {
      "image/png": "[encoded data removed]",
      "text/latex": [
       "$\\displaystyle ^3T_{E}$"
      ],
      "text/plain": [
       "^3T_E"
      ]
     },
     "metadata": {},
     "output_type": "display_data"
    },
    {
     "data": {
      "image/png": "[encoded data removed]",
      "text/latex": [
       "$\\displaystyle \\left[\\begin{matrix}1 & 0 & 0 & L_{3}\\\\0 & 1 & 0 & 0\\\\0 & 0 & 1 & 0\\\\0 & 0 & 0 & 1\\end{matrix}\\right]$"
      ],
      "text/plain": [
       "⎡1  0  0  L₃⎤\n",
       "⎢           ⎥\n",
       "⎢0  1  0  0 ⎥\n",
       "⎢           ⎥\n",
       "⎢0  0  1  0 ⎥\n",
       "⎢           ⎥\n",
       "⎣0  0  0  1 ⎦"
      ]
     },
     "metadata": {},
     "output_type": "display_data"
    },
    {
     "data": {
      "image/png": "[encoded data removed]",
      "text/latex": [
       "$\\displaystyle ^0T_{E}$"
      ],
      "text/plain": [
       "^0T_E"
      ]
     },
     "metadata": {},
     "output_type": "display_data"
    },
    {
     "data": {
      "image/png": "[encoded data removed]",
      "text/latex": [
       "$\\displaystyle \\left[\\begin{matrix}\\cos{\\left(\\theta_{1} \\right)} \\cos{\\left(\\theta_{2} + \\theta_{3} \\right)} & - \\sin{\\left(\\theta_{2} + \\theta_{3} \\right)} \\cos{\\left(\\theta_{1} \\right)} & \\sin{\\left(\\theta_{1} \\right)} & \\left(L_{2} \\cos{\\left(\\theta_{2} \\right)} + L_{3} \\cos{\\left(\\theta_{2} + \\theta_{3} \\right)}\\right) \\cos{\\left(\\theta_{1} \\right)}\\\\\\sin{\\left(\\theta_{1} \\right)} \\cos{\\left(\\theta_{2} + \\theta_{3} \\right)} & - \\sin{\\left(\\theta_{1} \\right)} \\sin{\\left(\\theta_{2} + \\theta_{3} \\right)} & - \\cos{\\left(\\theta_{1} \\right)} & \\left(L_{2} \\cos{\\left(\\theta_{2} \\right)} + L_{3} \\cos{\\left(\\theta_{2} + \\theta_{3} \\right)}\\right) \\sin{\\left(\\theta_{1} \\right)}\\\\\\sin{\\left(\\theta_{2} + \\theta_{3} \\right)} & \\cos{\\left(\\theta_{2} + \\theta_{3} \\right)} & 0 & L_{1} + L_{2} \\sin{\\left(\\theta_{2} \\right)} + L_{3} \\sin{\\left(\\theta_{2} + \\theta_{3} \\right)}\\\\0 & 0 & 0 & 1\\end{matrix}\\right]$"
      ],
      "text/plain": [
       "⎡cos(θ₁)⋅cos(θ₂ + θ₃)  -sin(θ₂ + θ₃)⋅cos(θ₁)  sin(θ₁)   (L₂⋅cos(θ₂) + L₃⋅cos(θ\n",
       "⎢                                                                             \n",
       "⎢sin(θ₁)⋅cos(θ₂ + θ₃)  -sin(θ₁)⋅sin(θ₂ + θ₃)  -cos(θ₁)  (L₂⋅cos(θ₂) + L₃⋅cos(θ\n",
       "⎢                                                                             \n",
       "⎢    sin(θ₂ + θ₃)          cos(θ₂ + θ₃)          0        L₁ + L₂⋅sin(θ₂) + L₃\n",
       "⎢                                                                             \n",
       "⎣         0                      0               0                        1   \n",
       "\n",
       "₂ + θ₃))⋅cos(θ₁)⎤\n",
       "                ⎥\n",
       "₂ + θ₃))⋅sin(θ₁)⎥\n",
       "                ⎥\n",
       "⋅sin(θ₂ + θ₃)   ⎥\n",
       "                ⎥\n",
       "                ⎦"
      ]
     },
     "metadata": {},
     "output_type": "display_data"
    },
    {
     "data": {
      "text/plain": [
       "'The position of the end effector'"
      ]
     },
     "metadata": {},
     "output_type": "display_data"
    },
    {
     "data": {
      "image/png": "[encoded data removed]",
      "text/latex": [
       "$\\displaystyle \\left[\\begin{matrix}\\left(L_{2} \\cos{\\left(\\theta_{2} \\right)} + L_{3} \\cos{\\left(\\theta_{2} + \\theta_{3} \\right)}\\right) \\cos{\\left(\\theta_{1} \\right)}\\\\\\left(L_{2} \\cos{\\left(\\theta_{2} \\right)} + L_{3} \\cos{\\left(\\theta_{2} + \\theta_{3} \\right)}\\right) \\sin{\\left(\\theta_{1} \\right)}\\\\L_{1} + L_{2} \\sin{\\left(\\theta_{2} \\right)} + L_{3} \\sin{\\left(\\theta_{2} + \\theta_{3} \\right)}\\end{matrix}\\right]$"
      ],
      "text/plain": [
       "⎡(L₂⋅cos(θ₂) + L₃⋅cos(θ₂ + θ₃))⋅cos(θ₁)⎤\n",
       "⎢                                      ⎥\n",
       "⎢(L₂⋅cos(θ₂) + L₃⋅cos(θ₂ + θ₃))⋅sin(θ₁)⎥\n",
       "⎢                                      ⎥\n",
       "⎣  L₁ + L₂⋅sin(θ₂) + L₃⋅sin(θ₂ + θ₃)   ⎦"
      ]
     },
     "metadata": {},
     "output_type": "display_data"
    }
   ],
   "source": [
    "# Tut 2.6.2\n",
    "\n",
    "DH1 = [0, 0, symbols('L1'), symbols('theta1')]\n",
    "T01 = Tlink(DH1)\n",
    "symprint('T',0, 1)\n",
    "display(T01)\n",
    "\n",
    "DH2 = [0, pi/2, 0, symbols('theta2')]\n",
    "T12 = Tlink(DH2)\n",
    "symprint('T',1, 2)\n",
    "display(T12)\n",
    "\n",
    "DH3 = [symbols('L2'), 0, 0, symbols('theta3')]\n",
    "T23 = Tlink(DH3)\n",
    "symprint('T',2, 3)\n",
    "display(T23)\n",
    "\n",
    "DH4 = [symbols('L3'), 0, 0, 0]\n",
    "T3E = Tlink(DH4)\n",
    "symprint('T',3,'E')\n",
    "display(T3E)\n",
    "\n",
    "T0E = simplify(T01*T12*T23*T3E)\n",
    "symprint('T',0, 'E')\n",
    "display(T0E)\n",
    "\n",
    "display('The position of the end effector')\n",
    "display(Position_finder(simplify(T01*T12*T23*T3E)))\n"
   ]
  },
  {
   "cell_type": "code",
   "execution_count": 199,
   "id": "3ae7df1b",
   "metadata": {},
   "outputs": [
    {
     "data": {
      "image/png": "[encoded data removed]",
      "text/latex": [
       "$\\displaystyle ^1\\Omega_{1}$"
      ],
      "text/plain": [
       "^1\\Omega₁"
      ]
     },
     "metadata": {},
     "output_type": "display_data"
    },
    {
     "data": {
      "image/png": "[encoded data removed]",
      "text/latex": [
       "$\\displaystyle \\left[\\begin{matrix}0\\\\0\\\\\\dot{\\theta_1}\\end{matrix}\\right]$"
      ],
      "text/plain": [
       "⎡      0       ⎤\n",
       "⎢              ⎥\n",
       "⎢      0       ⎥\n",
       "⎢              ⎥\n",
       "⎣\\dot{\\theta_1}⎦"
      ]
     },
     "metadata": {},
     "output_type": "display_data"
    },
    {
     "data": {
      "image/png": "[encoded data removed]",
      "text/latex": [
       "$\\displaystyle ^1V_{1}$"
      ],
      "text/plain": [
       "^1V₁"
      ]
     },
     "metadata": {},
     "output_type": "display_data"
    },
    {
     "data": {
      "image/png": "[encoded data removed]",
      "text/latex": [
       "$\\displaystyle \\left[\\begin{matrix}0\\\\0\\\\0\\end{matrix}\\right]$"
      ],
      "text/plain": [
       "⎡0⎤\n",
       "⎢ ⎥\n",
       "⎢0⎥\n",
       "⎢ ⎥\n",
       "⎣0⎦"
      ]
     },
     "metadata": {},
     "output_type": "display_data"
    },
    {
     "data": {
      "image/png": "[encoded data removed]",
      "text/latex": [
       "$\\displaystyle ^2\\Omega_{2}$"
      ],
      "text/plain": [
       "^2\\Omega₂"
      ]
     },
     "metadata": {},
     "output_type": "display_data"
    },
    {
     "data": {
      "image/png": "[encoded data removed]",
      "text/latex": [
       "$\\displaystyle \\left[\\begin{matrix}\\dot{\\theta_1} \\sin{\\left(\\theta_{2} \\right)}\\\\\\dot{\\theta_1} \\cos{\\left(\\theta_{2} \\right)}\\\\\\dot{\\theta_2}\\end{matrix}\\right]$"
      ],
      "text/plain": [
       "⎡\\dot{\\theta_1}⋅sin(θ₂)⎤\n",
       "⎢                      ⎥\n",
       "⎢\\dot{\\theta_1}⋅cos(θ₂)⎥\n",
       "⎢                      ⎥\n",
       "⎣    \\dot{\\theta_2}    ⎦"
      ]
     },
     "metadata": {},
     "output_type": "display_data"
    },
    {
     "data": {
      "image/png": "[encoded data removed]",
      "text/latex": [
       "$\\displaystyle ^2V_{2}$"
      ],
      "text/plain": [
       "^2V₂"
      ]
     },
     "metadata": {},
     "output_type": "display_data"
    },
    {
     "data": {
      "image/png": "[encoded data removed]",
      "text/latex": [
       "$\\displaystyle \\left[\\begin{matrix}0\\\\0\\\\0\\end{matrix}\\right]$"
      ],
      "text/plain": [
       "⎡0⎤\n",
       "⎢ ⎥\n",
       "⎢0⎥\n",
       "⎢ ⎥\n",
       "⎣0⎦"
      ]
     },
     "metadata": {},
     "output_type": "display_data"
    },
    {
     "data": {
      "image/png": "[encoded data removed]",
      "text/latex": [
       "$\\displaystyle ^3\\Omega_{3}$"
      ],
      "text/plain": [
       "^3\\Omega₃"
      ]
     },
     "metadata": {},
     "output_type": "display_data"
    },
    {
     "data": {
      "image/png": "[encoded data removed]",
      "text/latex": [
       "$\\displaystyle \\left[\\begin{matrix}\\dot{\\theta_1} \\sin{\\left(\\theta_{2} + \\theta_{3} \\right)}\\\\\\dot{\\theta_1} \\cos{\\left(\\theta_{2} + \\theta_{3} \\right)}\\\\\\dot{\\theta_2} + \\dot{\\theta_3}\\end{matrix}\\right]$"
      ],
      "text/plain": [
       "⎡  \\dot{\\theta_1}⋅sin(θ₂ + θ₃)  ⎤\n",
       "⎢                               ⎥\n",
       "⎢  \\dot{\\theta_1}⋅cos(θ₂ + θ₃)  ⎥\n",
       "⎢                               ⎥\n",
       "⎣\\dot{\\theta_2} + \\dot{\\theta_3}⎦"
      ]
     },
     "metadata": {},
     "output_type": "display_data"
    },
    {
     "data": {
      "image/png": "[encoded data removed]",
      "text/latex": [
       "$\\displaystyle ^3V_{3}$"
      ],
      "text/plain": [
       "^3V₃"
      ]
     },
     "metadata": {},
     "output_type": "display_data"
    },
    {
     "data": {
      "image/png": "[encoded data removed]",
      "text/latex": [
       "$\\displaystyle \\left[\\begin{matrix}L_{2} \\dot{\\theta_2} \\sin{\\left(\\theta_{3} \\right)}\\\\L_{2} \\dot{\\theta_2} \\cos{\\left(\\theta_{3} \\right)}\\\\- L_{2} \\dot{\\theta_1} \\cos{\\left(\\theta_{2} \\right)}\\end{matrix}\\right]$"
      ],
      "text/plain": [
       "⎡L₂⋅\\dot{\\theta_2}⋅sin(θ₃) ⎤\n",
       "⎢                          ⎥\n",
       "⎢L₂⋅\\dot{\\theta_2}⋅cos(θ₃) ⎥\n",
       "⎢                          ⎥\n",
       "⎣-L₂⋅\\dot{\\theta_1}⋅cos(θ₂)⎦"
      ]
     },
     "metadata": {},
     "output_type": "display_data"
    },
    {
     "data": {
      "image/png": "[encoded data removed]",
      "text/latex": [
       "$\\displaystyle ^e\\Omega_{e}$"
      ],
      "text/plain": [
       "^e\\Omegaₑ"
      ]
     },
     "metadata": {},
     "output_type": "display_data"
    },
    {
     "data": {
      "image/png": "[encoded data removed]",
      "text/latex": [
       "$\\displaystyle \\left[\\begin{matrix}\\dot{\\theta_1} \\sin{\\left(\\theta_{2} + \\theta_{3} \\right)}\\\\\\dot{\\theta_1} \\cos{\\left(\\theta_{2} + \\theta_{3} \\right)}\\\\\\dot{\\theta_2} + \\dot{\\theta_3}\\end{matrix}\\right]$"
      ],
      "text/plain": [
       "⎡  \\dot{\\theta_1}⋅sin(θ₂ + θ₃)  ⎤\n",
       "⎢                               ⎥\n",
       "⎢  \\dot{\\theta_1}⋅cos(θ₂ + θ₃)  ⎥\n",
       "⎢                               ⎥\n",
       "⎣\\dot{\\theta_2} + \\dot{\\theta_3}⎦"
      ]
     },
     "metadata": {},
     "output_type": "display_data"
    },
    {
     "data": {
      "image/png": "[encoded data removed]",
      "text/latex": [
       "$\\displaystyle ^eV_{e}$"
      ],
      "text/plain": [
       "^eVₑ"
      ]
     },
     "metadata": {},
     "output_type": "display_data"
    },
    {
     "data": {
      "image/png": "[encoded data removed]",
      "text/latex": [
       "$\\displaystyle \\left[\\begin{matrix}L_{2} \\dot{\\theta_2} \\sin{\\left(\\theta_{3} \\right)}\\\\L_{2} \\dot{\\theta_2} \\cos{\\left(\\theta_{3} \\right)} + L_{3} \\left(\\dot{\\theta_2} + \\dot{\\theta_3}\\right)\\\\- \\dot{\\theta_1} \\left(L_{2} \\cos{\\left(\\theta_{2} \\right)} + L_{3} \\cos{\\left(\\theta_{2} + \\theta_{3} \\right)}\\right)\\end{matrix}\\right]$"
      ],
      "text/plain": [
       "⎡                   L₂⋅\\dot{\\theta_2}⋅sin(θ₃)                    ⎤\n",
       "⎢                                                                ⎥\n",
       "⎢L₂⋅\\dot{\\theta_2}⋅cos(θ₃) + L₃⋅(\\dot{\\theta_2} + \\dot{\\theta_3})⎥\n",
       "⎢                                                                ⎥\n",
       "⎣         -\\dot{\\theta_1}⋅(L₂⋅cos(θ₂) + L₃⋅cos(θ₂ + θ₃))         ⎦"
      ]
     },
     "metadata": {},
     "output_type": "display_data"
    },
    {
     "data": {
      "image/png": "[encoded data removed]",
      "text/latex": [
       "$\\displaystyle \\left[\\begin{matrix}\\cos{\\left(\\theta_{1} \\right)} \\cos{\\left(\\theta_{2} + \\theta_{3} \\right)} & - \\sin{\\left(\\theta_{2} + \\theta_{3} \\right)} \\cos{\\left(\\theta_{1} \\right)} & \\sin{\\left(\\theta_{1} \\right)} & 0 & 0 & 0\\\\\\sin{\\left(\\theta_{1} \\right)} \\cos{\\left(\\theta_{2} + \\theta_{3} \\right)} & - \\sin{\\left(\\theta_{1} \\right)} \\sin{\\left(\\theta_{2} + \\theta_{3} \\right)} & - \\cos{\\left(\\theta_{1} \\right)} & 0 & 0 & 0\\\\\\sin{\\left(\\theta_{2} + \\theta_{3} \\right)} & \\cos{\\left(\\theta_{2} + \\theta_{3} \\right)} & 0 & 0 & 0 & 0\\\\0 & 0 & 0 & \\cos{\\left(\\theta_{1} \\right)} \\cos{\\left(\\theta_{2} + \\theta_{3} \\right)} & - \\sin{\\left(\\theta_{2} + \\theta_{3} \\right)} \\cos{\\left(\\theta_{1} \\right)} & \\sin{\\left(\\theta_{1} \\right)}\\\\0 & 0 & 0 & \\sin{\\left(\\theta_{1} \\right)} \\cos{\\left(\\theta_{2} + \\theta_{3} \\right)} & - \\sin{\\left(\\theta_{1} \\right)} \\sin{\\left(\\theta_{2} + \\theta_{3} \\right)} & - \\cos{\\left(\\theta_{1} \\right)}\\\\0 & 0 & 0 & \\sin{\\left(\\theta_{2} + \\theta_{3} \\right)} & \\cos{\\left(\\theta_{2} + \\theta_{3} \\right)} & 0\\end{matrix}\\right]$"
      ],
      "text/plain": [
       "⎡cos(θ₁)⋅cos(θ₂ + θ₃)  -sin(θ₂ + θ₃)⋅cos(θ₁)  sin(θ₁)            0            \n",
       "⎢                                                                             \n",
       "⎢sin(θ₁)⋅cos(θ₂ + θ₃)  -sin(θ₁)⋅sin(θ₂ + θ₃)  -cos(θ₁)           0            \n",
       "⎢                                                                             \n",
       "⎢    sin(θ₂ + θ₃)          cos(θ₂ + θ₃)          0               0            \n",
       "⎢                                                                             \n",
       "⎢         0                      0               0      cos(θ₁)⋅cos(θ₂ + θ₃)  \n",
       "⎢                                                                             \n",
       "⎢         0                      0               0      sin(θ₁)⋅cos(θ₂ + θ₃)  \n",
       "⎢                                                                             \n",
       "⎣         0                      0               0          sin(θ₂ + θ₃)      \n",
       "\n",
       "          0               0    ⎤\n",
       "                               ⎥\n",
       "          0               0    ⎥\n",
       "                               ⎥\n",
       "          0               0    ⎥\n",
       "                               ⎥\n",
       "-sin(θ₂ + θ₃)⋅cos(θ₁)  sin(θ₁) ⎥\n",
       "                               ⎥\n",
       "-sin(θ₁)⋅sin(θ₂ + θ₃)  -cos(θ₁)⎥\n",
       "                               ⎥\n",
       "    cos(θ₂ + θ₃)          0    ⎦"
      ]
     },
     "metadata": {},
     "output_type": "display_data"
    },
    {
     "data": {
      "image/png": "[encoded data removed]",
      "text/latex": [
       "$\\displaystyle ^eJ_{e}$"
      ],
      "text/plain": [
       "^eJₑ"
      ]
     },
     "metadata": {},
     "output_type": "display_data"
    },
    {
     "data": {
      "image/png": "[encoded data removed]",
      "text/latex": [
       "$\\displaystyle \\left[\\begin{matrix}0 & L_{2} \\sin{\\left(\\theta_{3} \\right)} & 0\\\\0 & L_{2} \\cos{\\left(\\theta_{3} \\right)} + L_{3} & L_{3}\\\\- L_{2} \\cos{\\left(\\theta_{2} \\right)} - L_{3} \\cos{\\left(\\theta_{2} + \\theta_{3} \\right)} & 0 & 0\\\\\\sin{\\left(\\theta_{2} + \\theta_{3} \\right)} & 0 & 0\\\\\\cos{\\left(\\theta_{2} + \\theta_{3} \\right)} & 0 & 0\\\\0 & 1 & 1\\end{matrix}\\right]$"
      ],
      "text/plain": [
       "⎡              0                  L₂⋅sin(θ₃)     0 ⎤\n",
       "⎢                                                  ⎥\n",
       "⎢              0                L₂⋅cos(θ₃) + L₃  L₃⎥\n",
       "⎢                                                  ⎥\n",
       "⎢-L₂⋅cos(θ₂) - L₃⋅cos(θ₂ + θ₃)         0         0 ⎥\n",
       "⎢                                                  ⎥\n",
       "⎢        sin(θ₂ + θ₃)                  0         0 ⎥\n",
       "⎢                                                  ⎥\n",
       "⎢        cos(θ₂ + θ₃)                  0         0 ⎥\n",
       "⎢                                                  ⎥\n",
       "⎣              0                       1         1 ⎦"
      ]
     },
     "metadata": {},
     "output_type": "display_data"
    },
    {
     "data": {
      "image/png": "[encoded data removed]",
      "text/latex": [
       "$\\displaystyle ^0J_{}$"
      ],
      "text/plain": [
       "^0J"
      ]
     },
     "metadata": {},
     "output_type": "display_data"
    },
    {
     "data": {
      "image/png": "[encoded data removed]",
      "text/latex": [
       "$\\displaystyle \\left[\\begin{matrix}- \\left(L_{2} \\cos{\\left(\\theta_{2} \\right)} + L_{3} \\cos{\\left(\\theta_{2} + \\theta_{3} \\right)}\\right) \\sin{\\left(\\theta_{1} \\right)} & - \\left(L_{2} \\sin{\\left(\\theta_{2} \\right)} + L_{3} \\sin{\\left(\\theta_{2} + \\theta_{3} \\right)}\\right) \\cos{\\left(\\theta_{1} \\right)} & - L_{3} \\sin{\\left(\\theta_{2} + \\theta_{3} \\right)} \\cos{\\left(\\theta_{1} \\right)}\\\\\\left(L_{2} \\cos{\\left(\\theta_{2} \\right)} + L_{3} \\cos{\\left(\\theta_{2} + \\theta_{3} \\right)}\\right) \\cos{\\left(\\theta_{1} \\right)} & - \\left(L_{2} \\sin{\\left(\\theta_{2} \\right)} + L_{3} \\sin{\\left(\\theta_{2} + \\theta_{3} \\right)}\\right) \\sin{\\left(\\theta_{1} \\right)} & - L_{3} \\sin{\\left(\\theta_{1} \\right)} \\sin{\\left(\\theta_{2} + \\theta_{3} \\right)}\\\\0 & L_{2} \\cos{\\left(\\theta_{2} \\right)} + L_{3} \\cos{\\left(\\theta_{2} + \\theta_{3} \\right)} & L_{3} \\cos{\\left(\\theta_{2} + \\theta_{3} \\right)}\\\\0 & \\sin{\\left(\\theta_{1} \\right)} & \\sin{\\left(\\theta_{1} \\right)}\\\\0 & - \\cos{\\left(\\theta_{1} \\right)} & - \\cos{\\left(\\theta_{1} \\right)}\\\\1 & 0 & 0\\end{matrix}\\right]$"
      ],
      "text/plain": [
       "⎡-(L₂⋅cos(θ₂) + L₃⋅cos(θ₂ + θ₃))⋅sin(θ₁)  -(L₂⋅sin(θ₂) + L₃⋅sin(θ₂ + θ₃))⋅cos(\n",
       "⎢                                                                             \n",
       "⎢(L₂⋅cos(θ₂) + L₃⋅cos(θ₂ + θ₃))⋅cos(θ₁)   -(L₂⋅sin(θ₂) + L₃⋅sin(θ₂ + θ₃))⋅sin(\n",
       "⎢                                                                             \n",
       "⎢                   0                          L₂⋅cos(θ₂) + L₃⋅cos(θ₂ + θ₃)   \n",
       "⎢                                                                             \n",
       "⎢                   0                                     sin(θ₁)             \n",
       "⎢                                                                             \n",
       "⎢                   0                                    -cos(θ₁)             \n",
       "⎢                                                                             \n",
       "⎣                   1                                        0                \n",
       "\n",
       "θ₁)  -L₃⋅sin(θ₂ + θ₃)⋅cos(θ₁)⎤\n",
       "                             ⎥\n",
       "θ₁)  -L₃⋅sin(θ₁)⋅sin(θ₂ + θ₃)⎥\n",
       "                             ⎥\n",
       "         L₃⋅cos(θ₂ + θ₃)     ⎥\n",
       "                             ⎥\n",
       "             sin(θ₁)         ⎥\n",
       "                             ⎥\n",
       "             -cos(θ₁)        ⎥\n",
       "                             ⎥\n",
       "                0            ⎦"
      ]
     },
     "metadata": {},
     "output_type": "display_data"
    }
   ],
   "source": [
    "# 4.6.2\n",
    " \n",
    "omega = Matrix([0, 0, 0])\n",
    "v = Matrix([0, 0, 0])\n",
    "\n",
    "theta_1_dot = symbols('\\dot{\\\\theta_1}')\n",
    "theta_2_dot = symbols('\\dot{\\\\theta_2}')\n",
    "theta_3_dot = symbols('\\dot{\\\\theta_3}')\n",
    "theta_e_dot = symbols('\\dot{\\\\theta_e}')\n",
    "\n",
    "omega_11, v_11 = revolute_joint(frame = 1, theta_dot = theta_1_dot, transform_low_high = T01, omega = omega, v = v)\n",
    "omega_22, v_22 = revolute_joint(frame = 2, theta_dot = theta_2_dot, transform_low_high = T12, omega = omega_11, v = v_11)\n",
    "omega_33, v_33 = revolute_joint(frame = 3, theta_dot = theta_3_dot, transform_low_high = T23, omega = omega_22, v = v_22)\n",
    "\n",
    "# For the end effector\n",
    "omega_ee, v_ee = revolute_joint(frame = 'e', theta_dot = theta_e_dot, transform_low_high = T3E, omega = omega_33, v = v_33)\n",
    "\n",
    "# This will work as well\n",
    "# omega_ee, v_ee = prismatic_joint(frame = 'e', transform_low_high = T3E, omega = omega_33, v = v_33)\n",
    "\n",
    "Jee, J0 = Jacobian(parameters = [theta_1_dot, theta_2_dot, theta_3_dot], v_ee = v_ee, omega_ee = omega_ee, transform_low_high = T0E, Display_all_details = True)\n"
   ]
  },
  {
   "cell_type": "markdown",
   "id": "dae51b91",
   "metadata": {},
   "source": [
    "### Tut 2.6.3"
   ]
  },
  {
   "cell_type": "code",
   "execution_count": 200,
   "id": "e6ce2a43",
   "metadata": {},
   "outputs": [
    {
     "data": {
      "image/png": "[encoded data removed]",
      "text/latex": [
       "$\\displaystyle ^0T_{1}$"
      ],
      "text/plain": [
       "^0T₁"
      ]
     },
     "metadata": {},
     "output_type": "display_data"
    },
    {
     "data": {
      "image/png": "[encoded data removed]",
      "text/latex": [
       "$\\displaystyle \\left[\\begin{matrix}1 & 0 & 0 & 0\\\\0 & 1 & 0 & 0\\\\0 & 0 & 1 & L_{0} + d_{1}\\\\0 & 0 & 0 & 1\\end{matrix}\\right]$"
      ],
      "text/plain": [
       "⎡1  0  0     0   ⎤\n",
       "⎢                ⎥\n",
       "⎢0  1  0     0   ⎥\n",
       "⎢                ⎥\n",
       "⎢0  0  1  L₀ + d₁⎥\n",
       "⎢                ⎥\n",
       "⎣0  0  0     1   ⎦"
      ]
     },
     "metadata": {},
     "output_type": "display_data"
    },
    {
     "data": {
      "image/png": "[encoded data removed]",
      "text/latex": [
       "$\\displaystyle ^1T_{2}$"
      ],
      "text/plain": [
       "^1T₂"
      ]
     },
     "metadata": {},
     "output_type": "display_data"
    },
    {
     "data": {
      "image/png": "[encoded data removed]",
      "text/latex": [
       "$\\displaystyle \\left[\\begin{matrix}\\cos{\\left(\\theta_{2} \\right)} & - \\sin{\\left(\\theta_{2} \\right)} & 0 & L_{1}\\\\\\sin{\\left(\\theta_{2} \\right)} & \\cos{\\left(\\theta_{2} \\right)} & 0 & 0\\\\0 & 0 & 1 & 0\\\\0 & 0 & 0 & 1\\end{matrix}\\right]$"
      ],
      "text/plain": [
       "⎡cos(θ₂)  -sin(θ₂)  0  L₁⎤\n",
       "⎢                        ⎥\n",
       "⎢sin(θ₂)  cos(θ₂)   0  0 ⎥\n",
       "⎢                        ⎥\n",
       "⎢   0        0      1  0 ⎥\n",
       "⎢                        ⎥\n",
       "⎣   0        0      0  1 ⎦"
      ]
     },
     "metadata": {},
     "output_type": "display_data"
    },
    {
     "data": {
      "image/png": "[encoded data removed]",
      "text/latex": [
       "$\\displaystyle ^2T_{3}$"
      ],
      "text/plain": [
       "^2T₃"
      ]
     },
     "metadata": {},
     "output_type": "display_data"
    },
    {
     "data": {
      "image/png": "[encoded data removed]",
      "text/latex": [
       "$\\displaystyle \\left[\\begin{matrix}\\cos{\\left(\\theta_{3} \\right)} & - \\sin{\\left(\\theta_{3} \\right)} & 0 & L_{2}\\\\\\sin{\\left(\\theta_{3} \\right)} & \\cos{\\left(\\theta_{3} \\right)} & 0 & 0\\\\0 & 0 & 1 & 0\\\\0 & 0 & 0 & 1\\end{matrix}\\right]$"
      ],
      "text/plain": [
       "⎡cos(θ₃)  -sin(θ₃)  0  L₂⎤\n",
       "⎢                        ⎥\n",
       "⎢sin(θ₃)  cos(θ₃)   0  0 ⎥\n",
       "⎢                        ⎥\n",
       "⎢   0        0      1  0 ⎥\n",
       "⎢                        ⎥\n",
       "⎣   0        0      0  1 ⎦"
      ]
     },
     "metadata": {},
     "output_type": "display_data"
    },
    {
     "data": {
      "image/png": "[encoded data removed]",
      "text/latex": [
       "$\\displaystyle ^3T_{E}$"
      ],
      "text/plain": [
       "^3T_E"
      ]
     },
     "metadata": {},
     "output_type": "display_data"
    },
    {
     "data": {
      "image/png": "[encoded data removed]",
      "text/latex": [
       "$\\displaystyle \\left[\\begin{matrix}1 & 0 & 0 & L_{3}\\\\0 & 1 & 0 & 0\\\\0 & 0 & 1 & 0\\\\0 & 0 & 0 & 1\\end{matrix}\\right]$"
      ],
      "text/plain": [
       "⎡1  0  0  L₃⎤\n",
       "⎢           ⎥\n",
       "⎢0  1  0  0 ⎥\n",
       "⎢           ⎥\n",
       "⎢0  0  1  0 ⎥\n",
       "⎢           ⎥\n",
       "⎣0  0  0  1 ⎦"
      ]
     },
     "metadata": {},
     "output_type": "display_data"
    },
    {
     "data": {
      "image/png": "[encoded data removed]",
      "text/latex": [
       "$\\displaystyle ^0T_{E}$"
      ],
      "text/plain": [
       "^0T_E"
      ]
     },
     "metadata": {},
     "output_type": "display_data"
    },
    {
     "data": {
      "image/png": "[encoded data removed]",
      "text/latex": [
       "$\\displaystyle \\left[\\begin{matrix}\\cos{\\left(\\theta_{2} + \\theta_{3} \\right)} & - \\sin{\\left(\\theta_{2} + \\theta_{3} \\right)} & 0 & L_{1} + L_{2} \\cos{\\left(\\theta_{2} \\right)} + L_{3} \\cos{\\left(\\theta_{2} + \\theta_{3} \\right)}\\\\\\sin{\\left(\\theta_{2} + \\theta_{3} \\right)} & \\cos{\\left(\\theta_{2} + \\theta_{3} \\right)} & 0 & L_{2} \\sin{\\left(\\theta_{2} \\right)} + L_{3} \\sin{\\left(\\theta_{2} + \\theta_{3} \\right)}\\\\0 & 0 & 1 & L_{0} + d_{1}\\\\0 & 0 & 0 & 1\\end{matrix}\\right]$"
      ],
      "text/plain": [
       "⎡cos(θ₂ + θ₃)  -sin(θ₂ + θ₃)  0  L₁ + L₂⋅cos(θ₂) + L₃⋅cos(θ₂ + θ₃)⎤\n",
       "⎢                                                                 ⎥\n",
       "⎢sin(θ₂ + θ₃)  cos(θ₂ + θ₃)   0    L₂⋅sin(θ₂) + L₃⋅sin(θ₂ + θ₃)   ⎥\n",
       "⎢                                                                 ⎥\n",
       "⎢     0              0        1               L₀ + d₁             ⎥\n",
       "⎢                                                                 ⎥\n",
       "⎣     0              0        0                  1                ⎦"
      ]
     },
     "metadata": {},
     "output_type": "display_data"
    },
    {
     "data": {
      "text/plain": [
       "'The position of the end effector'"
      ]
     },
     "metadata": {},
     "output_type": "display_data"
    },
    {
     "data": {
      "image/png": "[encoded data removed]",
      "text/latex": [
       "$\\displaystyle \\left[\\begin{matrix}L_{1} + L_{2} \\cos{\\left(\\theta_{2} \\right)} + L_{3} \\cos{\\left(\\theta_{2} + \\theta_{3} \\right)}\\\\L_{2} \\sin{\\left(\\theta_{2} \\right)} + L_{3} \\sin{\\left(\\theta_{2} + \\theta_{3} \\right)}\\\\L_{0} + d_{1}\\end{matrix}\\right]$"
      ],
      "text/plain": [
       "⎡L₁ + L₂⋅cos(θ₂) + L₃⋅cos(θ₂ + θ₃)⎤\n",
       "⎢                                 ⎥\n",
       "⎢  L₂⋅sin(θ₂) + L₃⋅sin(θ₂ + θ₃)   ⎥\n",
       "⎢                                 ⎥\n",
       "⎣             L₀ + d₁             ⎦"
      ]
     },
     "metadata": {},
     "output_type": "display_data"
    }
   ],
   "source": [
    "# Tut 2.6.3\n",
    "\n",
    "DH1 = [0, 0, symbols('d1')+symbols('L0'), 0]\n",
    "T01 = Tlink(DH1)\n",
    "symprint('T',0, 1)\n",
    "display(T01)\n",
    "\n",
    "DH2 = [symbols('L1'), 0, 0, symbols('theta2')]\n",
    "T12 = Tlink(DH2)\n",
    "symprint('T',1, 2)\n",
    "display(T12)\n",
    "\n",
    "DH3 = [symbols('L2'), 0, 0, symbols('theta3')]\n",
    "T23 = Tlink(DH3)\n",
    "symprint('T',2, 3)\n",
    "display(T23)\n",
    "\n",
    "DHE = [symbols('L3'), 0, 0, 0]\n",
    "T3E = Tlink(DHE)\n",
    "symprint('T',3, 'E')\n",
    "display(T3E)\n",
    "\n",
    "symprint('T',0, 'E')\n",
    "T0E = T01*T12*T23*T3E \n",
    "display(simplify(T0E))\n",
    "\n",
    "display('The position of the end effector')\n",
    "display(Position_finder(simplify(T01*T12*T23*T3E)))\n"
   ]
  },
  {
   "cell_type": "code",
   "execution_count": 204,
   "id": "a9bc922e",
   "metadata": {},
   "outputs": [
    {
     "data": {
      "image/png": "[encoded data removed]",
      "text/latex": [
       "$\\displaystyle ^1\\Omega_{1}$"
      ],
      "text/plain": [
       "^1\\Omega₁"
      ]
     },
     "metadata": {},
     "output_type": "display_data"
    },
    {
     "data": {
      "image/png": "[encoded data removed]",
      "text/latex": [
       "$\\displaystyle \\left[\\begin{matrix}0\\\\0\\\\0\\end{matrix}\\right]$"
      ],
      "text/plain": [
       "⎡0⎤\n",
       "⎢ ⎥\n",
       "⎢0⎥\n",
       "⎢ ⎥\n",
       "⎣0⎦"
      ]
     },
     "metadata": {},
     "output_type": "display_data"
    },
    {
     "data": {
      "image/png": "[encoded data removed]",
      "text/latex": [
       "$\\displaystyle ^1V_{1}$"
      ],
      "text/plain": [
       "^1V₁"
      ]
     },
     "metadata": {},
     "output_type": "display_data"
    },
    {
     "data": {
      "image/png": "[encoded data removed]",
      "text/latex": [
       "$\\displaystyle \\left[\\begin{matrix}0\\\\0\\\\\\dot{d_1}\\end{matrix}\\right]$"
      ],
      "text/plain": [
       "⎡    0    ⎤\n",
       "⎢         ⎥\n",
       "⎢    0    ⎥\n",
       "⎢         ⎥\n",
       "⎣\\dot{d_1}⎦"
      ]
     },
     "metadata": {},
     "output_type": "display_data"
    },
    {
     "data": {
      "image/png": "[encoded data removed]",
      "text/latex": [
       "$\\displaystyle ^2\\Omega_{2}$"
      ],
      "text/plain": [
       "^2\\Omega₂"
      ]
     },
     "metadata": {},
     "output_type": "display_data"
    },
    {
     "data": {
      "image/png": "[encoded data removed]",
      "text/latex": [
       "$\\displaystyle \\left[\\begin{matrix}0\\\\0\\\\\\dot{\\theta_2}\\end{matrix}\\right]$"
      ],
      "text/plain": [
       "⎡      0       ⎤\n",
       "⎢              ⎥\n",
       "⎢      0       ⎥\n",
       "⎢              ⎥\n",
       "⎣\\dot{\\theta_2}⎦"
      ]
     },
     "metadata": {},
     "output_type": "display_data"
    },
    {
     "data": {
      "image/png": "[encoded data removed]",
      "text/latex": [
       "$\\displaystyle ^2V_{2}$"
      ],
      "text/plain": [
       "^2V₂"
      ]
     },
     "metadata": {},
     "output_type": "display_data"
    },
    {
     "data": {
      "image/png": "[encoded data removed]",
      "text/latex": [
       "$\\displaystyle \\left[\\begin{matrix}0\\\\0\\\\\\dot{d_1}\\end{matrix}\\right]$"
      ],
      "text/plain": [
       "⎡    0    ⎤\n",
       "⎢         ⎥\n",
       "⎢    0    ⎥\n",
       "⎢         ⎥\n",
       "⎣\\dot{d_1}⎦"
      ]
     },
     "metadata": {},
     "output_type": "display_data"
    },
    {
     "data": {
      "image/png": "[encoded data removed]",
      "text/latex": [
       "$\\displaystyle ^3\\Omega_{3}$"
      ],
      "text/plain": [
       "^3\\Omega₃"
      ]
     },
     "metadata": {},
     "output_type": "display_data"
    },
    {
     "data": {
      "image/png": "[encoded data removed]",
      "text/latex": [
       "$\\displaystyle \\left[\\begin{matrix}0\\\\0\\\\\\dot{\\theta_2} + \\dot{\\theta_3}\\end{matrix}\\right]$"
      ],
      "text/plain": [
       "⎡               0               ⎤\n",
       "⎢                               ⎥\n",
       "⎢               0               ⎥\n",
       "⎢                               ⎥\n",
       "⎣\\dot{\\theta_2} + \\dot{\\theta_3}⎦"
      ]
     },
     "metadata": {},
     "output_type": "display_data"
    },
    {
     "data": {
      "image/png": "[encoded data removed]",
      "text/latex": [
       "$\\displaystyle ^3V_{3}$"
      ],
      "text/plain": [
       "^3V₃"
      ]
     },
     "metadata": {},
     "output_type": "display_data"
    },
    {
     "data": {
      "image/png": "[encoded data removed]",
      "text/latex": [
       "$\\displaystyle \\left[\\begin{matrix}L_{2} \\dot{\\theta_2} \\sin{\\left(\\theta_{3} \\right)}\\\\L_{2} \\dot{\\theta_2} \\cos{\\left(\\theta_{3} \\right)}\\\\\\dot{d_1}\\end{matrix}\\right]$"
      ],
      "text/plain": [
       "⎡L₂⋅\\dot{\\theta_2}⋅sin(θ₃)⎤\n",
       "⎢                         ⎥\n",
       "⎢L₂⋅\\dot{\\theta_2}⋅cos(θ₃)⎥\n",
       "⎢                         ⎥\n",
       "⎣        \\dot{d_1}        ⎦"
      ]
     },
     "metadata": {},
     "output_type": "display_data"
    },
    {
     "data": {
      "image/png": "[encoded data removed]",
      "text/latex": [
       "$\\displaystyle ^e\\Omega_{e}$"
      ],
      "text/plain": [
       "^e\\Omegaₑ"
      ]
     },
     "metadata": {},
     "output_type": "display_data"
    },
    {
     "data": {
      "image/png": "[encoded data removed]",
      "text/latex": [
       "$\\displaystyle \\left[\\begin{matrix}0\\\\0\\\\\\dot{\\theta_2} + \\dot{\\theta_3}\\end{matrix}\\right]$"
      ],
      "text/plain": [
       "⎡               0               ⎤\n",
       "⎢                               ⎥\n",
       "⎢               0               ⎥\n",
       "⎢                               ⎥\n",
       "⎣\\dot{\\theta_2} + \\dot{\\theta_3}⎦"
      ]
     },
     "metadata": {},
     "output_type": "display_data"
    },
    {
     "data": {
      "image/png": "[encoded data removed]",
      "text/latex": [
       "$\\displaystyle ^eV_{e}$"
      ],
      "text/plain": [
       "^eVₑ"
      ]
     },
     "metadata": {},
     "output_type": "display_data"
    },
    {
     "data": {
      "image/png": "[encoded data removed]",
      "text/latex": [
       "$\\displaystyle \\left[\\begin{matrix}L_{2} \\dot{\\theta_2} \\sin{\\left(\\theta_{3} \\right)}\\\\L_{2} \\dot{\\theta_2} \\cos{\\left(\\theta_{3} \\right)} + L_{3} \\left(\\dot{\\theta_2} + \\dot{\\theta_3}\\right)\\\\\\dot{d_1}\\end{matrix}\\right]$"
      ],
      "text/plain": [
       "⎡                   L₂⋅\\dot{\\theta_2}⋅sin(θ₃)                    ⎤\n",
       "⎢                                                                ⎥\n",
       "⎢L₂⋅\\dot{\\theta_2}⋅cos(θ₃) + L₃⋅(\\dot{\\theta_2} + \\dot{\\theta_3})⎥\n",
       "⎢                                                                ⎥\n",
       "⎣                           \\dot{d_1}                            ⎦"
      ]
     },
     "metadata": {},
     "output_type": "display_data"
    },
    {
     "data": {
      "image/png": "[encoded data removed]",
      "text/latex": [
       "$\\displaystyle \\left[\\begin{matrix}\\cos{\\left(\\theta_{2} + \\theta_{3} \\right)} & - \\sin{\\left(\\theta_{2} + \\theta_{3} \\right)} & 0 & 0 & 0 & 0\\\\\\sin{\\left(\\theta_{2} + \\theta_{3} \\right)} & \\cos{\\left(\\theta_{2} + \\theta_{3} \\right)} & 0 & 0 & 0 & 0\\\\0 & 0 & 1 & 0 & 0 & 0\\\\0 & 0 & 0 & \\cos{\\left(\\theta_{2} + \\theta_{3} \\right)} & - \\sin{\\left(\\theta_{2} + \\theta_{3} \\right)} & 0\\\\0 & 0 & 0 & \\sin{\\left(\\theta_{2} + \\theta_{3} \\right)} & \\cos{\\left(\\theta_{2} + \\theta_{3} \\right)} & 0\\\\0 & 0 & 0 & 0 & 0 & 1\\end{matrix}\\right]$"
      ],
      "text/plain": [
       "⎡cos(θ₂ + θ₃)  -sin(θ₂ + θ₃)  0       0              0        0⎤\n",
       "⎢                                                              ⎥\n",
       "⎢sin(θ₂ + θ₃)  cos(θ₂ + θ₃)   0       0              0        0⎥\n",
       "⎢                                                              ⎥\n",
       "⎢     0              0        1       0              0        0⎥\n",
       "⎢                                                              ⎥\n",
       "⎢     0              0        0  cos(θ₂ + θ₃)  -sin(θ₂ + θ₃)  0⎥\n",
       "⎢                                                              ⎥\n",
       "⎢     0              0        0  sin(θ₂ + θ₃)  cos(θ₂ + θ₃)   0⎥\n",
       "⎢                                                              ⎥\n",
       "⎣     0              0        0       0              0        1⎦"
      ]
     },
     "metadata": {},
     "output_type": "display_data"
    },
    {
     "data": {
      "image/png": "[encoded data removed]",
      "text/latex": [
       "$\\displaystyle ^eJ_{e}$"
      ],
      "text/plain": [
       "^eJₑ"
      ]
     },
     "metadata": {},
     "output_type": "display_data"
    },
    {
     "data": {
      "image/png": "[encoded data removed]",
      "text/latex": [
       "$\\displaystyle \\left[\\begin{matrix}0 & L_{2} \\sin{\\left(\\theta_{3} \\right)} & 0\\\\0 & L_{2} \\cos{\\left(\\theta_{3} \\right)} + L_{3} & L_{3}\\\\1 & 0 & 0\\\\0 & 0 & 0\\\\0 & 0 & 0\\\\0 & 1 & 1\\end{matrix}\\right]$"
      ],
      "text/plain": [
       "⎡0    L₂⋅sin(θ₃)     0 ⎤\n",
       "⎢                      ⎥\n",
       "⎢0  L₂⋅cos(θ₃) + L₃  L₃⎥\n",
       "⎢                      ⎥\n",
       "⎢1         0         0 ⎥\n",
       "⎢                      ⎥\n",
       "⎢0         0         0 ⎥\n",
       "⎢                      ⎥\n",
       "⎢0         0         0 ⎥\n",
       "⎢                      ⎥\n",
       "⎣0         1         1 ⎦"
      ]
     },
     "metadata": {},
     "output_type": "display_data"
    },
    {
     "data": {
      "image/png": "[encoded data removed]",
      "text/latex": [
       "$\\displaystyle ^0J_{}$"
      ],
      "text/plain": [
       "^0J"
      ]
     },
     "metadata": {},
     "output_type": "display_data"
    },
    {
     "data": {
      "image/png": "[encoded data removed]",
      "text/latex": [
       "$\\displaystyle \\left[\\begin{matrix}0 & - L_{2} \\sin{\\left(\\theta_{2} \\right)} - L_{3} \\sin{\\left(\\theta_{2} + \\theta_{3} \\right)} & - L_{3} \\sin{\\left(\\theta_{2} + \\theta_{3} \\right)}\\\\0 & L_{2} \\cos{\\left(\\theta_{2} \\right)} + L_{3} \\cos{\\left(\\theta_{2} + \\theta_{3} \\right)} & L_{3} \\cos{\\left(\\theta_{2} + \\theta_{3} \\right)}\\\\1 & 0 & 0\\\\0 & 0 & 0\\\\0 & 0 & 0\\\\0 & 1 & 1\\end{matrix}\\right]$"
      ],
      "text/plain": [
       "⎡0  -L₂⋅sin(θ₂) - L₃⋅sin(θ₂ + θ₃)  -L₃⋅sin(θ₂ + θ₃)⎤\n",
       "⎢                                                  ⎥\n",
       "⎢0  L₂⋅cos(θ₂) + L₃⋅cos(θ₂ + θ₃)   L₃⋅cos(θ₂ + θ₃) ⎥\n",
       "⎢                                                  ⎥\n",
       "⎢1                0                       0        ⎥\n",
       "⎢                                                  ⎥\n",
       "⎢0                0                       0        ⎥\n",
       "⎢                                                  ⎥\n",
       "⎢0                0                       0        ⎥\n",
       "⎢                                                  ⎥\n",
       "⎣0                1                       1        ⎦"
      ]
     },
     "metadata": {},
     "output_type": "display_data"
    }
   ],
   "source": [
    "# 4.6.3\n",
    "\n",
    "omega = Matrix([0, 0, 0])\n",
    "v = Matrix([0, 0, 0])\n",
    "\n",
    "d_1_dot = symbols('\\dot{d_1}')\n",
    "theta_2_dot = symbols('\\dot{\\\\theta_2}')\n",
    "theta_3_dot = symbols('\\dot{\\\\theta_3}')\n",
    "theta_e_dot = symbols('\\dot{\\\\theta_e}')\n",
    "\n",
    "omega_11, v_11 = prismatic_joint(frame = 1, d_dot = d_1_dot, transform_low_high = T01, omega = omega, v = v)\n",
    "omega_22, v_22 = revolute_joint(frame = 2, theta_dot = theta_2_dot, transform_low_high = T12, omega = omega_11, v = v_11)\n",
    "omega_33, v_33 = revolute_joint(frame = 3, theta_dot = theta_3_dot, transform_low_high = T23, omega = omega_22, v = v_22)\n",
    "\n",
    "# For the end effector\n",
    "omega_ee, v_ee = revolute_joint(frame = 'e', theta_dot = theta_e_dot, transform_low_high = T3E, omega = omega_33, v = v_33)\n",
    "\n",
    "# This will work as well\n",
    "# omega_ee, v_ee = prismatic_joint(frame = 'e', transform_low_high = T3E, omega = omega_33, v = v_33)\n",
    "\n",
    "Jee, J0 = Jacobian(parameters = [d_1_dot, theta_2_dot, theta_3_dot], \n",
    "                   v_ee = v_ee, omega_ee = omega_ee, \n",
    "                   transform_low_high = T0E, \n",
    "                   Display_all_details = True)"
   ]
  },
  {
   "cell_type": "markdown",
   "id": "e1d779c8",
   "metadata": {},
   "source": [
    "### 2.6.4"
   ]
  },
  {
   "cell_type": "code",
   "execution_count": 206,
   "id": "f45694b8",
   "metadata": {},
   "outputs": [
    {
     "data": {
      "image/png": "[encoded data removed]",
      "text/latex": [
       "$\\displaystyle ^0T_{1}$"
      ],
      "text/plain": [
       "^0T₁"
      ]
     },
     "metadata": {},
     "output_type": "display_data"
    },
    {
     "data": {
      "image/png": "[encoded data removed]",
      "text/latex": [
       "$\\displaystyle \\left[\\begin{matrix}\\cos{\\left(\\theta_{1} \\right)} & - \\sin{\\left(\\theta_{1} \\right)} & 0 & 0\\\\\\sin{\\left(\\theta_{1} \\right)} & \\cos{\\left(\\theta_{1} \\right)} & 0 & 0\\\\0 & 0 & 1 & 0\\\\0 & 0 & 0 & 1\\end{matrix}\\right]$"
      ],
      "text/plain": [
       "⎡cos(θ₁)  -sin(θ₁)  0  0⎤\n",
       "⎢                       ⎥\n",
       "⎢sin(θ₁)  cos(θ₁)   0  0⎥\n",
       "⎢                       ⎥\n",
       "⎢   0        0      1  0⎥\n",
       "⎢                       ⎥\n",
       "⎣   0        0      0  1⎦"
      ]
     },
     "metadata": {},
     "output_type": "display_data"
    },
    {
     "data": {
      "image/png": "[encoded data removed]",
      "text/latex": [
       "$\\displaystyle ^1T_{2}$"
      ],
      "text/plain": [
       "^1T₂"
      ]
     },
     "metadata": {},
     "output_type": "display_data"
    },
    {
     "data": {
      "image/png": "[encoded data removed]",
      "text/latex": [
       "$\\displaystyle \\left[\\begin{matrix}1 & 0 & 0 & L_{2}\\\\0 & 1 & 0 & 0\\\\0 & 0 & 1 & L_{1} + d_{2}\\\\0 & 0 & 0 & 1\\end{matrix}\\right]$"
      ],
      "text/plain": [
       "⎡1  0  0    L₂   ⎤\n",
       "⎢                ⎥\n",
       "⎢0  1  0     0   ⎥\n",
       "⎢                ⎥\n",
       "⎢0  0  1  L₁ + d₂⎥\n",
       "⎢                ⎥\n",
       "⎣0  0  0     1   ⎦"
      ]
     },
     "metadata": {},
     "output_type": "display_data"
    },
    {
     "data": {
      "image/png": "[encoded data removed]",
      "text/latex": [
       "$\\displaystyle ^2T_{3}$"
      ],
      "text/plain": [
       "^2T₃"
      ]
     },
     "metadata": {},
     "output_type": "display_data"
    },
    {
     "data": {
      "image/png": "[encoded data removed]",
      "text/latex": [
       "$\\displaystyle \\left[\\begin{matrix}1 & 0 & 0 & 0\\\\0 & 0 & -1 & - L_{3} - d_{3}\\\\0 & 1 & 0 & 0\\\\0 & 0 & 0 & 1\\end{matrix}\\right]$"
      ],
      "text/plain": [
       "⎡1  0  0      0    ⎤\n",
       "⎢                  ⎥\n",
       "⎢0  0  -1  -L₃ - d₃⎥\n",
       "⎢                  ⎥\n",
       "⎢0  1  0      0    ⎥\n",
       "⎢                  ⎥\n",
       "⎣0  0  0      1    ⎦"
      ]
     },
     "metadata": {},
     "output_type": "display_data"
    },
    {
     "data": {
      "image/png": "[encoded data removed]",
      "text/latex": [
       "$\\displaystyle ^0T_{3}$"
      ],
      "text/plain": [
       "^0T₃"
      ]
     },
     "metadata": {},
     "output_type": "display_data"
    },
    {
     "data": {
      "image/png": "[encoded data removed]",
      "text/latex": [
       "$\\displaystyle \\left[\\begin{matrix}\\cos{\\left(\\theta_{1} \\right)} & 0 & \\sin{\\left(\\theta_{1} \\right)} & L_{2} \\cos{\\left(\\theta_{1} \\right)} + \\left(L_{3} + d_{3}\\right) \\sin{\\left(\\theta_{1} \\right)}\\\\\\sin{\\left(\\theta_{1} \\right)} & 0 & - \\cos{\\left(\\theta_{1} \\right)} & L_{2} \\sin{\\left(\\theta_{1} \\right)} - \\left(L_{3} + d_{3}\\right) \\cos{\\left(\\theta_{1} \\right)}\\\\0 & 1 & 0 & L_{1} + d_{2}\\\\0 & 0 & 0 & 1\\end{matrix}\\right]$"
      ],
      "text/plain": [
       "⎡cos(θ₁)  0  sin(θ₁)   L₂⋅cos(θ₁) + (L₃ + d₃)⋅sin(θ₁)⎤\n",
       "⎢                                                    ⎥\n",
       "⎢sin(θ₁)  0  -cos(θ₁)  L₂⋅sin(θ₁) - (L₃ + d₃)⋅cos(θ₁)⎥\n",
       "⎢                                                    ⎥\n",
       "⎢   0     1     0                 L₁ + d₂            ⎥\n",
       "⎢                                                    ⎥\n",
       "⎣   0     0     0                    1               ⎦"
      ]
     },
     "metadata": {},
     "output_type": "display_data"
    },
    {
     "data": {
      "text/plain": [
       "'The position of the end effector'"
      ]
     },
     "metadata": {},
     "output_type": "display_data"
    },
    {
     "data": {
      "image/png": "[encoded data removed]",
      "text/latex": [
       "$\\displaystyle \\left[\\begin{matrix}L_{2} \\cos{\\left(\\theta_{1} \\right)} + \\left(L_{3} + d_{3}\\right) \\sin{\\left(\\theta_{1} \\right)}\\\\L_{2} \\sin{\\left(\\theta_{1} \\right)} - \\left(L_{3} + d_{3}\\right) \\cos{\\left(\\theta_{1} \\right)}\\\\L_{1} + d_{2}\\end{matrix}\\right]$"
      ],
      "text/plain": [
       "⎡L₂⋅cos(θ₁) + (L₃ + d₃)⋅sin(θ₁)⎤\n",
       "⎢                              ⎥\n",
       "⎢L₂⋅sin(θ₁) - (L₃ + d₃)⋅cos(θ₁)⎥\n",
       "⎢                              ⎥\n",
       "⎣           L₁ + d₂            ⎦"
      ]
     },
     "metadata": {},
     "output_type": "display_data"
    }
   ],
   "source": [
    "# Tut 2.6.4\n",
    "\n",
    "DH1 = [0, 0, 0, symbols('theta1')]\n",
    "T01 = Tlink(DH1)\n",
    "symprint('T',0, 1)\n",
    "display(T01)\n",
    "\n",
    "DH2 = [symbols('L2'), 0, symbols('L1') + symbols('d2'), 0]\n",
    "T12 = Tlink(DH2)\n",
    "symprint('T',1, 2)\n",
    "display(T12)\n",
    "\n",
    "DH3 = [0, pi/2, symbols('L3') + symbols('d3'), 0]\n",
    "T23 = Tlink(DH3)\n",
    "symprint('T',2, 3)\n",
    "display(T23)\n",
    "\n",
    "T03 = simplify(T01*T12*T23)\n",
    "symprint('T',0, '3')\n",
    "display(T03)\n",
    "\n",
    "display('The position of the end effector')\n",
    "display(Position_finder(simplify(T01*T12*T23)))\n"
   ]
  },
  {
   "cell_type": "code",
   "execution_count": 207,
   "id": "73d4673e",
   "metadata": {},
   "outputs": [
    {
     "data": {
      "image/png": "[encoded data removed]",
      "text/latex": [
       "$\\displaystyle ^0T_{1}$"
      ],
      "text/plain": [
       "^0T₁"
      ]
     },
     "metadata": {},
     "output_type": "display_data"
    },
    {
     "data": {
      "image/png": "[encoded data removed]",
      "text/latex": [
       "$\\displaystyle \\left[\\begin{matrix}\\cos{\\left(\\theta_{1} \\right)} & - \\sin{\\left(\\theta_{1} \\right)} & 0 & 0\\\\\\sin{\\left(\\theta_{1} \\right)} & \\cos{\\left(\\theta_{1} \\right)} & 0 & 0\\\\0 & 0 & 1 & 0\\\\0 & 0 & 0 & 1\\end{matrix}\\right]$"
      ],
      "text/plain": [
       "⎡cos(θ₁)  -sin(θ₁)  0  0⎤\n",
       "⎢                       ⎥\n",
       "⎢sin(θ₁)  cos(θ₁)   0  0⎥\n",
       "⎢                       ⎥\n",
       "⎢   0        0      1  0⎥\n",
       "⎢                       ⎥\n",
       "⎣   0        0      0  1⎦"
      ]
     },
     "metadata": {},
     "output_type": "display_data"
    },
    {
     "data": {
      "image/png": "[encoded data removed]",
      "text/latex": [
       "$\\displaystyle ^1T_{2}$"
      ],
      "text/plain": [
       "^1T₂"
      ]
     },
     "metadata": {},
     "output_type": "display_data"
    },
    {
     "data": {
      "image/png": "[encoded data removed]",
      "text/latex": [
       "$\\displaystyle \\left[\\begin{matrix}1 & 0 & 0 & 0\\\\0 & 1 & 0 & 0\\\\0 & 0 & 1 & L_{1} + d_{2}\\\\0 & 0 & 0 & 1\\end{matrix}\\right]$"
      ],
      "text/plain": [
       "⎡1  0  0     0   ⎤\n",
       "⎢                ⎥\n",
       "⎢0  1  0     0   ⎥\n",
       "⎢                ⎥\n",
       "⎢0  0  1  L₁ + d₂⎥\n",
       "⎢                ⎥\n",
       "⎣0  0  0     1   ⎦"
      ]
     },
     "metadata": {},
     "output_type": "display_data"
    },
    {
     "data": {
      "image/png": "[encoded data removed]",
      "text/latex": [
       "$\\displaystyle ^2T_{3}$"
      ],
      "text/plain": [
       "^2T₃"
      ]
     },
     "metadata": {},
     "output_type": "display_data"
    },
    {
     "data": {
      "image/png": "[encoded data removed]",
      "text/latex": [
       "$\\displaystyle \\left[\\begin{matrix}1 & 0 & 0 & L_{2}\\\\0 & 0 & -1 & - L_{3} - d_{3}\\\\0 & 1 & 0 & 0\\\\0 & 0 & 0 & 1\\end{matrix}\\right]$"
      ],
      "text/plain": [
       "⎡1  0  0      L₂   ⎤\n",
       "⎢                  ⎥\n",
       "⎢0  0  -1  -L₃ - d₃⎥\n",
       "⎢                  ⎥\n",
       "⎢0  1  0      0    ⎥\n",
       "⎢                  ⎥\n",
       "⎣0  0  0      1    ⎦"
      ]
     },
     "metadata": {},
     "output_type": "display_data"
    },
    {
     "data": {
      "image/png": "[encoded data removed]",
      "text/latex": [
       "$\\displaystyle ^0T_{3}$"
      ],
      "text/plain": [
       "^0T₃"
      ]
     },
     "metadata": {},
     "output_type": "display_data"
    },
    {
     "data": {
      "image/png": "[encoded data removed]",
      "text/latex": [
       "$\\displaystyle \\left[\\begin{matrix}\\cos{\\left(\\theta_{1} \\right)} & 0 & \\sin{\\left(\\theta_{1} \\right)} & L_{2} \\cos{\\left(\\theta_{1} \\right)} + \\left(L_{3} + d_{3}\\right) \\sin{\\left(\\theta_{1} \\right)}\\\\\\sin{\\left(\\theta_{1} \\right)} & 0 & - \\cos{\\left(\\theta_{1} \\right)} & L_{2} \\sin{\\left(\\theta_{1} \\right)} - \\left(L_{3} + d_{3}\\right) \\cos{\\left(\\theta_{1} \\right)}\\\\0 & 1 & 0 & L_{1} + d_{2}\\\\0 & 0 & 0 & 1\\end{matrix}\\right]$"
      ],
      "text/plain": [
       "⎡cos(θ₁)  0  sin(θ₁)   L₂⋅cos(θ₁) + (L₃ + d₃)⋅sin(θ₁)⎤\n",
       "⎢                                                    ⎥\n",
       "⎢sin(θ₁)  0  -cos(θ₁)  L₂⋅sin(θ₁) - (L₃ + d₃)⋅cos(θ₁)⎥\n",
       "⎢                                                    ⎥\n",
       "⎢   0     1     0                 L₁ + d₂            ⎥\n",
       "⎢                                                    ⎥\n",
       "⎣   0     0     0                    1               ⎦"
      ]
     },
     "metadata": {},
     "output_type": "display_data"
    },
    {
     "data": {
      "text/plain": [
       "'The position of the end effector'"
      ]
     },
     "metadata": {},
     "output_type": "display_data"
    },
    {
     "data": {
      "image/png": "[encoded data removed]",
      "text/latex": [
       "$\\displaystyle \\left[\\begin{matrix}L_{2} \\cos{\\left(\\theta_{1} \\right)} + \\left(L_{3} + d_{3}\\right) \\sin{\\left(\\theta_{1} \\right)}\\\\L_{2} \\sin{\\left(\\theta_{1} \\right)} - \\left(L_{3} + d_{3}\\right) \\cos{\\left(\\theta_{1} \\right)}\\\\L_{1} + d_{2}\\end{matrix}\\right]$"
      ],
      "text/plain": [
       "⎡L₂⋅cos(θ₁) + (L₃ + d₃)⋅sin(θ₁)⎤\n",
       "⎢                              ⎥\n",
       "⎢L₂⋅sin(θ₁) - (L₃ + d₃)⋅cos(θ₁)⎥\n",
       "⎢                              ⎥\n",
       "⎣           L₁ + d₂            ⎦"
      ]
     },
     "metadata": {},
     "output_type": "display_data"
    }
   ],
   "source": [
    "# Tut 2.6.4 sample answer\n",
    "\n",
    "DH1 = [0, 0, 0, symbols('theta1')]\n",
    "T01 = Tlink(DH1)\n",
    "symprint('T',0, 1)\n",
    "display(T01)\n",
    "\n",
    "DH2 = [0, 0, symbols('L1') + symbols('d2'), 0]\n",
    "T12 = Tlink(DH2)\n",
    "symprint('T',1, 2)\n",
    "display(T12)\n",
    "\n",
    "DH3 = [symbols('L2'), pi/2, symbols('L3') + symbols('d3'), 0]\n",
    "T23 = Tlink(DH3)\n",
    "symprint('T',2, 3)\n",
    "display(T23)\n",
    "\n",
    "symprint('T',0, '3')\n",
    "T03 = simplify(T01*T12*T23)\n",
    "display(T03)\n",
    "\n",
    "display('The position of the end effector')\n",
    "display(Position_finder(simplify(T01*T12*T23)))"
   ]
  },
  {
   "cell_type": "code",
   "execution_count": 208,
   "id": "913f715f",
   "metadata": {},
   "outputs": [
    {
     "data": {
      "image/png": "[encoded data removed]",
      "text/latex": [
       "$\\displaystyle ^1\\Omega_{1}$"
      ],
      "text/plain": [
       "^1\\Omega₁"
      ]
     },
     "metadata": {},
     "output_type": "display_data"
    },
    {
     "data": {
      "image/png": "[encoded data removed]",
      "text/latex": [
       "$\\displaystyle \\left[\\begin{matrix}0\\\\0\\\\\\dot{\\theta_1}\\end{matrix}\\right]$"
      ],
      "text/plain": [
       "⎡      0       ⎤\n",
       "⎢              ⎥\n",
       "⎢      0       ⎥\n",
       "⎢              ⎥\n",
       "⎣\\dot{\\theta_1}⎦"
      ]
     },
     "metadata": {},
     "output_type": "display_data"
    },
    {
     "data": {
      "image/png": "[encoded data removed]",
      "text/latex": [
       "$\\displaystyle ^1V_{1}$"
      ],
      "text/plain": [
       "^1V₁"
      ]
     },
     "metadata": {},
     "output_type": "display_data"
    },
    {
     "data": {
      "image/png": "[encoded data removed]",
      "text/latex": [
       "$\\displaystyle \\left[\\begin{matrix}0\\\\0\\\\0\\end{matrix}\\right]$"
      ],
      "text/plain": [
       "⎡0⎤\n",
       "⎢ ⎥\n",
       "⎢0⎥\n",
       "⎢ ⎥\n",
       "⎣0⎦"
      ]
     },
     "metadata": {},
     "output_type": "display_data"
    },
    {
     "data": {
      "image/png": "[encoded data removed]",
      "text/latex": [
       "$\\displaystyle ^2\\Omega_{2}$"
      ],
      "text/plain": [
       "^2\\Omega₂"
      ]
     },
     "metadata": {},
     "output_type": "display_data"
    },
    {
     "data": {
      "image/png": "[encoded data removed]",
      "text/latex": [
       "$\\displaystyle \\left[\\begin{matrix}0\\\\0\\\\\\dot{\\theta_1}\\end{matrix}\\right]$"
      ],
      "text/plain": [
       "⎡      0       ⎤\n",
       "⎢              ⎥\n",
       "⎢      0       ⎥\n",
       "⎢              ⎥\n",
       "⎣\\dot{\\theta_1}⎦"
      ]
     },
     "metadata": {},
     "output_type": "display_data"
    },
    {
     "data": {
      "image/png": "[encoded data removed]",
      "text/latex": [
       "$\\displaystyle ^2V_{2}$"
      ],
      "text/plain": [
       "^2V₂"
      ]
     },
     "metadata": {},
     "output_type": "display_data"
    },
    {
     "data": {
      "image/png": "[encoded data removed]",
      "text/latex": [
       "$\\displaystyle \\left[\\begin{matrix}0\\\\0\\\\\\dot{d_2}\\end{matrix}\\right]$"
      ],
      "text/plain": [
       "⎡    0    ⎤\n",
       "⎢         ⎥\n",
       "⎢    0    ⎥\n",
       "⎢         ⎥\n",
       "⎣\\dot{d_2}⎦"
      ]
     },
     "metadata": {},
     "output_type": "display_data"
    },
    {
     "data": {
      "image/png": "[encoded data removed]",
      "text/latex": [
       "$\\displaystyle ^3\\Omega_{3}$"
      ],
      "text/plain": [
       "^3\\Omega₃"
      ]
     },
     "metadata": {},
     "output_type": "display_data"
    },
    {
     "data": {
      "image/png": "[encoded data removed]",
      "text/latex": [
       "$\\displaystyle \\left[\\begin{matrix}0\\\\\\dot{\\theta_1}\\\\0\\end{matrix}\\right]$"
      ],
      "text/plain": [
       "⎡      0       ⎤\n",
       "⎢              ⎥\n",
       "⎢\\dot{\\theta_1}⎥\n",
       "⎢              ⎥\n",
       "⎣      0       ⎦"
      ]
     },
     "metadata": {},
     "output_type": "display_data"
    },
    {
     "data": {
      "image/png": "[encoded data removed]",
      "text/latex": [
       "$\\displaystyle ^3V_{3}$"
      ],
      "text/plain": [
       "^3V₃"
      ]
     },
     "metadata": {},
     "output_type": "display_data"
    },
    {
     "data": {
      "image/png": "[encoded data removed]",
      "text/latex": [
       "$\\displaystyle \\left[\\begin{matrix}\\dot{\\theta_1} \\left(L_{3} + d_{3}\\right)\\\\\\dot{d_2}\\\\- L_{2} \\dot{\\theta_1} + \\dot{d_3}\\end{matrix}\\right]$"
      ],
      "text/plain": [
       "⎡   \\dot{\\theta_1}⋅(L₃ + d₃)   ⎤\n",
       "⎢                              ⎥\n",
       "⎢          \\dot{d_2}           ⎥\n",
       "⎢                              ⎥\n",
       "⎣-L₂⋅\\dot{\\theta_1} + \\dot{d_3}⎦"
      ]
     },
     "metadata": {},
     "output_type": "display_data"
    },
    {
     "data": {
      "image/png": "[encoded data removed]",
      "text/latex": [
       "$\\displaystyle \\left[\\begin{matrix}\\cos{\\left(\\theta_{1} \\right)} & 0 & \\sin{\\left(\\theta_{1} \\right)} & 0 & 0 & 0\\\\\\sin{\\left(\\theta_{1} \\right)} & 0 & - \\cos{\\left(\\theta_{1} \\right)} & 0 & 0 & 0\\\\0 & 1 & 0 & 0 & 0 & 0\\\\0 & 0 & 0 & \\cos{\\left(\\theta_{1} \\right)} & 0 & \\sin{\\left(\\theta_{1} \\right)}\\\\0 & 0 & 0 & \\sin{\\left(\\theta_{1} \\right)} & 0 & - \\cos{\\left(\\theta_{1} \\right)}\\\\0 & 0 & 0 & 0 & 1 & 0\\end{matrix}\\right]$"
      ],
      "text/plain": [
       "⎡cos(θ₁)  0  sin(θ₁)      0     0     0    ⎤\n",
       "⎢                                          ⎥\n",
       "⎢sin(θ₁)  0  -cos(θ₁)     0     0     0    ⎥\n",
       "⎢                                          ⎥\n",
       "⎢   0     1     0         0     0     0    ⎥\n",
       "⎢                                          ⎥\n",
       "⎢   0     0     0      cos(θ₁)  0  sin(θ₁) ⎥\n",
       "⎢                                          ⎥\n",
       "⎢   0     0     0      sin(θ₁)  0  -cos(θ₁)⎥\n",
       "⎢                                          ⎥\n",
       "⎣   0     0     0         0     1     0    ⎦"
      ]
     },
     "metadata": {},
     "output_type": "display_data"
    },
    {
     "data": {
      "image/png": "[encoded data removed]",
      "text/latex": [
       "$\\displaystyle ^eJ_{e}$"
      ],
      "text/plain": [
       "^eJₑ"
      ]
     },
     "metadata": {},
     "output_type": "display_data"
    },
    {
     "data": {
      "image/png": "[encoded data removed]",
      "text/latex": [
       "$\\displaystyle \\left[\\begin{matrix}L_{3} + d_{3} & 0 & 0\\\\0 & 1 & 0\\\\- L_{2} & 0 & 1\\\\0 & 0 & 0\\\\1 & 0 & 0\\\\0 & 0 & 0\\end{matrix}\\right]$"
      ],
      "text/plain": [
       "⎡L₃ + d₃  0  0⎤\n",
       "⎢             ⎥\n",
       "⎢   0     1  0⎥\n",
       "⎢             ⎥\n",
       "⎢  -L₂    0  1⎥\n",
       "⎢             ⎥\n",
       "⎢   0     0  0⎥\n",
       "⎢             ⎥\n",
       "⎢   1     0  0⎥\n",
       "⎢             ⎥\n",
       "⎣   0     0  0⎦"
      ]
     },
     "metadata": {},
     "output_type": "display_data"
    },
    {
     "data": {
      "image/png": "[encoded data removed]",
      "text/latex": [
       "$\\displaystyle ^0J_{}$"
      ],
      "text/plain": [
       "^0J"
      ]
     },
     "metadata": {},
     "output_type": "display_data"
    },
    {
     "data": {
      "image/png": "[encoded data removed]",
      "text/latex": [
       "$\\displaystyle \\left[\\begin{matrix}- L_{2} \\sin{\\left(\\theta_{1} \\right)} + \\left(L_{3} + d_{3}\\right) \\cos{\\left(\\theta_{1} \\right)} & 0 & \\sin{\\left(\\theta_{1} \\right)}\\\\L_{2} \\cos{\\left(\\theta_{1} \\right)} + \\left(L_{3} + d_{3}\\right) \\sin{\\left(\\theta_{1} \\right)} & 0 & - \\cos{\\left(\\theta_{1} \\right)}\\\\0 & 1 & 0\\\\0 & 0 & 0\\\\0 & 0 & 0\\\\1 & 0 & 0\\end{matrix}\\right]$"
      ],
      "text/plain": [
       "⎡-L₂⋅sin(θ₁) + (L₃ + d₃)⋅cos(θ₁)  0  sin(θ₁) ⎤\n",
       "⎢                                            ⎥\n",
       "⎢L₂⋅cos(θ₁) + (L₃ + d₃)⋅sin(θ₁)   0  -cos(θ₁)⎥\n",
       "⎢                                            ⎥\n",
       "⎢               0                 1     0    ⎥\n",
       "⎢                                            ⎥\n",
       "⎢               0                 0     0    ⎥\n",
       "⎢                                            ⎥\n",
       "⎢               0                 0     0    ⎥\n",
       "⎢                                            ⎥\n",
       "⎣               1                 0     0    ⎦"
      ]
     },
     "metadata": {},
     "output_type": "display_data"
    }
   ],
   "source": [
    "# 4.6.4 (follow the sample solution in the previous questions)\n",
    "\n",
    "omega = Matrix([0, 0, 0])\n",
    "v = Matrix([0, 0, 0])\n",
    "\n",
    "\n",
    "theta_1_dot = symbols('\\dot{\\\\theta_1}')\n",
    "d_2_dot = symbols('\\dot{d_2}')\n",
    "d_3_dot = symbols('\\dot{d_3}')\n",
    "\n",
    "omega_11, v_11 = revolute_joint(frame = 1, theta_dot = theta_1_dot, transform_low_high = T01, omega = omega, v = v)\n",
    "omega_22, v_22 = prismatic_joint(frame = 2, d_dot = d_2_dot, transform_low_high = T12, omega = omega_11, v = v_11)\n",
    "omega_33, v_33 = prismatic_joint(frame = 3, d_dot = d_3_dot, transform_low_high = T23, omega = omega_22, v = v_22)\n",
    "\n",
    "Jee, J0 = Jacobian(parameters = [theta_1_dot, d_2_dot, d_3_dot], \n",
    "                   v_ee = v_33, omega_ee = omega_33, \n",
    "                   transform_low_high = T03, \n",
    "                   Display_all_details = True)\n"
   ]
  },
  {
   "cell_type": "markdown",
   "id": "a8f2265f",
   "metadata": {},
   "source": [
    "### Tut 2.6.5"
   ]
  },
  {
   "cell_type": "code",
   "execution_count": 209,
   "id": "28442c8f",
   "metadata": {},
   "outputs": [
    {
     "data": {
      "image/png": "[encoded data removed]",
      "text/latex": [
       "$\\displaystyle ^0T_{1}$"
      ],
      "text/plain": [
       "^0T₁"
      ]
     },
     "metadata": {},
     "output_type": "display_data"
    },
    {
     "data": {
      "image/png": "[encoded data removed]",
      "text/latex": [
       "$\\displaystyle \\left[\\begin{matrix}0 & 1 & 0 & 0\\\\-1 & 0 & 0 & 0\\\\0 & 0 & 1 & d_{1}\\\\0 & 0 & 0 & 1\\end{matrix}\\right]$"
      ],
      "text/plain": [
       "⎡0   1  0  0 ⎤\n",
       "⎢            ⎥\n",
       "⎢-1  0  0  0 ⎥\n",
       "⎢            ⎥\n",
       "⎢0   0  1  d₁⎥\n",
       "⎢            ⎥\n",
       "⎣0   0  0  1 ⎦"
      ]
     },
     "metadata": {},
     "output_type": "display_data"
    },
    {
     "data": {
      "image/png": "[encoded data removed]",
      "text/latex": [
       "$\\displaystyle ^1T_{2}$"
      ],
      "text/plain": [
       "^1T₂"
      ]
     },
     "metadata": {},
     "output_type": "display_data"
    },
    {
     "data": {
      "image/png": "[encoded data removed]",
      "text/latex": [
       "$\\displaystyle \\left[\\begin{matrix}0 & -1 & 0 & 0\\\\0 & 0 & 1 & d_{2}\\\\-1 & 0 & 0 & 0\\\\0 & 0 & 0 & 1\\end{matrix}\\right]$"
      ],
      "text/plain": [
       "⎡0   -1  0  0 ⎤\n",
       "⎢             ⎥\n",
       "⎢0   0   1  d₂⎥\n",
       "⎢             ⎥\n",
       "⎢-1  0   0  0 ⎥\n",
       "⎢             ⎥\n",
       "⎣0   0   0  1 ⎦"
      ]
     },
     "metadata": {},
     "output_type": "display_data"
    },
    {
     "data": {
      "image/png": "[encoded data removed]",
      "text/latex": [
       "$\\displaystyle ^2T_{3}$"
      ],
      "text/plain": [
       "^2T₃"
      ]
     },
     "metadata": {},
     "output_type": "display_data"
    },
    {
     "data": {
      "image/png": "[encoded data removed]",
      "text/latex": [
       "$\\displaystyle \\left[\\begin{matrix}0 & -1 & 0 & 0\\\\0 & 0 & -1 & - d_{3}\\\\1 & 0 & 0 & 0\\\\0 & 0 & 0 & 1\\end{matrix}\\right]$"
      ],
      "text/plain": [
       "⎡0  -1  0    0 ⎤\n",
       "⎢              ⎥\n",
       "⎢0  0   -1  -d₃⎥\n",
       "⎢              ⎥\n",
       "⎢1  0   0    0 ⎥\n",
       "⎢              ⎥\n",
       "⎣0  0   0    1 ⎦"
      ]
     },
     "metadata": {},
     "output_type": "display_data"
    },
    {
     "data": {
      "image/png": "[encoded data removed]",
      "text/latex": [
       "$\\displaystyle ^3T_{E}$"
      ],
      "text/plain": [
       "^3T_E"
      ]
     },
     "metadata": {},
     "output_type": "display_data"
    },
    {
     "data": {
      "image/png": "[encoded data removed]",
      "text/latex": [
       "$\\displaystyle \\left[\\begin{matrix}1 & 0 & 0 & Le\\\\0 & 1 & 0 & 0\\\\0 & 0 & 1 & 0\\\\0 & 0 & 0 & 1\\end{matrix}\\right]$"
      ],
      "text/plain": [
       "⎡1  0  0  Le⎤\n",
       "⎢           ⎥\n",
       "⎢0  1  0  0 ⎥\n",
       "⎢           ⎥\n",
       "⎢0  0  1  0 ⎥\n",
       "⎢           ⎥\n",
       "⎣0  0  0  1 ⎦"
      ]
     },
     "metadata": {},
     "output_type": "display_data"
    },
    {
     "data": {
      "image/png": "[encoded data removed]",
      "text/latex": [
       "$\\displaystyle ^0T_{E}$"
      ],
      "text/plain": [
       "^0T_E"
      ]
     },
     "metadata": {},
     "output_type": "display_data"
    },
    {
     "data": {
      "image/png": "[encoded data removed]",
      "text/latex": [
       "$\\displaystyle \\left[\\begin{matrix}1 & 0 & 0 & Le + d_{2}\\\\0 & 0 & -1 & - d_{3}\\\\0 & 1 & 0 & d_{1}\\\\0 & 0 & 0 & 1\\end{matrix}\\right]$"
      ],
      "text/plain": [
       "⎡1  0  0   Le + d₂⎤\n",
       "⎢                 ⎥\n",
       "⎢0  0  -1    -d₃  ⎥\n",
       "⎢                 ⎥\n",
       "⎢0  1  0     d₁   ⎥\n",
       "⎢                 ⎥\n",
       "⎣0  0  0      1   ⎦"
      ]
     },
     "metadata": {},
     "output_type": "display_data"
    },
    {
     "data": {
      "text/plain": [
       "'The position of the end effector'"
      ]
     },
     "metadata": {},
     "output_type": "display_data"
    },
    {
     "data": {
      "image/png": "[encoded data removed]",
      "text/latex": [
       "$\\displaystyle \\left[\\begin{matrix}Le + d_{2}\\\\- d_{3}\\\\d_{1}\\end{matrix}\\right]$"
      ],
      "text/plain": [
       "⎡Le + d₂⎤\n",
       "⎢       ⎥\n",
       "⎢  -d₃  ⎥\n",
       "⎢       ⎥\n",
       "⎣  d₁   ⎦"
      ]
     },
     "metadata": {},
     "output_type": "display_data"
    }
   ],
   "source": [
    "# Tut 2.6.5 sample solution\n",
    "\n",
    "DH1 = [0, 0, symbols('d1'), -pi/2]\n",
    "T01 = Tlink(DH1)\n",
    "symprint('T',0, 1)\n",
    "display(T01)\n",
    "\n",
    "DH2 = [0, -pi/2, symbols('d2'), pi/2]\n",
    "T12 = Tlink(DH2)\n",
    "symprint('T',1, 2)\n",
    "display(T12)\n",
    "\n",
    "DH3 = [0, pi/2, symbols('d3'), pi/2]\n",
    "T23 = Tlink(DH3)\n",
    "symprint('T',2, 3)\n",
    "display(T23)\n",
    "\n",
    "DHE = [symbols('Le'), 0, 0, 0]\n",
    "T3E = Tlink(DHE)\n",
    "symprint('T',3, 'E')\n",
    "display(T3E)\n",
    "\n",
    "T0E = T01*T12*T23*T3E\n",
    "symprint('T',0, 'E')\n",
    "display(simplify(T0E))\n",
    "\n",
    "display('The position of the end effector')\n",
    "display(Position_finder(simplify(T01*T12*T23*T3E)))"
   ]
  },
  {
   "cell_type": "code",
   "execution_count": 210,
   "id": "422c6674",
   "metadata": {},
   "outputs": [
    {
     "data": {
      "image/png": "[encoded data removed]",
      "text/latex": [
       "$\\displaystyle ^1\\Omega_{1}$"
      ],
      "text/plain": [
       "^1\\Omega₁"
      ]
     },
     "metadata": {},
     "output_type": "display_data"
    },
    {
     "data": {
      "image/png": "[encoded data removed]",
      "text/latex": [
       "$\\displaystyle \\left[\\begin{matrix}0\\\\0\\\\0\\end{matrix}\\right]$"
      ],
      "text/plain": [
       "⎡0⎤\n",
       "⎢ ⎥\n",
       "⎢0⎥\n",
       "⎢ ⎥\n",
       "⎣0⎦"
      ]
     },
     "metadata": {},
     "output_type": "display_data"
    },
    {
     "data": {
      "image/png": "[encoded data removed]",
      "text/latex": [
       "$\\displaystyle ^1V_{1}$"
      ],
      "text/plain": [
       "^1V₁"
      ]
     },
     "metadata": {},
     "output_type": "display_data"
    },
    {
     "data": {
      "image/png": "[encoded data removed]",
      "text/latex": [
       "$\\displaystyle \\left[\\begin{matrix}0\\\\0\\\\\\dot{d_1}\\end{matrix}\\right]$"
      ],
      "text/plain": [
       "⎡    0    ⎤\n",
       "⎢         ⎥\n",
       "⎢    0    ⎥\n",
       "⎢         ⎥\n",
       "⎣\\dot{d_1}⎦"
      ]
     },
     "metadata": {},
     "output_type": "display_data"
    },
    {
     "data": {
      "image/png": "[encoded data removed]",
      "text/latex": [
       "$\\displaystyle ^2\\Omega_{2}$"
      ],
      "text/plain": [
       "^2\\Omega₂"
      ]
     },
     "metadata": {},
     "output_type": "display_data"
    },
    {
     "data": {
      "image/png": "[encoded data removed]",
      "text/latex": [
       "$\\displaystyle \\left[\\begin{matrix}0\\\\0\\\\0\\end{matrix}\\right]$"
      ],
      "text/plain": [
       "⎡0⎤\n",
       "⎢ ⎥\n",
       "⎢0⎥\n",
       "⎢ ⎥\n",
       "⎣0⎦"
      ]
     },
     "metadata": {},
     "output_type": "display_data"
    },
    {
     "data": {
      "image/png": "[encoded data removed]",
      "text/latex": [
       "$\\displaystyle ^2V_{2}$"
      ],
      "text/plain": [
       "^2V₂"
      ]
     },
     "metadata": {},
     "output_type": "display_data"
    },
    {
     "data": {
      "image/png": "[encoded data removed]",
      "text/latex": [
       "$\\displaystyle \\left[\\begin{matrix}- \\dot{d_1}\\\\0\\\\\\dot{d_2}\\end{matrix}\\right]$"
      ],
      "text/plain": [
       "⎡-\\dot{d_1}⎤\n",
       "⎢          ⎥\n",
       "⎢    0     ⎥\n",
       "⎢          ⎥\n",
       "⎣\\dot{d_2} ⎦"
      ]
     },
     "metadata": {},
     "output_type": "display_data"
    },
    {
     "data": {
      "image/png": "[encoded data removed]",
      "text/latex": [
       "$\\displaystyle ^3\\Omega_{3}$"
      ],
      "text/plain": [
       "^3\\Omega₃"
      ]
     },
     "metadata": {},
     "output_type": "display_data"
    },
    {
     "data": {
      "image/png": "[encoded data removed]",
      "text/latex": [
       "$\\displaystyle \\left[\\begin{matrix}0\\\\0\\\\0\\end{matrix}\\right]$"
      ],
      "text/plain": [
       "⎡0⎤\n",
       "⎢ ⎥\n",
       "⎢0⎥\n",
       "⎢ ⎥\n",
       "⎣0⎦"
      ]
     },
     "metadata": {},
     "output_type": "display_data"
    },
    {
     "data": {
      "image/png": "[encoded data removed]",
      "text/latex": [
       "$\\displaystyle ^3V_{3}$"
      ],
      "text/plain": [
       "^3V₃"
      ]
     },
     "metadata": {},
     "output_type": "display_data"
    },
    {
     "data": {
      "image/png": "[encoded data removed]",
      "text/latex": [
       "$\\displaystyle \\left[\\begin{matrix}\\dot{d_2}\\\\\\dot{d_1}\\\\\\dot{d_3}\\end{matrix}\\right]$"
      ],
      "text/plain": [
       "⎡\\dot{d_2}⎤\n",
       "⎢         ⎥\n",
       "⎢\\dot{d_1}⎥\n",
       "⎢         ⎥\n",
       "⎣\\dot{d_3}⎦"
      ]
     },
     "metadata": {},
     "output_type": "display_data"
    },
    {
     "data": {
      "image/png": "[encoded data removed]",
      "text/latex": [
       "$\\displaystyle ^e\\Omega_{e}$"
      ],
      "text/plain": [
       "^e\\Omegaₑ"
      ]
     },
     "metadata": {},
     "output_type": "display_data"
    },
    {
     "data": {
      "image/png": "[encoded data removed]",
      "text/latex": [
       "$\\displaystyle \\left[\\begin{matrix}0\\\\0\\\\0\\end{matrix}\\right]$"
      ],
      "text/plain": [
       "⎡0⎤\n",
       "⎢ ⎥\n",
       "⎢0⎥\n",
       "⎢ ⎥\n",
       "⎣0⎦"
      ]
     },
     "metadata": {},
     "output_type": "display_data"
    },
    {
     "data": {
      "image/png": "[encoded data removed]",
      "text/latex": [
       "$\\displaystyle ^eV_{e}$"
      ],
      "text/plain": [
       "^eVₑ"
      ]
     },
     "metadata": {},
     "output_type": "display_data"
    },
    {
     "data": {
      "image/png": "[encoded data removed]",
      "text/latex": [
       "$\\displaystyle \\left[\\begin{matrix}\\dot{d_2}\\\\\\dot{d_1}\\\\\\dot{d_3}\\end{matrix}\\right]$"
      ],
      "text/plain": [
       "⎡\\dot{d_2}⎤\n",
       "⎢         ⎥\n",
       "⎢\\dot{d_1}⎥\n",
       "⎢         ⎥\n",
       "⎣\\dot{d_3}⎦"
      ]
     },
     "metadata": {},
     "output_type": "display_data"
    },
    {
     "data": {
      "image/png": "[encoded data removed]",
      "text/latex": [
       "$\\displaystyle \\left[\\begin{matrix}1 & 0 & 0 & 0 & 0 & 0\\\\0 & 0 & -1 & 0 & 0 & 0\\\\0 & 1 & 0 & 0 & 0 & 0\\\\0 & 0 & 0 & 1 & 0 & 0\\\\0 & 0 & 0 & 0 & 0 & -1\\\\0 & 0 & 0 & 0 & 1 & 0\\end{matrix}\\right]$"
      ],
      "text/plain": [
       "⎡1  0  0   0  0  0 ⎤\n",
       "⎢                  ⎥\n",
       "⎢0  0  -1  0  0  0 ⎥\n",
       "⎢                  ⎥\n",
       "⎢0  1  0   0  0  0 ⎥\n",
       "⎢                  ⎥\n",
       "⎢0  0  0   1  0  0 ⎥\n",
       "⎢                  ⎥\n",
       "⎢0  0  0   0  0  -1⎥\n",
       "⎢                  ⎥\n",
       "⎣0  0  0   0  1  0 ⎦"
      ]
     },
     "metadata": {},
     "output_type": "display_data"
    },
    {
     "data": {
      "image/png": "[encoded data removed]",
      "text/latex": [
       "$\\displaystyle ^eJ_{e}$"
      ],
      "text/plain": [
       "^eJₑ"
      ]
     },
     "metadata": {},
     "output_type": "display_data"
    },
    {
     "data": {
      "image/png": "[encoded data removed]",
      "text/latex": [
       "$\\displaystyle \\left[\\begin{matrix}0 & 1 & 0\\\\1 & 0 & 0\\\\0 & 0 & 1\\\\0 & 0 & 0\\\\0 & 0 & 0\\\\0 & 0 & 0\\end{matrix}\\right]$"
      ],
      "text/plain": [
       "⎡0  1  0⎤\n",
       "⎢       ⎥\n",
       "⎢1  0  0⎥\n",
       "⎢       ⎥\n",
       "⎢0  0  1⎥\n",
       "⎢       ⎥\n",
       "⎢0  0  0⎥\n",
       "⎢       ⎥\n",
       "⎢0  0  0⎥\n",
       "⎢       ⎥\n",
       "⎣0  0  0⎦"
      ]
     },
     "metadata": {},
     "output_type": "display_data"
    },
    {
     "data": {
      "image/png": "[encoded data removed]",
      "text/latex": [
       "$\\displaystyle ^0J_{}$"
      ],
      "text/plain": [
       "^0J"
      ]
     },
     "metadata": {},
     "output_type": "display_data"
    },
    {
     "data": {
      "image/png": "[encoded data removed]",
      "text/latex": [
       "$\\displaystyle \\left[\\begin{matrix}0 & 1 & 0\\\\0 & 0 & -1\\\\1 & 0 & 0\\\\0 & 0 & 0\\\\0 & 0 & 0\\\\0 & 0 & 0\\end{matrix}\\right]$"
      ],
      "text/plain": [
       "⎡0  1  0 ⎤\n",
       "⎢        ⎥\n",
       "⎢0  0  -1⎥\n",
       "⎢        ⎥\n",
       "⎢1  0  0 ⎥\n",
       "⎢        ⎥\n",
       "⎢0  0  0 ⎥\n",
       "⎢        ⎥\n",
       "⎢0  0  0 ⎥\n",
       "⎢        ⎥\n",
       "⎣0  0  0 ⎦"
      ]
     },
     "metadata": {},
     "output_type": "display_data"
    }
   ],
   "source": [
    "# 4.6.5 \n",
    "\n",
    "omega = Matrix([0, 0, 0])\n",
    "v = Matrix([0, 0, 0])\n",
    "\n",
    "\n",
    "d_1_dot = symbols('\\dot{d_1}')\n",
    "d_2_dot = symbols('\\dot{d_2}')\n",
    "d_3_dot = symbols('\\dot{d_3}')\n",
    "d_e_dot = symbols('\\dot{d_e}')\n",
    "\n",
    "\n",
    "omega_11, v_11 = prismatic_joint(frame = 1, d_dot = d_1_dot, transform_low_high = T01, omega = omega, v = v)\n",
    "omega_22, v_22 = prismatic_joint(frame = 2, d_dot = d_2_dot, transform_low_high = T12, omega = omega_11, v = v_11)\n",
    "omega_33, v_33 = prismatic_joint(frame = 3, d_dot = d_3_dot, transform_low_high = T23, omega = omega_22, v = v_22)\n",
    "omega_ee, v_ee = prismatic_joint(frame = 'e', d_dot = d_e_dot, transform_low_high = T3E, omega = omega_33, v = v_33)\n",
    "\n",
    "Jee, J0 = Jacobian(parameters = [d_1_dot, d_2_dot, d_3_dot], \n",
    "                   v_ee = v_ee, omega_ee = omega_ee, \n",
    "                   transform_low_high = T0E, \n",
    "                   Display_all_details = True)"
   ]
  },
  {
   "cell_type": "markdown",
   "id": "24cd9c1b",
   "metadata": {},
   "source": [
    "### Tut 5.7.1"
   ]
  },
  {
   "cell_type": "code",
   "execution_count": null,
   "id": "32610ec2",
   "metadata": {},
   "outputs": [],
   "source": []
  },
  {
   "cell_type": "markdown",
   "id": "bb432187",
   "metadata": {},
   "source": [
    "## Backup script (Not very useful)"
   ]
  },
  {
   "cell_type": "code",
   "execution_count": null,
   "id": "75e0376a",
   "metadata": {},
   "outputs": [],
   "source": [
    "# This method is quite messy\n",
    "import plotly.graph_objs as go\n",
    "\n",
    "# define the coordinates of the two points\n",
    "x = [0, 2]\n",
    "y = [0, 4]\n",
    "z = [0, 3]\n",
    "\n",
    "# create the trace for the points\n",
    "trace_points = go.Scatter3d(\n",
    "    x=x,\n",
    "    y=y,\n",
    "    z=z,\n",
    "    mode='markers',\n",
    "    marker=dict(\n",
    "        color=['blue', 'red'],\n",
    "        size=10,\n",
    "        symbol='circle'\n",
    "    ),\n",
    "    name='Point'\n",
    ")\n",
    "\n",
    "# create the trace for the line\n",
    "trace_line = go.Scatter3d(\n",
    "    x=x,\n",
    "    y=y,\n",
    "    z=z,\n",
    "    mode='lines',\n",
    "    line=dict(\n",
    "        color='green',\n",
    "        width=4\n",
    "    ),\n",
    "    name='Line'\n",
    ")\n",
    "\n",
    "# create the layout and add the legend\n",
    "layout = go.Layout(\n",
    "    scene=dict(\n",
    "        xaxis=dict(title='X-axis'),\n",
    "        yaxis=dict(title='Y-axis'),\n",
    "        zaxis=dict(title='Z-axis')\n",
    "    ),\n",
    "    legend=dict(\n",
    "        x=0.05,\n",
    "        y=0.95,\n",
    "        bgcolor='white',\n",
    "        bordercolor='gray',\n",
    "        borderwidth=1\n",
    "    )\n",
    ")\n",
    "\n",
    "# create the figure and add the traces and layout\n",
    "fig = go.Figure(data=[trace_points, trace_line], layout=layout)\n",
    "\n",
    "# show the plot\n",
    "fig.show()"
   ]
  },
  {
   "cell_type": "code",
   "execution_count": null,
   "id": "edc5fa01",
   "metadata": {},
   "outputs": [],
   "source": [
    "# define the coordinates of the two points for the new line\n",
    "x_new = [2, 4.23]\n",
    "y_new = [4, 8]\n",
    "z_new = [3, 2.87]\n",
    "\n",
    "# create the trace for the points\n",
    "trace_points = go.Scatter3d(\n",
    "    x=x_new,\n",
    "    y=y_new,\n",
    "    z=z_new,\n",
    "    mode='markers',\n",
    "    marker=dict(\n",
    "        color=['red', 'green'],\n",
    "        size=10,\n",
    "        symbol='circle'\n",
    "    ),\n",
    "    name='Point 2'\n",
    ")\n",
    "\n",
    "# create the trace for the new line\n",
    "trace_new_line = go.Scatter3d(\n",
    "    x=x_new,\n",
    "    y=y_new,\n",
    "    z=z_new,\n",
    "    mode='lines',\n",
    "    line=dict(\n",
    "        color='purple',\n",
    "        width=4\n",
    "    ),\n",
    "    name='New Line'\n",
    ")\n",
    "\n",
    "# add the new trace to the existing figure object\n",
    "fig.add_trace(trace_new_line)\n",
    "\n",
    "# show the plot with the new line added\n",
    "fig.show()"
   ]
  },
  {
   "cell_type": "code",
   "execution_count": null,
   "id": "06a9377f",
   "metadata": {},
   "outputs": [],
   "source": [
    "def symbol_name(name):\n",
    "    import re\n",
    "    name = 'T1'\n",
    "    if len(re.findall('T', name))!=0:\n",
    "        name = re.sub('T','theta', name)\n",
    "        \n",
    "    raw_str = rf'{name}'\n",
    "    return raw_str\n",
    "\n"
   ]
  },
  {
   "cell_type": "code",
   "execution_count": null,
   "id": "40cc771e",
   "metadata": {},
   "outputs": [],
   "source": [
    "symbols('alpha1')"
   ]
  },
  {
   "cell_type": "code",
   "execution_count": null,
   "id": "a814719c",
   "metadata": {},
   "outputs": [],
   "source": [
    "import re\n",
    "name = 'T1'\n",
    "if len(re.findall('T', name))!=0:\n",
    "    re.sub('T','\\theta_', name)"
   ]
  },
  {
   "cell_type": "code",
   "execution_count": null,
   "id": "47333962",
   "metadata": {},
   "outputs": [],
   "source": [
    "a11, a12, a13, a21, a22, a23, a31, a32, a33 = symbols('a11 a12 a13 a21 a22 a23 a31 a32 a33')\n",
    "\n",
    "# Define the matrix\n",
    "A = Matrix([[cos(a11), a12, a13],\n",
    "            [a21, a22, a23],\n",
    "            [a31, a32, a33]])\n",
    "\n",
    "A.subs(a11, pi)"
   ]
  },
  {
   "cell_type": "code",
   "execution_count": null,
   "id": "cd6444cf",
   "metadata": {},
   "outputs": [],
   "source": [
    "a11, a12, a13, a14, a21, a22, a23, a24, a31, a32, a33, a34, a41, a42, a43, a44 = symbols('a11, a12, a13, a14, a21, a22, a23, a24, a31, a32, a33, a34, a41, a42, a43, a44')\n",
    "T = Matrix([[a11, a12, a13, a14],\n",
    "            [a21, a22, a23, a24],\n",
    "            [a31, a32, a33, a34],\n",
    "            [a41, a42, a43, a44]])\n",
    "\n",
    "T[0,0]"
   ]
  }
 ],
 "metadata": {
  "kernelspec": {
   "display_name": "Python 3 (ipykernel)",
   "language": "python",
   "name": "python3"
  },
  "language_info": {
   "codemirror_mode": {
    "name": "ipython",
    "version": 3
   },
   "file_extension": ".py",
   "mimetype": "text/x-python",
   "name": "python",
   "nbconvert_exporter": "python",
   "pygments_lexer": "ipython3",
   "version": "3.8.15"
  }
 },
 "nbformat": 4,
 "nbformat_minor": 5
}
