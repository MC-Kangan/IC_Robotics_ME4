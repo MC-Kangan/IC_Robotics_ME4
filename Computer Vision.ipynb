{
 "cells": [
  {
   "cell_type": "code",
   "execution_count": 1,
   "id": "28cac5fe",
   "metadata": {},
   "outputs": [],
   "source": [
    "import numpy as np\n",
    "import pandas as pd\n",
    "import matplotlib.pyplot as plt\n",
    "from mpl_toolkits.mplot3d import Axes3D\n",
    "from sympy import *\n",
    "from robot_tools import *\n",
    "import math"
   ]
  },
  {
   "cell_type": "markdown",
   "id": "a077911a",
   "metadata": {},
   "source": [
    "### 7.6.1"
   ]
  },
  {
   "cell_type": "code",
   "execution_count": 80,
   "id": "b8812ac1",
   "metadata": {},
   "outputs": [],
   "source": [
    "def image_projection(w, h, nx, ny, f, coord_universe, coord_camera_to_universe, Display = False):\n",
    "    \n",
    "    [xp, yp, zp] = coord_universe \n",
    "    [x, y, z] = coord_camera_to_universe\n",
    "    \n",
    "    # Size of te individual pixel\n",
    "    Dw = symbols('dw')\n",
    "    Dh = symbols('dh')\n",
    "\n",
    "    # Principal point (centre of the image)\n",
    "    U0 = symbols('u0')\n",
    "    V0 = symbols('v0')\n",
    "\n",
    "    # Focal length in m\n",
    "    F = symbols('f')\n",
    "\n",
    "    # Coordinate of the object / point in the universe frame\n",
    "    Xp = symbols('x_p')\n",
    "    Yp = symbols('y_p')\n",
    "    Zp = symbols('z_p')\n",
    "\n",
    "    # Position of the camera relative to the universe\n",
    "    X = symbols('x')\n",
    "    Y = symbols('y')\n",
    "    Z = symbols('z')\n",
    "\n",
    "    # Camera parameters\n",
    "    CM = Matrix([[F/Dw, 0, U0, 0],\n",
    "                 [0, F/Dh, V0, 0],\n",
    "                 [0, 0, 1, 0]])\n",
    "\n",
    "    # Position of camera relative to the universe\n",
    "    T0C = Matrix([[1, 0, 0, X],\n",
    "                  [0, 1, 0, Y], \n",
    "                  [0, 0, 1, Z],\n",
    "                  [0, 0, 0, 1]])\n",
    "\n",
    "    P0 = Matrix([Xp, Yp, Zp, 1])\n",
    "    \n",
    "    RES = CM * T0C**-1 * P0\n",
    "    homo_retina = RES.subs({U0: nx/2, V0: ny/2, \n",
    "                    F: f, \n",
    "                    Dw: w/nx, Dh: h/ny, \n",
    "                    Xp: xp, Yp: yp, Zp: zp, \n",
    "                    X: x, Y: y, Z: z})\n",
    "    \n",
    "    retina = Matrix([round(homo_retina[0]/homo_retina[-1], 1), \n",
    "                     round(homo_retina[1]/homo_retina[-1], 1)])\n",
    "    \n",
    "    if Display:\n",
    "        print('Camera parameters matrix')\n",
    "        display(CM.subs({F: f, Dw: w/nx, Dh: h/ny, U0: nx/2, V0: ny/2}))\n",
    "        \n",
    "        print('Position of camera to the universe')\n",
    "        display(T0C.subs({X: x, Y: y, Z: z}))\n",
    "        \n",
    "        print('Position of the object in the universe')\n",
    "        display(P0.subs({Xp: xp, Yp: yp, Zp: zp}))\n",
    "        \n",
    "        print('Retina coordinates homogeneous')\n",
    "        display(homo_retina)\n",
    "        \n",
    "        print('Retina coordinates')\n",
    "        display(retina)\n",
    "        \n",
    "        \n",
    "    u, v = int(retina[0]), int(retina[1])\n",
    "    return [u, v]\n",
    "    \n",
    "    \n"
   ]
  },
  {
   "cell_type": "code",
   "execution_count": 85,
   "id": "90fadaf9",
   "metadata": {},
   "outputs": [
    {
     "name": "stdout",
     "output_type": "stream",
     "text": [
      "[552, 552, 648, 648, 560, 560, 639, 639]\n",
      "[566, 433, 433, 566, 554, 445, 445, 554]\n",
      " \n",
      "[373, 373, 826, 826, 414, 414, 785, 785]\n",
      "[814, 185, 185, 814, 757, 242, 242, 757]\n",
      " \n"
     ]
    },
    {
     "data": {
      "image/png": "[encoded data removed]",
      "text/plain": [
       "<Figure size 640x480 with 1 Axes>"
      ]
     },
     "metadata": {},
     "output_type": "display_data"
    }
   ],
   "source": [
    "cube_vertices = [[-1, 1, -1], [-1, -1, -1], [1, -1, -1], [1, 1, -1],\n",
    "                [-1, 1, 1], [-1, -1, 1], [1, -1, 1], [1, 1, 1]]\n",
    "\n",
    "for f in [0.018, 0.085]:\n",
    "    u_lst = []\n",
    "    v_lst = []\n",
    "    \n",
    "    for i in cube_vertices:\n",
    "        u, v = image_projection(w = 0.05, h = 0.03, \n",
    "                         nx = 1200, ny = 1000, \n",
    "                         f = f, \n",
    "                         coord_universe = i, \n",
    "                         coord_camera_to_universe = [0, 0, -10])\n",
    "        u_lst.append(u)\n",
    "        v_lst.append(v)\n",
    "\n",
    "    print(u_lst)\n",
    "    print(v_lst)\n",
    "    print(' ')\n",
    "    plt.scatter(u_lst, v_lst)\n",
    "    plt.xlim(0, 1200)\n",
    "    plt.ylim(0, 1000)"
   ]
  },
  {
   "cell_type": "code",
   "execution_count": 93,
   "id": "040aa543",
   "metadata": {},
   "outputs": [
    {
     "name": "stdout",
     "output_type": "stream",
     "text": [
      "[600, 600, 696, 696, 600, 600, 678, 678]\n",
      "[633, 500, 500, 633, 609, 500, 500, 609]\n",
      " \n",
      "[600, 600, 1053, 1053, 600, 600, 970, 970]\n",
      "[1129, 500, 500, 1129, 1015, 500, 500, 1015]\n",
      " \n"
     ]
    },
    {
     "data": {
      "image/png": "[encoded data removed]",
      "text/plain": [
       "<Figure size 640x480 with 1 Axes>"
      ]
     },
     "metadata": {},
     "output_type": "display_data"
    }
   ],
   "source": [
    "cube_vertices = [[-1, 1, -1], [-1, -1, -1], [1, -1, -1], [1, 1, -1],\n",
    "                [-1, 1, 1], [-1, -1, 1], [1, -1, 1], [1, 1, 1]]\n",
    "\n",
    "for f in [0.018, 0.085]:\n",
    "    u_lst = []\n",
    "    v_lst = []\n",
    "    \n",
    "    for i in cube_vertices:\n",
    "        u, v = image_projection(w = 0.05, h = 0.03, \n",
    "                         nx = 1200, ny = 1000, \n",
    "                         f = f, \n",
    "                         coord_universe = i, \n",
    "                         coord_camera_to_universe = [-1, -1, -10])\n",
    "        u_lst.append(u)\n",
    "        v_lst.append(v)\n",
    "\n",
    "    print(u_lst)\n",
    "    print(v_lst)\n",
    "    print(' ')\n",
    "    plt.scatter(u_lst, v_lst)\n",
    "#     plt.xlim(0, 1200)\n",
    "#     plt.ylim(0, 1000)"
   ]
  },
  {
   "cell_type": "code",
   "execution_count": null,
   "id": "aa42c16f",
   "metadata": {},
   "outputs": [],
   "source": []
  }
 ],
 "metadata": {
  "kernelspec": {
   "display_name": "Python 3 (ipykernel)",
   "language": "python",
   "name": "python3"
  },
  "language_info": {
   "codemirror_mode": {
    "name": "ipython",
    "version": 3
   },
   "file_extension": ".py",
   "mimetype": "text/x-python",
   "name": "python",
   "nbconvert_exporter": "python",
   "pygments_lexer": "ipython3",
   "version": "3.8.15"
  }
 },
 "nbformat": 4,
 "nbformat_minor": 5
}
