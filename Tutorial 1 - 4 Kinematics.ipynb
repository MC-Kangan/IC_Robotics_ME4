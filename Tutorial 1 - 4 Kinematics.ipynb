{
 "cells": [
  {
   "cell_type": "code",
   "execution_count": 33,
   "id": "bf878bc1",
   "metadata": {},
   "outputs": [],
   "source": [
    "import numpy as np\n",
    "import pandas as pd\n",
    "import matplotlib.pyplot as plt\n",
    "from mpl_toolkits.mplot3d import Axes3D\n",
    "from sympy import *\n",
    "from robot_tools import *\n",
    "import math"
   ]
  },
  {
   "cell_type": "code",
   "execution_count": 2,
   "id": "62d72429",
   "metadata": {},
   "outputs": [
    {
     "data": {
      "text/latex": [
       "$\\displaystyle \\left[\\begin{matrix}1 & 0 & 0\\\\0 & \\frac{1}{2} & - \\frac{\\sqrt{3}}{2}\\\\0 & \\frac{\\sqrt{3}}{2} & \\frac{1}{2}\\end{matrix}\\right]$"
      ],
      "text/plain": [
       "Matrix([\n",
       "[1,         0,          0],\n",
       "[0,       1/2, -sqrt(3)/2],\n",
       "[0, sqrt(3)/2,        1/2]])"
      ]
     },
     "execution_count": 2,
     "metadata": {},
     "output_type": "execute_result"
    }
   ],
   "source": [
    "# Tut 1.9.2\n",
    "Rotation(pi/3, 'x', rad = True)\n",
    "\n",
    "# R = Rotation_BA(60, 0, 0, rad = False)\n",
    "# np.shape(R) == (3,3)"
   ]
  },
  {
   "cell_type": "code",
   "execution_count": 32,
   "id": "36602110",
   "metadata": {},
   "outputs": [
    {
     "data": {
      "text/latex": [
       "$\\displaystyle \\left[\\begin{matrix}\\frac{\\sqrt{3}}{2} & 0 & \\frac{1}{2} & 2\\\\0 & 1 & 0 & 4\\\\- \\frac{1}{2} & 0 & \\frac{\\sqrt{3}}{2} & 3\\\\0 & 0 & 0 & 1\\end{matrix}\\right]$"
      ],
      "text/plain": [
       "Matrix([\n",
       "[sqrt(3)/2, 0,       1/2, 2],\n",
       "[        0, 1,         0, 4],\n",
       "[     -1/2, 0, sqrt(3)/2, 3],\n",
       "[        0, 0,         0, 1]])"
      ]
     },
     "execution_count": 32,
     "metadata": {},
     "output_type": "execute_result"
    }
   ],
   "source": [
    "# Tut 1.9.3\n",
    "\n",
    "# Rotation matrix\n",
    "R = Rotation(pi/6, 'y', rad = True)\n",
    "T1 = R.col_insert(3, Matrix([0, 0, 0]))\n",
    "T1 = T1.row_insert(3, Matrix([0, 0, 0, 1]).T)\n",
    "\n",
    "T2 = Matrix([[1, 0, 0, 2],\n",
    "            [0, 1, 0, 4],\n",
    "            [0, 0, 1, 3],\n",
    "            [0, 0, 0, 1]])\n",
    "\n",
    "T = T2 * T1\n",
    "\n",
    "# coordinate = Matrix([2, 4, 1])\n",
    "\n",
    "# Mapping(T, coordinate)\n",
    "T"
   ]
  },
  {
   "cell_type": "code",
   "execution_count": 26,
   "id": "cb576a08",
   "metadata": {},
   "outputs": [
    {
     "data": {
      "text/latex": [
       "$\\displaystyle \\left[\\begin{matrix}\\frac{\\sqrt{3}}{2} & 0 & \\frac{1}{2} & 0\\\\0 & 1 & 0 & 0\\\\- \\frac{1}{2} & 0 & \\frac{\\sqrt{3}}{2} & 0\\\\0 & 0 & 0 & 1\\end{matrix}\\right]$"
      ],
      "text/plain": [
       "Matrix([\n",
       "[sqrt(3)/2, 0,       1/2, 0],\n",
       "[        0, 1,         0, 0],\n",
       "[     -1/2, 0, sqrt(3)/2, 0],\n",
       "[        0, 0,         0, 1]])"
      ]
     },
     "execution_count": 26,
     "metadata": {},
     "output_type": "execute_result"
    }
   ],
   "source": [
    "T1"
   ]
  },
  {
   "cell_type": "code",
   "execution_count": 30,
   "id": "f6c12246",
   "metadata": {},
   "outputs": [
    {
     "data": {
      "text/latex": [
       "$\\displaystyle \\left[\\begin{matrix}\\cos{\\left(a \\right)} & 0 & \\sin{\\left(a \\right)}\\\\0 & 1 & 0\\\\- \\sin{\\left(a \\right)} & 0 & \\cos{\\left(a \\right)}\\end{matrix}\\right]$"
      ],
      "text/plain": [
       "Matrix([\n",
       "[ cos(a), 0, sin(a)],\n",
       "[      0, 1,      0],\n",
       "[-sin(a), 0, cos(a)]])"
      ]
     },
     "execution_count": 30,
     "metadata": {},
     "output_type": "execute_result"
    }
   ],
   "source": [
    "R = Rotation(symbols('a'), 'y', rad = True)\n",
    "R"
   ]
  },
  {
   "cell_type": "code",
   "execution_count": 27,
   "id": "aab746fa",
   "metadata": {},
   "outputs": [
    {
     "data": {
      "text/latex": [
       "$\\displaystyle \\left[\\begin{matrix}1 & 0 & 0 & 2\\\\0 & 1 & 0 & 4\\\\0 & 0 & 1 & 3\\\\0 & 0 & 0 & 1\\end{matrix}\\right]$"
      ],
      "text/plain": [
       "Matrix([\n",
       "[1, 0, 0, 2],\n",
       "[0, 1, 0, 4],\n",
       "[0, 0, 1, 3],\n",
       "[0, 0, 0, 1]])"
      ]
     },
     "execution_count": 27,
     "metadata": {},
     "output_type": "execute_result"
    }
   ],
   "source": [
    "T2"
   ]
  },
  {
   "cell_type": "code",
   "execution_count": 6,
   "id": "6765662c",
   "metadata": {},
   "outputs": [
    {
     "name": "stdout",
     "output_type": "stream",
     "text": [
      "[[ 0.70710678 -0.5        -0.5       ]\n",
      " [ 0.5         0.85355339 -0.14644661]\n",
      " [ 0.5        -0.14644661  0.85355339]]\n",
      "Alpha 1 is 0.7853981633974484 rad, 45.00000000000001 degrees\n",
      "Rotation axis 1 is [ 0.         -0.70710678  0.70710678]\n",
      "Check the summed square: 1.0\n",
      "Euler parameter 1 is [0.0, -0.2705980500730985, 0.2705980500730985, 0.9238795325112867]\n",
      "-----------------------------\n",
      "Alpha 2 is -0.7853981633974484 rad, -45.00000000000001 degrees\n",
      "Rotation axis 2 is [-0.          0.70710678 -0.70710678]\n",
      "Check the summed square: 1.0\n",
      "Euler parameter 2 is [0.0, -0.2705980500730985, 0.2705980500730985, 0.9238795325112867]\n"
     ]
    },
    {
     "data": {
      "text/plain": [
       "([0.7853981633974484,\n",
       "  array([ 0.        , -0.70710678,  0.70710678]),\n",
       "  [0.0, -0.2705980500730985, 0.2705980500730985, 0.9238795325112867]],\n",
       " [-0.7853981633974484,\n",
       "  array([-0.        ,  0.70710678, -0.70710678]),\n",
       "  [0.0, -0.2705980500730985, 0.2705980500730985, 0.9238795325112867]])"
      ]
     },
     "execution_count": 6,
     "metadata": {},
     "output_type": "execute_result"
    }
   ],
   "source": [
    "# Tut 1.9.4\n",
    "R = np.array([np.sqrt(2)/2, -0.5, -0.5, \n",
    "              0.5, np.sqrt(2)/4 + 0.5, np.sqrt(2)/4 - 0.5,\n",
    "              0.5, np.sqrt(2)/4 - 0.5, np.sqrt(2)/4 + 0.5]).reshape(3,3)\n",
    "print(R)\n",
    "\n",
    "# Cos is an even function!!\n",
    "Get_angle_from_rotation(R)"
   ]
  },
  {
   "cell_type": "code",
   "execution_count": 36,
   "id": "fa945ccb",
   "metadata": {},
   "outputs": [
    {
     "data": {
      "text/latex": [
       "$\\displaystyle \\left[\\begin{matrix}0.707106781186548 & -0.5 & -0.5\\\\0.5 & 0.853553390593274 & -0.146446609406726\\\\0.5 & -0.146446609406726 & 0.853553390593274\\end{matrix}\\right]$"
      ],
      "text/plain": [
       "Matrix([\n",
       "[0.707106781186548,               -0.5,               -0.5],\n",
       "[              0.5,  0.853553390593274, -0.146446609406726],\n",
       "[              0.5, -0.146446609406726,  0.853553390593274]])"
      ]
     },
     "execution_count": 36,
     "metadata": {},
     "output_type": "execute_result"
    }
   ],
   "source": [
    "# Tut 1.9.5\n",
    "direction = Matrix([0, 1/np.sqrt(2), -1/np.sqrt(2)])\n",
    "\n",
    "Rotation_non_pincipal_axes(-45, direction, rad = False)"
   ]
  },
  {
   "cell_type": "code",
   "execution_count": 8,
   "id": "81ff25c2",
   "metadata": {},
   "outputs": [
    {
     "data": {
      "image/png": "[encoded data removed]",
      "text/plain": [
       "<Figure size 640x480 with 1 Axes>"
      ]
     },
     "metadata": {},
     "output_type": "display_data"
    }
   ],
   "source": [
    "# Tut 1.9.6-7\n",
    "\n",
    "# create the figure and axes objects\n",
    "fig = plt.figure()\n",
    "ax = fig.add_subplot(111, projection='3d')\n",
    "\n",
    "# define the coordinates of the two points\n",
    "x = np.array([0, 2])\n",
    "y = np.array([0, 4])\n",
    "z = np.array([0, 3])\n",
    "\n",
    "x1 = np.array([2, 4.23])\n",
    "y1 = np.array([4, 8])\n",
    "z1 = np.array([3, 2.87])\n",
    "# plot the two points\n",
    "ax.scatter(x, y, z, color=['blue', 'red'])\n",
    "ax.scatter(x1, y1, z1, color=['red', 'purple'])\n",
    "\n",
    "# plot the line between the two points\n",
    "ax.plot(x, y, z, color='green', label='line 1')\n",
    "ax.plot(x1, y1, z1, color='green', label='line 2')\n",
    "\n",
    "# set the labels for the axes and the legend\n",
    "ax.set_xlabel('X-axis')\n",
    "ax.set_ylabel('Y-axis')\n",
    "ax.set_zlabel('Z-axis')\n",
    "ax.legend()\n",
    "\n",
    "# show the plot\n",
    "plt.show()"
   ]
  },
  {
   "cell_type": "markdown",
   "id": "9e280514",
   "metadata": {},
   "source": [
    "### Tut 2.6.1"
   ]
  },
  {
   "cell_type": "code",
   "execution_count": 9,
   "id": "4d4e61d3",
   "metadata": {},
   "outputs": [],
   "source": [
    "t = symbols('t')\n",
    "theta1 = Function(r\"\\theta_1\")(t)\n",
    "theta1_dot = diff(theta1, t)\n",
    "theta1_ddot = diff(theta1, t, t)\n",
    "\n",
    "theta2 = Function(r\"\\theta_2\")(t)\n",
    "theta2_dot = diff(theta2, t)\n",
    "theta2_ddot = diff(theta2, t, t)\n",
    "\n",
    "d3 = Function(r\"d_3\")(t)\n",
    "d3_dot = diff(d3, t)\n",
    "d3_ddot = diff(d3, t, t)\n",
    "\n",
    "L1 = symbols('L1')\n",
    "L2 = symbols('L2')\n",
    "\n",
    "alias = {}\n",
    "\n",
    "# display as theta dot instead of d(theta)/dt, and ignore dependency (t)\n",
    "alias.update({theta1: symbols(r\"\\theta_1\"),\n",
    "              theta1_dot: symbols(r\"\\dot{\\theta_1}\"),\n",
    "              theta1_ddot: symbols(r\"\\ddot{\\theta_1}\"),\n",
    "              theta2: symbols(r\"\\theta_2\"),\n",
    "              theta2_dot: symbols(r\"\\dot{\\theta_2}\"),\n",
    "              theta2_ddot: symbols(r\"\\ddot{\\theta_2}\"),\n",
    "              d3: symbols(r\"d_3\"),\n",
    "              d3_dot: symbols(r\"\\dot{d_3}\"),\n",
    "              d3_ddot: symbols(r\"\\ddot{d_3}\")\n",
    "             })"
   ]
  },
  {
   "cell_type": "code",
   "execution_count": 10,
   "id": "6e82039e",
   "metadata": {},
   "outputs": [
    {
     "data": {
      "text/latex": [
       "$\\displaystyle ^0T_{1}$"
      ],
      "text/plain": [
       "^0T_1"
      ]
     },
     "metadata": {},
     "output_type": "display_data"
    },
    {
     "data": {
      "text/latex": [
       "$\\displaystyle \\left[\\begin{matrix}\\cos{\\left(\\theta_{1}{\\left(t \\right)} \\right)} & - \\sin{\\left(\\theta_{1}{\\left(t \\right)} \\right)} & 0 & 0\\\\\\sin{\\left(\\theta_{1}{\\left(t \\right)} \\right)} & \\cos{\\left(\\theta_{1}{\\left(t \\right)} \\right)} & 0 & 0\\\\0 & 0 & 1 & L_{1}\\\\0 & 0 & 0 & 1\\end{matrix}\\right]$"
      ],
      "text/plain": [
       "Matrix([\n",
       "[cos(\\theta_1(t)), -sin(\\theta_1(t)), 0,  0],\n",
       "[sin(\\theta_1(t)),  cos(\\theta_1(t)), 0,  0],\n",
       "[               0,                 0, 1, L1],\n",
       "[               0,                 0, 0,  1]])"
      ]
     },
     "metadata": {},
     "output_type": "display_data"
    },
    {
     "data": {
      "text/latex": [
       "$\\displaystyle ^1T_{2}$"
      ],
      "text/plain": [
       "^1T_2"
      ]
     },
     "metadata": {},
     "output_type": "display_data"
    },
    {
     "data": {
      "text/latex": [
       "$\\displaystyle \\left[\\begin{matrix}\\cos{\\left(\\theta_{2}{\\left(t \\right)} \\right)} & - \\sin{\\left(\\theta_{2}{\\left(t \\right)} \\right)} & 0 & L_{2}\\\\\\sin{\\left(\\theta_{2}{\\left(t \\right)} \\right)} & \\cos{\\left(\\theta_{2}{\\left(t \\right)} \\right)} & 0 & 0\\\\0 & 0 & 1 & 0\\\\0 & 0 & 0 & 1\\end{matrix}\\right]$"
      ],
      "text/plain": [
       "Matrix([\n",
       "[cos(\\theta_2(t)), -sin(\\theta_2(t)), 0, L2],\n",
       "[sin(\\theta_2(t)),  cos(\\theta_2(t)), 0,  0],\n",
       "[               0,                 0, 1,  0],\n",
       "[               0,                 0, 0,  1]])"
      ]
     },
     "metadata": {},
     "output_type": "display_data"
    },
    {
     "data": {
      "text/latex": [
       "$\\displaystyle ^2T_{3}$"
      ],
      "text/plain": [
       "^2T_3"
      ]
     },
     "metadata": {},
     "output_type": "display_data"
    },
    {
     "data": {
      "text/latex": [
       "$\\displaystyle \\left[\\begin{matrix}1 & 0 & 0 & L_{3}\\\\0 & 1 & 0 & 0\\\\0 & 0 & 1 & d_{3}{\\left(t \\right)}\\\\0 & 0 & 0 & 1\\end{matrix}\\right]$"
      ],
      "text/plain": [
       "Matrix([\n",
       "[1, 0, 0,     L3],\n",
       "[0, 1, 0,      0],\n",
       "[0, 0, 1, d_3(t)],\n",
       "[0, 0, 0,      1]])"
      ]
     },
     "metadata": {},
     "output_type": "display_data"
    },
    {
     "data": {
      "text/latex": [
       "$\\displaystyle ^0T_{3}$"
      ],
      "text/plain": [
       "^0T_3"
      ]
     },
     "metadata": {},
     "output_type": "display_data"
    },
    {
     "data": {
      "text/latex": [
       "$\\displaystyle \\left[\\begin{matrix}\\cos{\\left(\\theta_{1}{\\left(t \\right)} + \\theta_{2}{\\left(t \\right)} \\right)} & - \\sin{\\left(\\theta_{1}{\\left(t \\right)} + \\theta_{2}{\\left(t \\right)} \\right)} & 0 & L_{2} \\cos{\\left(\\theta_{1}{\\left(t \\right)} \\right)} + L_{3} \\cos{\\left(\\theta_{1}{\\left(t \\right)} + \\theta_{2}{\\left(t \\right)} \\right)}\\\\\\sin{\\left(\\theta_{1}{\\left(t \\right)} + \\theta_{2}{\\left(t \\right)} \\right)} & \\cos{\\left(\\theta_{1}{\\left(t \\right)} + \\theta_{2}{\\left(t \\right)} \\right)} & 0 & L_{2} \\sin{\\left(\\theta_{1}{\\left(t \\right)} \\right)} + L_{3} \\sin{\\left(\\theta_{1}{\\left(t \\right)} + \\theta_{2}{\\left(t \\right)} \\right)}\\\\0 & 0 & 1 & L_{1} + d_{3}{\\left(t \\right)}\\\\0 & 0 & 0 & 1\\end{matrix}\\right]$"
      ],
      "text/plain": [
       "Matrix([\n",
       "[cos(\\theta_1(t) + \\theta_2(t)), -sin(\\theta_1(t) + \\theta_2(t)), 0, L2*cos(\\theta_1(t)) + L3*cos(\\theta_1(t) + \\theta_2(t))],\n",
       "[sin(\\theta_1(t) + \\theta_2(t)),  cos(\\theta_1(t) + \\theta_2(t)), 0, L2*sin(\\theta_1(t)) + L3*sin(\\theta_1(t) + \\theta_2(t))],\n",
       "[                             0,                               0, 1,                                             L1 + d_3(t)],\n",
       "[                             0,                               0, 0,                                                       1]])"
      ]
     },
     "metadata": {},
     "output_type": "display_data"
    },
    {
     "data": {
      "text/plain": [
       "'The position of the end effector'"
      ]
     },
     "metadata": {},
     "output_type": "display_data"
    },
    {
     "data": {
      "text/latex": [
       "$\\displaystyle \\left[\\begin{matrix}L_{2} \\cos{\\left(\\theta_{1}{\\left(t \\right)} \\right)} + L_{3} \\cos{\\left(\\theta_{1}{\\left(t \\right)} + \\theta_{2}{\\left(t \\right)} \\right)}\\\\L_{2} \\sin{\\left(\\theta_{1}{\\left(t \\right)} \\right)} + L_{3} \\sin{\\left(\\theta_{1}{\\left(t \\right)} + \\theta_{2}{\\left(t \\right)} \\right)}\\\\L_{1} + d_{3}{\\left(t \\right)}\\end{matrix}\\right]$"
      ],
      "text/plain": [
       "Matrix([\n",
       "[L2*cos(\\theta_1(t)) + L3*cos(\\theta_1(t) + \\theta_2(t))],\n",
       "[L2*sin(\\theta_1(t)) + L3*sin(\\theta_1(t) + \\theta_2(t))],\n",
       "[                                            L1 + d_3(t)]])"
      ]
     },
     "metadata": {},
     "output_type": "display_data"
    }
   ],
   "source": [
    "# Tut 2.6.1\n",
    "\n",
    "DH1 = [0, 0, symbols('L1'), theta1]\n",
    "T01 = Tlink(DH1)\n",
    "symprint('T',0, 1)\n",
    "display(T01)\n",
    "\n",
    "DH2 = [symbols('L2'), 0, 0, theta2]\n",
    "T12 = Tlink(DH2)\n",
    "symprint('T',1, 2)\n",
    "display(T12)\n",
    "\n",
    "DH3 = [symbols('L3'), 0, d3, 0]\n",
    "T23 = Tlink(DH3)\n",
    "symprint('T',2, 3)\n",
    "display(T23)\n",
    "\n",
    "symprint('T',0, 3)\n",
    "T03 = simplify(T01*T12*T23)\n",
    "display(T03)\n",
    "\n",
    "display('The position of the end effector')\n",
    "display(Position_finder(T03))"
   ]
  },
  {
   "cell_type": "code",
   "execution_count": 11,
   "id": "e226e7ad",
   "metadata": {},
   "outputs": [
    {
     "data": {
      "text/latex": [
       "$\\displaystyle ^1\\Omega_{1}$"
      ],
      "text/plain": [
       "^1\\Omega_1"
      ]
     },
     "metadata": {},
     "output_type": "display_data"
    },
    {
     "data": {
      "text/latex": [
       "$\\displaystyle \\left[\\begin{matrix}0\\\\0\\\\\\dot{\\theta_1}\\end{matrix}\\right]$"
      ],
      "text/plain": [
       "Matrix([\n",
       "[             0],\n",
       "[             0],\n",
       "[\\dot{\\theta_1}]])"
      ]
     },
     "metadata": {},
     "output_type": "display_data"
    },
    {
     "data": {
      "text/latex": [
       "$\\displaystyle ^1V_{1}$"
      ],
      "text/plain": [
       "^1V_1"
      ]
     },
     "metadata": {},
     "output_type": "display_data"
    },
    {
     "data": {
      "text/latex": [
       "$\\displaystyle \\left[\\begin{matrix}0\\\\0\\\\0\\end{matrix}\\right]$"
      ],
      "text/plain": [
       "Matrix([\n",
       "[0],\n",
       "[0],\n",
       "[0]])"
      ]
     },
     "metadata": {},
     "output_type": "display_data"
    },
    {
     "data": {
      "text/latex": [
       "$\\displaystyle ^2\\Omega_{2}$"
      ],
      "text/plain": [
       "^2\\Omega_2"
      ]
     },
     "metadata": {},
     "output_type": "display_data"
    },
    {
     "data": {
      "text/latex": [
       "$\\displaystyle \\left[\\begin{matrix}0\\\\0\\\\\\dot{\\theta_1} + \\dot{\\theta_2}\\end{matrix}\\right]$"
      ],
      "text/plain": [
       "Matrix([\n",
       "[                              0],\n",
       "[                              0],\n",
       "[\\dot{\\theta_1} + \\dot{\\theta_2}]])"
      ]
     },
     "metadata": {},
     "output_type": "display_data"
    },
    {
     "data": {
      "text/latex": [
       "$\\displaystyle ^2V_{2}$"
      ],
      "text/plain": [
       "^2V_2"
      ]
     },
     "metadata": {},
     "output_type": "display_data"
    },
    {
     "data": {
      "text/latex": [
       "$\\displaystyle \\left[\\begin{matrix}L_{2} \\dot{\\theta_1} \\sin{\\left(\\theta_{2} \\right)}\\\\L_{2} \\dot{\\theta_1} \\cos{\\left(\\theta_{2} \\right)}\\\\0\\end{matrix}\\right]$"
      ],
      "text/plain": [
       "Matrix([\n",
       "[L2*\\dot{\\theta_1}*sin(\\theta_2)],\n",
       "[L2*\\dot{\\theta_1}*cos(\\theta_2)],\n",
       "[                              0]])"
      ]
     },
     "metadata": {},
     "output_type": "display_data"
    },
    {
     "data": {
      "text/latex": [
       "$\\displaystyle ^3\\Omega_{3}$"
      ],
      "text/plain": [
       "^3\\Omega_3"
      ]
     },
     "metadata": {},
     "output_type": "display_data"
    },
    {
     "data": {
      "text/latex": [
       "$\\displaystyle \\left[\\begin{matrix}0\\\\0\\\\\\dot{\\theta_1} + \\dot{\\theta_2}\\end{matrix}\\right]$"
      ],
      "text/plain": [
       "Matrix([\n",
       "[                              0],\n",
       "[                              0],\n",
       "[\\dot{\\theta_1} + \\dot{\\theta_2}]])"
      ]
     },
     "metadata": {},
     "output_type": "display_data"
    },
    {
     "data": {
      "text/latex": [
       "$\\displaystyle ^3V_{3}$"
      ],
      "text/plain": [
       "^3V_3"
      ]
     },
     "metadata": {},
     "output_type": "display_data"
    },
    {
     "data": {
      "text/latex": [
       "$\\displaystyle \\left[\\begin{matrix}L_{2} \\dot{\\theta_1} \\sin{\\left(\\theta_{2} \\right)}\\\\L_{2} \\dot{\\theta_1} \\cos{\\left(\\theta_{2} \\right)} + L_{3} \\left(\\dot{\\theta_1} + \\dot{\\theta_2}\\right)\\\\\\dot{d_3}\\end{matrix}\\right]$"
      ],
      "text/plain": [
       "Matrix([\n",
       "[                                       L2*\\dot{\\theta_1}*sin(\\theta_2)],\n",
       "[L2*\\dot{\\theta_1}*cos(\\theta_2) + L3*(\\dot{\\theta_1} + \\dot{\\theta_2})],\n",
       "[                                                             \\dot{d_3}]])"
      ]
     },
     "metadata": {},
     "output_type": "display_data"
    },
    {
     "data": {
      "text/latex": [
       "$\\displaystyle ^eJ_{e}$"
      ],
      "text/plain": [
       "^eJ_e"
      ]
     },
     "metadata": {},
     "output_type": "display_data"
    },
    {
     "data": {
      "text/latex": [
       "$\\displaystyle \\left[\\begin{matrix}L_{2} \\sin{\\left(\\theta_{2} \\right)} & 0 & 0\\\\L_{2} \\cos{\\left(\\theta_{2} \\right)} + L_{3} & L_{3} & 0\\\\0 & 0 & 1\\\\0 & 0 & 0\\\\0 & 0 & 0\\\\1 & 1 & 0\\end{matrix}\\right]$"
      ],
      "text/plain": [
       "Matrix([\n",
       "[     L2*sin(\\theta_2),  0, 0],\n",
       "[L2*cos(\\theta_2) + L3, L3, 0],\n",
       "[                    0,  0, 1],\n",
       "[                    0,  0, 0],\n",
       "[                    0,  0, 0],\n",
       "[                    1,  1, 0]])"
      ]
     },
     "metadata": {},
     "output_type": "display_data"
    },
    {
     "data": {
      "text/latex": [
       "$\\displaystyle ^0J_{}$"
      ],
      "text/plain": [
       "^0J_"
      ]
     },
     "metadata": {},
     "output_type": "display_data"
    },
    {
     "data": {
      "text/latex": [
       "$\\displaystyle \\left[\\begin{matrix}- L_{2} \\sin{\\left(\\theta_{1} \\right)} - L_{3} \\sin{\\left(\\theta_{1} + \\theta_{2} \\right)} & - L_{3} \\sin{\\left(\\theta_{1} + \\theta_{2} \\right)} & 0\\\\L_{2} \\cos{\\left(\\theta_{1} \\right)} + L_{3} \\cos{\\left(\\theta_{1} + \\theta_{2} \\right)} & L_{3} \\cos{\\left(\\theta_{1} + \\theta_{2} \\right)} & 0\\\\0 & 0 & 1\\\\0 & 0 & 0\\\\0 & 0 & 0\\\\1 & 1 & 0\\end{matrix}\\right]$"
      ],
      "text/plain": [
       "Matrix([\n",
       "[-L2*sin(\\theta_1) - L3*sin(\\theta_1 + \\theta_2), -L3*sin(\\theta_1 + \\theta_2), 0],\n",
       "[ L2*cos(\\theta_1) + L3*cos(\\theta_1 + \\theta_2),  L3*cos(\\theta_1 + \\theta_2), 0],\n",
       "[                                              0,                            0, 1],\n",
       "[                                              0,                            0, 0],\n",
       "[                                              0,                            0, 0],\n",
       "[                                              1,                            1, 0]])"
      ]
     },
     "metadata": {},
     "output_type": "display_data"
    }
   ],
   "source": [
    "# 4.6.1\n",
    " \n",
    "omega = Matrix([0, 0, 0])\n",
    "v = Matrix([0, 0, 0])\n",
    "\n",
    "omega_11, v_11 = revolute_joint(frame = 1, \n",
    "                                theta_dot = theta1_dot, \n",
    "                                transform_low_high = T01, \n",
    "                                omega = omega, \n",
    "                                v = v, \n",
    "                               alias = alias)\n",
    "\n",
    "omega_22, v_22 = revolute_joint(frame = 2, \n",
    "                                theta_dot = theta2_dot, \n",
    "                                transform_low_high = T12, \n",
    "                                omega = omega_11, \n",
    "                                v = v_11, \n",
    "                               alias = alias)\n",
    "\n",
    "omega_33, v_33 = prismatic_joint(frame = 3, \n",
    "                                 d_dot = d3_dot, \n",
    "                                 transform_low_high = T23, \n",
    "                                 omega = omega_22, \n",
    "                                 v = v_22,\n",
    "                                alias = alias)\n",
    "\n",
    "Jee, J0 = Jacobian(parameters = [theta1_dot, theta2_dot, d3_dot], \n",
    "                   v_ee = v_33, \n",
    "                   omega_ee = omega_33, \n",
    "                   transform_low_high = T03,\n",
    "                  alias = alias)\n"
   ]
  },
  {
   "cell_type": "markdown",
   "id": "c0742463",
   "metadata": {},
   "source": [
    "### Tut 2.6.2"
   ]
  },
  {
   "cell_type": "code",
   "execution_count": 37,
   "id": "02d53ec3",
   "metadata": {},
   "outputs": [],
   "source": [
    "t = symbols('t')\n",
    "theta1 = Function(r\"\\theta_1\")(t)\n",
    "theta1_dot = diff(theta1, t)\n",
    "theta1_ddot = diff(theta1, t, t)\n",
    "\n",
    "theta2 = Function(r\"\\theta_2\")(t)\n",
    "theta2_dot = diff(theta2, t)\n",
    "theta2_ddot = diff(theta2, t, t)\n",
    "\n",
    "theta3 = Function(r\"\\theta_3\")(t)\n",
    "theta3_dot = diff(theta3, t)\n",
    "theta3_ddot = diff(theta3, t, t)\n",
    "\n",
    "thetae = Function(r\"\\theta_e\")(t)\n",
    "thetae_dot = diff(thetae, t)\n",
    "thetae_ddot = diff(thetae, t, t)\n",
    "\n",
    "\n",
    "L1 = symbols('L1')\n",
    "L2 = symbols('L2')\n",
    "\n",
    "alias = {}\n",
    "\n",
    "# display as theta dot instead of d(theta)/dt, and ignore dependency (t)\n",
    "alias.update({theta1: symbols(r\"\\theta_1\"),\n",
    "              theta1_dot: symbols(r\"\\dot{\\theta_1}\"),\n",
    "              theta1_ddot: symbols(r\"\\ddot{\\theta_1}\"),\n",
    "              theta2: symbols(r\"\\theta_2\"),\n",
    "              theta2_dot: symbols(r\"\\dot{\\theta_2}\"),\n",
    "              theta2_ddot: symbols(r\"\\ddot{\\theta_2}\"),\n",
    "              theta3: symbols(r\"\\theta_3\"),\n",
    "              theta3_dot: symbols(r\"\\dot{\\theta_3}\"),\n",
    "              theta3_ddot: symbols(r\"\\ddot{\\theta_3}\"),\n",
    "              thetae: symbols(r\"\\theta_e\"),\n",
    "              thetae_dot: symbols(r\"\\dot{\\theta_e}\"),\n",
    "              thetae_ddot: symbols(r\"\\ddot{\\theta_e}\")\n",
    "             })"
   ]
  },
  {
   "cell_type": "code",
   "execution_count": 38,
   "id": "79483a61",
   "metadata": {},
   "outputs": [
    {
     "data": {
      "text/latex": [
       "$\\displaystyle ^0T_{1}$"
      ],
      "text/plain": [
       "^0T_1"
      ]
     },
     "metadata": {},
     "output_type": "display_data"
    },
    {
     "data": {
      "text/latex": [
       "$\\displaystyle \\left[\\begin{matrix}\\cos{\\left(\\theta_{1}{\\left(t \\right)} \\right)} & - \\sin{\\left(\\theta_{1}{\\left(t \\right)} \\right)} & 0 & 0\\\\\\sin{\\left(\\theta_{1}{\\left(t \\right)} \\right)} & \\cos{\\left(\\theta_{1}{\\left(t \\right)} \\right)} & 0 & 0\\\\0 & 0 & 1 & L_{1}\\\\0 & 0 & 0 & 1\\end{matrix}\\right]$"
      ],
      "text/plain": [
       "Matrix([\n",
       "[cos(\\theta_1(t)), -sin(\\theta_1(t)), 0,  0],\n",
       "[sin(\\theta_1(t)),  cos(\\theta_1(t)), 0,  0],\n",
       "[               0,                 0, 1, L1],\n",
       "[               0,                 0, 0,  1]])"
      ]
     },
     "metadata": {},
     "output_type": "display_data"
    },
    {
     "data": {
      "text/latex": [
       "$\\displaystyle ^1T_{2}$"
      ],
      "text/plain": [
       "^1T_2"
      ]
     },
     "metadata": {},
     "output_type": "display_data"
    },
    {
     "data": {
      "text/latex": [
       "$\\displaystyle \\left[\\begin{matrix}\\cos{\\left(\\theta_{2}{\\left(t \\right)} \\right)} & - \\sin{\\left(\\theta_{2}{\\left(t \\right)} \\right)} & 0 & 0\\\\0 & 0 & -1 & 0\\\\\\sin{\\left(\\theta_{2}{\\left(t \\right)} \\right)} & \\cos{\\left(\\theta_{2}{\\left(t \\right)} \\right)} & 0 & 0\\\\0 & 0 & 0 & 1\\end{matrix}\\right]$"
      ],
      "text/plain": [
       "Matrix([\n",
       "[cos(\\theta_2(t)), -sin(\\theta_2(t)),  0, 0],\n",
       "[               0,                 0, -1, 0],\n",
       "[sin(\\theta_2(t)),  cos(\\theta_2(t)),  0, 0],\n",
       "[               0,                 0,  0, 1]])"
      ]
     },
     "metadata": {},
     "output_type": "display_data"
    },
    {
     "data": {
      "text/latex": [
       "$\\displaystyle ^2T_{3}$"
      ],
      "text/plain": [
       "^2T_3"
      ]
     },
     "metadata": {},
     "output_type": "display_data"
    },
    {
     "data": {
      "text/latex": [
       "$\\displaystyle \\left[\\begin{matrix}\\cos{\\left(\\theta_{3}{\\left(t \\right)} \\right)} & - \\sin{\\left(\\theta_{3}{\\left(t \\right)} \\right)} & 0 & L_{2}\\\\\\sin{\\left(\\theta_{3}{\\left(t \\right)} \\right)} & \\cos{\\left(\\theta_{3}{\\left(t \\right)} \\right)} & 0 & 0\\\\0 & 0 & 1 & 0\\\\0 & 0 & 0 & 1\\end{matrix}\\right]$"
      ],
      "text/plain": [
       "Matrix([\n",
       "[cos(\\theta_3(t)), -sin(\\theta_3(t)), 0, L2],\n",
       "[sin(\\theta_3(t)),  cos(\\theta_3(t)), 0,  0],\n",
       "[               0,                 0, 1,  0],\n",
       "[               0,                 0, 0,  1]])"
      ]
     },
     "metadata": {},
     "output_type": "display_data"
    },
    {
     "data": {
      "text/latex": [
       "$\\displaystyle ^3T_{E}$"
      ],
      "text/plain": [
       "^3T_E"
      ]
     },
     "metadata": {},
     "output_type": "display_data"
    },
    {
     "data": {
      "text/latex": [
       "$\\displaystyle \\left[\\begin{matrix}1 & 0 & 0 & L_{3}\\\\0 & 1 & 0 & 0\\\\0 & 0 & 1 & 0\\\\0 & 0 & 0 & 1\\end{matrix}\\right]$"
      ],
      "text/plain": [
       "Matrix([\n",
       "[1, 0, 0, L3],\n",
       "[0, 1, 0,  0],\n",
       "[0, 0, 1,  0],\n",
       "[0, 0, 0,  1]])"
      ]
     },
     "metadata": {},
     "output_type": "display_data"
    },
    {
     "data": {
      "text/latex": [
       "$\\displaystyle ^0T_{E}$"
      ],
      "text/plain": [
       "^0T_E"
      ]
     },
     "metadata": {},
     "output_type": "display_data"
    },
    {
     "data": {
      "text/latex": [
       "$\\displaystyle \\left[\\begin{matrix}\\cos{\\left(\\theta_{2}{\\left(t \\right)} + \\theta_{3}{\\left(t \\right)} \\right)} \\cos{\\left(\\theta_{1}{\\left(t \\right)} \\right)} & - \\sin{\\left(\\theta_{2}{\\left(t \\right)} + \\theta_{3}{\\left(t \\right)} \\right)} \\cos{\\left(\\theta_{1}{\\left(t \\right)} \\right)} & \\sin{\\left(\\theta_{1}{\\left(t \\right)} \\right)} & \\left(L_{2} \\cos{\\left(\\theta_{2}{\\left(t \\right)} \\right)} + L_{3} \\cos{\\left(\\theta_{2}{\\left(t \\right)} + \\theta_{3}{\\left(t \\right)} \\right)}\\right) \\cos{\\left(\\theta_{1}{\\left(t \\right)} \\right)}\\\\\\sin{\\left(\\theta_{1}{\\left(t \\right)} \\right)} \\cos{\\left(\\theta_{2}{\\left(t \\right)} + \\theta_{3}{\\left(t \\right)} \\right)} & - \\sin{\\left(\\theta_{2}{\\left(t \\right)} + \\theta_{3}{\\left(t \\right)} \\right)} \\sin{\\left(\\theta_{1}{\\left(t \\right)} \\right)} & - \\cos{\\left(\\theta_{1}{\\left(t \\right)} \\right)} & \\left(L_{2} \\cos{\\left(\\theta_{2}{\\left(t \\right)} \\right)} + L_{3} \\cos{\\left(\\theta_{2}{\\left(t \\right)} + \\theta_{3}{\\left(t \\right)} \\right)}\\right) \\sin{\\left(\\theta_{1}{\\left(t \\right)} \\right)}\\\\\\sin{\\left(\\theta_{2}{\\left(t \\right)} + \\theta_{3}{\\left(t \\right)} \\right)} & \\cos{\\left(\\theta_{2}{\\left(t \\right)} + \\theta_{3}{\\left(t \\right)} \\right)} & 0 & L_{1} + L_{2} \\sin{\\left(\\theta_{2}{\\left(t \\right)} \\right)} + L_{3} \\sin{\\left(\\theta_{2}{\\left(t \\right)} + \\theta_{3}{\\left(t \\right)} \\right)}\\\\0 & 0 & 0 & 1\\end{matrix}\\right]$"
      ],
      "text/plain": [
       "Matrix([\n",
       "[cos(\\theta_2(t) + \\theta_3(t))*cos(\\theta_1(t)), -sin(\\theta_2(t) + \\theta_3(t))*cos(\\theta_1(t)),  sin(\\theta_1(t)), (L2*cos(\\theta_2(t)) + L3*cos(\\theta_2(t) + \\theta_3(t)))*cos(\\theta_1(t))],\n",
       "[sin(\\theta_1(t))*cos(\\theta_2(t) + \\theta_3(t)), -sin(\\theta_2(t) + \\theta_3(t))*sin(\\theta_1(t)), -cos(\\theta_1(t)), (L2*cos(\\theta_2(t)) + L3*cos(\\theta_2(t) + \\theta_3(t)))*sin(\\theta_1(t))],\n",
       "[                 sin(\\theta_2(t) + \\theta_3(t)),                   cos(\\theta_2(t) + \\theta_3(t)),                 0,               L1 + L2*sin(\\theta_2(t)) + L3*sin(\\theta_2(t) + \\theta_3(t))],\n",
       "[                                              0,                                                0,                 0,                                                                          1]])"
      ]
     },
     "metadata": {},
     "output_type": "display_data"
    },
    {
     "data": {
      "text/plain": [
       "'The position of the end effector'"
      ]
     },
     "metadata": {},
     "output_type": "display_data"
    },
    {
     "data": {
      "text/latex": [
       "$\\displaystyle \\left[\\begin{matrix}\\left(L_{2} \\cos{\\left(\\theta_{2}{\\left(t \\right)} \\right)} + L_{3} \\cos{\\left(\\theta_{2}{\\left(t \\right)} + \\theta_{3}{\\left(t \\right)} \\right)}\\right) \\cos{\\left(\\theta_{1}{\\left(t \\right)} \\right)}\\\\\\left(L_{2} \\cos{\\left(\\theta_{2}{\\left(t \\right)} \\right)} + L_{3} \\cos{\\left(\\theta_{2}{\\left(t \\right)} + \\theta_{3}{\\left(t \\right)} \\right)}\\right) \\sin{\\left(\\theta_{1}{\\left(t \\right)} \\right)}\\\\L_{1} + L_{2} \\sin{\\left(\\theta_{2}{\\left(t \\right)} \\right)} + L_{3} \\sin{\\left(\\theta_{2}{\\left(t \\right)} + \\theta_{3}{\\left(t \\right)} \\right)}\\end{matrix}\\right]$"
      ],
      "text/plain": [
       "Matrix([\n",
       "[(L2*cos(\\theta_2(t)) + L3*cos(\\theta_2(t) + \\theta_3(t)))*cos(\\theta_1(t))],\n",
       "[(L2*cos(\\theta_2(t)) + L3*cos(\\theta_2(t) + \\theta_3(t)))*sin(\\theta_1(t))],\n",
       "[              L1 + L2*sin(\\theta_2(t)) + L3*sin(\\theta_2(t) + \\theta_3(t))]])"
      ]
     },
     "metadata": {},
     "output_type": "display_data"
    }
   ],
   "source": [
    "# Tut 2.6.2\n",
    "\n",
    "DH1 = [0, 0, symbols('L1'), theta1]\n",
    "T01 = Tlink(DH1)\n",
    "symprint('T',0, 1)\n",
    "display(T01)\n",
    "\n",
    "DH2 = [0, pi/2, 0, theta2]\n",
    "T12 = Tlink(DH2)\n",
    "symprint('T',1, 2)\n",
    "display(T12)\n",
    "\n",
    "DH3 = [symbols('L2'), 0, 0, theta3]\n",
    "T23 = Tlink(DH3)\n",
    "symprint('T',2, 3)\n",
    "display(T23)\n",
    "\n",
    "DH4 = [symbols('L3'), 0, 0, 0]\n",
    "T3E = Tlink(DH4)\n",
    "symprint('T',3,'E')\n",
    "display(T3E)\n",
    "\n",
    "T0E = simplify(T01*T12*T23*T3E)\n",
    "symprint('T',0, 'E')\n",
    "display(T0E)\n",
    "\n",
    "display('The position of the end effector')\n",
    "display(Position_finder(simplify(T01*T12*T23*T3E)))\n"
   ]
  },
  {
   "cell_type": "code",
   "execution_count": 39,
   "id": "3ae7df1b",
   "metadata": {},
   "outputs": [
    {
     "data": {
      "text/latex": [
       "$\\displaystyle ^1\\Omega_{1}$"
      ],
      "text/plain": [
       "^1\\Omega_1"
      ]
     },
     "metadata": {},
     "output_type": "display_data"
    },
    {
     "data": {
      "text/latex": [
       "$\\displaystyle \\left[\\begin{matrix}0\\\\0\\\\\\dot{\\theta_1}\\end{matrix}\\right]$"
      ],
      "text/plain": [
       "Matrix([\n",
       "[             0],\n",
       "[             0],\n",
       "[\\dot{\\theta_1}]])"
      ]
     },
     "metadata": {},
     "output_type": "display_data"
    },
    {
     "data": {
      "text/latex": [
       "$\\displaystyle ^1V_{1}$"
      ],
      "text/plain": [
       "^1V_1"
      ]
     },
     "metadata": {},
     "output_type": "display_data"
    },
    {
     "data": {
      "text/latex": [
       "$\\displaystyle \\left[\\begin{matrix}0\\\\0\\\\0\\end{matrix}\\right]$"
      ],
      "text/plain": [
       "Matrix([\n",
       "[0],\n",
       "[0],\n",
       "[0]])"
      ]
     },
     "metadata": {},
     "output_type": "display_data"
    },
    {
     "data": {
      "text/latex": [
       "$\\displaystyle ^2\\Omega_{2}$"
      ],
      "text/plain": [
       "^2\\Omega_2"
      ]
     },
     "metadata": {},
     "output_type": "display_data"
    },
    {
     "data": {
      "text/latex": [
       "$\\displaystyle \\left[\\begin{matrix}\\dot{\\theta_1} \\sin{\\left(\\theta_{2} \\right)}\\\\\\dot{\\theta_1} \\cos{\\left(\\theta_{2} \\right)}\\\\\\dot{\\theta_2}\\end{matrix}\\right]$"
      ],
      "text/plain": [
       "Matrix([\n",
       "[\\dot{\\theta_1}*sin(\\theta_2)],\n",
       "[\\dot{\\theta_1}*cos(\\theta_2)],\n",
       "[              \\dot{\\theta_2}]])"
      ]
     },
     "metadata": {},
     "output_type": "display_data"
    },
    {
     "data": {
      "text/latex": [
       "$\\displaystyle ^2V_{2}$"
      ],
      "text/plain": [
       "^2V_2"
      ]
     },
     "metadata": {},
     "output_type": "display_data"
    },
    {
     "data": {
      "text/latex": [
       "$\\displaystyle \\left[\\begin{matrix}0\\\\0\\\\0\\end{matrix}\\right]$"
      ],
      "text/plain": [
       "Matrix([\n",
       "[0],\n",
       "[0],\n",
       "[0]])"
      ]
     },
     "metadata": {},
     "output_type": "display_data"
    },
    {
     "data": {
      "text/latex": [
       "$\\displaystyle ^3\\Omega_{3}$"
      ],
      "text/plain": [
       "^3\\Omega_3"
      ]
     },
     "metadata": {},
     "output_type": "display_data"
    },
    {
     "data": {
      "text/latex": [
       "$\\displaystyle \\left[\\begin{matrix}\\dot{\\theta_1} \\sin{\\left(\\theta_{2} + \\theta_{3} \\right)}\\\\\\dot{\\theta_1} \\cos{\\left(\\theta_{2} + \\theta_{3} \\right)}\\\\\\dot{\\theta_2} + \\dot{\\theta_3}\\end{matrix}\\right]$"
      ],
      "text/plain": [
       "Matrix([\n",
       "[\\dot{\\theta_1}*sin(\\theta_2 + \\theta_3)],\n",
       "[\\dot{\\theta_1}*cos(\\theta_2 + \\theta_3)],\n",
       "[        \\dot{\\theta_2} + \\dot{\\theta_3}]])"
      ]
     },
     "metadata": {},
     "output_type": "display_data"
    },
    {
     "data": {
      "text/latex": [
       "$\\displaystyle ^3V_{3}$"
      ],
      "text/plain": [
       "^3V_3"
      ]
     },
     "metadata": {},
     "output_type": "display_data"
    },
    {
     "data": {
      "text/latex": [
       "$\\displaystyle \\left[\\begin{matrix}L_{2} \\dot{\\theta_2} \\sin{\\left(\\theta_{3} \\right)}\\\\L_{2} \\dot{\\theta_2} \\cos{\\left(\\theta_{3} \\right)}\\\\- L_{2} \\dot{\\theta_1} \\cos{\\left(\\theta_{2} \\right)}\\end{matrix}\\right]$"
      ],
      "text/plain": [
       "Matrix([\n",
       "[ L2*\\dot{\\theta_2}*sin(\\theta_3)],\n",
       "[ L2*\\dot{\\theta_2}*cos(\\theta_3)],\n",
       "[-L2*\\dot{\\theta_1}*cos(\\theta_2)]])"
      ]
     },
     "metadata": {},
     "output_type": "display_data"
    },
    {
     "data": {
      "text/latex": [
       "$\\displaystyle ^e\\Omega_{e}$"
      ],
      "text/plain": [
       "^e\\Omega_e"
      ]
     },
     "metadata": {},
     "output_type": "display_data"
    },
    {
     "data": {
      "text/latex": [
       "$\\displaystyle \\left[\\begin{matrix}\\dot{\\theta_1} \\sin{\\left(\\theta_{2} + \\theta_{3} \\right)}\\\\\\dot{\\theta_1} \\cos{\\left(\\theta_{2} + \\theta_{3} \\right)}\\\\\\dot{\\theta_2} + \\dot{\\theta_3}\\end{matrix}\\right]$"
      ],
      "text/plain": [
       "Matrix([\n",
       "[\\dot{\\theta_1}*sin(\\theta_2 + \\theta_3)],\n",
       "[\\dot{\\theta_1}*cos(\\theta_2 + \\theta_3)],\n",
       "[        \\dot{\\theta_2} + \\dot{\\theta_3}]])"
      ]
     },
     "metadata": {},
     "output_type": "display_data"
    },
    {
     "data": {
      "text/latex": [
       "$\\displaystyle ^eV_{e}$"
      ],
      "text/plain": [
       "^eV_e"
      ]
     },
     "metadata": {},
     "output_type": "display_data"
    },
    {
     "data": {
      "text/latex": [
       "$\\displaystyle \\left[\\begin{matrix}L_{2} \\dot{\\theta_2} \\sin{\\left(\\theta_{3} \\right)}\\\\L_{2} \\dot{\\theta_2} \\cos{\\left(\\theta_{3} \\right)} + L_{3} \\left(\\dot{\\theta_2} + \\dot{\\theta_3}\\right)\\\\- \\dot{\\theta_1} \\left(L_{2} \\cos{\\left(\\theta_{2} \\right)} + L_{3} \\cos{\\left(\\theta_{2} + \\theta_{3} \\right)}\\right)\\end{matrix}\\right]$"
      ],
      "text/plain": [
       "Matrix([\n",
       "[                                       L2*\\dot{\\theta_2}*sin(\\theta_3)],\n",
       "[L2*\\dot{\\theta_2}*cos(\\theta_3) + L3*(\\dot{\\theta_2} + \\dot{\\theta_3})],\n",
       "[      -\\dot{\\theta_1}*(L2*cos(\\theta_2) + L3*cos(\\theta_2 + \\theta_3))]])"
      ]
     },
     "metadata": {},
     "output_type": "display_data"
    },
    {
     "data": {
      "text/latex": [
       "$\\displaystyle \\left[\\begin{matrix}\\cos{\\left(\\theta_{1} \\right)} \\cos{\\left(\\theta_{2} + \\theta_{3} \\right)} & - \\sin{\\left(\\theta_{2} + \\theta_{3} \\right)} \\cos{\\left(\\theta_{1} \\right)} & \\sin{\\left(\\theta_{1} \\right)} & 0 & 0 & 0\\\\\\sin{\\left(\\theta_{1} \\right)} \\cos{\\left(\\theta_{2} + \\theta_{3} \\right)} & - \\sin{\\left(\\theta_{1} \\right)} \\sin{\\left(\\theta_{2} + \\theta_{3} \\right)} & - \\cos{\\left(\\theta_{1} \\right)} & 0 & 0 & 0\\\\\\sin{\\left(\\theta_{2} + \\theta_{3} \\right)} & \\cos{\\left(\\theta_{2} + \\theta_{3} \\right)} & 0 & 0 & 0 & 0\\\\0 & 0 & 0 & \\cos{\\left(\\theta_{1} \\right)} \\cos{\\left(\\theta_{2} + \\theta_{3} \\right)} & - \\sin{\\left(\\theta_{2} + \\theta_{3} \\right)} \\cos{\\left(\\theta_{1} \\right)} & \\sin{\\left(\\theta_{1} \\right)}\\\\0 & 0 & 0 & \\sin{\\left(\\theta_{1} \\right)} \\cos{\\left(\\theta_{2} + \\theta_{3} \\right)} & - \\sin{\\left(\\theta_{1} \\right)} \\sin{\\left(\\theta_{2} + \\theta_{3} \\right)} & - \\cos{\\left(\\theta_{1} \\right)}\\\\0 & 0 & 0 & \\sin{\\left(\\theta_{2} + \\theta_{3} \\right)} & \\cos{\\left(\\theta_{2} + \\theta_{3} \\right)} & 0\\end{matrix}\\right]$"
      ],
      "text/plain": [
       "Matrix([\n",
       "[cos(\\theta_1)*cos(\\theta_2 + \\theta_3), -sin(\\theta_2 + \\theta_3)*cos(\\theta_1),  sin(\\theta_1),                                      0,                                       0,              0],\n",
       "[sin(\\theta_1)*cos(\\theta_2 + \\theta_3), -sin(\\theta_1)*sin(\\theta_2 + \\theta_3), -cos(\\theta_1),                                      0,                                       0,              0],\n",
       "[              sin(\\theta_2 + \\theta_3),                cos(\\theta_2 + \\theta_3),              0,                                      0,                                       0,              0],\n",
       "[                                     0,                                       0,              0, cos(\\theta_1)*cos(\\theta_2 + \\theta_3), -sin(\\theta_2 + \\theta_3)*cos(\\theta_1),  sin(\\theta_1)],\n",
       "[                                     0,                                       0,              0, sin(\\theta_1)*cos(\\theta_2 + \\theta_3), -sin(\\theta_1)*sin(\\theta_2 + \\theta_3), -cos(\\theta_1)],\n",
       "[                                     0,                                       0,              0,               sin(\\theta_2 + \\theta_3),                cos(\\theta_2 + \\theta_3),              0]])"
      ]
     },
     "metadata": {},
     "output_type": "display_data"
    },
    {
     "data": {
      "text/latex": [
       "$\\displaystyle ^eJ_{e}$"
      ],
      "text/plain": [
       "^eJ_e"
      ]
     },
     "metadata": {},
     "output_type": "display_data"
    },
    {
     "data": {
      "text/latex": [
       "$\\displaystyle \\left[\\begin{matrix}0 & L_{2} \\sin{\\left(\\theta_{3} \\right)} & 0\\\\0 & L_{2} \\cos{\\left(\\theta_{3} \\right)} + L_{3} & L_{3}\\\\- L_{2} \\cos{\\left(\\theta_{2} \\right)} - L_{3} \\cos{\\left(\\theta_{2} + \\theta_{3} \\right)} & 0 & 0\\\\\\sin{\\left(\\theta_{2} + \\theta_{3} \\right)} & 0 & 0\\\\\\cos{\\left(\\theta_{2} + \\theta_{3} \\right)} & 0 & 0\\\\0 & 1 & 1\\end{matrix}\\right]$"
      ],
      "text/plain": [
       "Matrix([\n",
       "[                                              0,      L2*sin(\\theta_3),  0],\n",
       "[                                              0, L2*cos(\\theta_3) + L3, L3],\n",
       "[-L2*cos(\\theta_2) - L3*cos(\\theta_2 + \\theta_3),                     0,  0],\n",
       "[                       sin(\\theta_2 + \\theta_3),                     0,  0],\n",
       "[                       cos(\\theta_2 + \\theta_3),                     0,  0],\n",
       "[                                              0,                     1,  1]])"
      ]
     },
     "metadata": {},
     "output_type": "display_data"
    },
    {
     "data": {
      "text/latex": [
       "$\\displaystyle ^0J_{}$"
      ],
      "text/plain": [
       "^0J_"
      ]
     },
     "metadata": {},
     "output_type": "display_data"
    },
    {
     "data": {
      "text/latex": [
       "$\\displaystyle \\left[\\begin{matrix}- \\left(L_{2} \\cos{\\left(\\theta_{2} \\right)} + L_{3} \\cos{\\left(\\theta_{2} + \\theta_{3} \\right)}\\right) \\sin{\\left(\\theta_{1} \\right)} & - \\left(L_{2} \\sin{\\left(\\theta_{2} \\right)} + L_{3} \\sin{\\left(\\theta_{2} + \\theta_{3} \\right)}\\right) \\cos{\\left(\\theta_{1} \\right)} & - L_{3} \\sin{\\left(\\theta_{2} + \\theta_{3} \\right)} \\cos{\\left(\\theta_{1} \\right)}\\\\\\left(L_{2} \\cos{\\left(\\theta_{2} \\right)} + L_{3} \\cos{\\left(\\theta_{2} + \\theta_{3} \\right)}\\right) \\cos{\\left(\\theta_{1} \\right)} & - \\left(L_{2} \\sin{\\left(\\theta_{2} \\right)} + L_{3} \\sin{\\left(\\theta_{2} + \\theta_{3} \\right)}\\right) \\sin{\\left(\\theta_{1} \\right)} & - L_{3} \\sin{\\left(\\theta_{1} \\right)} \\sin{\\left(\\theta_{2} + \\theta_{3} \\right)}\\\\0 & L_{2} \\cos{\\left(\\theta_{2} \\right)} + L_{3} \\cos{\\left(\\theta_{2} + \\theta_{3} \\right)} & L_{3} \\cos{\\left(\\theta_{2} + \\theta_{3} \\right)}\\\\0 & \\sin{\\left(\\theta_{1} \\right)} & \\sin{\\left(\\theta_{1} \\right)}\\\\0 & - \\cos{\\left(\\theta_{1} \\right)} & - \\cos{\\left(\\theta_{1} \\right)}\\\\1 & 0 & 0\\end{matrix}\\right]$"
      ],
      "text/plain": [
       "Matrix([\n",
       "[-(L2*cos(\\theta_2) + L3*cos(\\theta_2 + \\theta_3))*sin(\\theta_1), -(L2*sin(\\theta_2) + L3*sin(\\theta_2 + \\theta_3))*cos(\\theta_1), -L3*sin(\\theta_2 + \\theta_3)*cos(\\theta_1)],\n",
       "[ (L2*cos(\\theta_2) + L3*cos(\\theta_2 + \\theta_3))*cos(\\theta_1), -(L2*sin(\\theta_2) + L3*sin(\\theta_2 + \\theta_3))*sin(\\theta_1), -L3*sin(\\theta_1)*sin(\\theta_2 + \\theta_3)],\n",
       "[                                                              0,                  L2*cos(\\theta_2) + L3*cos(\\theta_2 + \\theta_3),                L3*cos(\\theta_2 + \\theta_3)],\n",
       "[                                                              0,                                                   sin(\\theta_1),                              sin(\\theta_1)],\n",
       "[                                                              0,                                                  -cos(\\theta_1),                             -cos(\\theta_1)],\n",
       "[                                                              1,                                                               0,                                          0]])"
      ]
     },
     "metadata": {},
     "output_type": "display_data"
    }
   ],
   "source": [
    "# 4.6.2\n",
    " \n",
    "omega = Matrix([0, 0, 0])\n",
    "v = Matrix([0, 0, 0])\n",
    "\n",
    "omega_11, v_11 = revolute_joint(frame = 1, \n",
    "                                theta_dot = theta1_dot, \n",
    "                                transform_low_high = T01, \n",
    "                                omega = omega, v = v,\n",
    "                               alias = alias)\n",
    "omega_22, v_22 = revolute_joint(frame = 2, \n",
    "                                theta_dot = theta2_dot, \n",
    "                                transform_low_high = T12, \n",
    "                                omega = omega_11, v = v_11,\n",
    "                               alias = alias)\n",
    "omega_33, v_33 = revolute_joint(frame = 3, \n",
    "                                theta_dot = theta3_dot, \n",
    "                                transform_low_high = T23, \n",
    "                                omega = omega_22, v = v_22,\n",
    "                               alias = alias)\n",
    "\n",
    "# For the end effector\n",
    "omega_ee, v_ee = revolute_joint(frame = 'e', \n",
    "                                theta_dot = thetae_dot, \n",
    "                                transform_low_high = T3E, \n",
    "                                omega = omega_33, v = v_33,\n",
    "                               alias = alias)\n",
    "\n",
    "# This will work as well\n",
    "# omega_ee, v_ee = prismatic_joint(frame = 'e', transform_low_high = T3E, omega = omega_33, v = v_33)\n",
    "\n",
    "Jee, J0 = Jacobian(parameters = [theta1_dot, theta2_dot, theta3_dot], \n",
    "                   v_ee = v_ee, omega_ee = omega_ee, \n",
    "                   transform_low_high = T0E, Display_all_details = True, alias = alias)\n"
   ]
  },
  {
   "cell_type": "markdown",
   "id": "dae51b91",
   "metadata": {},
   "source": [
    "### Tut 2.6.3"
   ]
  },
  {
   "cell_type": "code",
   "execution_count": 15,
   "id": "7ce0260c",
   "metadata": {},
   "outputs": [],
   "source": [
    "t = symbols('t')\n",
    "d1 = Function(r\"d_1\")(t)\n",
    "d1_dot = diff(d1, t)\n",
    "d1_ddot = diff(d1, t, t)\n",
    "\n",
    "theta2 = Function(r\"\\theta_2\")(t)\n",
    "theta2_dot = diff(theta2, t)\n",
    "theta2_ddot = diff(theta2, t, t)\n",
    "\n",
    "theta3 = Function(r\"\\theta_3\")(t)\n",
    "theta3_dot = diff(theta3, t)\n",
    "theta3_ddot = diff(theta3, t, t)\n",
    "\n",
    "thetae = Function(r\"\\theta_e\")(t)\n",
    "thetae_dot = diff(thetae, t)\n",
    "thetae_ddot = diff(thetae, t, t)\n",
    "\n",
    "\n",
    "L1 = symbols('L1')\n",
    "L2 = symbols('L2')\n",
    "\n",
    "alias = {}\n",
    "\n",
    "# display as theta dot instead of d(theta)/dt, and ignore dependency (t)\n",
    "alias.update({d1: symbols(r\"d_1\"),\n",
    "              d1_dot: symbols(r\"\\dot{d_1}\"),\n",
    "              d1_ddot: symbols(r\"\\ddot{d_1}\"),\n",
    "              theta2: symbols(r\"\\theta_2\"),\n",
    "              theta2_dot: symbols(r\"\\dot{\\theta_2}\"),\n",
    "              theta2_ddot: symbols(r\"\\ddot{\\theta_2}\"),\n",
    "              theta3: symbols(r\"\\theta_3\"),\n",
    "              theta3_dot: symbols(r\"\\dot{\\theta_3}\"),\n",
    "              theta3_ddot: symbols(r\"\\ddot{\\theta_3}\"),\n",
    "              thetae: symbols(r\"\\theta_e\"),\n",
    "              thetae_dot: symbols(r\"\\dot{\\theta_e}\"),\n",
    "              thetae_ddot: symbols(r\"\\ddot{\\theta_e}\")\n",
    "             })"
   ]
  },
  {
   "cell_type": "code",
   "execution_count": 16,
   "id": "e6ce2a43",
   "metadata": {},
   "outputs": [
    {
     "data": {
      "text/latex": [
       "$\\displaystyle ^0T_{1}$"
      ],
      "text/plain": [
       "^0T_1"
      ]
     },
     "metadata": {},
     "output_type": "display_data"
    },
    {
     "data": {
      "text/latex": [
       "$\\displaystyle \\left[\\begin{matrix}1 & 0 & 0 & 0\\\\0 & 1 & 0 & 0\\\\0 & 0 & 1 & L_{0} + d_{1}{\\left(t \\right)}\\\\0 & 0 & 0 & 1\\end{matrix}\\right]$"
      ],
      "text/plain": [
       "Matrix([\n",
       "[1, 0, 0,           0],\n",
       "[0, 1, 0,           0],\n",
       "[0, 0, 1, L0 + d_1(t)],\n",
       "[0, 0, 0,           1]])"
      ]
     },
     "metadata": {},
     "output_type": "display_data"
    },
    {
     "data": {
      "text/latex": [
       "$\\displaystyle ^1T_{2}$"
      ],
      "text/plain": [
       "^1T_2"
      ]
     },
     "metadata": {},
     "output_type": "display_data"
    },
    {
     "data": {
      "text/latex": [
       "$\\displaystyle \\left[\\begin{matrix}\\cos{\\left(\\theta_{2}{\\left(t \\right)} \\right)} & - \\sin{\\left(\\theta_{2}{\\left(t \\right)} \\right)} & 0 & L_{1}\\\\\\sin{\\left(\\theta_{2}{\\left(t \\right)} \\right)} & \\cos{\\left(\\theta_{2}{\\left(t \\right)} \\right)} & 0 & 0\\\\0 & 0 & 1 & 0\\\\0 & 0 & 0 & 1\\end{matrix}\\right]$"
      ],
      "text/plain": [
       "Matrix([\n",
       "[cos(\\theta_2(t)), -sin(\\theta_2(t)), 0, L1],\n",
       "[sin(\\theta_2(t)),  cos(\\theta_2(t)), 0,  0],\n",
       "[               0,                 0, 1,  0],\n",
       "[               0,                 0, 0,  1]])"
      ]
     },
     "metadata": {},
     "output_type": "display_data"
    },
    {
     "data": {
      "text/latex": [
       "$\\displaystyle ^2T_{3}$"
      ],
      "text/plain": [
       "^2T_3"
      ]
     },
     "metadata": {},
     "output_type": "display_data"
    },
    {
     "data": {
      "text/latex": [
       "$\\displaystyle \\left[\\begin{matrix}\\cos{\\left(\\theta_{3}{\\left(t \\right)} \\right)} & - \\sin{\\left(\\theta_{3}{\\left(t \\right)} \\right)} & 0 & L_{2}\\\\\\sin{\\left(\\theta_{3}{\\left(t \\right)} \\right)} & \\cos{\\left(\\theta_{3}{\\left(t \\right)} \\right)} & 0 & 0\\\\0 & 0 & 1 & 0\\\\0 & 0 & 0 & 1\\end{matrix}\\right]$"
      ],
      "text/plain": [
       "Matrix([\n",
       "[cos(\\theta_3(t)), -sin(\\theta_3(t)), 0, L2],\n",
       "[sin(\\theta_3(t)),  cos(\\theta_3(t)), 0,  0],\n",
       "[               0,                 0, 1,  0],\n",
       "[               0,                 0, 0,  1]])"
      ]
     },
     "metadata": {},
     "output_type": "display_data"
    },
    {
     "data": {
      "text/latex": [
       "$\\displaystyle ^3T_{E}$"
      ],
      "text/plain": [
       "^3T_E"
      ]
     },
     "metadata": {},
     "output_type": "display_data"
    },
    {
     "data": {
      "text/latex": [
       "$\\displaystyle \\left[\\begin{matrix}1 & 0 & 0 & L_{3}\\\\0 & 1 & 0 & 0\\\\0 & 0 & 1 & 0\\\\0 & 0 & 0 & 1\\end{matrix}\\right]$"
      ],
      "text/plain": [
       "Matrix([\n",
       "[1, 0, 0, L3],\n",
       "[0, 1, 0,  0],\n",
       "[0, 0, 1,  0],\n",
       "[0, 0, 0,  1]])"
      ]
     },
     "metadata": {},
     "output_type": "display_data"
    },
    {
     "data": {
      "text/latex": [
       "$\\displaystyle ^0T_{E}$"
      ],
      "text/plain": [
       "^0T_E"
      ]
     },
     "metadata": {},
     "output_type": "display_data"
    },
    {
     "data": {
      "text/latex": [
       "$\\displaystyle \\left[\\begin{matrix}\\cos{\\left(\\theta_{2}{\\left(t \\right)} + \\theta_{3}{\\left(t \\right)} \\right)} & - \\sin{\\left(\\theta_{2}{\\left(t \\right)} + \\theta_{3}{\\left(t \\right)} \\right)} & 0 & L_{1} + L_{2} \\cos{\\left(\\theta_{2}{\\left(t \\right)} \\right)} + L_{3} \\cos{\\left(\\theta_{2}{\\left(t \\right)} + \\theta_{3}{\\left(t \\right)} \\right)}\\\\\\sin{\\left(\\theta_{2}{\\left(t \\right)} + \\theta_{3}{\\left(t \\right)} \\right)} & \\cos{\\left(\\theta_{2}{\\left(t \\right)} + \\theta_{3}{\\left(t \\right)} \\right)} & 0 & L_{2} \\sin{\\left(\\theta_{2}{\\left(t \\right)} \\right)} + L_{3} \\sin{\\left(\\theta_{2}{\\left(t \\right)} + \\theta_{3}{\\left(t \\right)} \\right)}\\\\0 & 0 & 1 & L_{0} + d_{1}{\\left(t \\right)}\\\\0 & 0 & 0 & 1\\end{matrix}\\right]$"
      ],
      "text/plain": [
       "Matrix([\n",
       "[cos(\\theta_2(t) + \\theta_3(t)), -sin(\\theta_2(t) + \\theta_3(t)), 0, L1 + L2*cos(\\theta_2(t)) + L3*cos(\\theta_2(t) + \\theta_3(t))],\n",
       "[sin(\\theta_2(t) + \\theta_3(t)),  cos(\\theta_2(t) + \\theta_3(t)), 0,      L2*sin(\\theta_2(t)) + L3*sin(\\theta_2(t) + \\theta_3(t))],\n",
       "[                             0,                               0, 1,                                                  L0 + d_1(t)],\n",
       "[                             0,                               0, 0,                                                            1]])"
      ]
     },
     "metadata": {},
     "output_type": "display_data"
    },
    {
     "data": {
      "text/plain": [
       "'The position of the end effector'"
      ]
     },
     "metadata": {},
     "output_type": "display_data"
    },
    {
     "data": {
      "text/latex": [
       "$\\displaystyle \\left[\\begin{matrix}L_{1} + L_{2} \\cos{\\left(\\theta_{2}{\\left(t \\right)} \\right)} + L_{3} \\cos{\\left(\\theta_{2}{\\left(t \\right)} + \\theta_{3}{\\left(t \\right)} \\right)}\\\\L_{2} \\sin{\\left(\\theta_{2}{\\left(t \\right)} \\right)} + L_{3} \\sin{\\left(\\theta_{2}{\\left(t \\right)} + \\theta_{3}{\\left(t \\right)} \\right)}\\\\L_{0} + d_{1}{\\left(t \\right)}\\end{matrix}\\right]$"
      ],
      "text/plain": [
       "Matrix([\n",
       "[L1 + L2*cos(\\theta_2(t)) + L3*cos(\\theta_2(t) + \\theta_3(t))],\n",
       "[     L2*sin(\\theta_2(t)) + L3*sin(\\theta_2(t) + \\theta_3(t))],\n",
       "[                                                 L0 + d_1(t)]])"
      ]
     },
     "metadata": {},
     "output_type": "display_data"
    }
   ],
   "source": [
    "# Tut 2.6.3\n",
    "\n",
    "DH1 = [0, 0, d1 + symbols('L0'), 0]\n",
    "T01 = Tlink(DH1)\n",
    "symprint('T',0, 1)\n",
    "display(T01)\n",
    "\n",
    "DH2 = [symbols('L1'), 0, 0, theta2]\n",
    "T12 = Tlink(DH2)\n",
    "symprint('T',1, 2)\n",
    "display(T12)\n",
    "\n",
    "DH3 = [symbols('L2'), 0, 0, theta3]\n",
    "T23 = Tlink(DH3)\n",
    "symprint('T',2, 3)\n",
    "display(T23)\n",
    "\n",
    "DHE = [symbols('L3'), 0, 0, 0]\n",
    "T3E = Tlink(DHE)\n",
    "symprint('T',3, 'E')\n",
    "display(T3E)\n",
    "\n",
    "symprint('T',0, 'E')\n",
    "T0E = T01*T12*T23*T3E \n",
    "display(simplify(T0E))\n",
    "\n",
    "display('The position of the end effector')\n",
    "display(Position_finder(simplify(T01*T12*T23*T3E)))\n"
   ]
  },
  {
   "cell_type": "code",
   "execution_count": 17,
   "id": "a9bc922e",
   "metadata": {},
   "outputs": [
    {
     "data": {
      "text/latex": [
       "$\\displaystyle ^1\\Omega_{1}$"
      ],
      "text/plain": [
       "^1\\Omega_1"
      ]
     },
     "metadata": {},
     "output_type": "display_data"
    },
    {
     "data": {
      "text/latex": [
       "$\\displaystyle \\left[\\begin{matrix}0\\\\0\\\\0\\end{matrix}\\right]$"
      ],
      "text/plain": [
       "Matrix([\n",
       "[0],\n",
       "[0],\n",
       "[0]])"
      ]
     },
     "metadata": {},
     "output_type": "display_data"
    },
    {
     "data": {
      "text/latex": [
       "$\\displaystyle ^1V_{1}$"
      ],
      "text/plain": [
       "^1V_1"
      ]
     },
     "metadata": {},
     "output_type": "display_data"
    },
    {
     "data": {
      "text/latex": [
       "$\\displaystyle \\left[\\begin{matrix}0\\\\0\\\\\\dot{d_1}\\end{matrix}\\right]$"
      ],
      "text/plain": [
       "Matrix([\n",
       "[        0],\n",
       "[        0],\n",
       "[\\dot{d_1}]])"
      ]
     },
     "metadata": {},
     "output_type": "display_data"
    },
    {
     "data": {
      "text/latex": [
       "$\\displaystyle ^2\\Omega_{2}$"
      ],
      "text/plain": [
       "^2\\Omega_2"
      ]
     },
     "metadata": {},
     "output_type": "display_data"
    },
    {
     "data": {
      "text/latex": [
       "$\\displaystyle \\left[\\begin{matrix}0\\\\0\\\\\\dot{\\theta_2}\\end{matrix}\\right]$"
      ],
      "text/plain": [
       "Matrix([\n",
       "[             0],\n",
       "[             0],\n",
       "[\\dot{\\theta_2}]])"
      ]
     },
     "metadata": {},
     "output_type": "display_data"
    },
    {
     "data": {
      "text/latex": [
       "$\\displaystyle ^2V_{2}$"
      ],
      "text/plain": [
       "^2V_2"
      ]
     },
     "metadata": {},
     "output_type": "display_data"
    },
    {
     "data": {
      "text/latex": [
       "$\\displaystyle \\left[\\begin{matrix}0\\\\0\\\\\\dot{d_1}\\end{matrix}\\right]$"
      ],
      "text/plain": [
       "Matrix([\n",
       "[        0],\n",
       "[        0],\n",
       "[\\dot{d_1}]])"
      ]
     },
     "metadata": {},
     "output_type": "display_data"
    },
    {
     "data": {
      "text/latex": [
       "$\\displaystyle ^3\\Omega_{3}$"
      ],
      "text/plain": [
       "^3\\Omega_3"
      ]
     },
     "metadata": {},
     "output_type": "display_data"
    },
    {
     "data": {
      "text/latex": [
       "$\\displaystyle \\left[\\begin{matrix}0\\\\0\\\\\\dot{\\theta_2} + \\dot{\\theta_3}\\end{matrix}\\right]$"
      ],
      "text/plain": [
       "Matrix([\n",
       "[                              0],\n",
       "[                              0],\n",
       "[\\dot{\\theta_2} + \\dot{\\theta_3}]])"
      ]
     },
     "metadata": {},
     "output_type": "display_data"
    },
    {
     "data": {
      "text/latex": [
       "$\\displaystyle ^3V_{3}$"
      ],
      "text/plain": [
       "^3V_3"
      ]
     },
     "metadata": {},
     "output_type": "display_data"
    },
    {
     "data": {
      "text/latex": [
       "$\\displaystyle \\left[\\begin{matrix}L_{2} \\dot{\\theta_2} \\sin{\\left(\\theta_{3} \\right)}\\\\L_{2} \\dot{\\theta_2} \\cos{\\left(\\theta_{3} \\right)}\\\\\\dot{d_1}\\end{matrix}\\right]$"
      ],
      "text/plain": [
       "Matrix([\n",
       "[L2*\\dot{\\theta_2}*sin(\\theta_3)],\n",
       "[L2*\\dot{\\theta_2}*cos(\\theta_3)],\n",
       "[                      \\dot{d_1}]])"
      ]
     },
     "metadata": {},
     "output_type": "display_data"
    },
    {
     "data": {
      "text/latex": [
       "$\\displaystyle ^e\\Omega_{e}$"
      ],
      "text/plain": [
       "^e\\Omega_e"
      ]
     },
     "metadata": {},
     "output_type": "display_data"
    },
    {
     "data": {
      "text/latex": [
       "$\\displaystyle \\left[\\begin{matrix}0\\\\0\\\\\\dot{\\theta_2} + \\dot{\\theta_3}\\end{matrix}\\right]$"
      ],
      "text/plain": [
       "Matrix([\n",
       "[                              0],\n",
       "[                              0],\n",
       "[\\dot{\\theta_2} + \\dot{\\theta_3}]])"
      ]
     },
     "metadata": {},
     "output_type": "display_data"
    },
    {
     "data": {
      "text/latex": [
       "$\\displaystyle ^eV_{e}$"
      ],
      "text/plain": [
       "^eV_e"
      ]
     },
     "metadata": {},
     "output_type": "display_data"
    },
    {
     "data": {
      "text/latex": [
       "$\\displaystyle \\left[\\begin{matrix}L_{2} \\dot{\\theta_2} \\sin{\\left(\\theta_{3} \\right)}\\\\L_{2} \\dot{\\theta_2} \\cos{\\left(\\theta_{3} \\right)} + L_{3} \\left(\\dot{\\theta_2} + \\dot{\\theta_3}\\right)\\\\\\dot{d_1}\\end{matrix}\\right]$"
      ],
      "text/plain": [
       "Matrix([\n",
       "[                                       L2*\\dot{\\theta_2}*sin(\\theta_3)],\n",
       "[L2*\\dot{\\theta_2}*cos(\\theta_3) + L3*(\\dot{\\theta_2} + \\dot{\\theta_3})],\n",
       "[                                                             \\dot{d_1}]])"
      ]
     },
     "metadata": {},
     "output_type": "display_data"
    },
    {
     "data": {
      "text/latex": [
       "$\\displaystyle \\left[\\begin{matrix}\\cos{\\left(\\theta_{2} + \\theta_{3} \\right)} & - \\sin{\\left(\\theta_{2} + \\theta_{3} \\right)} & 0 & 0 & 0 & 0\\\\\\sin{\\left(\\theta_{2} + \\theta_{3} \\right)} & \\cos{\\left(\\theta_{2} + \\theta_{3} \\right)} & 0 & 0 & 0 & 0\\\\0 & 0 & 1 & 0 & 0 & 0\\\\0 & 0 & 0 & \\cos{\\left(\\theta_{2} + \\theta_{3} \\right)} & - \\sin{\\left(\\theta_{2} + \\theta_{3} \\right)} & 0\\\\0 & 0 & 0 & \\sin{\\left(\\theta_{2} + \\theta_{3} \\right)} & \\cos{\\left(\\theta_{2} + \\theta_{3} \\right)} & 0\\\\0 & 0 & 0 & 0 & 0 & 1\\end{matrix}\\right]$"
      ],
      "text/plain": [
       "Matrix([\n",
       "[cos(\\theta_2 + \\theta_3), -sin(\\theta_2 + \\theta_3), 0,                        0,                         0, 0],\n",
       "[sin(\\theta_2 + \\theta_3),  cos(\\theta_2 + \\theta_3), 0,                        0,                         0, 0],\n",
       "[                       0,                         0, 1,                        0,                         0, 0],\n",
       "[                       0,                         0, 0, cos(\\theta_2 + \\theta_3), -sin(\\theta_2 + \\theta_3), 0],\n",
       "[                       0,                         0, 0, sin(\\theta_2 + \\theta_3),  cos(\\theta_2 + \\theta_3), 0],\n",
       "[                       0,                         0, 0,                        0,                         0, 1]])"
      ]
     },
     "metadata": {},
     "output_type": "display_data"
    },
    {
     "data": {
      "text/latex": [
       "$\\displaystyle ^eJ_{e}$"
      ],
      "text/plain": [
       "^eJ_e"
      ]
     },
     "metadata": {},
     "output_type": "display_data"
    },
    {
     "data": {
      "text/latex": [
       "$\\displaystyle \\left[\\begin{matrix}0 & L_{2} \\sin{\\left(\\theta_{3} \\right)} & 0\\\\0 & L_{2} \\cos{\\left(\\theta_{3} \\right)} + L_{3} & L_{3}\\\\1 & 0 & 0\\\\0 & 0 & 0\\\\0 & 0 & 0\\\\0 & 1 & 1\\end{matrix}\\right]$"
      ],
      "text/plain": [
       "Matrix([\n",
       "[0,      L2*sin(\\theta_3),  0],\n",
       "[0, L2*cos(\\theta_3) + L3, L3],\n",
       "[1,                     0,  0],\n",
       "[0,                     0,  0],\n",
       "[0,                     0,  0],\n",
       "[0,                     1,  1]])"
      ]
     },
     "metadata": {},
     "output_type": "display_data"
    },
    {
     "data": {
      "text/latex": [
       "$\\displaystyle ^0J_{}$"
      ],
      "text/plain": [
       "^0J_"
      ]
     },
     "metadata": {},
     "output_type": "display_data"
    },
    {
     "data": {
      "text/latex": [
       "$\\displaystyle \\left[\\begin{matrix}0 & - L_{2} \\sin{\\left(\\theta_{2} \\right)} - L_{3} \\sin{\\left(\\theta_{2} + \\theta_{3} \\right)} & - L_{3} \\sin{\\left(\\theta_{2} + \\theta_{3} \\right)}\\\\0 & L_{2} \\cos{\\left(\\theta_{2} \\right)} + L_{3} \\cos{\\left(\\theta_{2} + \\theta_{3} \\right)} & L_{3} \\cos{\\left(\\theta_{2} + \\theta_{3} \\right)}\\\\1 & 0 & 0\\\\0 & 0 & 0\\\\0 & 0 & 0\\\\0 & 1 & 1\\end{matrix}\\right]$"
      ],
      "text/plain": [
       "Matrix([\n",
       "[0, -L2*sin(\\theta_2) - L3*sin(\\theta_2 + \\theta_3), -L3*sin(\\theta_2 + \\theta_3)],\n",
       "[0,  L2*cos(\\theta_2) + L3*cos(\\theta_2 + \\theta_3),  L3*cos(\\theta_2 + \\theta_3)],\n",
       "[1,                                               0,                            0],\n",
       "[0,                                               0,                            0],\n",
       "[0,                                               0,                            0],\n",
       "[0,                                               1,                            1]])"
      ]
     },
     "metadata": {},
     "output_type": "display_data"
    }
   ],
   "source": [
    "# 4.6.3\n",
    "\n",
    "omega = Matrix([0, 0, 0])\n",
    "v = Matrix([0, 0, 0])\n",
    "\n",
    "omega_11, v_11 = prismatic_joint(frame = 1, d_dot = d1_dot, \n",
    "                                 transform_low_high = T01, \n",
    "                                 omega = omega, v = v,\n",
    "                                alias = alias)\n",
    "\n",
    "omega_22, v_22 = revolute_joint(frame = 2, theta_dot = theta2_dot, \n",
    "                                transform_low_high = T12, \n",
    "                                omega = omega_11, v = v_11,\n",
    "                               alias = alias)\n",
    "\n",
    "omega_33, v_33 = revolute_joint(frame = 3, theta_dot = theta3_dot, \n",
    "                                transform_low_high = T23, \n",
    "                                omega = omega_22, v = v_22,\n",
    "                               alias = alias)\n",
    "\n",
    "# For the end effector\n",
    "omega_ee, v_ee = revolute_joint(frame = 'e', theta_dot = thetae_dot, \n",
    "                                transform_low_high = T3E, \n",
    "                                omega = omega_33, v = v_33,\n",
    "                               alias = alias)\n",
    "\n",
    "# This will work as well\n",
    "# omega_ee, v_ee = prismatic_joint(frame = 'e', transform_low_high = T3E, omega = omega_33, v = v_33)\n",
    "\n",
    "Jee, J0 = Jacobian(parameters = [d1_dot, theta2_dot, theta3_dot], \n",
    "                   v_ee = v_ee, omega_ee = omega_ee, \n",
    "                   transform_low_high = T0E, \n",
    "                   Display_all_details = True,\n",
    "                  alias = alias)"
   ]
  },
  {
   "cell_type": "markdown",
   "id": "e1d779c8",
   "metadata": {},
   "source": [
    "### 2.6.4"
   ]
  },
  {
   "cell_type": "code",
   "execution_count": 18,
   "id": "f45694b8",
   "metadata": {},
   "outputs": [
    {
     "data": {
      "text/latex": [
       "$\\displaystyle ^0T_{1}$"
      ],
      "text/plain": [
       "^0T_1"
      ]
     },
     "metadata": {},
     "output_type": "display_data"
    },
    {
     "data": {
      "text/latex": [
       "$\\displaystyle \\left[\\begin{matrix}\\cos{\\left(\\theta_{1} \\right)} & - \\sin{\\left(\\theta_{1} \\right)} & 0 & 0\\\\\\sin{\\left(\\theta_{1} \\right)} & \\cos{\\left(\\theta_{1} \\right)} & 0 & 0\\\\0 & 0 & 1 & 0\\\\0 & 0 & 0 & 1\\end{matrix}\\right]$"
      ],
      "text/plain": [
       "Matrix([\n",
       "[cos(theta1), -sin(theta1), 0, 0],\n",
       "[sin(theta1),  cos(theta1), 0, 0],\n",
       "[          0,            0, 1, 0],\n",
       "[          0,            0, 0, 1]])"
      ]
     },
     "metadata": {},
     "output_type": "display_data"
    },
    {
     "data": {
      "text/latex": [
       "$\\displaystyle ^1T_{2}$"
      ],
      "text/plain": [
       "^1T_2"
      ]
     },
     "metadata": {},
     "output_type": "display_data"
    },
    {
     "data": {
      "text/latex": [
       "$\\displaystyle \\left[\\begin{matrix}1 & 0 & 0 & L_{2}\\\\0 & 1 & 0 & 0\\\\0 & 0 & 1 & L_{1} + d_{2}\\\\0 & 0 & 0 & 1\\end{matrix}\\right]$"
      ],
      "text/plain": [
       "Matrix([\n",
       "[1, 0, 0,      L2],\n",
       "[0, 1, 0,       0],\n",
       "[0, 0, 1, L1 + d2],\n",
       "[0, 0, 0,       1]])"
      ]
     },
     "metadata": {},
     "output_type": "display_data"
    },
    {
     "data": {
      "text/latex": [
       "$\\displaystyle ^2T_{3}$"
      ],
      "text/plain": [
       "^2T_3"
      ]
     },
     "metadata": {},
     "output_type": "display_data"
    },
    {
     "data": {
      "text/latex": [
       "$\\displaystyle \\left[\\begin{matrix}1 & 0 & 0 & 0\\\\0 & 0 & -1 & - L_{3} - d_{3}\\\\0 & 1 & 0 & 0\\\\0 & 0 & 0 & 1\\end{matrix}\\right]$"
      ],
      "text/plain": [
       "Matrix([\n",
       "[1, 0,  0,        0],\n",
       "[0, 0, -1, -L3 - d3],\n",
       "[0, 1,  0,        0],\n",
       "[0, 0,  0,        1]])"
      ]
     },
     "metadata": {},
     "output_type": "display_data"
    },
    {
     "data": {
      "text/latex": [
       "$\\displaystyle ^0T_{3}$"
      ],
      "text/plain": [
       "^0T_3"
      ]
     },
     "metadata": {},
     "output_type": "display_data"
    },
    {
     "data": {
      "text/latex": [
       "$\\displaystyle \\left[\\begin{matrix}\\cos{\\left(\\theta_{1} \\right)} & 0 & \\sin{\\left(\\theta_{1} \\right)} & L_{2} \\cos{\\left(\\theta_{1} \\right)} + \\left(L_{3} + d_{3}\\right) \\sin{\\left(\\theta_{1} \\right)}\\\\\\sin{\\left(\\theta_{1} \\right)} & 0 & - \\cos{\\left(\\theta_{1} \\right)} & L_{2} \\sin{\\left(\\theta_{1} \\right)} - \\left(L_{3} + d_{3}\\right) \\cos{\\left(\\theta_{1} \\right)}\\\\0 & 1 & 0 & L_{1} + d_{2}\\\\0 & 0 & 0 & 1\\end{matrix}\\right]$"
      ],
      "text/plain": [
       "Matrix([\n",
       "[cos(theta1), 0,  sin(theta1), L2*cos(theta1) + (L3 + d3)*sin(theta1)],\n",
       "[sin(theta1), 0, -cos(theta1), L2*sin(theta1) - (L3 + d3)*cos(theta1)],\n",
       "[          0, 1,            0,                                L1 + d2],\n",
       "[          0, 0,            0,                                      1]])"
      ]
     },
     "metadata": {},
     "output_type": "display_data"
    },
    {
     "data": {
      "text/plain": [
       "'The position of the end effector'"
      ]
     },
     "metadata": {},
     "output_type": "display_data"
    },
    {
     "data": {
      "text/latex": [
       "$\\displaystyle \\left[\\begin{matrix}L_{2} \\cos{\\left(\\theta_{1} \\right)} + \\left(L_{3} + d_{3}\\right) \\sin{\\left(\\theta_{1} \\right)}\\\\L_{2} \\sin{\\left(\\theta_{1} \\right)} - \\left(L_{3} + d_{3}\\right) \\cos{\\left(\\theta_{1} \\right)}\\\\L_{1} + d_{2}\\end{matrix}\\right]$"
      ],
      "text/plain": [
       "Matrix([\n",
       "[L2*cos(theta1) + (L3 + d3)*sin(theta1)],\n",
       "[L2*sin(theta1) - (L3 + d3)*cos(theta1)],\n",
       "[                               L1 + d2]])"
      ]
     },
     "metadata": {},
     "output_type": "display_data"
    }
   ],
   "source": [
    "# Tut 2.6.4\n",
    "\n",
    "DH1 = [0, 0, 0, symbols('theta1')]\n",
    "T01 = Tlink(DH1)\n",
    "symprint('T',0, 1)\n",
    "display(T01)\n",
    "\n",
    "DH2 = [symbols('L2'), 0, symbols('L1') + symbols('d2'), 0]\n",
    "T12 = Tlink(DH2)\n",
    "symprint('T',1, 2)\n",
    "display(T12)\n",
    "\n",
    "DH3 = [0, pi/2, symbols('L3') + symbols('d3'), 0]\n",
    "T23 = Tlink(DH3)\n",
    "symprint('T',2, 3)\n",
    "display(T23)\n",
    "\n",
    "T03 = simplify(T01*T12*T23)\n",
    "symprint('T',0, '3')\n",
    "display(T03)\n",
    "\n",
    "display('The position of the end effector')\n",
    "display(Position_finder(simplify(T01*T12*T23)))\n"
   ]
  },
  {
   "cell_type": "code",
   "execution_count": 19,
   "id": "73d4673e",
   "metadata": {},
   "outputs": [
    {
     "data": {
      "text/latex": [
       "$\\displaystyle ^0T_{1}$"
      ],
      "text/plain": [
       "^0T_1"
      ]
     },
     "metadata": {},
     "output_type": "display_data"
    },
    {
     "data": {
      "text/latex": [
       "$\\displaystyle \\left[\\begin{matrix}\\cos{\\left(\\theta_{1} \\right)} & - \\sin{\\left(\\theta_{1} \\right)} & 0 & 0\\\\\\sin{\\left(\\theta_{1} \\right)} & \\cos{\\left(\\theta_{1} \\right)} & 0 & 0\\\\0 & 0 & 1 & 0\\\\0 & 0 & 0 & 1\\end{matrix}\\right]$"
      ],
      "text/plain": [
       "Matrix([\n",
       "[cos(theta1), -sin(theta1), 0, 0],\n",
       "[sin(theta1),  cos(theta1), 0, 0],\n",
       "[          0,            0, 1, 0],\n",
       "[          0,            0, 0, 1]])"
      ]
     },
     "metadata": {},
     "output_type": "display_data"
    },
    {
     "data": {
      "text/latex": [
       "$\\displaystyle ^1T_{2}$"
      ],
      "text/plain": [
       "^1T_2"
      ]
     },
     "metadata": {},
     "output_type": "display_data"
    },
    {
     "data": {
      "text/latex": [
       "$\\displaystyle \\left[\\begin{matrix}1 & 0 & 0 & 0\\\\0 & 1 & 0 & 0\\\\0 & 0 & 1 & L_{1} + d_{2}\\\\0 & 0 & 0 & 1\\end{matrix}\\right]$"
      ],
      "text/plain": [
       "Matrix([\n",
       "[1, 0, 0,       0],\n",
       "[0, 1, 0,       0],\n",
       "[0, 0, 1, L1 + d2],\n",
       "[0, 0, 0,       1]])"
      ]
     },
     "metadata": {},
     "output_type": "display_data"
    },
    {
     "data": {
      "text/latex": [
       "$\\displaystyle ^2T_{3}$"
      ],
      "text/plain": [
       "^2T_3"
      ]
     },
     "metadata": {},
     "output_type": "display_data"
    },
    {
     "data": {
      "text/latex": [
       "$\\displaystyle \\left[\\begin{matrix}1 & 0 & 0 & L_{2}\\\\0 & 0 & -1 & - L_{3} - d_{3}\\\\0 & 1 & 0 & 0\\\\0 & 0 & 0 & 1\\end{matrix}\\right]$"
      ],
      "text/plain": [
       "Matrix([\n",
       "[1, 0,  0,       L2],\n",
       "[0, 0, -1, -L3 - d3],\n",
       "[0, 1,  0,        0],\n",
       "[0, 0,  0,        1]])"
      ]
     },
     "metadata": {},
     "output_type": "display_data"
    },
    {
     "data": {
      "text/latex": [
       "$\\displaystyle ^0T_{3}$"
      ],
      "text/plain": [
       "^0T_3"
      ]
     },
     "metadata": {},
     "output_type": "display_data"
    },
    {
     "data": {
      "text/latex": [
       "$\\displaystyle \\left[\\begin{matrix}\\cos{\\left(\\theta_{1} \\right)} & 0 & \\sin{\\left(\\theta_{1} \\right)} & L_{2} \\cos{\\left(\\theta_{1} \\right)} + \\left(L_{3} + d_{3}\\right) \\sin{\\left(\\theta_{1} \\right)}\\\\\\sin{\\left(\\theta_{1} \\right)} & 0 & - \\cos{\\left(\\theta_{1} \\right)} & L_{2} \\sin{\\left(\\theta_{1} \\right)} - \\left(L_{3} + d_{3}\\right) \\cos{\\left(\\theta_{1} \\right)}\\\\0 & 1 & 0 & L_{1} + d_{2}\\\\0 & 0 & 0 & 1\\end{matrix}\\right]$"
      ],
      "text/plain": [
       "Matrix([\n",
       "[cos(theta1), 0,  sin(theta1), L2*cos(theta1) + (L3 + d3)*sin(theta1)],\n",
       "[sin(theta1), 0, -cos(theta1), L2*sin(theta1) - (L3 + d3)*cos(theta1)],\n",
       "[          0, 1,            0,                                L1 + d2],\n",
       "[          0, 0,            0,                                      1]])"
      ]
     },
     "metadata": {},
     "output_type": "display_data"
    },
    {
     "data": {
      "text/plain": [
       "'The position of the end effector'"
      ]
     },
     "metadata": {},
     "output_type": "display_data"
    },
    {
     "data": {
      "text/latex": [
       "$\\displaystyle \\left[\\begin{matrix}L_{2} \\cos{\\left(\\theta_{1} \\right)} + \\left(L_{3} + d_{3}\\right) \\sin{\\left(\\theta_{1} \\right)}\\\\L_{2} \\sin{\\left(\\theta_{1} \\right)} - \\left(L_{3} + d_{3}\\right) \\cos{\\left(\\theta_{1} \\right)}\\\\L_{1} + d_{2}\\end{matrix}\\right]$"
      ],
      "text/plain": [
       "Matrix([\n",
       "[L2*cos(theta1) + (L3 + d3)*sin(theta1)],\n",
       "[L2*sin(theta1) - (L3 + d3)*cos(theta1)],\n",
       "[                               L1 + d2]])"
      ]
     },
     "metadata": {},
     "output_type": "display_data"
    }
   ],
   "source": [
    "# Tut 2.6.4 sample answer\n",
    "\n",
    "DH1 = [0, 0, 0, symbols('theta1')]\n",
    "T01 = Tlink(DH1)\n",
    "symprint('T',0, 1)\n",
    "display(T01)\n",
    "\n",
    "DH2 = [0, 0, symbols('L1') + symbols('d2'), 0]\n",
    "T12 = Tlink(DH2)\n",
    "symprint('T',1, 2)\n",
    "display(T12)\n",
    "\n",
    "DH3 = [symbols('L2'), pi/2, symbols('L3') + symbols('d3'), 0]\n",
    "T23 = Tlink(DH3)\n",
    "symprint('T',2, 3)\n",
    "display(T23)\n",
    "\n",
    "symprint('T',0, '3')\n",
    "T03 = simplify(T01*T12*T23)\n",
    "display(T03)\n",
    "\n",
    "display('The position of the end effector')\n",
    "display(Position_finder(simplify(T01*T12*T23)))"
   ]
  },
  {
   "cell_type": "code",
   "execution_count": 20,
   "id": "913f715f",
   "metadata": {},
   "outputs": [
    {
     "data": {
      "text/latex": [
       "$\\displaystyle ^1\\Omega_{1}$"
      ],
      "text/plain": [
       "^1\\Omega_1"
      ]
     },
     "metadata": {},
     "output_type": "display_data"
    },
    {
     "data": {
      "text/latex": [
       "$\\displaystyle \\left[\\begin{matrix}0\\\\0\\\\\\dot{\\theta_1}\\end{matrix}\\right]$"
      ],
      "text/plain": [
       "Matrix([\n",
       "[             0],\n",
       "[             0],\n",
       "[\\dot{\\theta_1}]])"
      ]
     },
     "metadata": {},
     "output_type": "display_data"
    },
    {
     "data": {
      "text/latex": [
       "$\\displaystyle ^1V_{1}$"
      ],
      "text/plain": [
       "^1V_1"
      ]
     },
     "metadata": {},
     "output_type": "display_data"
    },
    {
     "data": {
      "text/latex": [
       "$\\displaystyle \\left[\\begin{matrix}0\\\\0\\\\0\\end{matrix}\\right]$"
      ],
      "text/plain": [
       "Matrix([\n",
       "[0],\n",
       "[0],\n",
       "[0]])"
      ]
     },
     "metadata": {},
     "output_type": "display_data"
    },
    {
     "data": {
      "text/latex": [
       "$\\displaystyle ^2\\Omega_{2}$"
      ],
      "text/plain": [
       "^2\\Omega_2"
      ]
     },
     "metadata": {},
     "output_type": "display_data"
    },
    {
     "data": {
      "text/latex": [
       "$\\displaystyle \\left[\\begin{matrix}0\\\\0\\\\\\dot{\\theta_1}\\end{matrix}\\right]$"
      ],
      "text/plain": [
       "Matrix([\n",
       "[             0],\n",
       "[             0],\n",
       "[\\dot{\\theta_1}]])"
      ]
     },
     "metadata": {},
     "output_type": "display_data"
    },
    {
     "data": {
      "text/latex": [
       "$\\displaystyle ^2V_{2}$"
      ],
      "text/plain": [
       "^2V_2"
      ]
     },
     "metadata": {},
     "output_type": "display_data"
    },
    {
     "data": {
      "text/latex": [
       "$\\displaystyle \\left[\\begin{matrix}0\\\\0\\\\\\dot{d_2}\\end{matrix}\\right]$"
      ],
      "text/plain": [
       "Matrix([\n",
       "[        0],\n",
       "[        0],\n",
       "[\\dot{d_2}]])"
      ]
     },
     "metadata": {},
     "output_type": "display_data"
    },
    {
     "data": {
      "text/latex": [
       "$\\displaystyle ^3\\Omega_{3}$"
      ],
      "text/plain": [
       "^3\\Omega_3"
      ]
     },
     "metadata": {},
     "output_type": "display_data"
    },
    {
     "data": {
      "text/latex": [
       "$\\displaystyle \\left[\\begin{matrix}0\\\\\\dot{\\theta_1}\\\\0\\end{matrix}\\right]$"
      ],
      "text/plain": [
       "Matrix([\n",
       "[             0],\n",
       "[\\dot{\\theta_1}],\n",
       "[             0]])"
      ]
     },
     "metadata": {},
     "output_type": "display_data"
    },
    {
     "data": {
      "text/latex": [
       "$\\displaystyle ^3V_{3}$"
      ],
      "text/plain": [
       "^3V_3"
      ]
     },
     "metadata": {},
     "output_type": "display_data"
    },
    {
     "data": {
      "text/latex": [
       "$\\displaystyle \\left[\\begin{matrix}\\dot{\\theta_1} \\left(L_{3} + d_{3}\\right)\\\\\\dot{d_2}\\\\- L_{2} \\dot{\\theta_1} + \\dot{d_3}\\end{matrix}\\right]$"
      ],
      "text/plain": [
       "Matrix([\n",
       "[      \\dot{\\theta_1}*(L3 + d3)],\n",
       "[                     \\dot{d_2}],\n",
       "[-L2*\\dot{\\theta_1} + \\dot{d_3}]])"
      ]
     },
     "metadata": {},
     "output_type": "display_data"
    },
    {
     "data": {
      "text/latex": [
       "$\\displaystyle \\left[\\begin{matrix}\\cos{\\left(\\theta_{1} \\right)} & 0 & \\sin{\\left(\\theta_{1} \\right)} & 0 & 0 & 0\\\\\\sin{\\left(\\theta_{1} \\right)} & 0 & - \\cos{\\left(\\theta_{1} \\right)} & 0 & 0 & 0\\\\0 & 1 & 0 & 0 & 0 & 0\\\\0 & 0 & 0 & \\cos{\\left(\\theta_{1} \\right)} & 0 & \\sin{\\left(\\theta_{1} \\right)}\\\\0 & 0 & 0 & \\sin{\\left(\\theta_{1} \\right)} & 0 & - \\cos{\\left(\\theta_{1} \\right)}\\\\0 & 0 & 0 & 0 & 1 & 0\\end{matrix}\\right]$"
      ],
      "text/plain": [
       "Matrix([\n",
       "[cos(theta1), 0,  sin(theta1),           0, 0,            0],\n",
       "[sin(theta1), 0, -cos(theta1),           0, 0,            0],\n",
       "[          0, 1,            0,           0, 0,            0],\n",
       "[          0, 0,            0, cos(theta1), 0,  sin(theta1)],\n",
       "[          0, 0,            0, sin(theta1), 0, -cos(theta1)],\n",
       "[          0, 0,            0,           0, 1,            0]])"
      ]
     },
     "metadata": {},
     "output_type": "display_data"
    },
    {
     "data": {
      "text/latex": [
       "$\\displaystyle ^eJ_{e}$"
      ],
      "text/plain": [
       "^eJ_e"
      ]
     },
     "metadata": {},
     "output_type": "display_data"
    },
    {
     "data": {
      "text/latex": [
       "$\\displaystyle \\left[\\begin{matrix}L_{3} + d_{3} & 0 & 0\\\\0 & 1 & 0\\\\- L_{2} & 0 & 1\\\\0 & 0 & 0\\\\1 & 0 & 0\\\\0 & 0 & 0\\end{matrix}\\right]$"
      ],
      "text/plain": [
       "Matrix([\n",
       "[L3 + d3, 0, 0],\n",
       "[      0, 1, 0],\n",
       "[    -L2, 0, 1],\n",
       "[      0, 0, 0],\n",
       "[      1, 0, 0],\n",
       "[      0, 0, 0]])"
      ]
     },
     "metadata": {},
     "output_type": "display_data"
    },
    {
     "data": {
      "text/latex": [
       "$\\displaystyle ^0J_{}$"
      ],
      "text/plain": [
       "^0J_"
      ]
     },
     "metadata": {},
     "output_type": "display_data"
    },
    {
     "data": {
      "text/latex": [
       "$\\displaystyle \\left[\\begin{matrix}- L_{2} \\sin{\\left(\\theta_{1} \\right)} + \\left(L_{3} + d_{3}\\right) \\cos{\\left(\\theta_{1} \\right)} & 0 & \\sin{\\left(\\theta_{1} \\right)}\\\\L_{2} \\cos{\\left(\\theta_{1} \\right)} + \\left(L_{3} + d_{3}\\right) \\sin{\\left(\\theta_{1} \\right)} & 0 & - \\cos{\\left(\\theta_{1} \\right)}\\\\0 & 1 & 0\\\\0 & 0 & 0\\\\0 & 0 & 0\\\\1 & 0 & 0\\end{matrix}\\right]$"
      ],
      "text/plain": [
       "Matrix([\n",
       "[-L2*sin(theta1) + (L3 + d3)*cos(theta1), 0,  sin(theta1)],\n",
       "[ L2*cos(theta1) + (L3 + d3)*sin(theta1), 0, -cos(theta1)],\n",
       "[                                      0, 1,            0],\n",
       "[                                      0, 0,            0],\n",
       "[                                      0, 0,            0],\n",
       "[                                      1, 0,            0]])"
      ]
     },
     "metadata": {},
     "output_type": "display_data"
    }
   ],
   "source": [
    "# 4.6.4 (follow the sample solution in the previous questions)\n",
    "\n",
    "omega = Matrix([0, 0, 0])\n",
    "v = Matrix([0, 0, 0])\n",
    "\n",
    "\n",
    "theta_1_dot = symbols('\\dot{\\\\theta_1}')\n",
    "d_2_dot = symbols('\\dot{d_2}')\n",
    "d_3_dot = symbols('\\dot{d_3}')\n",
    "\n",
    "omega_11, v_11 = revolute_joint(frame = 1, theta_dot = theta_1_dot, \n",
    "                                transform_low_high = T01, omega = omega, v = v, alias = alias)\n",
    "\n",
    "omega_22, v_22 = prismatic_joint(frame = 2, d_dot = d_2_dot, \n",
    "                                 transform_low_high = T12, omega = omega_11, v = v_11, alias = alias)\n",
    "\n",
    "omega_33, v_33 = prismatic_joint(frame = 3, d_dot = d_3_dot, \n",
    "                                 transform_low_high = T23, omega = omega_22, v = v_22, alias = alias)\n",
    "\n",
    "Jee, J0 = Jacobian(parameters = [theta_1_dot, d_2_dot, d_3_dot], \n",
    "                   v_ee = v_33, omega_ee = omega_33, \n",
    "                   transform_low_high = T03, \n",
    "                   Display_all_details = True, alias = alias)\n"
   ]
  },
  {
   "cell_type": "markdown",
   "id": "a8f2265f",
   "metadata": {},
   "source": [
    "### Tut 2.6.5"
   ]
  },
  {
   "cell_type": "code",
   "execution_count": 21,
   "id": "28442c8f",
   "metadata": {},
   "outputs": [
    {
     "data": {
      "text/latex": [
       "$\\displaystyle ^0T_{1}$"
      ],
      "text/plain": [
       "^0T_1"
      ]
     },
     "metadata": {},
     "output_type": "display_data"
    },
    {
     "data": {
      "text/latex": [
       "$\\displaystyle \\left[\\begin{matrix}0 & 1 & 0 & 0\\\\-1 & 0 & 0 & 0\\\\0 & 0 & 1 & d_{1}\\\\0 & 0 & 0 & 1\\end{matrix}\\right]$"
      ],
      "text/plain": [
       "Matrix([\n",
       "[ 0, 1, 0,  0],\n",
       "[-1, 0, 0,  0],\n",
       "[ 0, 0, 1, d1],\n",
       "[ 0, 0, 0,  1]])"
      ]
     },
     "metadata": {},
     "output_type": "display_data"
    },
    {
     "data": {
      "text/latex": [
       "$\\displaystyle ^1T_{2}$"
      ],
      "text/plain": [
       "^1T_2"
      ]
     },
     "metadata": {},
     "output_type": "display_data"
    },
    {
     "data": {
      "text/latex": [
       "$\\displaystyle \\left[\\begin{matrix}0 & -1 & 0 & 0\\\\0 & 0 & 1 & d_{2}\\\\-1 & 0 & 0 & 0\\\\0 & 0 & 0 & 1\\end{matrix}\\right]$"
      ],
      "text/plain": [
       "Matrix([\n",
       "[ 0, -1, 0,  0],\n",
       "[ 0,  0, 1, d2],\n",
       "[-1,  0, 0,  0],\n",
       "[ 0,  0, 0,  1]])"
      ]
     },
     "metadata": {},
     "output_type": "display_data"
    },
    {
     "data": {
      "text/latex": [
       "$\\displaystyle ^2T_{3}$"
      ],
      "text/plain": [
       "^2T_3"
      ]
     },
     "metadata": {},
     "output_type": "display_data"
    },
    {
     "data": {
      "text/latex": [
       "$\\displaystyle \\left[\\begin{matrix}0 & -1 & 0 & 0\\\\0 & 0 & -1 & - d_{3}\\\\1 & 0 & 0 & 0\\\\0 & 0 & 0 & 1\\end{matrix}\\right]$"
      ],
      "text/plain": [
       "Matrix([\n",
       "[0, -1,  0,   0],\n",
       "[0,  0, -1, -d3],\n",
       "[1,  0,  0,   0],\n",
       "[0,  0,  0,   1]])"
      ]
     },
     "metadata": {},
     "output_type": "display_data"
    },
    {
     "data": {
      "text/latex": [
       "$\\displaystyle ^3T_{E}$"
      ],
      "text/plain": [
       "^3T_E"
      ]
     },
     "metadata": {},
     "output_type": "display_data"
    },
    {
     "data": {
      "text/latex": [
       "$\\displaystyle \\left[\\begin{matrix}1 & 0 & 0 & Le\\\\0 & 1 & 0 & 0\\\\0 & 0 & 1 & 0\\\\0 & 0 & 0 & 1\\end{matrix}\\right]$"
      ],
      "text/plain": [
       "Matrix([\n",
       "[1, 0, 0, Le],\n",
       "[0, 1, 0,  0],\n",
       "[0, 0, 1,  0],\n",
       "[0, 0, 0,  1]])"
      ]
     },
     "metadata": {},
     "output_type": "display_data"
    },
    {
     "data": {
      "text/latex": [
       "$\\displaystyle ^0T_{E}$"
      ],
      "text/plain": [
       "^0T_E"
      ]
     },
     "metadata": {},
     "output_type": "display_data"
    },
    {
     "data": {
      "text/latex": [
       "$\\displaystyle \\left[\\begin{matrix}1 & 0 & 0 & Le + d_{2}\\\\0 & 0 & -1 & - d_{3}\\\\0 & 1 & 0 & d_{1}\\\\0 & 0 & 0 & 1\\end{matrix}\\right]$"
      ],
      "text/plain": [
       "Matrix([\n",
       "[1, 0,  0, Le + d2],\n",
       "[0, 0, -1,     -d3],\n",
       "[0, 1,  0,      d1],\n",
       "[0, 0,  0,       1]])"
      ]
     },
     "metadata": {},
     "output_type": "display_data"
    },
    {
     "data": {
      "text/plain": [
       "'The position of the end effector'"
      ]
     },
     "metadata": {},
     "output_type": "display_data"
    },
    {
     "data": {
      "text/latex": [
       "$\\displaystyle \\left[\\begin{matrix}Le + d_{2}\\\\- d_{3}\\\\d_{1}\\end{matrix}\\right]$"
      ],
      "text/plain": [
       "Matrix([\n",
       "[Le + d2],\n",
       "[    -d3],\n",
       "[     d1]])"
      ]
     },
     "metadata": {},
     "output_type": "display_data"
    }
   ],
   "source": [
    "# Tut 2.6.5 sample solution\n",
    "\n",
    "DH1 = [0, 0, symbols('d1'), -pi/2]\n",
    "T01 = Tlink(DH1)\n",
    "symprint('T',0, 1)\n",
    "display(T01)\n",
    "\n",
    "DH2 = [0, -pi/2, symbols('d2'), pi/2]\n",
    "T12 = Tlink(DH2)\n",
    "symprint('T',1, 2)\n",
    "display(T12)\n",
    "\n",
    "DH3 = [0, pi/2, symbols('d3'), pi/2]\n",
    "T23 = Tlink(DH3)\n",
    "symprint('T',2, 3)\n",
    "display(T23)\n",
    "\n",
    "DHE = [symbols('Le'), 0, 0, 0]\n",
    "T3E = Tlink(DHE)\n",
    "symprint('T',3, 'E')\n",
    "display(T3E)\n",
    "\n",
    "T0E = T01*T12*T23*T3E\n",
    "symprint('T',0, 'E')\n",
    "display(simplify(T0E))\n",
    "\n",
    "display('The position of the end effector')\n",
    "display(Position_finder(simplify(T01*T12*T23*T3E)))"
   ]
  },
  {
   "cell_type": "code",
   "execution_count": 22,
   "id": "422c6674",
   "metadata": {},
   "outputs": [
    {
     "data": {
      "text/latex": [
       "$\\displaystyle ^1\\Omega_{1}$"
      ],
      "text/plain": [
       "^1\\Omega_1"
      ]
     },
     "metadata": {},
     "output_type": "display_data"
    },
    {
     "data": {
      "text/latex": [
       "$\\displaystyle \\left[\\begin{matrix}0\\\\0\\\\0\\end{matrix}\\right]$"
      ],
      "text/plain": [
       "Matrix([\n",
       "[0],\n",
       "[0],\n",
       "[0]])"
      ]
     },
     "metadata": {},
     "output_type": "display_data"
    },
    {
     "data": {
      "text/latex": [
       "$\\displaystyle ^1V_{1}$"
      ],
      "text/plain": [
       "^1V_1"
      ]
     },
     "metadata": {},
     "output_type": "display_data"
    },
    {
     "data": {
      "text/latex": [
       "$\\displaystyle \\left[\\begin{matrix}0\\\\0\\\\\\dot{d_1}\\end{matrix}\\right]$"
      ],
      "text/plain": [
       "Matrix([\n",
       "[        0],\n",
       "[        0],\n",
       "[\\dot{d_1}]])"
      ]
     },
     "metadata": {},
     "output_type": "display_data"
    },
    {
     "data": {
      "text/latex": [
       "$\\displaystyle ^2\\Omega_{2}$"
      ],
      "text/plain": [
       "^2\\Omega_2"
      ]
     },
     "metadata": {},
     "output_type": "display_data"
    },
    {
     "data": {
      "text/latex": [
       "$\\displaystyle \\left[\\begin{matrix}0\\\\0\\\\0\\end{matrix}\\right]$"
      ],
      "text/plain": [
       "Matrix([\n",
       "[0],\n",
       "[0],\n",
       "[0]])"
      ]
     },
     "metadata": {},
     "output_type": "display_data"
    },
    {
     "data": {
      "text/latex": [
       "$\\displaystyle ^2V_{2}$"
      ],
      "text/plain": [
       "^2V_2"
      ]
     },
     "metadata": {},
     "output_type": "display_data"
    },
    {
     "data": {
      "text/latex": [
       "$\\displaystyle \\left[\\begin{matrix}- \\dot{d_1}\\\\0\\\\\\dot{d_2}\\end{matrix}\\right]$"
      ],
      "text/plain": [
       "Matrix([\n",
       "[-\\dot{d_1}],\n",
       "[         0],\n",
       "[ \\dot{d_2}]])"
      ]
     },
     "metadata": {},
     "output_type": "display_data"
    },
    {
     "data": {
      "text/latex": [
       "$\\displaystyle ^3\\Omega_{3}$"
      ],
      "text/plain": [
       "^3\\Omega_3"
      ]
     },
     "metadata": {},
     "output_type": "display_data"
    },
    {
     "data": {
      "text/latex": [
       "$\\displaystyle \\left[\\begin{matrix}0\\\\0\\\\0\\end{matrix}\\right]$"
      ],
      "text/plain": [
       "Matrix([\n",
       "[0],\n",
       "[0],\n",
       "[0]])"
      ]
     },
     "metadata": {},
     "output_type": "display_data"
    },
    {
     "data": {
      "text/latex": [
       "$\\displaystyle ^3V_{3}$"
      ],
      "text/plain": [
       "^3V_3"
      ]
     },
     "metadata": {},
     "output_type": "display_data"
    },
    {
     "data": {
      "text/latex": [
       "$\\displaystyle \\left[\\begin{matrix}\\dot{d_2}\\\\\\dot{d_1}\\\\\\dot{d_3}\\end{matrix}\\right]$"
      ],
      "text/plain": [
       "Matrix([\n",
       "[\\dot{d_2}],\n",
       "[\\dot{d_1}],\n",
       "[\\dot{d_3}]])"
      ]
     },
     "metadata": {},
     "output_type": "display_data"
    },
    {
     "data": {
      "text/latex": [
       "$\\displaystyle ^e\\Omega_{e}$"
      ],
      "text/plain": [
       "^e\\Omega_e"
      ]
     },
     "metadata": {},
     "output_type": "display_data"
    },
    {
     "data": {
      "text/latex": [
       "$\\displaystyle \\left[\\begin{matrix}0\\\\0\\\\0\\end{matrix}\\right]$"
      ],
      "text/plain": [
       "Matrix([\n",
       "[0],\n",
       "[0],\n",
       "[0]])"
      ]
     },
     "metadata": {},
     "output_type": "display_data"
    },
    {
     "data": {
      "text/latex": [
       "$\\displaystyle ^eV_{e}$"
      ],
      "text/plain": [
       "^eV_e"
      ]
     },
     "metadata": {},
     "output_type": "display_data"
    },
    {
     "data": {
      "text/latex": [
       "$\\displaystyle \\left[\\begin{matrix}\\dot{d_2}\\\\\\dot{d_1}\\\\\\dot{d_3}\\end{matrix}\\right]$"
      ],
      "text/plain": [
       "Matrix([\n",
       "[\\dot{d_2}],\n",
       "[\\dot{d_1}],\n",
       "[\\dot{d_3}]])"
      ]
     },
     "metadata": {},
     "output_type": "display_data"
    },
    {
     "data": {
      "text/latex": [
       "$\\displaystyle \\left[\\begin{matrix}1 & 0 & 0 & 0 & 0 & 0\\\\0 & 0 & -1 & 0 & 0 & 0\\\\0 & 1 & 0 & 0 & 0 & 0\\\\0 & 0 & 0 & 1 & 0 & 0\\\\0 & 0 & 0 & 0 & 0 & -1\\\\0 & 0 & 0 & 0 & 1 & 0\\end{matrix}\\right]$"
      ],
      "text/plain": [
       "Matrix([\n",
       "[1, 0,  0, 0, 0,  0],\n",
       "[0, 0, -1, 0, 0,  0],\n",
       "[0, 1,  0, 0, 0,  0],\n",
       "[0, 0,  0, 1, 0,  0],\n",
       "[0, 0,  0, 0, 0, -1],\n",
       "[0, 0,  0, 0, 1,  0]])"
      ]
     },
     "metadata": {},
     "output_type": "display_data"
    },
    {
     "data": {
      "text/latex": [
       "$\\displaystyle ^eJ_{e}$"
      ],
      "text/plain": [
       "^eJ_e"
      ]
     },
     "metadata": {},
     "output_type": "display_data"
    },
    {
     "data": {
      "text/latex": [
       "$\\displaystyle \\left[\\begin{matrix}0 & 1 & 0\\\\1 & 0 & 0\\\\0 & 0 & 1\\\\0 & 0 & 0\\\\0 & 0 & 0\\\\0 & 0 & 0\\end{matrix}\\right]$"
      ],
      "text/plain": [
       "Matrix([\n",
       "[0, 1, 0],\n",
       "[1, 0, 0],\n",
       "[0, 0, 1],\n",
       "[0, 0, 0],\n",
       "[0, 0, 0],\n",
       "[0, 0, 0]])"
      ]
     },
     "metadata": {},
     "output_type": "display_data"
    },
    {
     "data": {
      "text/latex": [
       "$\\displaystyle ^0J_{}$"
      ],
      "text/plain": [
       "^0J_"
      ]
     },
     "metadata": {},
     "output_type": "display_data"
    },
    {
     "data": {
      "text/latex": [
       "$\\displaystyle \\left[\\begin{matrix}0 & 1 & 0\\\\0 & 0 & -1\\\\1 & 0 & 0\\\\0 & 0 & 0\\\\0 & 0 & 0\\\\0 & 0 & 0\\end{matrix}\\right]$"
      ],
      "text/plain": [
       "Matrix([\n",
       "[0, 1,  0],\n",
       "[0, 0, -1],\n",
       "[1, 0,  0],\n",
       "[0, 0,  0],\n",
       "[0, 0,  0],\n",
       "[0, 0,  0]])"
      ]
     },
     "metadata": {},
     "output_type": "display_data"
    }
   ],
   "source": [
    "# 4.6.5 \n",
    "\n",
    "omega = Matrix([0, 0, 0])\n",
    "v = Matrix([0, 0, 0])\n",
    "\n",
    "\n",
    "d_1_dot = symbols('\\dot{d_1}')\n",
    "d_2_dot = symbols('\\dot{d_2}')\n",
    "d_3_dot = symbols('\\dot{d_3}')\n",
    "d_e_dot = symbols('\\dot{d_e}')\n",
    "\n",
    "\n",
    "omega_11, v_11 = prismatic_joint(frame = 1, d_dot = d_1_dot, transform_low_high = T01, omega = omega, v = v, alias = alias)\n",
    "omega_22, v_22 = prismatic_joint(frame = 2, d_dot = d_2_dot, transform_low_high = T12, omega = omega_11, v = v_11, alias = alias)\n",
    "omega_33, v_33 = prismatic_joint(frame = 3, d_dot = d_3_dot, transform_low_high = T23, omega = omega_22, v = v_22, alias = alias)\n",
    "omega_ee, v_ee = prismatic_joint(frame = 'e', d_dot = d_e_dot, transform_low_high = T3E, omega = omega_33, v = v_33, alias = alias)\n",
    "\n",
    "Jee, J0 = Jacobian(parameters = [d_1_dot, d_2_dot, d_3_dot], \n",
    "                   v_ee = v_ee, omega_ee = omega_ee, \n",
    "                   transform_low_high = T0E, \n",
    "                   Display_all_details = True, alias = alias)"
   ]
  },
  {
   "cell_type": "markdown",
   "id": "bb432187",
   "metadata": {},
   "source": [
    "## Backup script (Not very useful)"
   ]
  },
  {
   "cell_type": "code",
   "execution_count": null,
   "id": "75e0376a",
   "metadata": {},
   "outputs": [],
   "source": [
    "# This method is quite messy\n",
    "import plotly.graph_objs as go\n",
    "\n",
    "# define the coordinates of the two points\n",
    "x = [0, 2]\n",
    "y = [0, 4]\n",
    "z = [0, 3]\n",
    "\n",
    "# create the trace for the points\n",
    "trace_points = go.Scatter3d(\n",
    "    x=x,\n",
    "    y=y,\n",
    "    z=z,\n",
    "    mode='markers',\n",
    "    marker=dict(\n",
    "        color=['blue', 'red'],\n",
    "        size=10,\n",
    "        symbol='circle'\n",
    "    ),\n",
    "    name='Point'\n",
    ")\n",
    "\n",
    "# create the trace for the line\n",
    "trace_line = go.Scatter3d(\n",
    "    x=x,\n",
    "    y=y,\n",
    "    z=z,\n",
    "    mode='lines',\n",
    "    line=dict(\n",
    "        color='green',\n",
    "        width=4\n",
    "    ),\n",
    "    name='Line'\n",
    ")\n",
    "\n",
    "# create the layout and add the legend\n",
    "layout = go.Layout(\n",
    "    scene=dict(\n",
    "        xaxis=dict(title='X-axis'),\n",
    "        yaxis=dict(title='Y-axis'),\n",
    "        zaxis=dict(title='Z-axis')\n",
    "    ),\n",
    "    legend=dict(\n",
    "        x=0.05,\n",
    "        y=0.95,\n",
    "        bgcolor='white',\n",
    "        bordercolor='gray',\n",
    "        borderwidth=1\n",
    "    )\n",
    ")\n",
    "\n",
    "# create the figure and add the traces and layout\n",
    "fig = go.Figure(data=[trace_points, trace_line], layout=layout)\n",
    "\n",
    "# show the plot\n",
    "fig.show()"
   ]
  },
  {
   "cell_type": "code",
   "execution_count": null,
   "id": "edc5fa01",
   "metadata": {},
   "outputs": [],
   "source": [
    "# define the coordinates of the two points for the new line\n",
    "x_new = [2, 4.23]\n",
    "y_new = [4, 8]\n",
    "z_new = [3, 2.87]\n",
    "\n",
    "# create the trace for the points\n",
    "trace_points = go.Scatter3d(\n",
    "    x=x_new,\n",
    "    y=y_new,\n",
    "    z=z_new,\n",
    "    mode='markers',\n",
    "    marker=dict(\n",
    "        color=['red', 'green'],\n",
    "        size=10,\n",
    "        symbol='circle'\n",
    "    ),\n",
    "    name='Point 2'\n",
    ")\n",
    "\n",
    "# create the trace for the new line\n",
    "trace_new_line = go.Scatter3d(\n",
    "    x=x_new,\n",
    "    y=y_new,\n",
    "    z=z_new,\n",
    "    mode='lines',\n",
    "    line=dict(\n",
    "        color='purple',\n",
    "        width=4\n",
    "    ),\n",
    "    name='New Line'\n",
    ")\n",
    "\n",
    "# add the new trace to the existing figure object\n",
    "fig.add_trace(trace_new_line)\n",
    "\n",
    "# show the plot with the new line added\n",
    "fig.show()"
   ]
  },
  {
   "cell_type": "code",
   "execution_count": null,
   "id": "06a9377f",
   "metadata": {},
   "outputs": [],
   "source": [
    "def symbol_name(name):\n",
    "    import re\n",
    "    name = 'T1'\n",
    "    if len(re.findall('T', name))!=0:\n",
    "        name = re.sub('T','theta', name)\n",
    "        \n",
    "    raw_str = rf'{name}'\n",
    "    return raw_str\n",
    "\n"
   ]
  },
  {
   "cell_type": "code",
   "execution_count": null,
   "id": "40cc771e",
   "metadata": {},
   "outputs": [],
   "source": [
    "symbols('alpha1')"
   ]
  },
  {
   "cell_type": "code",
   "execution_count": null,
   "id": "a814719c",
   "metadata": {},
   "outputs": [],
   "source": [
    "import re\n",
    "name = 'T1'\n",
    "if len(re.findall('T', name))!=0:\n",
    "    re.sub('T','\\theta_', name)"
   ]
  },
  {
   "cell_type": "code",
   "execution_count": null,
   "id": "47333962",
   "metadata": {},
   "outputs": [],
   "source": [
    "a11, a12, a13, a21, a22, a23, a31, a32, a33 = symbols('a11 a12 a13 a21 a22 a23 a31 a32 a33')\n",
    "\n",
    "# Define the matrix\n",
    "A = Matrix([[cos(a11), a12, a13],\n",
    "            [a21, a22, a23],\n",
    "            [a31, a32, a33]])\n",
    "\n",
    "A.subs(a11, pi)"
   ]
  },
  {
   "cell_type": "code",
   "execution_count": null,
   "id": "cd6444cf",
   "metadata": {},
   "outputs": [],
   "source": [
    "a11, a12, a13, a14, a21, a22, a23, a24, a31, a32, a33, a34, a41, a42, a43, a44 = symbols('a11, a12, a13, a14, a21, a22, a23, a24, a31, a32, a33, a34, a41, a42, a43, a44')\n",
    "T = Matrix([[a11, a12, a13, a14],\n",
    "            [a21, a22, a23, a24],\n",
    "            [a31, a32, a33, a34],\n",
    "            [a41, a42, a43, a44]])\n",
    "\n",
    "T[0,0]"
   ]
  }
 ],
 "metadata": {
  "kernelspec": {
   "display_name": "Python 3 (ipykernel)",
   "language": "python",
   "name": "python3"
  },
  "language_info": {
   "codemirror_mode": {
    "name": "ipython",
    "version": 3
   },
   "file_extension": ".py",
   "mimetype": "text/x-python",
   "name": "python",
   "nbconvert_exporter": "python",
   "pygments_lexer": "ipython3",
   "version": "3.8.15"
  }
 },
 "nbformat": 4,
 "nbformat_minor": 5
}
