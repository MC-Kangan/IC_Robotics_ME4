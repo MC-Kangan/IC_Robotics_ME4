{
 "cells": [
  {
   "cell_type": "code",
   "execution_count": 1,
   "id": "dd83f83e",
   "metadata": {},
   "outputs": [],
   "source": [
    "\n",
    "import time\n",
    "import numpy as np\n",
    "from sympy import *\n",
    "import matplotlib.pyplot as plt\n",
    "from mpl_toolkits import mplot3d\n",
    "from IPython.display import display, Math\n"
   ]
  },
  {
   "cell_type": "code",
   "execution_count": 15,
   "id": "e8c9f08f",
   "metadata": {},
   "outputs": [],
   "source": [
    "def get_trans_mat(a, alpha, d, theta, return_P=False):\n",
    "    \"\"\"\n",
    "    Obtain the transformation matrix from DH Parameters\n",
    "    :param a: Link angle (in deg)\n",
    "    :param alpha: Link twist\n",
    "    :param d: Link offset (in deg)\n",
    "    :param theta: Joint angle\n",
    "    :param return_P: return the 3x1 translation matrix\n",
    "    :return: transformation matrix and rotation matrix\n",
    "    \"\"\"\n",
    "    if type(alpha) == int or type(alpha) == float:\n",
    "        alpha = alpha*pi/180\n",
    "    if type(theta) == int or type(theta) == float:\n",
    "        theta = theta*pi/180\n",
    "\n",
    "    R = rotation(alpha, 'x') * rotation(theta, 'z')\n",
    "    R.simplify()\n",
    "    T = add_translation(R, Matrix([a, -sin(alpha) * d, cos(alpha) * d, 1]))\n",
    "    if return_P:\n",
    "        return R, T, Matrix([a, -sin(alpha) * d, cos(alpha) * d])\n",
    "    else:\n",
    "        return R, T\n",
    "    \n",
    "\n",
    "def rotation(theta, direction):\n",
    "    if direction == 'x':\n",
    "        R = Matrix([[1, 0, 0],\n",
    "                    [0, cos(theta), -sin(theta)],\n",
    "                    [0, sin(theta), cos(theta)]])\n",
    "    elif direction == 'y':\n",
    "        R = Matrix([[cos(theta), 0, sin(theta)],\n",
    "                    [0, 1, 0],\n",
    "                    [-sin(theta), 0, cos(theta)]])\n",
    "    elif direction == 'z':\n",
    "        R = Matrix([[cos(theta), -sin(theta), 0],\n",
    "                    [sin(theta), cos(theta), 0],\n",
    "                    [0, 0, 1]])\n",
    "    return R\n",
    "\n",
    "def add_translation(R, t=Matrix([0, 0, 0, 1])):\n",
    "    T = R.row_insert(len(R), Matrix([[0, 0, 0]]))\n",
    "    T = T.col_insert(len(T), t)\n",
    "    return T\n",
    "\n",
    "def symprint(symbol, sup, sub, dot=False):\n",
    "    if dot == 1:\n",
    "        symbol = r'\\dot{%s}' % symbol\n",
    "    elif dot == 2:\n",
    "        symbol = r'\\ddot{%s}' % symbol\n",
    "    if sup == '':\n",
    "        info = r\"{}_{}\".format(symbol, sub)\n",
    "    else:\n",
    "        info = r\"^{}{}_{}\".format(sup, symbol, sub)\n",
    "    display(symbols(info))\n",
    "\n",
    "def matprint(matrix, alias=None):\n",
    "    if alias:\n",
    "        display(matrix.subs(alias))\n",
    "    else:\n",
    "        display(matrix)"
   ]
  },
  {
   "cell_type": "code",
   "execution_count": 6,
   "id": "29d325c3",
   "metadata": {},
   "outputs": [],
   "source": [
    "\n",
    "# Variables\n",
    "t = symbols('t')\n",
    "theta1 = Function(r\"\\theta_2\")(t)\n",
    "theta1_dot = diff(theta1, t)\n",
    "theta1_ddot = diff(theta1, t, t)\n",
    "\n",
    "d2 = Function('d_2')(t)\n",
    "d2_dot = diff(d2, t)\n",
    "d2_ddot = diff(d2, t, t)\n",
    "\n",
    "d3 = Function('d_3')(t)\n",
    "d3_dot = diff(d3, t)\n",
    "d3_ddot = diff(d3, t, t)\n",
    "\n",
    "theta4 = Function(r\"\\theta_4\")(t)\n",
    "theta4_dot = diff(theta4, t)\n",
    "theta4_ddot = diff(theta4, t, t)\n",
    "\n",
    "\n",
    "alias = {}\n",
    "# display as x dot instead of dx/dt, and ignore dependency (t)\n",
    "alias.update({theta1: symbols(r\"\\theta_1\"),\n",
    "              theta1_dot: symbols(r\"\\dot{\\theta_1}\"),\n",
    "              theta1_ddot: symbols(r\"\\ddot{\\theta_1}\"),\n",
    "              theta4: symbols(r\"\\theta_4\"),\n",
    "              theta4_dot: symbols(r\"\\dot{\\theta_4}\"),\n",
    "              theta4_ddot: symbols(r\"\\ddot{\\theta_4}\"),\n",
    "              d2: symbols(r\"d_2\"),\n",
    "              d2_dot: symbols(r\"\\dot{d_2}\"),\n",
    "              d2_ddot: symbols(r\"\\ddot{d_2}\"),\n",
    "              d3: symbols(r\"d_3\"),\n",
    "              d3_dot: symbols(r\"\\dot{d_3}\"),\n",
    "              d3_ddot: symbols(r\"\\ddot{d_3}\"),}) \n",
    "\n",
    "# display cos(theta) as c\\theta, sin(theta) as s\\theta\n",
    "alias.update({sin(theta1): symbols(r\"s\\theta_1\"),\n",
    "              cos(theta1): symbols(r\"c\\theta_1\"),\n",
    "              sin(theta4): symbols(r\"s\\theta_4\"),\n",
    "              cos(theta4): symbols(r\"c\\theta_4\")})\n",
    "\n"
   ]
  },
  {
   "cell_type": "code",
   "execution_count": 11,
   "id": "b571bf4a",
   "metadata": {},
   "outputs": [],
   "source": [
    "R01, T01, P01 = get_trans_mat(0, 0, 0, theta1, return_P=True)\n",
    "R12, T12, P12 = get_trans_mat(0, 0, 20+d2, 0, return_P=True)\n",
    "R23, T23, P23 = get_trans_mat(0, 90, d3, 0, return_P=True)\n",
    "R34, T34, P34 = get_trans_mat(0, 0, 15, theta4, return_P=True)\n",
    "R4e, T4e, P4e = get_trans_mat(1, 0, 4, 0, return_P=True)\n",
    "\n",
    "R10 = R01.T\n",
    "R21 = R12.T\n",
    "R32 = R23.T\n",
    "R43 = R34.T\n",
    "Re4 = R4e.T\n",
    "\n",
    "R0e = R01 * R12 * R23 * R34 * R4e\n",
    "T0e = T01 * T12 * T23 * T34 * T4e"
   ]
  },
  {
   "cell_type": "code",
   "execution_count": 17,
   "id": "15962016",
   "metadata": {},
   "outputs": [
    {
     "name": "stdout",
     "output_type": "stream",
     "text": [
      "Frame 0 (Base)\n"
     ]
    },
    {
     "data": {
      "text/latex": [
       "$\\displaystyle ^0\\Omega_{0}$"
      ],
      "text/plain": [
       "^0\\Omega_0"
      ]
     },
     "metadata": {},
     "output_type": "display_data"
    },
    {
     "data": {
      "text/latex": [
       "$\\displaystyle \\left[\\begin{matrix}0\\\\0\\\\0\\end{matrix}\\right]$"
      ],
      "text/plain": [
       "Matrix([\n",
       "[0],\n",
       "[0],\n",
       "[0]])"
      ]
     },
     "metadata": {},
     "output_type": "display_data"
    },
    {
     "data": {
      "text/latex": [
       "$\\displaystyle ^0V_{0}$"
      ],
      "text/plain": [
       "^0V_0"
      ]
     },
     "metadata": {},
     "output_type": "display_data"
    },
    {
     "data": {
      "text/latex": [
       "$\\displaystyle \\left[\\begin{matrix}0\\\\0\\\\0\\end{matrix}\\right]$"
      ],
      "text/plain": [
       "Matrix([\n",
       "[0],\n",
       "[0],\n",
       "[0]])"
      ]
     },
     "metadata": {},
     "output_type": "display_data"
    },
    {
     "name": "stdout",
     "output_type": "stream",
     "text": [
      "Frame 1\n"
     ]
    },
    {
     "data": {
      "text/latex": [
       "$\\displaystyle ^1\\Omega_{1}$"
      ],
      "text/plain": [
       "^1\\Omega_1"
      ]
     },
     "metadata": {},
     "output_type": "display_data"
    },
    {
     "data": {
      "text/latex": [
       "$\\displaystyle \\left[\\begin{matrix}0\\\\0\\\\\\dot{\\theta_1}\\end{matrix}\\right]$"
      ],
      "text/plain": [
       "Matrix([\n",
       "[             0],\n",
       "[             0],\n",
       "[\\dot{\\theta_1}]])"
      ]
     },
     "metadata": {},
     "output_type": "display_data"
    },
    {
     "data": {
      "text/latex": [
       "$\\displaystyle ^1V_{1}$"
      ],
      "text/plain": [
       "^1V_1"
      ]
     },
     "metadata": {},
     "output_type": "display_data"
    },
    {
     "data": {
      "text/latex": [
       "$\\displaystyle \\left[\\begin{matrix}0\\\\0\\\\0\\end{matrix}\\right]$"
      ],
      "text/plain": [
       "Matrix([\n",
       "[0],\n",
       "[0],\n",
       "[0]])"
      ]
     },
     "metadata": {},
     "output_type": "display_data"
    },
    {
     "name": "stdout",
     "output_type": "stream",
     "text": [
      "Frame 2\n"
     ]
    },
    {
     "data": {
      "text/latex": [
       "$\\displaystyle ^2\\Omega_{2}$"
      ],
      "text/plain": [
       "^2\\Omega_2"
      ]
     },
     "metadata": {},
     "output_type": "display_data"
    },
    {
     "data": {
      "text/latex": [
       "$\\displaystyle \\left[\\begin{matrix}0\\\\0\\\\\\dot{\\theta_1}\\end{matrix}\\right]$"
      ],
      "text/plain": [
       "Matrix([\n",
       "[             0],\n",
       "[             0],\n",
       "[\\dot{\\theta_1}]])"
      ]
     },
     "metadata": {},
     "output_type": "display_data"
    },
    {
     "data": {
      "text/latex": [
       "$\\displaystyle ^2V_{2}$"
      ],
      "text/plain": [
       "^2V_2"
      ]
     },
     "metadata": {},
     "output_type": "display_data"
    },
    {
     "data": {
      "text/latex": [
       "$\\displaystyle \\left[\\begin{matrix}0\\\\0\\\\\\dot{d_2}\\end{matrix}\\right]$"
      ],
      "text/plain": [
       "Matrix([\n",
       "[        0],\n",
       "[        0],\n",
       "[\\dot{d_2}]])"
      ]
     },
     "metadata": {},
     "output_type": "display_data"
    },
    {
     "name": "stdout",
     "output_type": "stream",
     "text": [
      "Frame 3\n"
     ]
    },
    {
     "data": {
      "text/latex": [
       "$\\displaystyle ^3\\Omega_{3}$"
      ],
      "text/plain": [
       "^3\\Omega_3"
      ]
     },
     "metadata": {},
     "output_type": "display_data"
    },
    {
     "data": {
      "text/latex": [
       "$\\displaystyle \\left[\\begin{matrix}0\\\\\\dot{\\theta_1}\\\\0\\end{matrix}\\right]$"
      ],
      "text/plain": [
       "Matrix([\n",
       "[             0],\n",
       "[\\dot{\\theta_1}],\n",
       "[             0]])"
      ]
     },
     "metadata": {},
     "output_type": "display_data"
    },
    {
     "data": {
      "text/latex": [
       "$\\displaystyle ^3V_{3}$"
      ],
      "text/plain": [
       "^3V_3"
      ]
     },
     "metadata": {},
     "output_type": "display_data"
    },
    {
     "data": {
      "text/latex": [
       "$\\displaystyle \\left[\\begin{matrix}\\dot{\\theta_1} d_{3}\\\\\\dot{d_2}\\\\\\dot{d_3}\\end{matrix}\\right]$"
      ],
      "text/plain": [
       "Matrix([\n",
       "[\\dot{\\theta_1}*d_3],\n",
       "[         \\dot{d_2}],\n",
       "[         \\dot{d_3}]])"
      ]
     },
     "metadata": {},
     "output_type": "display_data"
    },
    {
     "name": "stdout",
     "output_type": "stream",
     "text": [
      "Frame 4\n"
     ]
    },
    {
     "data": {
      "text/latex": [
       "$\\displaystyle ^4\\Omega_{4}$"
      ],
      "text/plain": [
       "^4\\Omega_4"
      ]
     },
     "metadata": {},
     "output_type": "display_data"
    },
    {
     "data": {
      "text/latex": [
       "$\\displaystyle \\left[\\begin{matrix}\\dot{\\theta_1} s\\theta_{4}\\\\\\dot{\\theta_1} c\\theta_{4}\\\\\\dot{\\theta_4}\\end{matrix}\\right]$"
      ],
      "text/plain": [
       "Matrix([\n",
       "[\\dot{\\theta_1}*s\\theta_4],\n",
       "[\\dot{\\theta_1}*c\\theta_4],\n",
       "[          \\dot{\\theta_4}]])"
      ]
     },
     "metadata": {},
     "output_type": "display_data"
    },
    {
     "data": {
      "text/latex": [
       "$\\displaystyle ^4V_{4}$"
      ],
      "text/plain": [
       "^4V_4"
      ]
     },
     "metadata": {},
     "output_type": "display_data"
    },
    {
     "data": {
      "text/latex": [
       "$\\displaystyle \\left[\\begin{matrix}\\dot{\\theta_1} c\\theta_{4} \\left(d_{3} + 15\\right) + \\dot{d_2} s\\theta_{4}\\\\- \\dot{\\theta_1} s\\theta_{4} \\left(d_{3} + 15\\right) + \\dot{d_2} c\\theta_{4}\\\\\\dot{d_3}\\end{matrix}\\right]$"
      ],
      "text/plain": [
       "Matrix([\n",
       "[ \\dot{\\theta_1}*c\\theta_4*(d_3 + 15) + \\dot{d_2}*s\\theta_4],\n",
       "[-\\dot{\\theta_1}*s\\theta_4*(d_3 + 15) + \\dot{d_2}*c\\theta_4],\n",
       "[                                                 \\dot{d_3}]])"
      ]
     },
     "metadata": {},
     "output_type": "display_data"
    },
    {
     "name": "stdout",
     "output_type": "stream",
     "text": [
      "Frame e (end effector)\n"
     ]
    },
    {
     "data": {
      "text/latex": [
       "$\\displaystyle ^e\\Omega_{e}$"
      ],
      "text/plain": [
       "^e\\Omega_e"
      ]
     },
     "metadata": {},
     "output_type": "display_data"
    },
    {
     "data": {
      "text/latex": [
       "$\\displaystyle \\left[\\begin{matrix}\\dot{\\theta_1} s\\theta_{4}\\\\\\dot{\\theta_1} c\\theta_{4}\\\\\\dot{\\theta_4}\\end{matrix}\\right]$"
      ],
      "text/plain": [
       "Matrix([\n",
       "[\\dot{\\theta_1}*s\\theta_4],\n",
       "[\\dot{\\theta_1}*c\\theta_4],\n",
       "[          \\dot{\\theta_4}]])"
      ]
     },
     "metadata": {},
     "output_type": "display_data"
    },
    {
     "data": {
      "text/latex": [
       "$\\displaystyle ^eV_{e}$"
      ],
      "text/plain": [
       "^eV_e"
      ]
     },
     "metadata": {},
     "output_type": "display_data"
    },
    {
     "data": {
      "text/latex": [
       "$\\displaystyle \\left[\\begin{matrix}\\dot{\\theta_1} c\\theta_{4} d_{3} + 19 \\dot{\\theta_1} c\\theta_{4} + \\dot{d_2} s\\theta_{4}\\\\- \\dot{\\theta_1} d_{3} s\\theta_{4} - 19 \\dot{\\theta_1} s\\theta_{4} + \\dot{\\theta_4} + \\dot{d_2} c\\theta_{4}\\\\- \\dot{\\theta_1} c\\theta_{4} + \\dot{d_3}\\end{matrix}\\right]$"
      ],
      "text/plain": [
       "Matrix([\n",
       "[                  \\dot{\\theta_1}*c\\theta_4*d_3 + 19*\\dot{\\theta_1}*c\\theta_4 + \\dot{d_2}*s\\theta_4],\n",
       "[-\\dot{\\theta_1}*d_3*s\\theta_4 - 19*\\dot{\\theta_1}*s\\theta_4 + \\dot{\\theta_4} + \\dot{d_2}*c\\theta_4],\n",
       "[                                                             -\\dot{\\theta_1}*c\\theta_4 + \\dot{d_3}]])"
      ]
     },
     "metadata": {},
     "output_type": "display_data"
    }
   ],
   "source": [
    "print('Frame 0 (Base)')\n",
    "W00 = zeros(3, 1)\n",
    "symprint('\\Omega', 0, 0)\n",
    "matprint(W00, alias)\n",
    "V00 = zeros(3, 1)\n",
    "symprint('V', 0, 0)\n",
    "matprint(V00, alias)\n",
    "\n",
    "print('Frame 1')\n",
    "W11 = R10 * W00 + Matrix([0, 0, theta1_dot])\n",
    "symprint('\\Omega', 1, 1)\n",
    "matprint(W11, alias)\n",
    "V11 = R10 * (V00 + W00.cross(P01))\n",
    "symprint('V', 1, 1)\n",
    "matprint(V11, alias)\n",
    "\n",
    "print('Frame 2')\n",
    "W22 = R21 * W11\n",
    "symprint('\\Omega', 2, 2)\n",
    "matprint(W22, alias)\n",
    "V22 = R21 * (V11 + W11.cross(P12)) + Matrix([0, 0, d2_dot])\n",
    "symprint('V', 2, 2)\n",
    "matprint(V22, alias)\n",
    "\n",
    "print('Frame 3')\n",
    "W33 = R32 * W22\n",
    "symprint('\\Omega', 3, 3)\n",
    "matprint(W33, alias)\n",
    "V33 = R32 * (V22+ W22.cross(P23)) + Matrix([0, 0, d3_dot])\n",
    "symprint('V', 3, 3)\n",
    "matprint(V33, alias)\n",
    "\n",
    "print('Frame 4')\n",
    "W44 = R43 * W33 + Matrix([0, 0, theta4_dot])\n",
    "W44.simplify()\n",
    "symprint('\\Omega', 4, 4)\n",
    "matprint(W44, alias)\n",
    "V44 = R43 * (V33 + W33.cross(P34))\n",
    "V44.simplify()\n",
    "symprint('V', 4, 4)\n",
    "matprint(V44, alias)\n",
    "\n",
    "print('Frame e (end effector)')\n",
    "Wee = Re4 * W44\n",
    "Wee.simplify()\n",
    "symprint('\\Omega', 'e', 'e')\n",
    "matprint(Wee, alias)\n",
    "Vee = Re4 * (V44 + W44.cross(P4e))\n",
    "Vee.simplify()\n",
    "symprint('V', 'e', 'e')\n",
    "matprint(Vee, alias)"
   ]
  },
  {
   "cell_type": "code",
   "execution_count": 19,
   "id": "577ea163",
   "metadata": {},
   "outputs": [
    {
     "data": {
      "text/latex": [
       "$\\displaystyle ^eJ_{e}$"
      ],
      "text/plain": [
       "^eJ_e"
      ]
     },
     "metadata": {},
     "output_type": "display_data"
    },
    {
     "data": {
      "text/latex": [
       "$\\displaystyle \\left[\\begin{matrix}c\\theta_{4} d_{3} + 19 c\\theta_{4} & s\\theta_{4} & 0 & 0\\\\- d_{3} s\\theta_{4} - 19 s\\theta_{4} & c\\theta_{4} & 0 & 1\\\\- c\\theta_{4} & 0 & 1 & 0\\\\s\\theta_{4} & 0 & 0 & 0\\\\c\\theta_{4} & 0 & 0 & 0\\\\0 & 0 & 0 & 1\\end{matrix}\\right]$"
      ],
      "text/plain": [
       "Matrix([\n",
       "[ c\\theta_4*d_3 + 19*c\\theta_4, s\\theta_4, 0, 0],\n",
       "[-d_3*s\\theta_4 - 19*s\\theta_4, c\\theta_4, 0, 1],\n",
       "[                   -c\\theta_4,         0, 1, 0],\n",
       "[                    s\\theta_4,         0, 0, 0],\n",
       "[                    c\\theta_4,         0, 0, 0],\n",
       "[                            0,         0, 0, 1]])"
      ]
     },
     "metadata": {},
     "output_type": "display_data"
    }
   ],
   "source": [
    "#The Jacobian of velocities of the end effector in frame {e} is:\n",
    "Jee = Matrix([[Vee[0].diff(theta1_dot), Vee[0].diff(d2_dot), Vee[0].diff(d3_dot), Vee[0].diff(theta4_dot)],\n",
    "              [Vee[1].diff(theta1_dot), Vee[1].diff(d2_dot), Vee[1].diff(d3_dot), Vee[1].diff(theta4_dot)],\n",
    "              [Vee[2].diff(theta1_dot), Vee[2].diff(d2_dot), Vee[2].diff(d3_dot), Vee[2].diff(theta4_dot)],\n",
    "              [Wee[0].diff(theta1_dot), Wee[0].diff(d2_dot), Wee[0].diff(d3_dot), Wee[0].diff(theta4_dot)],\n",
    "              [Wee[1].diff(theta1_dot), Wee[1].diff(d2_dot), Wee[1].diff(d3_dot), Wee[1].diff(theta4_dot)],\n",
    "              [Wee[2].diff(theta1_dot), Wee[2].diff(d2_dot), Wee[2].diff(d3_dot), Wee[2].diff(theta4_dot)]])\n",
    "\n",
    "symprint('J', 'e', 'e')\n",
    "matprint(Jee, alias)"
   ]
  },
  {
   "cell_type": "code",
   "execution_count": 20,
   "id": "29995d0e",
   "metadata": {},
   "outputs": [
    {
     "data": {
      "text/latex": [
       "$\\displaystyle ^0J_{e}$"
      ],
      "text/plain": [
       "^0J_e"
      ]
     },
     "metadata": {},
     "output_type": "display_data"
    },
    {
     "data": {
      "text/latex": [
       "$\\displaystyle \\left[\\begin{matrix}c\\theta_{1} c\\theta_{4} \\left(c\\theta_{4} d_{3} + 19 c\\theta_{4}\\right) - c\\theta_{1} s\\theta_{4} \\left(- d_{3} s\\theta_{4} - 19 s\\theta_{4}\\right) - c\\theta_{4} s\\theta_{1} & 0 & s\\theta_{1} & - c\\theta_{1} s\\theta_{4}\\\\c\\theta_{1} c\\theta_{4} + c\\theta_{4} s\\theta_{1} \\left(c\\theta_{4} d_{3} + 19 c\\theta_{4}\\right) - s\\theta_{1} s\\theta_{4} \\left(- d_{3} s\\theta_{4} - 19 s\\theta_{4}\\right) & 0 & - c\\theta_{1} & - s\\theta_{1} s\\theta_{4}\\\\c\\theta_{4} \\left(- d_{3} s\\theta_{4} - 19 s\\theta_{4}\\right) + s\\theta_{4} \\left(c\\theta_{4} d_{3} + 19 c\\theta_{4}\\right) & c\\theta_{4}^{2} + s\\theta_{4}^{2} & 0 & c\\theta_{4}\\\\0 & 0 & 0 & s\\theta_{1}\\\\0 & 0 & 0 & - c\\theta_{1}\\\\c\\theta_{4}^{2} + s\\theta_{4}^{2} & 0 & 0 & 0\\end{matrix}\\right]$"
      ],
      "text/plain": [
       "Matrix([\n",
       "[c\\theta_1*c\\theta_4*(c\\theta_4*d_3 + 19*c\\theta_4) - c\\theta_1*s\\theta_4*(-d_3*s\\theta_4 - 19*s\\theta_4) - c\\theta_4*s\\theta_1,                           0,  s\\theta_1, -c\\theta_1*s\\theta_4],\n",
       "[c\\theta_1*c\\theta_4 + c\\theta_4*s\\theta_1*(c\\theta_4*d_3 + 19*c\\theta_4) - s\\theta_1*s\\theta_4*(-d_3*s\\theta_4 - 19*s\\theta_4),                           0, -c\\theta_1, -s\\theta_1*s\\theta_4],\n",
       "[                                          c\\theta_4*(-d_3*s\\theta_4 - 19*s\\theta_4) + s\\theta_4*(c\\theta_4*d_3 + 19*c\\theta_4), c\\theta_4**2 + s\\theta_4**2,          0,            c\\theta_4],\n",
       "[                                                                                                                             0,                           0,          0,            s\\theta_1],\n",
       "[                                                                                                                             0,                           0,          0,           -c\\theta_1],\n",
       "[                                                                                                   c\\theta_4**2 + s\\theta_4**2,                           0,          0,                    0]])"
      ]
     },
     "metadata": {},
     "output_type": "display_data"
    },
    {
     "name": "stdout",
     "output_type": "stream",
     "text": [
      "After apply .simplify():\n"
     ]
    },
    {
     "data": {
      "text/latex": [
       "$\\displaystyle ^0J_{e}$"
      ],
      "text/plain": [
       "^0J_e"
      ]
     },
     "metadata": {},
     "output_type": "display_data"
    },
    {
     "data": {
      "text/latex": [
       "$\\displaystyle \\left[\\begin{matrix}c\\theta_{1} d_{3} + 19 c\\theta_{1} - c\\theta_{4} s\\theta_{1} & 0 & s\\theta_{1} & - c\\theta_{1} s\\theta_{4}\\\\c\\theta_{1} c\\theta_{4} + d_{3} s\\theta_{1} + 19 s\\theta_{1} & 0 & - c\\theta_{1} & - s\\theta_{1} s\\theta_{4}\\\\0 & 1 & 0 & c\\theta_{4}\\\\0 & 0 & 0 & s\\theta_{1}\\\\0 & 0 & 0 & - c\\theta_{1}\\\\1 & 0 & 0 & 0\\end{matrix}\\right]$"
      ],
      "text/plain": [
       "Matrix([\n",
       "[c\\theta_1*d_3 + 19*c\\theta_1 - c\\theta_4*s\\theta_1, 0,  s\\theta_1, -c\\theta_1*s\\theta_4],\n",
       "[c\\theta_1*c\\theta_4 + d_3*s\\theta_1 + 19*s\\theta_1, 0, -c\\theta_1, -s\\theta_1*s\\theta_4],\n",
       "[                                                 0, 1,          0,            c\\theta_4],\n",
       "[                                                 0, 0,          0,            s\\theta_1],\n",
       "[                                                 0, 0,          0,           -c\\theta_1],\n",
       "[                                                 1, 0,          0,                    0]])"
      ]
     },
     "metadata": {},
     "output_type": "display_data"
    }
   ],
   "source": [
    "J0e = Matrix([[R0e, zeros(3)], [zeros(3), R0e]]) * Jee\n",
    "symprint('J', 0, 'e')\n",
    "matprint(J0e, alias)\n",
    "\n",
    "print('After apply .simplify():')\n",
    "J0e.simplify()\n",
    "symprint('J', 0, 'e')\n",
    "matprint(J0e, alias)"
   ]
  },
  {
   "cell_type": "code",
   "execution_count": null,
   "id": "55292ee2",
   "metadata": {},
   "outputs": [],
   "source": []
  }
 ],
 "metadata": {
  "kernelspec": {
   "display_name": "Python 3 (ipykernel)",
   "language": "python",
   "name": "python3"
  },
  "language_info": {
   "codemirror_mode": {
    "name": "ipython",
    "version": 3
   },
   "file_extension": ".py",
   "mimetype": "text/x-python",
   "name": "python",
   "nbconvert_exporter": "python",
   "pygments_lexer": "ipython3",
   "version": "3.8.15"
  }
 },
 "nbformat": 4,
 "nbformat_minor": 5
}
