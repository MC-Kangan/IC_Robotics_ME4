{
 "cells": [
  {
   "cell_type": "code",
   "execution_count": 1,
   "id": "658aaa4d",
   "metadata": {},
   "outputs": [],
   "source": [
    "import numpy as np\n",
    "import pandas as pd\n",
    "import matplotlib.pyplot as plt\n",
    "from mpl_toolkits.mplot3d import Axes3D\n",
    "from sympy import *\n",
    "from robot_tools import *\n",
    "import math\n",
    "import cv2"
   ]
  },
  {
   "cell_type": "code",
   "execution_count": 2,
   "id": "30da6568",
   "metadata": {},
   "outputs": [],
   "source": [
    "t = symbols('t')\n",
    "theta1 = Function(r\"\\theta_1\")(t)\n",
    "theta1_dot = diff(theta1, t)\n",
    "theta1_ddot = diff(theta1, t, t)\n",
    "\n",
    "theta2 = Function(r\"\\theta_2\")(t)\n",
    "theta2_dot = diff(theta2, t)\n",
    "theta2_ddot = diff(theta2, t, t)\n",
    "\n",
    "d3 = Function(r\"d_3\")(t)\n",
    "d3_dot = diff(d3, t)\n",
    "d3_ddot = diff(d3, t, t)\n",
    "\n",
    "L1 = symbols('L1')\n",
    "L2 = symbols('L2')\n",
    "\n",
    "alias = {}\n",
    "\n",
    "# display as theta dot instead of d(theta)/dt, and ignore dependency (t)\n",
    "alias.update({theta1: symbols(r\"\\theta_1\"),\n",
    "              theta1_dot: symbols(r\"\\dot{\\theta_1}\"),\n",
    "              theta1_ddot: symbols(r\"\\ddot{\\theta_1}\"),\n",
    "              theta2: symbols(r\"\\theta_2\"),\n",
    "              theta2_dot: symbols(r\"\\dot{\\theta_2}\"),\n",
    "              theta2_ddot: symbols(r\"\\ddot{\\theta_2}\"),\n",
    "              d3: symbols(r\"d_3\"),\n",
    "              d3_dot: symbols(r\"\\dot{d_3}\"),\n",
    "              d3_ddot: symbols(r\"\\ddot{d_3}\")\n",
    "             })"
   ]
  },
  {
   "cell_type": "markdown",
   "id": "fd161062",
   "metadata": {},
   "source": [
    "## Qn 1"
   ]
  },
  {
   "cell_type": "code",
   "execution_count": 3,
   "id": "e3fc6fcb",
   "metadata": {},
   "outputs": [
    {
     "data": {
      "text/latex": [
       "$\\displaystyle ^0T_{1}$"
      ],
      "text/plain": [
       "^0T_1"
      ]
     },
     "metadata": {},
     "output_type": "display_data"
    },
    {
     "data": {
      "text/latex": [
       "$\\displaystyle \\left[\\begin{matrix}\\cos{\\left(\\theta_{1} \\right)} & - \\sin{\\left(\\theta_{1} \\right)} & 0 & 0\\\\\\sin{\\left(\\theta_{1} \\right)} & \\cos{\\left(\\theta_{1} \\right)} & 0 & 0\\\\0 & 0 & 1 & L_{1}\\\\0 & 0 & 0 & 1\\end{matrix}\\right]$"
      ],
      "text/plain": [
       "Matrix([\n",
       "[cos(\\theta_1), -sin(\\theta_1), 0,  0],\n",
       "[sin(\\theta_1),  cos(\\theta_1), 0,  0],\n",
       "[            0,              0, 1, L1],\n",
       "[            0,              0, 0,  1]])"
      ]
     },
     "metadata": {},
     "output_type": "display_data"
    },
    {
     "data": {
      "text/latex": [
       "$\\displaystyle ^1T_{2}$"
      ],
      "text/plain": [
       "^1T_2"
      ]
     },
     "metadata": {},
     "output_type": "display_data"
    },
    {
     "data": {
      "text/latex": [
       "$\\displaystyle \\left[\\begin{matrix}\\cos{\\left(\\theta_{2} \\right)} & - \\sin{\\left(\\theta_{2} \\right)} & 0 & 0\\\\0 & 0 & 1 & L_{2}\\\\- \\sin{\\left(\\theta_{2} \\right)} & - \\cos{\\left(\\theta_{2} \\right)} & 0 & 0\\\\0 & 0 & 0 & 1\\end{matrix}\\right]$"
      ],
      "text/plain": [
       "Matrix([\n",
       "[ cos(\\theta_2), -sin(\\theta_2), 0,  0],\n",
       "[             0,              0, 1, L2],\n",
       "[-sin(\\theta_2), -cos(\\theta_2), 0,  0],\n",
       "[             0,              0, 0,  1]])"
      ]
     },
     "metadata": {},
     "output_type": "display_data"
    },
    {
     "data": {
      "text/latex": [
       "$\\displaystyle ^2T_{3}$"
      ],
      "text/plain": [
       "^2T_3"
      ]
     },
     "metadata": {},
     "output_type": "display_data"
    },
    {
     "data": {
      "text/latex": [
       "$\\displaystyle \\left[\\begin{matrix}1 & 0 & 0 & 0\\\\0 & 0 & 1 & d_{3}\\\\0 & -1 & 0 & 0\\\\0 & 0 & 0 & 1\\end{matrix}\\right]$"
      ],
      "text/plain": [
       "Matrix([\n",
       "[1,  0, 0,   0],\n",
       "[0,  0, 1, d_3],\n",
       "[0, -1, 0,   0],\n",
       "[0,  0, 0,   1]])"
      ]
     },
     "metadata": {},
     "output_type": "display_data"
    },
    {
     "data": {
      "text/latex": [
       "$\\displaystyle ^0T_{3}$"
      ],
      "text/plain": [
       "^0T_3"
      ]
     },
     "metadata": {},
     "output_type": "display_data"
    },
    {
     "data": {
      "text/latex": [
       "$\\displaystyle \\left[\\begin{matrix}\\cos{\\left(\\theta_{1} \\right)} \\cos{\\left(\\theta_{2} \\right)} & \\sin{\\left(\\theta_{1} \\right)} & - \\sin{\\left(\\theta_{2} \\right)} \\cos{\\left(\\theta_{1} \\right)} & - L_{2} \\sin{\\left(\\theta_{1} \\right)} - d_{3} \\sin{\\left(\\theta_{2} \\right)} \\cos{\\left(\\theta_{1} \\right)}\\\\\\sin{\\left(\\theta_{1} \\right)} \\cos{\\left(\\theta_{2} \\right)} & - \\cos{\\left(\\theta_{1} \\right)} & - \\sin{\\left(\\theta_{1} \\right)} \\sin{\\left(\\theta_{2} \\right)} & L_{2} \\cos{\\left(\\theta_{1} \\right)} - d_{3} \\sin{\\left(\\theta_{1} \\right)} \\sin{\\left(\\theta_{2} \\right)}\\\\- \\sin{\\left(\\theta_{2} \\right)} & 0 & - \\cos{\\left(\\theta_{2} \\right)} & L_{1} - d_{3} \\cos{\\left(\\theta_{2} \\right)}\\\\0 & 0 & 0 & 1\\end{matrix}\\right]$"
      ],
      "text/plain": [
       "Matrix([\n",
       "[cos(\\theta_1)*cos(\\theta_2),  sin(\\theta_1), -sin(\\theta_2)*cos(\\theta_1), -L2*sin(\\theta_1) - d_3*sin(\\theta_2)*cos(\\theta_1)],\n",
       "[sin(\\theta_1)*cos(\\theta_2), -cos(\\theta_1), -sin(\\theta_1)*sin(\\theta_2),  L2*cos(\\theta_1) - d_3*sin(\\theta_1)*sin(\\theta_2)],\n",
       "[             -sin(\\theta_2),              0,               -cos(\\theta_2),                              L1 - d_3*cos(\\theta_2)],\n",
       "[                          0,              0,                            0,                                                   1]])"
      ]
     },
     "metadata": {},
     "output_type": "display_data"
    }
   ],
   "source": [
    "# a\n",
    "\n",
    "DH1 = [0, 0, L1, theta1]\n",
    "T01 = Tlink(DH1)\n",
    "symprint('T', 0, 1)\n",
    "matprint(T01, alias)\n",
    "\n",
    "DH2 = [0, -pi/2, L2, theta2]\n",
    "T12 = Tlink(DH2)\n",
    "symprint('T', 1, 2)\n",
    "matprint(T12, alias)\n",
    "\n",
    "DH3 = [0, -pi/2, d3, 0]\n",
    "T23 = Tlink(DH3)\n",
    "symprint('T', 2, 3)\n",
    "matprint(T23, alias)\n",
    "\n",
    "T03 = simplify(T01 * T12 * T23)\n",
    "symprint('T', 0, 3)\n",
    "matprint(T03, alias)"
   ]
  },
  {
   "cell_type": "code",
   "execution_count": 4,
   "id": "8bcd94b9",
   "metadata": {},
   "outputs": [
    {
     "data": {
      "text/latex": [
       "$\\displaystyle ^1\\Omega_{1}$"
      ],
      "text/plain": [
       "^1\\Omega_1"
      ]
     },
     "metadata": {},
     "output_type": "display_data"
    },
    {
     "data": {
      "text/latex": [
       "$\\displaystyle \\left[\\begin{matrix}0\\\\0\\\\\\dot{\\theta_1}\\end{matrix}\\right]$"
      ],
      "text/plain": [
       "Matrix([\n",
       "[             0],\n",
       "[             0],\n",
       "[\\dot{\\theta_1}]])"
      ]
     },
     "metadata": {},
     "output_type": "display_data"
    },
    {
     "data": {
      "text/latex": [
       "$\\displaystyle ^1V_{1}$"
      ],
      "text/plain": [
       "^1V_1"
      ]
     },
     "metadata": {},
     "output_type": "display_data"
    },
    {
     "data": {
      "text/latex": [
       "$\\displaystyle \\left[\\begin{matrix}0\\\\0\\\\0\\end{matrix}\\right]$"
      ],
      "text/plain": [
       "Matrix([\n",
       "[0],\n",
       "[0],\n",
       "[0]])"
      ]
     },
     "metadata": {},
     "output_type": "display_data"
    },
    {
     "data": {
      "text/latex": [
       "$\\displaystyle ^2\\Omega_{2}$"
      ],
      "text/plain": [
       "^2\\Omega_2"
      ]
     },
     "metadata": {},
     "output_type": "display_data"
    },
    {
     "data": {
      "text/latex": [
       "$\\displaystyle \\left[\\begin{matrix}- \\dot{\\theta_1} \\sin{\\left(\\theta_{2} \\right)}\\\\- \\dot{\\theta_1} \\cos{\\left(\\theta_{2} \\right)}\\\\\\dot{\\theta_2}\\end{matrix}\\right]$"
      ],
      "text/plain": [
       "Matrix([\n",
       "[-\\dot{\\theta_1}*sin(\\theta_2)],\n",
       "[-\\dot{\\theta_1}*cos(\\theta_2)],\n",
       "[               \\dot{\\theta_2}]])"
      ]
     },
     "metadata": {},
     "output_type": "display_data"
    },
    {
     "data": {
      "text/latex": [
       "$\\displaystyle ^2V_{2}$"
      ],
      "text/plain": [
       "^2V_2"
      ]
     },
     "metadata": {},
     "output_type": "display_data"
    },
    {
     "data": {
      "text/latex": [
       "$\\displaystyle \\left[\\begin{matrix}- L_{2} \\dot{\\theta_1} \\cos{\\left(\\theta_{2} \\right)}\\\\L_{2} \\dot{\\theta_1} \\sin{\\left(\\theta_{2} \\right)}\\\\0\\end{matrix}\\right]$"
      ],
      "text/plain": [
       "Matrix([\n",
       "[-L2*\\dot{\\theta_1}*cos(\\theta_2)],\n",
       "[ L2*\\dot{\\theta_1}*sin(\\theta_2)],\n",
       "[                               0]])"
      ]
     },
     "metadata": {},
     "output_type": "display_data"
    },
    {
     "data": {
      "text/latex": [
       "$\\displaystyle ^3\\Omega_{3}$"
      ],
      "text/plain": [
       "^3\\Omega_3"
      ]
     },
     "metadata": {},
     "output_type": "display_data"
    },
    {
     "data": {
      "text/latex": [
       "$\\displaystyle \\left[\\begin{matrix}- \\dot{\\theta_1} \\sin{\\left(\\theta_{2} \\right)}\\\\- \\dot{\\theta_2}\\\\- \\dot{\\theta_1} \\cos{\\left(\\theta_{2} \\right)}\\end{matrix}\\right]$"
      ],
      "text/plain": [
       "Matrix([\n",
       "[-\\dot{\\theta_1}*sin(\\theta_2)],\n",
       "[              -\\dot{\\theta_2}],\n",
       "[-\\dot{\\theta_1}*cos(\\theta_2)]])"
      ]
     },
     "metadata": {},
     "output_type": "display_data"
    },
    {
     "data": {
      "text/latex": [
       "$\\displaystyle ^3V_{3}$"
      ],
      "text/plain": [
       "^3V_3"
      ]
     },
     "metadata": {},
     "output_type": "display_data"
    },
    {
     "data": {
      "text/latex": [
       "$\\displaystyle \\left[\\begin{matrix}- L_{2} \\dot{\\theta_1} \\cos{\\left(\\theta_{2} \\right)} - \\dot{\\theta_2} d_{3}\\\\\\dot{\\theta_1} d_{3} \\sin{\\left(\\theta_{2} \\right)}\\\\L_{2} \\dot{\\theta_1} \\sin{\\left(\\theta_{2} \\right)} + \\dot{d_3}\\end{matrix}\\right]$"
      ],
      "text/plain": [
       "Matrix([\n",
       "[-L2*\\dot{\\theta_1}*cos(\\theta_2) - \\dot{\\theta_2}*d_3],\n",
       "[                     \\dot{\\theta_1}*d_3*sin(\\theta_2)],\n",
       "[          L2*\\dot{\\theta_1}*sin(\\theta_2) + \\dot{d_3}]])"
      ]
     },
     "metadata": {},
     "output_type": "display_data"
    },
    {
     "data": {
      "text/latex": [
       "$\\displaystyle ^eJ_{e}$"
      ],
      "text/plain": [
       "^eJ_e"
      ]
     },
     "metadata": {},
     "output_type": "display_data"
    },
    {
     "data": {
      "text/latex": [
       "$\\displaystyle \\left[\\begin{matrix}- L_{2} \\cos{\\left(\\theta_{2} \\right)} & - d_{3} & 0\\\\d_{3} \\sin{\\left(\\theta_{2} \\right)} & 0 & 0\\\\L_{2} \\sin{\\left(\\theta_{2} \\right)} & 0 & 1\\\\- \\sin{\\left(\\theta_{2} \\right)} & 0 & 0\\\\0 & -1 & 0\\\\- \\cos{\\left(\\theta_{2} \\right)} & 0 & 0\\end{matrix}\\right]$"
      ],
      "text/plain": [
       "Matrix([\n",
       "[-L2*cos(\\theta_2), -d_3, 0],\n",
       "[d_3*sin(\\theta_2),    0, 0],\n",
       "[ L2*sin(\\theta_2),    0, 1],\n",
       "[   -sin(\\theta_2),    0, 0],\n",
       "[                0,   -1, 0],\n",
       "[   -cos(\\theta_2),    0, 0]])"
      ]
     },
     "metadata": {},
     "output_type": "display_data"
    },
    {
     "data": {
      "text/latex": [
       "$\\displaystyle ^0J_{}$"
      ],
      "text/plain": [
       "^0J_"
      ]
     },
     "metadata": {},
     "output_type": "display_data"
    },
    {
     "data": {
      "text/latex": [
       "$\\displaystyle \\left[\\begin{matrix}- L_{2} \\cos{\\left(\\theta_{1} \\right)} + d_{3} \\sin{\\left(\\theta_{1} \\right)} \\sin{\\left(\\theta_{2} \\right)} & - d_{3} \\cos{\\left(\\theta_{1} \\right)} \\cos{\\left(\\theta_{2} \\right)} & - \\sin{\\left(\\theta_{2} \\right)} \\cos{\\left(\\theta_{1} \\right)}\\\\- L_{2} \\sin{\\left(\\theta_{1} \\right)} - d_{3} \\sin{\\left(\\theta_{2} \\right)} \\cos{\\left(\\theta_{1} \\right)} & - d_{3} \\sin{\\left(\\theta_{1} \\right)} \\cos{\\left(\\theta_{2} \\right)} & - \\sin{\\left(\\theta_{1} \\right)} \\sin{\\left(\\theta_{2} \\right)}\\\\0 & d_{3} \\sin{\\left(\\theta_{2} \\right)} & - \\cos{\\left(\\theta_{2} \\right)}\\\\0 & - \\sin{\\left(\\theta_{1} \\right)} & 0\\\\0 & \\cos{\\left(\\theta_{1} \\right)} & 0\\\\1 & 0 & 0\\end{matrix}\\right]$"
      ],
      "text/plain": [
       "Matrix([\n",
       "[-L2*cos(\\theta_1) + d_3*sin(\\theta_1)*sin(\\theta_2), -d_3*cos(\\theta_1)*cos(\\theta_2), -sin(\\theta_2)*cos(\\theta_1)],\n",
       "[-L2*sin(\\theta_1) - d_3*sin(\\theta_2)*cos(\\theta_1), -d_3*sin(\\theta_1)*cos(\\theta_2), -sin(\\theta_1)*sin(\\theta_2)],\n",
       "[                                                  0,                d_3*sin(\\theta_2),               -cos(\\theta_2)],\n",
       "[                                                  0,                   -sin(\\theta_1),                            0],\n",
       "[                                                  0,                    cos(\\theta_1),                            0],\n",
       "[                                                  1,                                0,                            0]])"
      ]
     },
     "metadata": {},
     "output_type": "display_data"
    }
   ],
   "source": [
    "# c\n",
    "\n",
    "omega = Matrix([0, 0, 0])\n",
    "v = Matrix([0, 0, 0])\n",
    "\n",
    "\n",
    "omega_11, v_11 = revolute_joint(frame = 1, \n",
    "                                theta_dot = theta1_dot, \n",
    "                                transform_low_high = T01, \n",
    "                                omega = omega, v = v, \n",
    "                                alias = alias)\n",
    "\n",
    "omega_22, v_22 = revolute_joint(frame = 2, \n",
    "                                theta_dot = theta2_dot, \n",
    "                                transform_low_high = T12, \n",
    "                                omega = omega_11, v = v_11, \n",
    "                                alias = alias)\n",
    "\n",
    "omega_33, v_33 = prismatic_joint(frame = 3, \n",
    "                                d_dot = d3_dot, \n",
    "                                transform_low_high = T23, \n",
    "                                omega = omega_22, v = v_22, \n",
    "                                alias = alias)\n",
    "\n",
    "Jee, J0 = Jacobian(parameters = [theta1_dot, theta2_dot, d3_dot], \n",
    "                   v_ee = v_33, \n",
    "                   omega_ee = omega_33, \n",
    "                   transform_low_high = T03,\n",
    "                   alias = alias)"
   ]
  },
  {
   "cell_type": "code",
   "execution_count": 5,
   "id": "11b6d634",
   "metadata": {},
   "outputs": [
    {
     "data": {
      "text/latex": [
       "$\\displaystyle \\left[\\begin{matrix}1 & 0 & 0\\\\- L_{2} & 0 & -1\\\\0 & 1 & 0\\\\0 & -1 & 0\\\\0 & 0 & 0\\\\1 & 0 & 0\\end{matrix}\\right]$"
      ],
      "text/plain": [
       "Matrix([\n",
       "[  1,  0,  0],\n",
       "[-L2,  0, -1],\n",
       "[  0,  1,  0],\n",
       "[  0, -1,  0],\n",
       "[  0,  0,  0],\n",
       "[  1,  0,  0]])"
      ]
     },
     "execution_count": 5,
     "metadata": {},
     "output_type": "execute_result"
    }
   ],
   "source": [
    "# d\n",
    "J0 = J0.subs({theta1: pi/2, theta2: pi/2, d3: 1, \n",
    "        theta1_dot: 1, theta2_dot: 0, d3_dot: 1})\n",
    "J0"
   ]
  },
  {
   "cell_type": "code",
   "execution_count": 6,
   "id": "6d5bf22a",
   "metadata": {},
   "outputs": [
    {
     "data": {
      "text/latex": [
       "$\\displaystyle \\left[\\begin{matrix}1\\\\- L_{2} - 1\\\\0\\\\0\\\\0\\\\1\\end{matrix}\\right]$"
      ],
      "text/plain": [
       "Matrix([\n",
       "[      1],\n",
       "[-L2 - 1],\n",
       "[      0],\n",
       "[      0],\n",
       "[      0],\n",
       "[      1]])"
      ]
     },
     "execution_count": 6,
     "metadata": {},
     "output_type": "execute_result"
    }
   ],
   "source": [
    "J0 * Matrix([1, 0, 1])"
   ]
  },
  {
   "cell_type": "code",
   "execution_count": 7,
   "id": "08bfd3c8",
   "metadata": {},
   "outputs": [],
   "source": [
    "# e\n",
    "# Q5\n",
    "\n",
    "def angular_acce(frame, joint_type, transform_low_high, omega_prev, omega_dot_prev, theta_dot, theta_ddot, alias, Display = True):\n",
    "    \n",
    "    '''\n",
    "    See Chapter 5 Equation 32 and 33 for details\n",
    "    Note on the indices:\n",
    "    omega_prev: i\n",
    "    omega_dot_prev: i\n",
    "    theta_dot: i+1\n",
    "    theta_ddot: i+1\n",
    "    output: i+1\n",
    "    '''\n",
    "    \n",
    "    # Transpose and extract the 3x3 matrix\n",
    "    rotation_high_low = transform_low_high.T[:3, :3]\n",
    "    \n",
    "    if joint_type == 'r':\n",
    "        # Equation 32\n",
    "        omega_new = simplify(rotation_high_low * omega_dot_prev +\n",
    "                             rotation_high_low * omega_prev.cross(theta_dot * Matrix([0, 0, 1])) +\n",
    "                             theta_ddot * Matrix([0, 0, 1])\n",
    "                            )\n",
    "        if Display == True:\n",
    "            if type(frame) == int:\n",
    "                symprint('\\dot{\\\\Omega}', frame, frame)\n",
    "            else:\n",
    "                symprint('\\dot{\\\\Omega}', '', frame)  \n",
    "            matprint(omega_new, alias)\n",
    "            \n",
    "    elif joint_type == 'p':\n",
    "        # Equation 33\n",
    "        omega_new = simplify(rotation_high_low * omega_dot_prev)\n",
    "        \n",
    "        if Display == True:\n",
    "            symprint('\\dot{\\\\Omega}', frame, frame)\n",
    "            matprint(omega_new, alias)\n",
    "            \n",
    "    else:\n",
    "        print('Joint type not found, try r and p')\n",
    "        return None\n",
    "    \n",
    "    \n",
    "    return omega_new\n",
    "\n",
    "\n",
    "def linear_acce(frame, joint_type, transform_low_high, omega_prev, omega_dot_prev, v_dot_prev, alias, Display = True):\n",
    "    \n",
    "    '''\n",
    "    See Chapter 5 Equation 34 and 35 for details\n",
    "    Note on the indices:\n",
    "    omega_prev: i\n",
    "    omega_dot_prev: i\n",
    "    v_dot_prev: i\n",
    "    output: i+1\n",
    "    '''\n",
    "    \n",
    "    \n",
    "    # Transpose and extract the 3x3 matrix\n",
    "    rotation_high_low = transform_low_high.T[:3, :3]\n",
    "    P = transform_low_high[:3, -1]\n",
    "    \n",
    "    if joint_type == 'r':\n",
    "        \n",
    "        # Equation 34\n",
    "        v_new = simplify(rotation_high_low * (v_dot_prev + omega_dot_prev.cross(P) + omega_prev.cross(omega_prev.cross(P))))\n",
    "        \n",
    "        if Display == True:\n",
    "            if type(frame) == int:\n",
    "                symprint('\\dot{V}', frame, frame)\n",
    "            else:\n",
    "                symprint('\\dot{V}', '', frame)\n",
    "            matprint(v_new, alias)\n",
    "    elif joint_type == 'p':\n",
    "        \n",
    "        # Equation 35 (did not implement)\n",
    "        pass\n",
    "        \n",
    "    else:\n",
    "        print('Joint type not found, try r and p')\n",
    "        return None\n",
    "    \n",
    "    return v_new\n",
    "\n",
    "def force_cal(mass, v_dot):\n",
    "    F = simplify(mass * v_dot)  \n",
    "    return F\n",
    "    \n",
    "def moment_cal(I, omega_dot, omega):\n",
    "    \n",
    "    intermediate = I * omega\n",
    "    M = simplify(I * omega_dot + omega.cross(intermediate))\n",
    "    return M\n",
    "\n",
    "    \n",
    "    "
   ]
  },
  {
   "cell_type": "code",
   "execution_count": 8,
   "id": "15c8da86",
   "metadata": {},
   "outputs": [
    {
     "data": {
      "text/latex": [
       "$\\displaystyle ^1\\dot{\\Omega}_1$"
      ],
      "text/plain": [
       "^1\\dot{\\Omega}_1"
      ]
     },
     "metadata": {},
     "output_type": "display_data"
    },
    {
     "data": {
      "text/latex": [
       "$\\displaystyle \\left[\\begin{matrix}0\\\\0\\\\\\ddot{\\theta_1}\\end{matrix}\\right]$"
      ],
      "text/plain": [
       "Matrix([\n",
       "[              0],\n",
       "[              0],\n",
       "[\\ddot{\\theta_1}]])"
      ]
     },
     "metadata": {},
     "output_type": "display_data"
    },
    {
     "data": {
      "text/latex": [
       "$\\displaystyle ^1\\dot{V}_1$"
      ],
      "text/plain": [
       "^1\\dot{V}_1"
      ]
     },
     "metadata": {},
     "output_type": "display_data"
    },
    {
     "data": {
      "text/latex": [
       "$\\displaystyle \\left[\\begin{matrix}0\\\\0\\\\0\\end{matrix}\\right]$"
      ],
      "text/plain": [
       "Matrix([\n",
       "[0],\n",
       "[0],\n",
       "[0]])"
      ]
     },
     "metadata": {},
     "output_type": "display_data"
    },
    {
     "data": {
      "text/latex": [
       "$\\displaystyle ^2\\dot{\\Omega}_2$"
      ],
      "text/plain": [
       "^2\\dot{\\Omega}_2"
      ]
     },
     "metadata": {},
     "output_type": "display_data"
    },
    {
     "data": {
      "text/latex": [
       "$\\displaystyle \\left[\\begin{matrix}- \\ddot{\\theta_1} \\sin{\\left(\\theta_{2} \\right)}\\\\- \\ddot{\\theta_1} \\cos{\\left(\\theta_{2} \\right)}\\\\\\ddot{\\theta_2}\\end{matrix}\\right]$"
      ],
      "text/plain": [
       "Matrix([\n",
       "[-\\ddot{\\theta_1}*sin(\\theta_2)],\n",
       "[-\\ddot{\\theta_1}*cos(\\theta_2)],\n",
       "[               \\ddot{\\theta_2}]])"
      ]
     },
     "metadata": {},
     "output_type": "display_data"
    },
    {
     "data": {
      "text/latex": [
       "$\\displaystyle ^2\\dot{V}_2$"
      ],
      "text/plain": [
       "^2\\dot{V}_2"
      ]
     },
     "metadata": {},
     "output_type": "display_data"
    },
    {
     "data": {
      "text/latex": [
       "$\\displaystyle \\left[\\begin{matrix}- L_{2} \\ddot{\\theta_1} \\cos{\\left(\\theta_{2} \\right)}\\\\L_{2} \\ddot{\\theta_1} \\sin{\\left(\\theta_{2} \\right)}\\\\- L_{2} \\dot{\\theta_1}^{2}\\end{matrix}\\right]$"
      ],
      "text/plain": [
       "Matrix([\n",
       "[-L2*\\ddot{\\theta_1}*cos(\\theta_2)],\n",
       "[ L2*\\ddot{\\theta_1}*sin(\\theta_2)],\n",
       "[            -L2*\\dot{\\theta_1}**2]])"
      ]
     },
     "metadata": {},
     "output_type": "display_data"
    }
   ],
   "source": [
    "# Outward iteration to find the Force and moment on the COM\n",
    "omega_00 = Matrix([0, 0, 0])\n",
    "omega_dot_00 = Matrix([0, 0, 0])\n",
    "v_00 = Matrix([0, 0, 0])\n",
    "g = symbols('g')\n",
    "v_dot_00 = Matrix([0, 0, 0])\n",
    "\n",
    "\n",
    "omega_dot_11 = angular_acce(frame = 1,\n",
    "                 joint_type = 'r',\n",
    "                 transform_low_high = T01,\n",
    "                 omega_prev = omega_00,\n",
    "                 omega_dot_prev = omega_dot_00,\n",
    "                 theta_dot = theta1_dot,\n",
    "                 theta_ddot = theta1_ddot,\n",
    "                 alias = alias)\n",
    "\n",
    "v_dot_11 = linear_acce(frame = 1,\n",
    "                 joint_type = 'r',\n",
    "                 transform_low_high = T01,\n",
    "                 omega_prev = omega_00,\n",
    "                 omega_dot_prev = omega_dot_00,\n",
    "                 v_dot_prev = v_dot_00,\n",
    "                 alias = alias)\n",
    "\n",
    "omega_dot_22 = angular_acce(frame = 2,\n",
    "                 joint_type = 'r',\n",
    "                 transform_low_high = T12,\n",
    "                 omega_prev = omega_11,\n",
    "                 omega_dot_prev = omega_dot_11,\n",
    "                 theta_dot = theta2_dot,\n",
    "                 theta_ddot = theta2_ddot,\n",
    "                 alias = alias)\n",
    "\n",
    "v_dot_22 = linear_acce(frame = 2,\n",
    "                 joint_type = 'r',\n",
    "                 transform_low_high = T12,\n",
    "                 omega_prev = omega_11,\n",
    "                 omega_dot_prev = omega_dot_11,\n",
    "                 v_dot_prev = v_dot_11,\n",
    "                 alias = alias)\n"
   ]
  },
  {
   "cell_type": "code",
   "execution_count": 9,
   "id": "8a08493d",
   "metadata": {},
   "outputs": [],
   "source": [
    "# f\n",
    "l1 = 2\n",
    "l2 = 1\n",
    "\n",
    "t2_ini = np.arctan2(-0, 1)\n",
    "t2_f = np.arctan2(0, -1)\n",
    "\n",
    "t1_ini = np.arctan2(0, 1)\n",
    "t1_f = np.arctan2(0, 1)\n",
    "\n",
    "d3_ini = (l1 - 2)/1\n",
    "d3_f = (l1 - 3)/-1\n"
   ]
  },
  {
   "cell_type": "code",
   "execution_count": null,
   "id": "d7191da2",
   "metadata": {},
   "outputs": [],
   "source": [
    "# f\n",
    "\n",
    "# More comprehensive version\n",
    "\n",
    "# Initial and final condition\n",
    "t1 = [t1_ini, t1_f]\n",
    "t2 = [t2_ini, t2_f]\n",
    "t3 = [d3_ini, d3_f]\n",
    "angle_lst = [t1, t2, t3]\n",
    "\n",
    "# Total motion time\n",
    "tf = 2\n",
    "t_lst = np.arange(0, tf + 0.1, 0.1)\n",
    "\n",
    "# Record for all joints\n",
    "disp_all = []\n",
    "vel_all = []\n",
    "acc_all = []\n",
    "\n",
    "for i in range(len(angle_lst)):\n",
    "    \n",
    "    a0 = angle_lst[i][0]\n",
    "    a1 = 0\n",
    "    a2 = 3/tf**2 * (angle_lst[i][-1] - angle_lst[i][0])\n",
    "    a3 = -2/tf**3 * (angle_lst[i][-1] - angle_lst[i][0])\n",
    "    \n",
    "    t = symbols('t')\n",
    "    print(f'Displacement equations for theta_{i+1}')\n",
    "    eqn_disp = a0 + a1 * t + a2 * t**2 + a3 * t**3\n",
    "    \n",
    "    display(eqn_disp)\n",
    "    \n",
    "    disp = [eqn_disp.subs(t, i) for i in t_lst]\n",
    "    \n",
    "    disp_list = [float(i) for i in disp]\n",
    "    \n",
    "    \n",
    "    print(f'Velocity equations for theta_{i+1}')\n",
    "    eqn_vel = a1 + 2 * a2 * t + 3 * a3 * t**2\n",
    "    \n",
    "    vel = [eqn_vel.subs(t, i) for i in t_lst]\n",
    "    display(eqn_vel)\n",
    "    \n",
    "    vel_list = [float(i) for i in vel]\n",
    "    \n",
    "    print(f'Acceleration equations for theta_{i+1}')\n",
    "    eqn_acc = 2 * a2 + 6 * a3 * t\n",
    "    \n",
    "    acc = [eqn_acc.subs(t, i) for i in t_lst]\n",
    "    display(eqn_acc)\n",
    "    \n",
    "    acc_list = [float(i) for i in acc]\n",
    "    \n",
    "    print('---------------------------------')\n",
    "    disp_all.append(disp_list)\n",
    "    vel_all.append(vel_list)\n",
    "    acc_all.append(acc_list)\n",
    "    \n",
    "    \n",
    "for i in range(len(disp_all)):\n",
    "    plt.scatter(t_lst, disp_all[i], label = f'theta_{i+1}', s=1)\n",
    "    plt.title('Displacement')\n",
    "plt.legend()\n",
    "plt.show()\n",
    "\n",
    "for i in range(len(disp_all)):\n",
    "    plt.scatter(t_lst, vel_all[i], label = f'theta_{i+1}', s=1)\n",
    "    plt.title('Velocity')\n",
    "plt.legend()\n",
    "plt.show()\n",
    "\n",
    "for i in range(len(disp_all)):\n",
    "    plt.scatter(t_lst, acc_all[i], label = f'theta_{i+1}', s=1)\n",
    "    plt.title('Acceleration')\n",
    "plt.legend()\n",
    "plt.show()\n",
    "    \n",
    "    \n",
    "    "
   ]
  },
  {
   "cell_type": "markdown",
   "id": "c66042fb",
   "metadata": {},
   "source": [
    "## Qn 4"
   ]
  },
  {
   "cell_type": "code",
   "execution_count": 11,
   "id": "1d813f67",
   "metadata": {},
   "outputs": [],
   "source": [
    "def Rotation_non_pincipal_axes(angle, direction, rad = True):\n",
    "    if rad == False:\n",
    "        a = math.radians(angle)\n",
    "    else:\n",
    "        a = angle\n",
    "    \n",
    "    # Convert the direction to unit vector, if the direction is already unit vector, norm = 1\n",
    "    [ux, uy, uz] = direction/np.linalg.norm(direction)\n",
    "    \n",
    "    # Use equation 33\n",
    "    row1 = np.array([ux*ux*(1-c(a))+c(a), ux*uy*(1-c(a))-uz*s(a), ux*uz*(1-c(a))+uy*s(a)]).reshape(1, -1)\n",
    "    row2 = np.array([ux*uy*(1-c(a))+uz*s(a), uy*uy*(1-c(a))+c(a), uy*uz*(1-c(a))-ux*s(a)]).reshape(1, -1)\n",
    "    row3 = np.array([ux*uz*(1-c(a))-uy*s(a), uy*uz*(1-c(a))+ux*s(a), uz*uz*(1-c(a))+c(a)]).reshape(1, -1)\n",
    "    result = np.concatenate([row1, row2, row3], axis = 0)\n",
    "    \n",
    "    return result"
   ]
  },
  {
   "cell_type": "code",
   "execution_count": 12,
   "id": "c700a380",
   "metadata": {},
   "outputs": [
    {
     "data": {
      "text/latex": [
       "$\\displaystyle \\left[\\begin{matrix}\\cos{\\left(\\alpha \\right)} & - \\frac{\\sqrt{2} \\sin{\\left(\\alpha \\right)}}{2} & - \\frac{\\sqrt{2} \\sin{\\left(\\alpha \\right)}}{2} & 0\\\\\\frac{\\sqrt{2} \\sin{\\left(\\alpha \\right)}}{2} & \\frac{\\cos{\\left(\\alpha \\right)}}{2} + \\frac{1}{2} & \\frac{\\cos{\\left(\\alpha \\right)}}{2} - \\frac{1}{2} & 0\\\\\\frac{\\sqrt{2} \\sin{\\left(\\alpha \\right)}}{2} & \\frac{\\cos{\\left(\\alpha \\right)}}{2} - \\frac{1}{2} & \\frac{\\cos{\\left(\\alpha \\right)}}{2} + \\frac{1}{2} & 0\\\\0 & 0 & 0 & 1\\end{matrix}\\right]$"
      ],
      "text/plain": [
       "Matrix([\n",
       "[          cos(\\alpha), -sqrt(2)*sin(\\alpha)/2, -sqrt(2)*sin(\\alpha)/2, 0],\n",
       "[sqrt(2)*sin(\\alpha)/2,    cos(\\alpha)/2 + 1/2,    cos(\\alpha)/2 - 1/2, 0],\n",
       "[sqrt(2)*sin(\\alpha)/2,    cos(\\alpha)/2 - 1/2,    cos(\\alpha)/2 + 1/2, 0],\n",
       "[                    0,                      0,                      0, 1]])"
      ]
     },
     "execution_count": 12,
     "metadata": {},
     "output_type": "execute_result"
    }
   ],
   "source": [
    "ux = symbols('u_x')\n",
    "uy = symbols('u_y')\n",
    "uz = symbols('u_z')\n",
    "\n",
    "a = symbols('\\\\alpha')\n",
    "b = symbols('\\\\beta') \n",
    "\n",
    "b = pi/4\n",
    "\n",
    "ux = 0\n",
    "uy = -cos(b)\n",
    "uz = sin(b)\n",
    "\n",
    "\n",
    "row1 = Matrix([ux*ux*(1-cos(a))+cos(a), \n",
    "               ux*uy*(1-cos(a))-uz*sin(a), \n",
    "               ux*uz*(1-cos(a))+uy*sin(a)]).T\n",
    "\n",
    "row2 = Matrix([ux*uy*(1-cos(a))+uz*sin(a), \n",
    "               uy*uy*(1-cos(a))+cos(a), \n",
    "               uy*uz*(1-cos(a))-ux*sin(a)]).T\n",
    "\n",
    "row3 = Matrix([ux*uz*(1-cos(a))-uy*sin(a), \n",
    "               uy*uz*(1-cos(a))+ux*sin(a), \n",
    "               uz*uz*(1-cos(a))+cos(a)]).T\n",
    "\n",
    "full_mat = simplify(Matrix([row1, row2, row3]))\n",
    "\n",
    "T2 = full_mat.col_insert(3, Matrix([0, 0, 0]))\n",
    "T2 = T2.row_insert(3, Matrix([0, 0, 0, 1]).T)\n",
    "\n",
    "T2"
   ]
  },
  {
   "cell_type": "code",
   "execution_count": 14,
   "id": "f9c36519",
   "metadata": {},
   "outputs": [
    {
     "data": {
      "text/latex": [
       "$\\displaystyle \\left[\\begin{matrix}1 & 0 & 0 & 0\\\\0 & 1 & 0 & 0\\\\0 & 0 & 1 & 12\\\\0 & 0 & 0 & 1\\end{matrix}\\right]$"
      ],
      "text/plain": [
       "Matrix([\n",
       "[1, 0, 0,  0],\n",
       "[0, 1, 0,  0],\n",
       "[0, 0, 1, 12],\n",
       "[0, 0, 0,  1]])"
      ]
     },
     "execution_count": 14,
     "metadata": {},
     "output_type": "execute_result"
    }
   ],
   "source": [
    "T1 = Matrix([[1, 0, 0, 0],\n",
    "            [0, 1, 0, 0],\n",
    "            [0, 0, 1, 12],\n",
    "            [0, 0, 0, 1]])\n",
    "T1"
   ]
  },
  {
   "cell_type": "code",
   "execution_count": 17,
   "id": "e2f40dcf",
   "metadata": {
    "scrolled": true
   },
   "outputs": [
    {
     "data": {
      "text/latex": [
       "$\\displaystyle \\left[\\begin{matrix}\\cos{\\left(\\alpha \\right)} & - \\frac{\\sqrt{2} \\sin{\\left(\\alpha \\right)}}{2} & - \\frac{\\sqrt{2} \\sin{\\left(\\alpha \\right)}}{2} & - 6 \\sqrt{2} \\sin{\\left(\\alpha \\right)}\\\\\\frac{\\sqrt{2} \\sin{\\left(\\alpha \\right)}}{2} & \\frac{\\cos{\\left(\\alpha \\right)}}{2} + \\frac{1}{2} & \\frac{\\cos{\\left(\\alpha \\right)}}{2} - \\frac{1}{2} & 6 \\cos{\\left(\\alpha \\right)} - 6\\\\\\frac{\\sqrt{2} \\sin{\\left(\\alpha \\right)}}{2} & \\frac{\\cos{\\left(\\alpha \\right)}}{2} - \\frac{1}{2} & \\frac{\\cos{\\left(\\alpha \\right)}}{2} + \\frac{1}{2} & 6 \\cos{\\left(\\alpha \\right)} + 6\\\\0 & 0 & 0 & 1\\end{matrix}\\right]$"
      ],
      "text/plain": [
       "Matrix([\n",
       "[          cos(\\alpha), -sqrt(2)*sin(\\alpha)/2, -sqrt(2)*sin(\\alpha)/2, -6*sqrt(2)*sin(\\alpha)],\n",
       "[sqrt(2)*sin(\\alpha)/2,    cos(\\alpha)/2 + 1/2,    cos(\\alpha)/2 - 1/2,      6*cos(\\alpha) - 6],\n",
       "[sqrt(2)*sin(\\alpha)/2,    cos(\\alpha)/2 - 1/2,    cos(\\alpha)/2 + 1/2,      6*cos(\\alpha) + 6],\n",
       "[                    0,                      0,                      0,                      1]])"
      ]
     },
     "execution_count": 17,
     "metadata": {},
     "output_type": "execute_result"
    }
   ],
   "source": [
    "T2 * T1"
   ]
  },
  {
   "cell_type": "markdown",
   "id": "1fa96c3c",
   "metadata": {},
   "source": [
    "## Qn 2"
   ]
  },
  {
   "cell_type": "code",
   "execution_count": null,
   "id": "3789dfd7",
   "metadata": {},
   "outputs": [],
   "source": [
    "img = cv2.imread('Past Paper Resource/StarWars.jpeg')\n",
    "# Divide 255 to convert image from range 0-255 to 0-1\n",
    "imgBw = cv2.cvtColor(img, cv2.COLOR_BGR2GRAY)/255\n",
    "plt.imshow(imgBw, cmap=plt.cm.gray)\n",
    "plt.title('Original Image')\n",
    "plt.show()\n",
    "\n",
    "kernal_size = 11\n",
    "\n",
    "# Uniform kernal of size 21\n",
    "kernel = np.ones([kernal_size,kernal_size])/kernal_size**2\n",
    "\n",
    "uniform_smoothed = cv2.filter2D(imgBw, -1, kernel)\n",
    "plt.imshow(uniform_smoothed, cmap=plt.cm.gray)\n",
    "plt.title('Uniformly smoothed image')\n",
    "plt.show()"
   ]
  },
  {
   "cell_type": "code",
   "execution_count": null,
   "id": "cf0690d3",
   "metadata": {},
   "outputs": [],
   "source": [
    "# Image B\n",
    "K = np.array([0.5, 0, -0.5]).reshape(-1, 1)\n",
    "edge_hor = cv2.filter2D(imgBw, -1, K)\n",
    "edge_ver = cv2.filter2D(imgBw, -1, K.T)\n",
    "\n",
    "edge = 1 - np.sqrt(edge_hor**2 + edge_ver**2)\n",
    "plt.imshow(edge, cmap=plt.cm.gray)\n",
    "plt.title('Edge detection image')\n",
    "plt.show()"
   ]
  },
  {
   "cell_type": "code",
   "execution_count": null,
   "id": "aa8a1123",
   "metadata": {},
   "outputs": [],
   "source": [
    "# Image C\n",
    "K = np.array([0.5, 0, -0.5]).reshape(-1, 1)\n",
    "edge_hor = cv2.filter2D(uniform_smoothed, -1, K)\n",
    "edge_ver = cv2.filter2D(uniform_smoothed, -1, K.T)\n",
    "\n",
    "edge = 1 - np.sqrt(edge_hor**2 + edge_ver**2)\n",
    "plt.imshow(edge, cmap=plt.cm.gray)\n",
    "plt.title('Edge detection image')\n",
    "plt.show()"
   ]
  },
  {
   "cell_type": "code",
   "execution_count": null,
   "id": "cdd5b711",
   "metadata": {},
   "outputs": [],
   "source": []
  }
 ],
 "metadata": {
  "kernelspec": {
   "display_name": "Python 3 (ipykernel)",
   "language": "python",
   "name": "python3"
  },
  "language_info": {
   "codemirror_mode": {
    "name": "ipython",
    "version": 3
   },
   "file_extension": ".py",
   "mimetype": "text/x-python",
   "name": "python",
   "nbconvert_exporter": "python",
   "pygments_lexer": "ipython3",
   "version": "3.8.15"
  }
 },
 "nbformat": 4,
 "nbformat_minor": 5
}
