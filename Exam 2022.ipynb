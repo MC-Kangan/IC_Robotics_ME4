{
 "cells": [
  {
   "cell_type": "code",
   "execution_count": 1,
   "id": "658aaa4d",
   "metadata": {},
   "outputs": [],
   "source": [
    "import numpy as np\n",
    "import pandas as pd\n",
    "import matplotlib.pyplot as plt\n",
    "from mpl_toolkits.mplot3d import Axes3D\n",
    "from sympy import *\n",
    "from robot_tools import *\n",
    "import math"
   ]
  },
  {
   "cell_type": "code",
   "execution_count": 10,
   "id": "30da6568",
   "metadata": {},
   "outputs": [],
   "source": [
    "t = symbols('t')\n",
    "theta1 = Function(r\"\\theta_1\")(t)\n",
    "theta1_dot = diff(theta1, t)\n",
    "theta1_ddot = diff(theta1, t, t)\n",
    "\n",
    "theta2 = Function(r\"\\theta_2\")(t)\n",
    "theta2_dot = diff(theta2, t)\n",
    "theta2_ddot = diff(theta2, t, t)\n",
    "\n",
    "l1 = symbols('L1')\n",
    "l2 = symbols('L2')\n",
    "d3 = symbols('d3')\n",
    "\n",
    "alias = {}\n",
    "\n",
    "# display as theta dot instead of d(theta)/dt, and ignore dependency (t)\n",
    "alias.update({theta1: symbols(r\"\\theta_1\"),\n",
    "              theta1_dot: symbols(r\"\\dot{\\theta_1}\"),\n",
    "              theta1_ddot: symbols(r\"\\ddot{\\theta_1}\"),\n",
    "              theta2: symbols(r\"\\theta_2\"),\n",
    "              theta2_dot: symbols(r\"\\dot{\\theta_2}\"),\n",
    "              theta2_ddot: symbols(r\"\\ddot{\\theta_2}\")\n",
    "             })"
   ]
  },
  {
   "cell_type": "code",
   "execution_count": 11,
   "id": "55ae3f62",
   "metadata": {},
   "outputs": [
    {
     "data": {
      "text/latex": [
       "$\\displaystyle ^0T_{1}$"
      ],
      "text/plain": [
       "^0T_1"
      ]
     },
     "metadata": {},
     "output_type": "display_data"
    },
    {
     "data": {
      "text/latex": [
       "$\\displaystyle \\left[\\begin{matrix}\\cos{\\left(\\theta_{1} \\right)} & - \\sin{\\left(\\theta_{1} \\right)} & 0 & 0\\\\\\sin{\\left(\\theta_{1} \\right)} & \\cos{\\left(\\theta_{1} \\right)} & 0 & 0\\\\0 & 0 & 1 & L_{1}\\\\0 & 0 & 0 & 1\\end{matrix}\\right]$"
      ],
      "text/plain": [
       "Matrix([\n",
       "[cos(\\theta_1), -sin(\\theta_1), 0,  0],\n",
       "[sin(\\theta_1),  cos(\\theta_1), 0,  0],\n",
       "[            0,              0, 1, L1],\n",
       "[            0,              0, 0,  1]])"
      ]
     },
     "metadata": {},
     "output_type": "display_data"
    },
    {
     "data": {
      "text/latex": [
       "$\\displaystyle ^1T_{2}$"
      ],
      "text/plain": [
       "^1T_2"
      ]
     },
     "metadata": {},
     "output_type": "display_data"
    },
    {
     "data": {
      "text/latex": [
       "$\\displaystyle \\left[\\begin{matrix}\\cos{\\left(\\theta_{2} \\right)} & - \\sin{\\left(\\theta_{2} \\right)} & 0 & 0\\\\0 & 0 & 1 & L_{2}\\\\- \\sin{\\left(\\theta_{2} \\right)} & - \\cos{\\left(\\theta_{2} \\right)} & 0 & 0\\\\0 & 0 & 0 & 1\\end{matrix}\\right]$"
      ],
      "text/plain": [
       "Matrix([\n",
       "[ cos(\\theta_2), -sin(\\theta_2), 0,  0],\n",
       "[             0,              0, 1, L2],\n",
       "[-sin(\\theta_2), -cos(\\theta_2), 0,  0],\n",
       "[             0,              0, 0,  1]])"
      ]
     },
     "metadata": {},
     "output_type": "display_data"
    },
    {
     "data": {
      "text/latex": [
       "$\\displaystyle ^2T_{3}$"
      ],
      "text/plain": [
       "^2T_3"
      ]
     },
     "metadata": {},
     "output_type": "display_data"
    },
    {
     "data": {
      "text/latex": [
       "$\\displaystyle \\left[\\begin{matrix}1 & 0 & 0 & 0\\\\0 & 0 & 1 & d_{3}\\\\0 & -1 & 0 & 0\\\\0 & 0 & 0 & 1\\end{matrix}\\right]$"
      ],
      "text/plain": [
       "Matrix([\n",
       "[1,  0, 0,  0],\n",
       "[0,  0, 1, d3],\n",
       "[0, -1, 0,  0],\n",
       "[0,  0, 0,  1]])"
      ]
     },
     "metadata": {},
     "output_type": "display_data"
    },
    {
     "data": {
      "text/latex": [
       "$\\displaystyle ^0T_{3}$"
      ],
      "text/plain": [
       "^0T_3"
      ]
     },
     "metadata": {},
     "output_type": "display_data"
    },
    {
     "data": {
      "text/latex": [
       "$\\displaystyle \\left[\\begin{matrix}\\cos{\\left(\\theta_{1} \\right)} \\cos{\\left(\\theta_{2} \\right)} & \\sin{\\left(\\theta_{1} \\right)} & - \\sin{\\left(\\theta_{2} \\right)} \\cos{\\left(\\theta_{1} \\right)} & - L_{2} \\sin{\\left(\\theta_{1} \\right)} - d_{3} \\sin{\\left(\\theta_{2} \\right)} \\cos{\\left(\\theta_{1} \\right)}\\\\\\sin{\\left(\\theta_{1} \\right)} \\cos{\\left(\\theta_{2} \\right)} & - \\cos{\\left(\\theta_{1} \\right)} & - \\sin{\\left(\\theta_{1} \\right)} \\sin{\\left(\\theta_{2} \\right)} & L_{2} \\cos{\\left(\\theta_{1} \\right)} - d_{3} \\sin{\\left(\\theta_{1} \\right)} \\sin{\\left(\\theta_{2} \\right)}\\\\- \\sin{\\left(\\theta_{2} \\right)} & 0 & - \\cos{\\left(\\theta_{2} \\right)} & L_{1} - d_{3} \\cos{\\left(\\theta_{2} \\right)}\\\\0 & 0 & 0 & 1\\end{matrix}\\right]$"
      ],
      "text/plain": [
       "Matrix([\n",
       "[cos(\\theta_1)*cos(\\theta_2),  sin(\\theta_1), -sin(\\theta_2)*cos(\\theta_1), -L2*sin(\\theta_1) - d3*sin(\\theta_2)*cos(\\theta_1)],\n",
       "[sin(\\theta_1)*cos(\\theta_2), -cos(\\theta_1), -sin(\\theta_1)*sin(\\theta_2),  L2*cos(\\theta_1) - d3*sin(\\theta_1)*sin(\\theta_2)],\n",
       "[             -sin(\\theta_2),              0,               -cos(\\theta_2),                              L1 - d3*cos(\\theta_2)],\n",
       "[                          0,              0,                            0,                                                  1]])"
      ]
     },
     "metadata": {},
     "output_type": "display_data"
    }
   ],
   "source": [
    "# Q1\n",
    "\n",
    "DH1 = [0, 0, l1, theta1]\n",
    "T01 = Tlink(DH1)\n",
    "symprint('T', 0, 1)\n",
    "matprint(T01, alias)\n",
    "\n",
    "DH2 = [0, -pi/2, l2, theta2]\n",
    "T12 = Tlink(DH2)\n",
    "symprint('T', 1, 2)\n",
    "matprint(T12, alias)\n",
    "\n",
    "DH3 = [0, -pi/2, d3, 0]\n",
    "T23 = Tlink(DH3)\n",
    "symprint('T', 2, 3)\n",
    "matprint(T23, alias)\n",
    "\n",
    "\n",
    "T03 = simplify(T01 * T12 * T23)\n",
    "symprint('T', 0, 3)\n",
    "matprint(T03, alias)\n"
   ]
  },
  {
   "cell_type": "code",
   "execution_count": null,
   "id": "5e27827a",
   "metadata": {},
   "outputs": [],
   "source": []
  }
 ],
 "metadata": {
  "kernelspec": {
   "display_name": "Python 3 (ipykernel)",
   "language": "python",
   "name": "python3"
  },
  "language_info": {
   "codemirror_mode": {
    "name": "ipython",
    "version": 3
   },
   "file_extension": ".py",
   "mimetype": "text/x-python",
   "name": "python",
   "nbconvert_exporter": "python",
   "pygments_lexer": "ipython3",
   "version": "3.8.15"
  }
 },
 "nbformat": 4,
 "nbformat_minor": 5
}
