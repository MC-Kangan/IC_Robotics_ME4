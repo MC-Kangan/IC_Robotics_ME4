{
 "cells": [
  {
   "cell_type": "code",
   "execution_count": 1,
   "id": "e4e8b92c",
   "metadata": {},
   "outputs": [],
   "source": [
    "import cv2\n",
    "import numpy as np\n",
    "import pandas as pd\n",
    "import matplotlib.pyplot as plt\n",
    "from sympy import *\n",
    "from robot_tools import *\n",
    "from mpl_toolkits.mplot3d import Axes3D\n",
    "import plotly.graph_objects as go\n",
    "import plotly.express as px"
   ]
  },
  {
   "cell_type": "markdown",
   "id": "46c54202",
   "metadata": {},
   "source": [
    "### Tut 8.1"
   ]
  },
  {
   "cell_type": "code",
   "execution_count": 2,
   "id": "cd7b347b",
   "metadata": {},
   "outputs": [
    {
     "data": {
      "text/latex": [
       "$\\displaystyle Rear-wheel_{}$"
      ],
      "text/plain": [
       "Rear-wheel_"
      ]
     },
     "metadata": {},
     "output_type": "display_data"
    },
    {
     "name": "stdout",
     "output_type": "stream",
     "text": [
      "Rolling condition\n"
     ]
    },
    {
     "data": {
      "text/latex": [
       "$\\displaystyle \\left[\\begin{matrix}1 & 0 & 0\\end{matrix}\\right]$"
      ],
      "text/plain": [
       "Matrix([[1, 0, 0]])"
      ]
     },
     "metadata": {},
     "output_type": "display_data"
    },
    {
     "name": "stdout",
     "output_type": "stream",
     "text": [
      "No sliding condition\n"
     ]
    },
    {
     "data": {
      "text/latex": [
       "$\\displaystyle \\left[\\begin{matrix}0 & 1 & - \\frac{L}{2}\\end{matrix}\\right]$"
      ],
      "text/plain": [
       "Matrix([[0, 1, -L/2]])"
      ]
     },
     "metadata": {},
     "output_type": "display_data"
    },
    {
     "data": {
      "text/latex": [
       "$\\displaystyle Front-wheel_{}$"
      ],
      "text/plain": [
       "Front-wheel_"
      ]
     },
     "metadata": {},
     "output_type": "display_data"
    },
    {
     "name": "stdout",
     "output_type": "stream",
     "text": [
      "Rolling condition\n"
     ]
    },
    {
     "data": {
      "text/latex": [
       "$\\displaystyle \\left[\\begin{matrix}\\sin{\\left(\\beta \\right)} & - \\cos{\\left(\\beta \\right)} & - \\frac{L \\cos{\\left(\\beta \\right)}}{2}\\end{matrix}\\right]$"
      ],
      "text/plain": [
       "Matrix([[sin(\\beta), -cos(\\beta), -L*cos(\\beta)/2]])"
      ]
     },
     "metadata": {},
     "output_type": "display_data"
    },
    {
     "name": "stdout",
     "output_type": "stream",
     "text": [
      "No sliding condition\n"
     ]
    },
    {
     "data": {
      "text/latex": [
       "$\\displaystyle \\left[\\begin{matrix}\\cos{\\left(\\beta \\right)} & \\sin{\\left(\\beta \\right)} & \\frac{L \\sin{\\left(\\beta \\right)}}{2}\\end{matrix}\\right]$"
      ],
      "text/plain": [
       "Matrix([[cos(\\beta), sin(\\beta), L*sin(\\beta)/2]])"
      ]
     },
     "metadata": {},
     "output_type": "display_data"
    },
    {
     "data": {
      "text/latex": [
       "$\\displaystyle Rolling-condition-matrix_{}$"
      ],
      "text/plain": [
       "Rolling-condition-matrix_"
      ]
     },
     "metadata": {},
     "output_type": "display_data"
    },
    {
     "name": "stdout",
     "output_type": "stream",
     "text": [
      "Rank of rolling condition matrix is: 2\n"
     ]
    },
    {
     "data": {
      "text/latex": [
       "$\\displaystyle \\left[\\begin{matrix}1 & 0 & 0\\\\\\sin{\\left(\\beta \\right)} & - \\cos{\\left(\\beta \\right)} & - \\frac{L \\cos{\\left(\\beta \\right)}}{2}\\end{matrix}\\right]$"
      ],
      "text/plain": [
       "Matrix([\n",
       "[         1,           0,               0],\n",
       "[sin(\\beta), -cos(\\beta), -L*cos(\\beta)/2]])"
      ]
     },
     "metadata": {},
     "output_type": "display_data"
    },
    {
     "data": {
      "text/latex": [
       "$\\displaystyle No-Sliding-condition-matrix_{}$"
      ],
      "text/plain": [
       "No-Sliding-condition-matrix_"
      ]
     },
     "metadata": {},
     "output_type": "display_data"
    },
    {
     "name": "stdout",
     "output_type": "stream",
     "text": [
      "Rank of no sliding condition matrix is: 2\n"
     ]
    },
    {
     "data": {
      "text/latex": [
       "$\\displaystyle \\left[\\begin{matrix}0 & 1 & - \\frac{L}{2}\\\\\\cos{\\left(\\beta \\right)} & \\sin{\\left(\\beta \\right)} & \\frac{L \\sin{\\left(\\beta \\right)}}{2}\\end{matrix}\\right]$"
      ],
      "text/plain": [
       "Matrix([\n",
       "[         0,          1,           -L/2],\n",
       "[cos(\\beta), sin(\\beta), L*sin(\\beta)/2]])"
      ]
     },
     "metadata": {},
     "output_type": "display_data"
    }
   ],
   "source": [
    "Beta = symbols('\\\\beta')\n",
    "L = symbols('L')\n",
    "\n",
    "alpha = {'R': pi,\n",
    "        'F': 0}\n",
    "\n",
    "beta = {'R': - pi/2,\n",
    "        'F': Beta}\n",
    "\n",
    "# Rear 1 (fixed standard)\n",
    "symprint('Rear-wheel', '', '')\n",
    "print('Rolling condition')\n",
    "R_roll = Matrix([[sin(alpha['R'] + beta['R']), -cos(alpha['R'] + beta['R']), -L/2*cos(beta['R'])]])\n",
    "display(R_roll)\n",
    "\n",
    "# Rear 2 (fixed standard)\n",
    "print('No sliding condition')\n",
    "R_slide = Matrix([[cos(alpha['R'] + beta['R']), sin(alpha['R'] + beta['R']), L/2*sin(beta['R'])]])\n",
    "display(R_slide)\n",
    "\n",
    "# Front 1 (steerable standard)\n",
    "symprint('Front-wheel','', '')\n",
    "print('Rolling condition')\n",
    "F_roll = Matrix([[sin(alpha['F'] + beta['F']), -cos(alpha['F'] + beta['F']), -L/2*cos(beta['F'])]])\n",
    "display(F_roll)\n",
    "\n",
    "# Front 2 (steerable standard)\n",
    "print('No sliding condition')\n",
    "F_slide = Matrix([[cos(alpha['F'] + beta['F']), sin(alpha['F'] + beta['F']), L/2*sin(beta['F'])]])\n",
    "display(F_slide)\n",
    "\n",
    "# Rolling condition matrix\n",
    "symprint('Rolling-condition-matrix','', '')\n",
    "R = Matrix([R_roll, F_roll])\n",
    "print(f'Rank of rolling condition matrix is: {R.rank()}')\n",
    "display(R)\n",
    "\n",
    "# Rolling condition matrix\n",
    "symprint('No-Sliding-condition-matrix','', '')\n",
    "S = Matrix([R_slide, F_slide])\n",
    "print(f'Rank of no sliding condition matrix is: {S.rank()}')\n",
    "display(S)"
   ]
  },
  {
   "cell_type": "code",
   "execution_count": 3,
   "id": "cb195409",
   "metadata": {},
   "outputs": [
    {
     "name": "stdout",
     "output_type": "stream",
     "text": [
      "r_mat * phi_dot_mat:\n"
     ]
    },
    {
     "data": {
      "text/latex": [
       "$\\displaystyle \\left[\\begin{matrix}R \\dot{\\phi}\\\\0\\\\0\\end{matrix}\\right]$"
      ],
      "text/plain": [
       "Matrix([\n",
       "[R*\\dot{\\phi}],\n",
       "[           0],\n",
       "[           0]])"
      ]
     },
     "metadata": {},
     "output_type": "display_data"
    },
    {
     "name": "stdout",
     "output_type": "stream",
     "text": [
      "M**-1:\n"
     ]
    },
    {
     "data": {
      "text/latex": [
       "$\\displaystyle \\left[\\begin{matrix}\\sin{\\left(\\beta \\right)} & 0 & \\cos{\\left(\\beta \\right)}\\\\- \\frac{\\cos{\\left(\\beta \\right)}}{2} & \\frac{1}{2} & \\frac{\\sin{\\left(\\beta \\right)}}{2}\\\\- \\frac{\\cos{\\left(\\beta \\right)}}{L} & - \\frac{1}{L} & \\frac{\\sin{\\left(\\beta \\right)}}{L}\\end{matrix}\\right]$"
      ],
      "text/plain": [
       "Matrix([\n",
       "[   sin(\\beta),    0,   cos(\\beta)],\n",
       "[-cos(\\beta)/2,  1/2, sin(\\beta)/2],\n",
       "[-cos(\\beta)/L, -1/L, sin(\\beta)/L]])"
      ]
     },
     "metadata": {},
     "output_type": "display_data"
    },
    {
     "name": "stdout",
     "output_type": "stream",
     "text": [
      "M**-1 * r_mat * phi_dot_mat:\n"
     ]
    },
    {
     "data": {
      "text/latex": [
       "$\\displaystyle \\left[\\begin{matrix}R \\dot{\\phi} \\sin{\\left(\\beta \\right)}\\\\- \\frac{R \\dot{\\phi} \\cos{\\left(\\beta \\right)}}{2}\\\\- \\frac{R \\dot{\\phi} \\cos{\\left(\\beta \\right)}}{L}\\end{matrix}\\right]$"
      ],
      "text/plain": [
       "Matrix([\n",
       "[   R*\\dot{\\phi}*sin(\\beta)],\n",
       "[-R*\\dot{\\phi}*cos(\\beta)/2],\n",
       "[-R*\\dot{\\phi}*cos(\\beta)/L]])"
      ]
     },
     "metadata": {},
     "output_type": "display_data"
    },
    {
     "name": "stdout",
     "output_type": "stream",
     "text": [
      "R_0I\n"
     ]
    },
    {
     "data": {
      "text/latex": [
       "$\\displaystyle \\left[\\begin{matrix}\\cos{\\left(\\theta \\right)} & - \\sin{\\left(\\theta \\right)} & 0\\\\\\sin{\\left(\\theta \\right)} & \\cos{\\left(\\theta \\right)} & 0\\\\0 & 0 & 1\\end{matrix}\\right]$"
      ],
      "text/plain": [
       "Matrix([\n",
       "[cos(theta), -sin(theta), 0],\n",
       "[sin(theta),  cos(theta), 0],\n",
       "[         0,           0, 1]])"
      ]
     },
     "metadata": {},
     "output_type": "display_data"
    },
    {
     "name": "stdout",
     "output_type": "stream",
     "text": [
      "Final result: x_dot, y_dot, theta_dot\n"
     ]
    },
    {
     "data": {
      "text/latex": [
       "$\\displaystyle \\left[\\begin{matrix}\\frac{R \\dot{\\phi} \\left(\\sin{\\left(\\beta - \\theta \\right)} + 3 \\sin{\\left(\\beta + \\theta \\right)}\\right)}{4}\\\\\\frac{R \\dot{\\phi} \\left(\\cos{\\left(\\beta - \\theta \\right)} - 3 \\cos{\\left(\\beta + \\theta \\right)}\\right)}{4}\\\\- \\frac{R \\dot{\\phi} \\cos{\\left(\\beta \\right)}}{L}\\end{matrix}\\right]$"
      ],
      "text/plain": [
       "Matrix([\n",
       "[R*\\dot{\\phi}*(sin(\\beta - theta) + 3*sin(\\beta + theta))/4],\n",
       "[R*\\dot{\\phi}*(cos(\\beta - theta) - 3*cos(\\beta + theta))/4],\n",
       "[                                -R*\\dot{\\phi}*cos(\\beta)/L]])"
      ]
     },
     "metadata": {},
     "output_type": "display_data"
    }
   ],
   "source": [
    "# Forward Kinematics\n",
    "\n",
    "# Define symbols\n",
    "Theta = symbols('theta')\n",
    "Phi_dot = symbols('\\dot{\\phi}')\n",
    "R = symbols('R')\n",
    "\n",
    "# Define matrix\n",
    "phi_dot_mat = Matrix([Phi_dot, 0, 0])\n",
    "r_mat = Matrix([[R, 0, 0],\n",
    "               [0, 0, 0],\n",
    "               [0, 0, 0]])\n",
    "\n",
    "M = Matrix([F_roll, R_slide, F_slide])              \n",
    "              \n",
    "# Rotational matrix from 0 to I\n",
    "R_0I = Matrix([[cos(Theta), -sin(Theta), 0],\n",
    "           [sin(Theta), cos(Theta), 0],\n",
    "           [0, 0, 1]])\n",
    "\n",
    "PI = simplify(R_0I * M**-1 * r_mat * phi_dot_mat)\n",
    "print('r_mat * phi_dot_mat:')\n",
    "display(simplify(r_mat * phi_dot_mat))\n",
    "print('M**-1:')\n",
    "display(simplify(M**-1))\n",
    "print('M**-1 * r_mat * phi_dot_mat:')\n",
    "display(simplify(M**-1 * r_mat * phi_dot_mat))\n",
    "print('R_0I')\n",
    "display(R_0I)\n",
    "print('Final result: x_dot, y_dot, theta_dot')\n",
    "display(PI)"
   ]
  },
  {
   "cell_type": "code",
   "execution_count": 4,
   "id": "84a8da0f",
   "metadata": {},
   "outputs": [
    {
     "data": {
      "text/plain": [
       "(-6.298654776807531,\n",
       " 0.2999359417527396,\n",
       " -3.309279017481592,\n",
       " 0.7537661238178042)"
      ]
     },
     "execution_count": 4,
     "metadata": {},
     "output_type": "execute_result"
    },
    {
     "data": {
      "image/png": "[encoded data removed]",
      "text/plain": [
       "<Figure size 640x480 with 1 Axes>"
      ]
     },
     "metadata": {},
     "output_type": "display_data"
    }
   ],
   "source": [
    "# Plot trajectory\n",
    "\n",
    "# Change the beta and R to see effect\n",
    "\n",
    "beta = 0 # pi/2\n",
    "r = 0.5 \n",
    "\n",
    "theta = 0\n",
    "\n",
    "dt = 0.1\n",
    "t = np.arange(0, 4 + dt, dt)\n",
    "\n",
    "x_lst, y_lst = [0], [0]\n",
    "for i in t:\n",
    "    \n",
    "    # Results of the forward kinematics\n",
    "    PI_res = PI.subs({Phi_dot: 10, Beta: beta, Theta: theta, L: 6, R: r})\n",
    "    x_dot, y_dot, theta_dot = float(PI_res[0]), float(PI_res[1]), float(PI_res[2])\n",
    "    \n",
    "    # Append the trajectory of the x and y\n",
    "    x_lst.append(x_lst[-1] + x_dot * dt)\n",
    "    y_lst.append(y_lst[-1] + y_dot * dt)\n",
    "    \n",
    "    theta += theta_dot * dt\n",
    "    \n",
    "plt.plot(x_lst, y_lst)\n",
    "plt.xlabel('x')\n",
    "plt.ylabel('y')\n",
    "plt.axis('equal')\n"
   ]
  },
  {
   "cell_type": "code",
   "execution_count": 5,
   "id": "0671075c",
   "metadata": {},
   "outputs": [
    {
     "data": {
      "text/latex": [
       "$\\displaystyle \\frac{R \\dot{\\phi} \\left(\\sin{\\left(\\beta - \\theta \\right)} + 3 \\sin{\\left(\\beta + \\theta \\right)}\\right)}{4}$"
      ],
      "text/plain": [
       "R*\\dot{\\phi}*(sin(\\beta - theta) + 3*sin(\\beta + theta))/4"
      ]
     },
     "execution_count": 5,
     "metadata": {},
     "output_type": "execute_result"
    }
   ],
   "source": [
    "simplify(R* Phi_dot*sin(Beta)*cos(Theta) + R*Phi_dot*cos(Beta)/2*sin(Theta))"
   ]
  },
  {
   "cell_type": "markdown",
   "id": "76580913",
   "metadata": {},
   "source": [
    "### Tut 8.2"
   ]
  },
  {
   "cell_type": "code",
   "execution_count": 6,
   "id": "f63d52ce",
   "metadata": {},
   "outputs": [
    {
     "data": {
      "text/latex": [
       "$\\displaystyle Rear-wheel-1_{}$"
      ],
      "text/plain": [
       "Rear-wheel-1_"
      ]
     },
     "metadata": {},
     "output_type": "display_data"
    },
    {
     "name": "stdout",
     "output_type": "stream",
     "text": [
      "Rolling condition\n"
     ]
    },
    {
     "data": {
      "text/latex": [
       "$\\displaystyle \\left[\\begin{matrix}1 & 0 & - d\\end{matrix}\\right]$"
      ],
      "text/plain": [
       "Matrix([[1, 0, -d]])"
      ]
     },
     "metadata": {},
     "output_type": "display_data"
    },
    {
     "name": "stdout",
     "output_type": "stream",
     "text": [
      "No sliding condition\n"
     ]
    },
    {
     "data": {
      "text/latex": [
       "$\\displaystyle \\left[\\begin{matrix}0 & 1 & 0\\end{matrix}\\right]$"
      ],
      "text/plain": [
       "Matrix([[0, 1, 0]])"
      ]
     },
     "metadata": {},
     "output_type": "display_data"
    },
    {
     "data": {
      "text/latex": [
       "$\\displaystyle Rear-wheel-2_{}$"
      ],
      "text/plain": [
       "Rear-wheel-2_"
      ]
     },
     "metadata": {},
     "output_type": "display_data"
    },
    {
     "name": "stdout",
     "output_type": "stream",
     "text": [
      "Rolling condition\n"
     ]
    },
    {
     "data": {
      "text/latex": [
       "$\\displaystyle \\left[\\begin{matrix}1 & 0 & d\\end{matrix}\\right]$"
      ],
      "text/plain": [
       "Matrix([[1, 0, d]])"
      ]
     },
     "metadata": {},
     "output_type": "display_data"
    },
    {
     "name": "stdout",
     "output_type": "stream",
     "text": [
      "No sliding condition\n"
     ]
    },
    {
     "data": {
      "text/latex": [
       "$\\displaystyle \\left[\\begin{matrix}0 & 1 & 0\\end{matrix}\\right]$"
      ],
      "text/plain": [
       "Matrix([[0, 1, 0]])"
      ]
     },
     "metadata": {},
     "output_type": "display_data"
    },
    {
     "data": {
      "text/latex": [
       "$\\displaystyle Front-wheel_{}$"
      ],
      "text/plain": [
       "Front-wheel_"
      ]
     },
     "metadata": {},
     "output_type": "display_data"
    },
    {
     "name": "stdout",
     "output_type": "stream",
     "text": [
      "Rolling condition\n"
     ]
    },
    {
     "data": {
      "text/latex": [
       "$\\displaystyle \\left[\\begin{matrix}\\sin{\\left(\\beta \\right)} & - \\cos{\\left(\\beta \\right)} & - L \\cos{\\left(\\beta \\right)}\\end{matrix}\\right]$"
      ],
      "text/plain": [
       "Matrix([[sin(\\beta), -cos(\\beta), -L*cos(\\beta)]])"
      ]
     },
     "metadata": {},
     "output_type": "display_data"
    },
    {
     "name": "stdout",
     "output_type": "stream",
     "text": [
      "No sliding condition\n"
     ]
    },
    {
     "data": {
      "text/latex": [
       "$\\displaystyle \\left[\\begin{matrix}\\cos{\\left(\\beta \\right)} & \\sin{\\left(\\beta \\right)} & L \\sin{\\left(\\beta \\right)}\\end{matrix}\\right]$"
      ],
      "text/plain": [
       "Matrix([[cos(\\beta), sin(\\beta), L*sin(\\beta)]])"
      ]
     },
     "metadata": {},
     "output_type": "display_data"
    },
    {
     "data": {
      "text/latex": [
       "$\\displaystyle Rolling-condition-matrix_{}$"
      ],
      "text/plain": [
       "Rolling-condition-matrix_"
      ]
     },
     "metadata": {},
     "output_type": "display_data"
    },
    {
     "name": "stdout",
     "output_type": "stream",
     "text": [
      "Rank of rolling condition matrix is: 3\n"
     ]
    },
    {
     "data": {
      "text/latex": [
       "$\\displaystyle \\left[\\begin{matrix}1 & 0 & - d\\\\1 & 0 & d\\\\\\sin{\\left(\\beta \\right)} & - \\cos{\\left(\\beta \\right)} & - L \\cos{\\left(\\beta \\right)}\\end{matrix}\\right]$"
      ],
      "text/plain": [
       "Matrix([\n",
       "[         1,           0,            -d],\n",
       "[         1,           0,             d],\n",
       "[sin(\\beta), -cos(\\beta), -L*cos(\\beta)]])"
      ]
     },
     "metadata": {},
     "output_type": "display_data"
    },
    {
     "data": {
      "text/latex": [
       "$\\displaystyle No-Sliding-condition-matrix_{}$"
      ],
      "text/plain": [
       "No-Sliding-condition-matrix_"
      ]
     },
     "metadata": {},
     "output_type": "display_data"
    },
    {
     "name": "stdout",
     "output_type": "stream",
     "text": [
      "Rank of no sliding condition matrix is: 2\n"
     ]
    },
    {
     "data": {
      "text/latex": [
       "$\\displaystyle \\left[\\begin{matrix}0 & 1 & 0\\\\0 & 1 & 0\\\\\\cos{\\left(\\beta \\right)} & \\sin{\\left(\\beta \\right)} & L \\sin{\\left(\\beta \\right)}\\end{matrix}\\right]$"
      ],
      "text/plain": [
       "Matrix([\n",
       "[         0,          1,            0],\n",
       "[         0,          1,            0],\n",
       "[cos(\\beta), sin(\\beta), L*sin(\\beta)]])"
      ]
     },
     "metadata": {},
     "output_type": "display_data"
    }
   ],
   "source": [
    "Beta = symbols('\\\\beta')\n",
    "L = symbols('L')\n",
    "D = symbols('d')\n",
    "\n",
    "alpha = {'R1': pi/2,\n",
    "         'R2': -pi/2,\n",
    "        'F': 0}\n",
    "\n",
    "beta = {'R1': 0,\n",
    "        'R2': pi,\n",
    "        'F': Beta}\n",
    "\n",
    "# Rear 1 (fixed standard)\n",
    "symprint('Rear-wheel-1', '', '')\n",
    "print('Rolling condition')\n",
    "R1_roll = Matrix([[sin(alpha['R1'] + beta['R1']), -cos(alpha['R1'] + beta['R1']), -D*cos(beta['R1'])]])\n",
    "display(R1_roll)\n",
    "\n",
    "print('No sliding condition')\n",
    "R1_slide = Matrix([[cos(alpha['R1'] + beta['R1']), sin(alpha['R1'] + beta['R1']), D*sin(beta['R1'])]])\n",
    "display(R1_slide)\n",
    "\n",
    "# Rear 2 (fixed standard)\n",
    "symprint('Rear-wheel-2', '', '')\n",
    "print('Rolling condition')\n",
    "R2_roll = Matrix([[sin(alpha['R2'] + beta['R2']), -cos(alpha['R2'] + beta['R2']), -D*cos(beta['R2'])]])\n",
    "display(R2_roll)\n",
    "\n",
    "print('No sliding condition')\n",
    "R2_slide = Matrix([[cos(alpha['R2'] + beta['R2']), sin(alpha['R2'] + beta['R2']), D*sin(beta['R2'])]])\n",
    "display(R2_slide)\n",
    "\n",
    "\n",
    "# Front 1 (steerable standard)\n",
    "symprint('Front-wheel','', '')\n",
    "print('Rolling condition')\n",
    "F_roll = Matrix([[sin(alpha['F'] + beta['F']), -cos(alpha['F'] + beta['F']), -L*cos(beta['F'])]])\n",
    "display(F_roll)\n",
    "\n",
    "# Front 2 (steerable standard)\n",
    "print('No sliding condition')\n",
    "F_slide = Matrix([[cos(alpha['F'] + beta['F']), sin(alpha['F'] + beta['F']), L*sin(beta['F'])]])\n",
    "display(F_slide)\n",
    "\n",
    "# Rolling condition matrix\n",
    "symprint('Rolling-condition-matrix','', '')\n",
    "R = Matrix([R1_roll, R2_roll, F_roll])\n",
    "print(f'Rank of rolling condition matrix is: {R.rank()}')\n",
    "display(R)\n",
    "\n",
    "# Rolling condition matrix\n",
    "symprint('No-Sliding-condition-matrix','', '')\n",
    "S = Matrix([R1_slide, R2_slide, F_slide])\n",
    "print(f'Rank of no sliding condition matrix is: {S.rank()}')\n",
    "display(S)"
   ]
  },
  {
   "cell_type": "code",
   "execution_count": 7,
   "id": "7cbcdb55",
   "metadata": {},
   "outputs": [
    {
     "name": "stdout",
     "output_type": "stream",
     "text": [
      "r_mat * phi_dot_mat:\n"
     ]
    },
    {
     "data": {
      "text/latex": [
       "$\\displaystyle \\left[\\begin{matrix}R \\dot{\\phi}\\\\0\\\\0\\end{matrix}\\right]$"
      ],
      "text/plain": [
       "Matrix([\n",
       "[R*\\dot{\\phi}],\n",
       "[           0],\n",
       "[           0]])"
      ]
     },
     "metadata": {},
     "output_type": "display_data"
    },
    {
     "name": "stdout",
     "output_type": "stream",
     "text": [
      "M**-1:\n"
     ]
    },
    {
     "data": {
      "text/latex": [
       "$\\displaystyle \\left[\\begin{matrix}\\sin{\\left(\\beta \\right)} & 0 & \\cos{\\left(\\beta \\right)}\\\\0 & 1 & 0\\\\- \\frac{\\cos{\\left(\\beta \\right)}}{L} & - \\frac{1}{L} & \\frac{\\sin{\\left(\\beta \\right)}}{L}\\end{matrix}\\right]$"
      ],
      "text/plain": [
       "Matrix([\n",
       "[   sin(\\beta),    0,   cos(\\beta)],\n",
       "[            0,    1,            0],\n",
       "[-cos(\\beta)/L, -1/L, sin(\\beta)/L]])"
      ]
     },
     "metadata": {},
     "output_type": "display_data"
    },
    {
     "name": "stdout",
     "output_type": "stream",
     "text": [
      "M**-1 * r_mat * phi_dot_mat:\n"
     ]
    },
    {
     "data": {
      "text/latex": [
       "$\\displaystyle \\left[\\begin{matrix}R \\dot{\\phi} \\sin{\\left(\\beta \\right)}\\\\0\\\\- \\frac{R \\dot{\\phi} \\cos{\\left(\\beta \\right)}}{L}\\end{matrix}\\right]$"
      ],
      "text/plain": [
       "Matrix([\n",
       "[   R*\\dot{\\phi}*sin(\\beta)],\n",
       "[                         0],\n",
       "[-R*\\dot{\\phi}*cos(\\beta)/L]])"
      ]
     },
     "metadata": {},
     "output_type": "display_data"
    },
    {
     "name": "stdout",
     "output_type": "stream",
     "text": [
      "R_0I\n"
     ]
    },
    {
     "data": {
      "text/latex": [
       "$\\displaystyle \\left[\\begin{matrix}\\cos{\\left(\\theta \\right)} & - \\sin{\\left(\\theta \\right)} & 0\\\\\\sin{\\left(\\theta \\right)} & \\cos{\\left(\\theta \\right)} & 0\\\\0 & 0 & 1\\end{matrix}\\right]$"
      ],
      "text/plain": [
       "Matrix([\n",
       "[cos(theta), -sin(theta), 0],\n",
       "[sin(theta),  cos(theta), 0],\n",
       "[         0,           0, 1]])"
      ]
     },
     "metadata": {},
     "output_type": "display_data"
    },
    {
     "name": "stdout",
     "output_type": "stream",
     "text": [
      "Final result: x_dot, y_dot, theta_dot\n"
     ]
    },
    {
     "data": {
      "text/latex": [
       "$\\displaystyle \\left[\\begin{matrix}R \\dot{\\phi} \\sin{\\left(\\beta \\right)} \\cos{\\left(\\theta \\right)}\\\\R \\dot{\\phi} \\sin{\\left(\\beta \\right)} \\sin{\\left(\\theta \\right)}\\\\- \\frac{R \\dot{\\phi} \\cos{\\left(\\beta \\right)}}{L}\\end{matrix}\\right]$"
      ],
      "text/plain": [
       "Matrix([\n",
       "[R*\\dot{\\phi}*sin(\\beta)*cos(theta)],\n",
       "[R*\\dot{\\phi}*sin(\\beta)*sin(theta)],\n",
       "[        -R*\\dot{\\phi}*cos(\\beta)/L]])"
      ]
     },
     "metadata": {},
     "output_type": "display_data"
    }
   ],
   "source": [
    "# Forward kinematics\n",
    "\n",
    "# Define symbols\n",
    "Theta = symbols('theta')\n",
    "Phi_dot = symbols('\\dot{\\phi}')\n",
    "R = symbols('R')\n",
    "\n",
    "# Define matrix\n",
    "phi_dot_mat = Matrix([Phi_dot, 0, 0])\n",
    "r_mat = Matrix([[R, 0, 0],\n",
    "               [0, 0, 0],\n",
    "               [0, 0, 0]])\n",
    "\n",
    "M = Matrix([F_roll, R1_slide, F_slide])\n",
    "\n",
    "# Rotational matrix from 0 to I\n",
    "R_0I = Matrix([[cos(Theta), -sin(Theta), 0],\n",
    "           [sin(Theta), cos(Theta), 0],\n",
    "           [0, 0, 1]])\n",
    "\n",
    "PI = simplify(R_0I * M**-1 * r_mat * phi_dot_mat)\n",
    "print('r_mat * phi_dot_mat:')\n",
    "display(simplify(r_mat * phi_dot_mat))\n",
    "print('M**-1:')\n",
    "display(simplify(M**-1))\n",
    "print('M**-1 * r_mat * phi_dot_mat:')\n",
    "display(simplify(M**-1 * r_mat * phi_dot_mat))\n",
    "print('R_0I')\n",
    "display(R_0I)\n",
    "print('Final result: x_dot, y_dot, theta_dot')\n",
    "display(PI)\n"
   ]
  },
  {
   "cell_type": "code",
   "execution_count": 8,
   "id": "e27bfd20",
   "metadata": {},
   "outputs": [
    {
     "data": {
      "text/plain": [
       "(-6.239871945293291,\n",
       " 6.955597012226866,\n",
       " -12.595270873684576,\n",
       " 0.5997748035087893)"
      ]
     },
     "execution_count": 8,
     "metadata": {},
     "output_type": "execute_result"
    },
    {
     "data": {
      "image/png": "[encoded data removed]",
      "text/plain": [
       "<Figure size 640x480 with 1 Axes>"
      ]
     },
     "metadata": {},
     "output_type": "display_data"
    }
   ],
   "source": [
    "# Plot trajectory\n",
    "\n",
    "# Change the beta and R to see effect\n",
    "\n",
    "beta = pi/4 # pi/2\n",
    "r = 2 \n",
    "\n",
    "theta = 0\n",
    "\n",
    "dt = 0.1\n",
    "t = np.arange(0, 4 + dt, dt)\n",
    "\n",
    "x_lst, y_lst = [0], [0]\n",
    "for i in t:\n",
    "    \n",
    "    # Results of the forward kinematics\n",
    "    PI_res = PI.subs({Phi_dot: 5, Beta: beta, Theta: theta, L: 6, R: r})\n",
    "    x_dot, y_dot, theta_dot = float(PI_res[0]), float(PI_res[1]), float(PI_res[2])\n",
    "    \n",
    "    # Append the trajectory of the x and y\n",
    "    x_lst.append(x_lst[-1] + x_dot * dt)\n",
    "    y_lst.append(y_lst[-1] + y_dot * dt)\n",
    "    \n",
    "    theta += theta_dot * dt\n",
    "    \n",
    "plt.plot(x_lst, y_lst)\n",
    "plt.xlabel('x')\n",
    "plt.ylabel('y')\n",
    "plt.axis('equal')"
   ]
  },
  {
   "cell_type": "code",
   "execution_count": null,
   "id": "147f602f",
   "metadata": {},
   "outputs": [],
   "source": []
  }
 ],
 "metadata": {
  "kernelspec": {
   "display_name": "Python 3 (ipykernel)",
   "language": "python",
   "name": "python3"
  },
  "language_info": {
   "codemirror_mode": {
    "name": "ipython",
    "version": 3
   },
   "file_extension": ".py",
   "mimetype": "text/x-python",
   "name": "python",
   "nbconvert_exporter": "python",
   "pygments_lexer": "ipython3",
   "version": "3.8.15"
  }
 },
 "nbformat": 4,
 "nbformat_minor": 5
}
