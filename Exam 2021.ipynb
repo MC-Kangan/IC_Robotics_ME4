{
 "cells": [
  {
   "cell_type": "code",
   "execution_count": 1,
   "id": "6644f758",
   "metadata": {},
   "outputs": [],
   "source": [
    "import numpy as np\n",
    "import pandas as pd\n",
    "import matplotlib.pyplot as plt\n",
    "from mpl_toolkits.mplot3d import Axes3D\n",
    "from sympy import *\n",
    "from robot_tools import *\n",
    "import math"
   ]
  },
  {
   "cell_type": "markdown",
   "id": "6bf788cc",
   "metadata": {},
   "source": [
    "## Q1"
   ]
  },
  {
   "cell_type": "code",
   "execution_count": 20,
   "id": "9fe1f6aa",
   "metadata": {},
   "outputs": [],
   "source": [
    "t = symbols('t')\n",
    "theta1 = Function(r\"\\theta_1\")(t)\n",
    "theta1_dot = diff(theta1, t)\n",
    "theta1_ddot = diff(theta1, t, t)\n",
    "\n",
    "theta2 = Function(r\"\\theta_2\")(t)\n",
    "theta2_dot = diff(theta2, t)\n",
    "theta2_ddot = diff(theta2, t, t)\n",
    "\n",
    "\n",
    "alias = {}\n",
    "\n",
    "# display as theta dot instead of d(theta)/dt, and ignore dependency (t)\n",
    "alias.update({theta1: symbols(r\"\\theta_1\"),\n",
    "              theta1_dot: symbols(r\"\\dot{\\theta_1}\"),\n",
    "              theta1_ddot: symbols(r\"\\ddot{\\theta_1}\"),\n",
    "              theta2: symbols(r\"\\theta_2\"),\n",
    "              theta2_dot: symbols(r\"\\dot{\\theta_2}\"),\n",
    "              theta2_ddot: symbols(r\"\\ddot{\\theta_2}\")\n",
    "             })"
   ]
  },
  {
   "cell_type": "code",
   "execution_count": 21,
   "id": "9eda5d64",
   "metadata": {},
   "outputs": [
    {
     "data": {
      "text/latex": [
       "$\\displaystyle ^0T_{1}$"
      ],
      "text/plain": [
       "^0T_1"
      ]
     },
     "metadata": {},
     "output_type": "display_data"
    },
    {
     "data": {
      "text/latex": [
       "$\\displaystyle \\left[\\begin{matrix}\\cos{\\left(\\theta_{1} \\right)} & - \\sin{\\left(\\theta_{1} \\right)} & 0 & 0\\\\\\sin{\\left(\\theta_{1} \\right)} & \\cos{\\left(\\theta_{1} \\right)} & 0 & 0\\\\0 & 0 & 1 & 0\\\\0 & 0 & 0 & 1\\end{matrix}\\right]$"
      ],
      "text/plain": [
       "Matrix([\n",
       "[cos(\\theta_1), -sin(\\theta_1), 0, 0],\n",
       "[sin(\\theta_1),  cos(\\theta_1), 0, 0],\n",
       "[            0,              0, 1, 0],\n",
       "[            0,              0, 0, 1]])"
      ]
     },
     "metadata": {},
     "output_type": "display_data"
    },
    {
     "data": {
      "text/latex": [
       "$\\displaystyle ^1T_{2}$"
      ],
      "text/plain": [
       "^1T_2"
      ]
     },
     "metadata": {},
     "output_type": "display_data"
    },
    {
     "data": {
      "text/latex": [
       "$\\displaystyle \\left[\\begin{matrix}\\cos{\\left(\\theta_{2} \\right)} & - \\sin{\\left(\\theta_{2} \\right)} & 0 & L_{1}\\\\0 & 0 & 1 & 0\\\\- \\sin{\\left(\\theta_{2} \\right)} & - \\cos{\\left(\\theta_{2} \\right)} & 0 & 0\\\\0 & 0 & 0 & 1\\end{matrix}\\right]$"
      ],
      "text/plain": [
       "Matrix([\n",
       "[ cos(\\theta_2), -sin(\\theta_2), 0, L1],\n",
       "[             0,              0, 1,  0],\n",
       "[-sin(\\theta_2), -cos(\\theta_2), 0,  0],\n",
       "[             0,              0, 0,  1]])"
      ]
     },
     "metadata": {},
     "output_type": "display_data"
    },
    {
     "data": {
      "text/latex": [
       "$\\displaystyle ^2T_{3}$"
      ],
      "text/plain": [
       "^2T_3"
      ]
     },
     "metadata": {},
     "output_type": "display_data"
    },
    {
     "data": {
      "text/latex": [
       "$\\displaystyle \\left[\\begin{matrix}1 & 0 & 0 & L_{2}\\\\0 & 1 & 0 & 0\\\\0 & 0 & 1 & 0\\\\0 & 0 & 0 & 1\\end{matrix}\\right]$"
      ],
      "text/plain": [
       "Matrix([\n",
       "[1, 0, 0, L2],\n",
       "[0, 1, 0,  0],\n",
       "[0, 0, 1,  0],\n",
       "[0, 0, 0,  1]])"
      ]
     },
     "metadata": {},
     "output_type": "display_data"
    },
    {
     "data": {
      "text/latex": [
       "$\\displaystyle ^0T_{2}$"
      ],
      "text/plain": [
       "^0T_2"
      ]
     },
     "metadata": {},
     "output_type": "display_data"
    },
    {
     "data": {
      "text/latex": [
       "$\\displaystyle \\left[\\begin{matrix}\\cos{\\left(\\theta_{1} \\right)} \\cos{\\left(\\theta_{2} \\right)} & - \\sin{\\left(\\theta_{2} \\right)} \\cos{\\left(\\theta_{1} \\right)} & - \\sin{\\left(\\theta_{1} \\right)} & L_{1} \\cos{\\left(\\theta_{1} \\right)}\\\\\\sin{\\left(\\theta_{1} \\right)} \\cos{\\left(\\theta_{2} \\right)} & - \\sin{\\left(\\theta_{1} \\right)} \\sin{\\left(\\theta_{2} \\right)} & \\cos{\\left(\\theta_{1} \\right)} & L_{1} \\sin{\\left(\\theta_{1} \\right)}\\\\- \\sin{\\left(\\theta_{2} \\right)} & - \\cos{\\left(\\theta_{2} \\right)} & 0 & 0\\\\0 & 0 & 0 & 1\\end{matrix}\\right]$"
      ],
      "text/plain": [
       "Matrix([\n",
       "[cos(\\theta_1)*cos(\\theta_2), -sin(\\theta_2)*cos(\\theta_1), -sin(\\theta_1), L1*cos(\\theta_1)],\n",
       "[sin(\\theta_1)*cos(\\theta_2), -sin(\\theta_1)*sin(\\theta_2),  cos(\\theta_1), L1*sin(\\theta_1)],\n",
       "[             -sin(\\theta_2),               -cos(\\theta_2),              0,                0],\n",
       "[                          0,                            0,              0,                1]])"
      ]
     },
     "metadata": {},
     "output_type": "display_data"
    }
   ],
   "source": [
    "# Q1\n",
    "\n",
    "# a\n",
    "L1 = symbols('L1')\n",
    "L2 = symbols('L2')\n",
    "\n",
    "DH1 = [0, 0, 0, theta1]\n",
    "T01 = Tlink(DH1)\n",
    "symprint('T', 0, 1)\n",
    "matprint(T01, alias)\n",
    "\n",
    "DH2 = [L1, -pi/2, 0, theta2]\n",
    "T12 = Tlink(DH2)\n",
    "symprint('T', 1, 2)\n",
    "matprint(T12, alias)\n",
    "\n",
    "DH3 = [L2, 0, 0, 0]\n",
    "T23 = Tlink(DH3)\n",
    "symprint('T', 2, 3)\n",
    "matprint(T23, alias)\n",
    "\n",
    "T02 = simplify(T01 * T12)\n",
    "symprint('T', 0, 2)\n",
    "matprint(T02, alias)\n"
   ]
  },
  {
   "cell_type": "code",
   "execution_count": 22,
   "id": "9355f393",
   "metadata": {},
   "outputs": [
    {
     "data": {
      "text/latex": [
       "$\\displaystyle ^0T_{3}$"
      ],
      "text/plain": [
       "^0T_3"
      ]
     },
     "metadata": {},
     "output_type": "display_data"
    },
    {
     "data": {
      "text/latex": [
       "$\\displaystyle \\left[\\begin{matrix}\\cos{\\left(\\theta_{1} \\right)} \\cos{\\left(\\theta_{2} \\right)} & - \\sin{\\left(\\theta_{2} \\right)} \\cos{\\left(\\theta_{1} \\right)} & - \\sin{\\left(\\theta_{1} \\right)} & \\left(L_{1} + L_{2} \\cos{\\left(\\theta_{2} \\right)}\\right) \\cos{\\left(\\theta_{1} \\right)}\\\\\\sin{\\left(\\theta_{1} \\right)} \\cos{\\left(\\theta_{2} \\right)} & - \\sin{\\left(\\theta_{1} \\right)} \\sin{\\left(\\theta_{2} \\right)} & \\cos{\\left(\\theta_{1} \\right)} & \\left(L_{1} + L_{2} \\cos{\\left(\\theta_{2} \\right)}\\right) \\sin{\\left(\\theta_{1} \\right)}\\\\- \\sin{\\left(\\theta_{2} \\right)} & - \\cos{\\left(\\theta_{2} \\right)} & 0 & - L_{2} \\sin{\\left(\\theta_{2} \\right)}\\\\0 & 0 & 0 & 1\\end{matrix}\\right]$"
      ],
      "text/plain": [
       "Matrix([\n",
       "[cos(\\theta_1)*cos(\\theta_2), -sin(\\theta_2)*cos(\\theta_1), -sin(\\theta_1), (L1 + L2*cos(\\theta_2))*cos(\\theta_1)],\n",
       "[sin(\\theta_1)*cos(\\theta_2), -sin(\\theta_1)*sin(\\theta_2),  cos(\\theta_1), (L1 + L2*cos(\\theta_2))*sin(\\theta_1)],\n",
       "[             -sin(\\theta_2),               -cos(\\theta_2),              0,                     -L2*sin(\\theta_2)],\n",
       "[                          0,                            0,              0,                                     1]])"
      ]
     },
     "metadata": {},
     "output_type": "display_data"
    }
   ],
   "source": [
    "# b\n",
    "T03 = simplify(T01 * T12 * T23)\n",
    "symprint('T', 0, 3)\n",
    "matprint(T03, alias)\n"
   ]
  },
  {
   "cell_type": "code",
   "execution_count": 23,
   "id": "7cb34f0b",
   "metadata": {},
   "outputs": [
    {
     "name": "stdout",
     "output_type": "stream",
     "text": [
      "0.0\n"
     ]
    }
   ],
   "source": [
    "# c\n",
    "print(np.degrees(np.arctan2(0, 1)))"
   ]
  },
  {
   "cell_type": "code",
   "execution_count": 24,
   "id": "e85ac751",
   "metadata": {},
   "outputs": [
    {
     "data": {
      "text/latex": [
       "$\\displaystyle ^1\\Omega_{1}$"
      ],
      "text/plain": [
       "^1\\Omega_1"
      ]
     },
     "metadata": {},
     "output_type": "display_data"
    },
    {
     "data": {
      "text/latex": [
       "$\\displaystyle \\left[\\begin{matrix}0\\\\0\\\\\\dot{\\theta_1}\\end{matrix}\\right]$"
      ],
      "text/plain": [
       "Matrix([\n",
       "[             0],\n",
       "[             0],\n",
       "[\\dot{\\theta_1}]])"
      ]
     },
     "metadata": {},
     "output_type": "display_data"
    },
    {
     "data": {
      "text/latex": [
       "$\\displaystyle ^1V_{1}$"
      ],
      "text/plain": [
       "^1V_1"
      ]
     },
     "metadata": {},
     "output_type": "display_data"
    },
    {
     "data": {
      "text/latex": [
       "$\\displaystyle \\left[\\begin{matrix}0\\\\0\\\\0\\end{matrix}\\right]$"
      ],
      "text/plain": [
       "Matrix([\n",
       "[0],\n",
       "[0],\n",
       "[0]])"
      ]
     },
     "metadata": {},
     "output_type": "display_data"
    },
    {
     "data": {
      "text/latex": [
       "$\\displaystyle ^2\\Omega_{2}$"
      ],
      "text/plain": [
       "^2\\Omega_2"
      ]
     },
     "metadata": {},
     "output_type": "display_data"
    },
    {
     "data": {
      "text/latex": [
       "$\\displaystyle \\left[\\begin{matrix}- \\dot{\\theta_1} \\sin{\\left(\\theta_{2} \\right)}\\\\- \\dot{\\theta_1} \\cos{\\left(\\theta_{2} \\right)}\\\\\\dot{\\theta_2}\\end{matrix}\\right]$"
      ],
      "text/plain": [
       "Matrix([\n",
       "[-\\dot{\\theta_1}*sin(\\theta_2)],\n",
       "[-\\dot{\\theta_1}*cos(\\theta_2)],\n",
       "[               \\dot{\\theta_2}]])"
      ]
     },
     "metadata": {},
     "output_type": "display_data"
    },
    {
     "data": {
      "text/latex": [
       "$\\displaystyle ^2V_{2}$"
      ],
      "text/plain": [
       "^2V_2"
      ]
     },
     "metadata": {},
     "output_type": "display_data"
    },
    {
     "data": {
      "text/latex": [
       "$\\displaystyle \\left[\\begin{matrix}0\\\\0\\\\L_{1} \\dot{\\theta_1}\\end{matrix}\\right]$"
      ],
      "text/plain": [
       "Matrix([\n",
       "[                0],\n",
       "[                0],\n",
       "[L1*\\dot{\\theta_1}]])"
      ]
     },
     "metadata": {},
     "output_type": "display_data"
    },
    {
     "data": {
      "text/latex": [
       "$\\displaystyle ^e\\Omega_{e}$"
      ],
      "text/plain": [
       "^e\\Omega_e"
      ]
     },
     "metadata": {},
     "output_type": "display_data"
    },
    {
     "data": {
      "text/latex": [
       "$\\displaystyle \\left[\\begin{matrix}- \\dot{\\theta_1} \\sin{\\left(\\theta_{2} \\right)}\\\\- \\dot{\\theta_1} \\cos{\\left(\\theta_{2} \\right)}\\\\\\dot{\\theta_2}\\end{matrix}\\right]$"
      ],
      "text/plain": [
       "Matrix([\n",
       "[-\\dot{\\theta_1}*sin(\\theta_2)],\n",
       "[-\\dot{\\theta_1}*cos(\\theta_2)],\n",
       "[               \\dot{\\theta_2}]])"
      ]
     },
     "metadata": {},
     "output_type": "display_data"
    },
    {
     "data": {
      "text/latex": [
       "$\\displaystyle ^eV_{e}$"
      ],
      "text/plain": [
       "^eV_e"
      ]
     },
     "metadata": {},
     "output_type": "display_data"
    },
    {
     "data": {
      "text/latex": [
       "$\\displaystyle \\left[\\begin{matrix}0\\\\L_{2} \\dot{\\theta_2}\\\\\\dot{\\theta_1} \\left(L_{1} + L_{2} \\cos{\\left(\\theta_{2} \\right)}\\right)\\end{matrix}\\right]$"
      ],
      "text/plain": [
       "Matrix([\n",
       "[                                     0],\n",
       "[                     L2*\\dot{\\theta_2}],\n",
       "[\\dot{\\theta_1}*(L1 + L2*cos(\\theta_2))]])"
      ]
     },
     "metadata": {},
     "output_type": "display_data"
    },
    {
     "data": {
      "text/latex": [
       "$\\displaystyle ^eJ_{e}$"
      ],
      "text/plain": [
       "^eJ_e"
      ]
     },
     "metadata": {},
     "output_type": "display_data"
    },
    {
     "data": {
      "text/latex": [
       "$\\displaystyle \\left[\\begin{matrix}0 & 0\\\\0 & L_{2}\\\\L_{1} + L_{2} \\cos{\\left(\\theta_{2} \\right)} & 0\\\\- \\sin{\\left(\\theta_{2} \\right)} & 0\\\\- \\cos{\\left(\\theta_{2} \\right)} & 0\\\\0 & 1\\end{matrix}\\right]$"
      ],
      "text/plain": [
       "Matrix([\n",
       "[                    0,  0],\n",
       "[                    0, L2],\n",
       "[L1 + L2*cos(\\theta_2),  0],\n",
       "[       -sin(\\theta_2),  0],\n",
       "[       -cos(\\theta_2),  0],\n",
       "[                    0,  1]])"
      ]
     },
     "metadata": {},
     "output_type": "display_data"
    },
    {
     "data": {
      "text/latex": [
       "$\\displaystyle ^0J_{}$"
      ],
      "text/plain": [
       "^0J_"
      ]
     },
     "metadata": {},
     "output_type": "display_data"
    },
    {
     "data": {
      "text/latex": [
       "$\\displaystyle \\left[\\begin{matrix}- \\left(L_{1} + L_{2} \\cos{\\left(\\theta_{2} \\right)}\\right) \\sin{\\left(\\theta_{1} \\right)} & - L_{2} \\sin{\\left(\\theta_{2} \\right)} \\cos{\\left(\\theta_{1} \\right)}\\\\\\left(L_{1} + L_{2} \\cos{\\left(\\theta_{2} \\right)}\\right) \\cos{\\left(\\theta_{1} \\right)} & - L_{2} \\sin{\\left(\\theta_{1} \\right)} \\sin{\\left(\\theta_{2} \\right)}\\\\0 & - L_{2} \\cos{\\left(\\theta_{2} \\right)}\\\\0 & - \\sin{\\left(\\theta_{1} \\right)}\\\\0 & \\cos{\\left(\\theta_{1} \\right)}\\\\1 & 0\\end{matrix}\\right]$"
      ],
      "text/plain": [
       "Matrix([\n",
       "[-(L1 + L2*cos(\\theta_2))*sin(\\theta_1), -L2*sin(\\theta_2)*cos(\\theta_1)],\n",
       "[ (L1 + L2*cos(\\theta_2))*cos(\\theta_1), -L2*sin(\\theta_1)*sin(\\theta_2)],\n",
       "[                                     0,               -L2*cos(\\theta_2)],\n",
       "[                                     0,                  -sin(\\theta_1)],\n",
       "[                                     0,                   cos(\\theta_1)],\n",
       "[                                     1,                               0]])"
      ]
     },
     "metadata": {},
     "output_type": "display_data"
    }
   ],
   "source": [
    "# d\n",
    "\n",
    "omega = Matrix([0, 0, 0])\n",
    "v = Matrix([0, 0, 0])\n",
    "\n",
    "\n",
    "omega_11, v_11 = revolute_joint(frame = 1, \n",
    "                                theta_dot = theta1_dot, \n",
    "                                transform_low_high = T01, \n",
    "                                omega = omega, v = v, \n",
    "                                alias = alias)\n",
    "\n",
    "omega_22, v_22 = revolute_joint(frame = 2, \n",
    "                                theta_dot = theta2_dot, \n",
    "                                transform_low_high = T12, \n",
    "                                omega = omega_11, v = v_11, \n",
    "                                alias = alias)\n",
    "\n",
    "omega_33, v_33 = revolute_joint(frame = 'e', \n",
    "                                theta_dot = '', \n",
    "                                transform_low_high = T23, \n",
    "                                omega = omega_22, v = v_22, \n",
    "                                alias = alias)\n",
    "\n",
    "Jee, J0 = Jacobian(parameters = [theta1_dot, theta2_dot], \n",
    "                   v_ee = v_33, \n",
    "                   omega_ee = omega_33, \n",
    "                   transform_low_high = T03,\n",
    "                   alias = alias)"
   ]
  },
  {
   "cell_type": "code",
   "execution_count": 25,
   "id": "ce2a6091",
   "metadata": {},
   "outputs": [
    {
     "data": {
      "text/latex": [
       "$\\displaystyle \\left[\\begin{matrix}- L_{1} & 0\\\\0 & - L_{2}\\\\0 & 0\\\\0 & -1\\\\0 & 0\\\\1 & 0\\end{matrix}\\right]$"
      ],
      "text/plain": [
       "Matrix([\n",
       "[-L1,   0],\n",
       "[  0, -L2],\n",
       "[  0,   0],\n",
       "[  0,  -1],\n",
       "[  0,   0],\n",
       "[  1,   0]])"
      ]
     },
     "execution_count": 25,
     "metadata": {},
     "output_type": "execute_result"
    }
   ],
   "source": [
    "J0.subs({theta1: pi/2, theta2: pi/2, theta1_dot: 1, theta2_dot: 2})"
   ]
  },
  {
   "cell_type": "code",
   "execution_count": 26,
   "id": "ae4eb307",
   "metadata": {},
   "outputs": [
    {
     "data": {
      "text/latex": [
       "$\\displaystyle \\left[\\begin{matrix}- L_{1}\\\\- 2 L_{2}\\\\0\\\\-2\\\\0\\\\1\\end{matrix}\\right]$"
      ],
      "text/plain": [
       "Matrix([\n",
       "[  -L1],\n",
       "[-2*L2],\n",
       "[    0],\n",
       "[   -2],\n",
       "[    0],\n",
       "[    1]])"
      ]
     },
     "execution_count": 26,
     "metadata": {},
     "output_type": "execute_result"
    }
   ],
   "source": [
    "J0.subs({theta1: pi/2, theta2: pi/2, theta1_dot: 1, theta2_dot: 2}) * Matrix([1,2])"
   ]
  },
  {
   "cell_type": "markdown",
   "id": "5ce0593c",
   "metadata": {},
   "source": [
    "## Qn 2"
   ]
  },
  {
   "cell_type": "code",
   "execution_count": 8,
   "id": "43f56ac9",
   "metadata": {},
   "outputs": [],
   "source": [
    "t = symbols('t')\n",
    "theta1 = Function(r\"\\theta_1\")(t)\n",
    "theta1_dot = diff(theta1, t)\n",
    "theta1_ddot = diff(theta1, t, t)\n",
    "\n",
    "theta2 = Function(r\"\\theta_2\")(t)\n",
    "theta2_dot = diff(theta2, t)\n",
    "theta2_ddot = diff(theta2, t, t)\n",
    "\n",
    "\n",
    "alias = {}\n",
    "\n",
    "# display as theta dot instead of d(theta)/dt, and ignore dependency (t)\n",
    "alias.update({theta1: symbols(r\"\\theta_1\"),\n",
    "              theta1_dot: symbols(r\"\\dot{\\theta_1}\"),\n",
    "              theta1_ddot: symbols(r\"\\ddot{\\theta_1}\"),\n",
    "              theta2: symbols(r\"\\theta_2\"),\n",
    "              theta2_dot: symbols(r\"\\dot{\\theta_2}\"),\n",
    "              theta2_ddot: symbols(r\"\\ddot{\\theta_2}\")\n",
    "             })"
   ]
  },
  {
   "cell_type": "code",
   "execution_count": 9,
   "id": "c452a954",
   "metadata": {},
   "outputs": [
    {
     "data": {
      "text/latex": [
       "$\\displaystyle ^0T_{1}$"
      ],
      "text/plain": [
       "^0T_1"
      ]
     },
     "metadata": {},
     "output_type": "display_data"
    },
    {
     "data": {
      "text/latex": [
       "$\\displaystyle \\left[\\begin{matrix}\\cos{\\left(\\theta_{1} \\right)} & - \\sin{\\left(\\theta_{1} \\right)} & 0 & 0\\\\\\sin{\\left(\\theta_{1} \\right)} & \\cos{\\left(\\theta_{1} \\right)} & 0 & 0\\\\0 & 0 & 1 & L_{1}\\\\0 & 0 & 0 & 1\\end{matrix}\\right]$"
      ],
      "text/plain": [
       "Matrix([\n",
       "[cos(\\theta_1), -sin(\\theta_1), 0,  0],\n",
       "[sin(\\theta_1),  cos(\\theta_1), 0,  0],\n",
       "[            0,              0, 1, L1],\n",
       "[            0,              0, 0,  1]])"
      ]
     },
     "metadata": {},
     "output_type": "display_data"
    },
    {
     "data": {
      "text/latex": [
       "$\\displaystyle ^1T_{2}$"
      ],
      "text/plain": [
       "^1T_2"
      ]
     },
     "metadata": {},
     "output_type": "display_data"
    },
    {
     "data": {
      "text/latex": [
       "$\\displaystyle \\left[\\begin{matrix}\\cos{\\left(\\theta_{2} \\right)} & - \\sin{\\left(\\theta_{2} \\right)} & 0 & 0\\\\0 & 0 & 1 & 0\\\\- \\sin{\\left(\\theta_{2} \\right)} & - \\cos{\\left(\\theta_{2} \\right)} & 0 & 0\\\\0 & 0 & 0 & 1\\end{matrix}\\right]$"
      ],
      "text/plain": [
       "Matrix([\n",
       "[ cos(\\theta_2), -sin(\\theta_2), 0, 0],\n",
       "[             0,              0, 1, 0],\n",
       "[-sin(\\theta_2), -cos(\\theta_2), 0, 0],\n",
       "[             0,              0, 0, 1]])"
      ]
     },
     "metadata": {},
     "output_type": "display_data"
    },
    {
     "data": {
      "text/latex": [
       "$\\displaystyle ^2T_{3}$"
      ],
      "text/plain": [
       "^2T_3"
      ]
     },
     "metadata": {},
     "output_type": "display_data"
    },
    {
     "data": {
      "text/latex": [
       "$\\displaystyle \\left[\\begin{matrix}\\cos{\\left(\\theta_{3} \\right)} & - \\sin{\\left(\\theta_{3} \\right)} & 0 & L_{2}\\\\0 & 0 & 1 & 0\\\\- \\sin{\\left(\\theta_{3} \\right)} & - \\cos{\\left(\\theta_{3} \\right)} & 0 & 0\\\\0 & 0 & 0 & 1\\end{matrix}\\right]$"
      ],
      "text/plain": [
       "Matrix([\n",
       "[ cos(\\theta_3), -sin(\\theta_3), 0, L2],\n",
       "[             0,              0, 1,  0],\n",
       "[-sin(\\theta_3), -cos(\\theta_3), 0,  0],\n",
       "[             0,              0, 0,  1]])"
      ]
     },
     "metadata": {},
     "output_type": "display_data"
    },
    {
     "data": {
      "text/latex": [
       "$\\displaystyle ^3T_{4}$"
      ],
      "text/plain": [
       "^3T_4"
      ]
     },
     "metadata": {},
     "output_type": "display_data"
    },
    {
     "data": {
      "text/latex": [
       "$\\displaystyle \\left[\\begin{matrix}1 & 0 & 0 & L_{3}\\\\0 & 1 & 0 & 0\\\\0 & 0 & 1 & d_{3}\\\\0 & 0 & 0 & 1\\end{matrix}\\right]$"
      ],
      "text/plain": [
       "Matrix([\n",
       "[1, 0, 0, L3],\n",
       "[0, 1, 0,  0],\n",
       "[0, 0, 1, d3],\n",
       "[0, 0, 0,  1]])"
      ]
     },
     "metadata": {},
     "output_type": "display_data"
    },
    {
     "data": {
      "text/latex": [
       "$\\displaystyle ^0T_{4}$"
      ],
      "text/plain": [
       "^0T_4"
      ]
     },
     "metadata": {},
     "output_type": "display_data"
    },
    {
     "data": {
      "text/latex": [
       "$\\displaystyle \\left[\\begin{matrix}\\sin{\\left(\\theta_{1} \\right)} \\sin{\\left(\\theta_{3} \\right)} + \\cos{\\left(\\theta_{1} \\right)} \\cos{\\left(\\theta_{2} \\right)} \\cos{\\left(\\theta_{3} \\right)} & \\sin{\\left(\\theta_{1} \\right)} \\cos{\\left(\\theta_{3} \\right)} - \\sin{\\left(\\theta_{3} \\right)} \\cos{\\left(\\theta_{1} \\right)} \\cos{\\left(\\theta_{2} \\right)} & - \\sin{\\left(\\theta_{2} \\right)} \\cos{\\left(\\theta_{1} \\right)} & L_{2} \\cos{\\left(\\theta_{1} \\right)} \\cos{\\left(\\theta_{2} \\right)} + L_{3} \\left(\\sin{\\left(\\theta_{1} \\right)} \\sin{\\left(\\theta_{3} \\right)} + \\cos{\\left(\\theta_{1} \\right)} \\cos{\\left(\\theta_{2} \\right)} \\cos{\\left(\\theta_{3} \\right)}\\right) - d_{3} \\sin{\\left(\\theta_{2} \\right)} \\cos{\\left(\\theta_{1} \\right)}\\\\\\sin{\\left(\\theta_{1} \\right)} \\cos{\\left(\\theta_{2} \\right)} \\cos{\\left(\\theta_{3} \\right)} - \\sin{\\left(\\theta_{3} \\right)} \\cos{\\left(\\theta_{1} \\right)} & - \\sin{\\left(\\theta_{1} \\right)} \\sin{\\left(\\theta_{3} \\right)} \\cos{\\left(\\theta_{2} \\right)} - \\cos{\\left(\\theta_{1} \\right)} \\cos{\\left(\\theta_{3} \\right)} & - \\sin{\\left(\\theta_{1} \\right)} \\sin{\\left(\\theta_{2} \\right)} & L_{2} \\sin{\\left(\\theta_{1} \\right)} \\cos{\\left(\\theta_{2} \\right)} + L_{3} \\left(\\sin{\\left(\\theta_{1} \\right)} \\cos{\\left(\\theta_{2} \\right)} \\cos{\\left(\\theta_{3} \\right)} - \\sin{\\left(\\theta_{3} \\right)} \\cos{\\left(\\theta_{1} \\right)}\\right) - d_{3} \\sin{\\left(\\theta_{1} \\right)} \\sin{\\left(\\theta_{2} \\right)}\\\\- \\sin{\\left(\\theta_{2} \\right)} \\cos{\\left(\\theta_{3} \\right)} & \\sin{\\left(\\theta_{2} \\right)} \\sin{\\left(\\theta_{3} \\right)} & - \\cos{\\left(\\theta_{2} \\right)} & L_{1} - L_{2} \\sin{\\left(\\theta_{2} \\right)} - L_{3} \\sin{\\left(\\theta_{2} \\right)} \\cos{\\left(\\theta_{3} \\right)} - d_{3} \\cos{\\left(\\theta_{2} \\right)}\\\\0 & 0 & 0 & 1\\end{matrix}\\right]$"
      ],
      "text/plain": [
       "Matrix([\n",
       "[sin(\\theta_1)*sin(\\theta_3) + cos(\\theta_1)*cos(\\theta_2)*cos(\\theta_3),  sin(\\theta_1)*cos(\\theta_3) - sin(\\theta_3)*cos(\\theta_1)*cos(\\theta_2), -sin(\\theta_2)*cos(\\theta_1), L2*cos(\\theta_1)*cos(\\theta_2) + L3*(sin(\\theta_1)*sin(\\theta_3) + cos(\\theta_1)*cos(\\theta_2)*cos(\\theta_3)) - d3*sin(\\theta_2)*cos(\\theta_1)],\n",
       "[sin(\\theta_1)*cos(\\theta_2)*cos(\\theta_3) - sin(\\theta_3)*cos(\\theta_1), -sin(\\theta_1)*sin(\\theta_3)*cos(\\theta_2) - cos(\\theta_1)*cos(\\theta_3), -sin(\\theta_1)*sin(\\theta_2), L2*sin(\\theta_1)*cos(\\theta_2) + L3*(sin(\\theta_1)*cos(\\theta_2)*cos(\\theta_3) - sin(\\theta_3)*cos(\\theta_1)) - d3*sin(\\theta_1)*sin(\\theta_2)],\n",
       "[                                           -sin(\\theta_2)*cos(\\theta_3),                                              sin(\\theta_2)*sin(\\theta_3),               -cos(\\theta_2),                                                                      L1 - L2*sin(\\theta_2) - L3*sin(\\theta_2)*cos(\\theta_3) - d3*cos(\\theta_2)],\n",
       "[                                                                      0,                                                                        0,                            0,                                                                                                                                              1]])"
      ]
     },
     "metadata": {},
     "output_type": "display_data"
    }
   ],
   "source": [
    "# a\n",
    "theta1 = symbols('\\\\theta_1')\n",
    "theta2 = symbols('\\\\theta_2')\n",
    "theta3 = symbols('\\\\theta_3')\n",
    "L1 = symbols('L1')\n",
    "L2 = symbols('L2')\n",
    "L3 = symbols('L3')\n",
    "d3 = symbols('d3')\n",
    "\n",
    "DH1 = [0, 0, L1, theta1]\n",
    "T01 = Tlink(DH1)\n",
    "symprint('T', 0, 1)\n",
    "matprint(T01, alias)\n",
    "\n",
    "DH2 = [0, -pi/2, 0, theta2]\n",
    "T12 = Tlink(DH2)\n",
    "symprint('T', 1, 2)\n",
    "matprint(T12, alias)\n",
    "\n",
    "DH3 = [L2, -pi/2, 0, theta3]\n",
    "T23 = Tlink(DH3)\n",
    "symprint('T', 2, 3)\n",
    "matprint(T23, alias)\n",
    "\n",
    "DH4 = [L3, 0, d3, 0]\n",
    "T34 = Tlink(DH4)\n",
    "symprint('T', 3, 4)\n",
    "matprint(T34, alias)\n",
    "\n",
    "T04 = simplify(T01 * T12 * T23 * T34)\n",
    "symprint('T', 0,  4)\n",
    "matprint(T04, alias)"
   ]
  },
  {
   "cell_type": "markdown",
   "id": "2f8fd5f9",
   "metadata": {},
   "source": [
    "## Qn 3"
   ]
  },
  {
   "cell_type": "code",
   "execution_count": 10,
   "id": "edce7e2d",
   "metadata": {},
   "outputs": [
    {
     "data": {
      "text/latex": [
       "$\\displaystyle \\left[\\begin{matrix}-0.6\\\\0\\end{matrix}\\right]$"
      ],
      "text/plain": [
       "Matrix([\n",
       "[-0.6],\n",
       "[   0]])"
      ]
     },
     "execution_count": 10,
     "metadata": {},
     "output_type": "execute_result"
    }
   ],
   "source": [
    "# Point A\n",
    "[xp, yp, zp] = [-2.5, 0, 0]\n",
    "\n",
    "# Point B\n",
    "# [xp, yp, zp] = [2.5, 0, 0]\n",
    "\n",
    "# Coodinate of the camera relative to the cube\n",
    "X, Y, Z = 0, 0, -10\n",
    "\n",
    "# Position of camera relative to the universe\n",
    "T0C = Matrix([[1, 0, 0, X],\n",
    "              [0, 1, 0, Y], \n",
    "              [0, 0, 1, Z],\n",
    "              [0, 0, 0, 1]])\n",
    "\n",
    "# Focal length in m\n",
    "F = symbols('f')\n",
    "\n",
    "# Coordinate of the object / point in the universe frame\n",
    "Xp = symbols('x_p')\n",
    "Yp = symbols('y_p')\n",
    "Zp = symbols('z_p')\n",
    "\n",
    "# Camera parameters\n",
    "CM = Matrix([[F, 0, 0, 0],\n",
    "             [0, F, 0, 0],\n",
    "             [0, 0, 1, 0]])\n",
    "\n",
    "# Coordinate of the object homogeneous form\n",
    "P0 = Matrix([Xp, Yp, Zp, 1])\n",
    "\n",
    "RES = CM * T0C ** -1 * P0\n",
    "\n",
    "# Retina coordinate homogeneous form\n",
    "homo_retina = RES.subs({F: 2.4,\n",
    "                        Xp: xp, Yp: yp, Zp: zp})\n",
    "\n",
    "# Retina coordinate\n",
    "retina = Matrix([homo_retina[0] / homo_retina[-1],\n",
    "                 homo_retina[1] / homo_retina[-1]])\n",
    "\n",
    "retina"
   ]
  },
  {
   "cell_type": "markdown",
   "id": "40959a75",
   "metadata": {},
   "source": [
    "## Qn 4"
   ]
  },
  {
   "cell_type": "code",
   "execution_count": 11,
   "id": "897e0bc4",
   "metadata": {},
   "outputs": [
    {
     "data": {
      "image/png": "[encoded data removed]",
      "text/plain": [
       "<Figure size 640x480 with 1 Axes>"
      ]
     },
     "metadata": {},
     "output_type": "display_data"
    },
    {
     "data": {
      "image/png": "[encoded data removed]",
      "text/plain": [
       "<Figure size 640x480 with 1 Axes>"
      ]
     },
     "metadata": {},
     "output_type": "display_data"
    },
    {
     "data": {
      "image/png": "[encoded data removed]",
      "text/plain": [
       "<Figure size 640x480 with 1 Axes>"
      ]
     },
     "metadata": {},
     "output_type": "display_data"
    }
   ],
   "source": [
    "# Parabolic blend trajectory planning\n",
    "\n",
    "# Provided information\n",
    "\n",
    "d1 = [1, 4]\n",
    "\n",
    "disp_lst = [d1]\n",
    "\n",
    "a_d1 = 4\n",
    "\n",
    "acc_lst = [a_d1]\n",
    "\n",
    "# Total motion time is 2s\n",
    "tf = 2\n",
    "th = tf/2\n",
    "\n",
    "# Time step\n",
    "dt = 0.1\n",
    "time = np.arange(0, tf + dt, dt)\n",
    "\n",
    "# Record for all joints\n",
    "disp_all = []\n",
    "vel_all = []\n",
    "acc_all = []\n",
    "\n",
    "for i in range(len(disp_lst)):\n",
    "    \n",
    "    # Get acceleration\n",
    "    a = acc_lst[i]\n",
    "    \n",
    "    # Get displacement, initial and final\n",
    "    disp_0, disp_f = disp_lst[i]\n",
    "    \n",
    "    # Equation 24 (calculate blend time tb)\n",
    "    tb = th - np.sqrt(a**2 * th**2 - a * (disp_f - disp_0)) / a\n",
    "    \n",
    "    # Calculate V\n",
    "    V = a * tb\n",
    "    \n",
    "    # Empty lists for displacement, velocity and acceleration \n",
    "    disp, vel, acc = [], [], []\n",
    "    \n",
    "    for t in time:\n",
    "        \n",
    "        # Apply Equation 27\n",
    "        \n",
    "        if 0 <= t <= tb:\n",
    "            res_disp = disp_0 + V/(2*tb) * t**2\n",
    "            \n",
    "            res_vel = V/tb * t \n",
    "            \n",
    "            res_acc = V/tb\n",
    "            \n",
    "            disp.append(res_disp)\n",
    "            vel.append(res_vel)\n",
    "            acc.append(res_acc)\n",
    "            \n",
    "        elif tb < t <= (tf - tb):\n",
    "            res_disp = (disp_f + disp_0 - V * tf)/2 + V * t\n",
    "            \n",
    "            res_vel = V\n",
    "            \n",
    "            res_acc = 0\n",
    "            \n",
    "            disp.append(res_disp)\n",
    "            vel.append(res_vel)\n",
    "            acc.append(res_acc)\n",
    "            \n",
    "        else:\n",
    "            res_disp = disp_f - a * tf**2/2 + a * tf * t - a/2 * t**2\n",
    "            \n",
    "            res_vel = a * tf - a * t\n",
    "            \n",
    "            res_acc = -a\n",
    "            \n",
    "            disp.append(res_disp)\n",
    "            vel.append(res_vel)\n",
    "            acc.append(res_acc)\n",
    "        \n",
    "    disp_all.append(disp)\n",
    "    vel_all.append(vel)\n",
    "    acc_all.append(acc)\n",
    "\n",
    "for i in range(len(disp_all)):\n",
    "    plt.plot(time, disp_all[i], label = f'joint_{i+1}')\n",
    "    plt.legend()\n",
    "plt.show()\n",
    "    \n",
    "for i in range(len(disp_all)):\n",
    "    plt.plot(time, vel_all[i], label = f'joint_{i+1}')\n",
    "    plt.legend()\n",
    "plt.show()\n",
    "    \n",
    "for i in range(len(disp_all)):\n",
    "    plt.plot(time, acc_all[i], label = f'joint_{i+1}')\n",
    "    plt.legend()\n",
    "plt.show()\n",
    " "
   ]
  },
  {
   "cell_type": "markdown",
   "id": "3d230174",
   "metadata": {},
   "source": [
    "## Qn 5"
   ]
  },
  {
   "cell_type": "code",
   "execution_count": 12,
   "id": "d7d84191",
   "metadata": {},
   "outputs": [],
   "source": [
    "def Rotation(angle, direction, rad = True):\n",
    "    if rad == False:\n",
    "        angle = math.radians(angle)\n",
    "    \n",
    "    if direction == 'x':\n",
    "        R = Matrix([[1, 0, 0],\n",
    "                      [0, cos(angle), -sin(angle)],\n",
    "                      [0, sin(angle), cos(angle)]])\n",
    "    elif direction == 'y':\n",
    "        R = Matrix([[cos(angle), 0, sin(angle)],\n",
    "                      [0, 1, 0],\n",
    "                      [-sin(angle), 0, cos(angle)]])\n",
    "    elif direction == 'z':\n",
    "        R = Matrix([[cos(angle), -sin(angle), 0],\n",
    "                      [sin(angle), cos(angle), 0],\n",
    "                      [0, 0, 1]])\n",
    "    return R"
   ]
  },
  {
   "cell_type": "code",
   "execution_count": 13,
   "id": "41f6f14f",
   "metadata": {},
   "outputs": [
    {
     "data": {
      "text/latex": [
       "$\\displaystyle \\left[\\begin{matrix}\\cos{\\left(\\theta \\right)} & - \\sin{\\left(\\theta \\right)} & 0\\\\\\sin{\\left(\\theta \\right)} & \\cos{\\left(\\theta \\right)} & 0\\\\0 & 0 & 1\\end{matrix}\\right]$"
      ],
      "text/plain": [
       "Matrix([\n",
       "[cos(theta), -sin(theta), 0],\n",
       "[sin(theta),  cos(theta), 0],\n",
       "[         0,           0, 1]])"
      ]
     },
     "execution_count": 13,
     "metadata": {},
     "output_type": "execute_result"
    }
   ],
   "source": [
    "Rotation(symbols('theta'), 'z', rad = True)"
   ]
  },
  {
   "cell_type": "code",
   "execution_count": 14,
   "id": "2022a636",
   "metadata": {},
   "outputs": [
    {
     "data": {
      "text/latex": [
       "$\\displaystyle \\left[\\begin{matrix}0 & 0 & 1 & 0\\\\\\sin{\\left(\\theta \\right)} & \\cos{\\left(\\theta \\right)} & 0 & 7\\\\- \\cos{\\left(\\theta \\right)} & \\sin{\\left(\\theta \\right)} & 0 & 0\\\\0 & 0 & 0 & 1\\end{matrix}\\right]$"
      ],
      "text/plain": [
       "Matrix([\n",
       "[          0,          0, 1, 0],\n",
       "[ sin(theta), cos(theta), 0, 7],\n",
       "[-cos(theta), sin(theta), 0, 0],\n",
       "[          0,          0, 0, 1]])"
      ]
     },
     "execution_count": 14,
     "metadata": {},
     "output_type": "execute_result"
    }
   ],
   "source": [
    "X = symbols('x0')\n",
    "Y = symbols('y0')\n",
    "Z = symbols('zo')\n",
    "original = Matrix([[1, 0, 0, X],\n",
    "                  [0, 1, 0, Y], \n",
    "                  [0, 0, 1, Z],\n",
    "                  [0, 0, 0, 1]])\n",
    "\n",
    "# 1. rotate pi/2 in y\n",
    "R1 = Rotation(pi/2, 'y', rad = True)\n",
    "T1 = R1.col_insert(3, Matrix([0, 0, 0]))\n",
    "T1 = T1.row_insert(3, Matrix([0, 0, 0, 1]).T)\n",
    "\n",
    "# 2. translate 7 in y\n",
    "T2 = Matrix([[1, 0, 0, 0],\n",
    "             [0, 1, 0, 7],\n",
    "             [0, 0, 1, 0],\n",
    "             [0, 0, 0, 1]])\n",
    "\n",
    "# 3. rotate theta degree in z\n",
    "R2 = Rotation(symbols('theta'), 'z', rad = True)\n",
    "T3 = R2.col_insert(3, Matrix([0, 0, 0]))\n",
    "T3 = T3.row_insert(3, Matrix([0, 0, 0, 1]).T)\n",
    "\n",
    "\n",
    "T1 * T2 * T3"
   ]
  },
  {
   "cell_type": "code",
   "execution_count": 15,
   "id": "bb6f26d8",
   "metadata": {},
   "outputs": [
    {
     "data": {
      "text/latex": [
       "$\\displaystyle \\left[\\begin{matrix}0 & 0 & 1 & 0\\\\0 & 1 & 0 & 7\\\\-1 & 0 & 0 & 0\\\\0 & 0 & 0 & 1\\end{matrix}\\right]$"
      ],
      "text/plain": [
       "Matrix([\n",
       "[ 0, 0, 1, 0],\n",
       "[ 0, 1, 0, 7],\n",
       "[-1, 0, 0, 0],\n",
       "[ 0, 0, 0, 1]])"
      ]
     },
     "execution_count": 15,
     "metadata": {},
     "output_type": "execute_result"
    }
   ],
   "source": [
    "# Directly add the translation to the first rotational matrix\n",
    "T1 = R1.col_insert(3, Matrix([0, 7, 0]))\n",
    "T1 = T1.row_insert(3, Matrix([0, 0, 0, 1]).T)\n",
    "T1"
   ]
  },
  {
   "cell_type": "code",
   "execution_count": 16,
   "id": "ce803586",
   "metadata": {},
   "outputs": [
    {
     "data": {
      "text/latex": [
       "$\\displaystyle \\left[\\begin{matrix}0 & 0 & 1 & 0\\\\\\sin{\\left(\\theta \\right)} & \\cos{\\left(\\theta \\right)} & 0 & 7\\\\- \\cos{\\left(\\theta \\right)} & \\sin{\\left(\\theta \\right)} & 0 & 0\\\\0 & 0 & 0 & 1\\end{matrix}\\right]$"
      ],
      "text/plain": [
       "Matrix([\n",
       "[          0,          0, 1, 0],\n",
       "[ sin(theta), cos(theta), 0, 7],\n",
       "[-cos(theta), sin(theta), 0, 0],\n",
       "[          0,          0, 0, 1]])"
      ]
     },
     "execution_count": 16,
     "metadata": {},
     "output_type": "execute_result"
    }
   ],
   "source": [
    "T1 * T3"
   ]
  },
  {
   "cell_type": "code",
   "execution_count": null,
   "id": "25da51ee",
   "metadata": {},
   "outputs": [],
   "source": []
  }
 ],
 "metadata": {
  "kernelspec": {
   "display_name": "Python 3 (ipykernel)",
   "language": "python",
   "name": "python3"
  },
  "language_info": {
   "codemirror_mode": {
    "name": "ipython",
    "version": 3
   },
   "file_extension": ".py",
   "mimetype": "text/x-python",
   "name": "python",
   "nbconvert_exporter": "python",
   "pygments_lexer": "ipython3",
   "version": "3.8.15"
  }
 },
 "nbformat": 4,
 "nbformat_minor": 5
}
