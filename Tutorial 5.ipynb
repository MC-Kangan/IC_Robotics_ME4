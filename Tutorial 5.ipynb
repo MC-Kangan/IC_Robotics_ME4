{
 "cells": [
  {
   "cell_type": "code",
   "execution_count": 1,
   "id": "be2f1208",
   "metadata": {},
   "outputs": [],
   "source": [
    "import numpy as np\n",
    "import pandas as pd\n",
    "import matplotlib.pyplot as plt\n",
    "from mpl_toolkits.mplot3d import Axes3D\n",
    "from sympy import *\n",
    "from robot_tools import *\n",
    "import math"
   ]
  },
  {
   "cell_type": "code",
   "execution_count": 30,
   "id": "7e415609",
   "metadata": {},
   "outputs": [],
   "source": [
    "def velocity_COM(frame, transform_low_high, P, v, omega, alias):\n",
    "    rotation_high_low = transform_low_high.T[:3, :3]\n",
    "\n",
    "    symprint('\\Omega_G', frame, frame)\n",
    "    OmegaGee = simplify(rotation_high_low * omega)\n",
    "    matprint(OmegaGee, alias)\n",
    "\n",
    "    symprint('V_G', frame, frame)\n",
    "    VGee = simplify(v + omega.cross(P))\n",
    "    matprint(VGee, alias)\n",
    "    \n",
    "    return OmegaGee, VGee"
   ]
  },
  {
   "cell_type": "markdown",
   "id": "d644ff18",
   "metadata": {},
   "source": [
    "### 5.7.1 Variables"
   ]
  },
  {
   "cell_type": "code",
   "execution_count": 117,
   "id": "94ecc78a",
   "metadata": {},
   "outputs": [],
   "source": [
    "t = symbols('t')\n",
    "theta1 = Function(r\"\\theta_1\")(t)\n",
    "theta1_dot = diff(theta1, t)\n",
    "theta1_ddot = diff(theta1, t, t)\n",
    "lg = symbols('l_g')\n",
    "l = symbols('l')\n",
    "\n",
    "alias = {}\n",
    "\n",
    "# display as theta dot instead of d(theta)/dt, and ignore dependency (t)\n",
    "alias.update({theta1: symbols(r\"\\theta_1\"),\n",
    "              theta1_dot: symbols(r\"\\dot{\\theta_1}\"),\n",
    "              theta1_ddot: symbols(r\"\\ddot{\\theta_1}\"),\n",
    "             })"
   ]
  },
  {
   "cell_type": "code",
   "execution_count": 118,
   "id": "04923f4e",
   "metadata": {},
   "outputs": [
    {
     "data": {
      "text/latex": [
       "$\\displaystyle ^0T_{1}$"
      ],
      "text/plain": [
       "^0T_1"
      ]
     },
     "metadata": {},
     "output_type": "display_data"
    },
    {
     "data": {
      "text/latex": [
       "$\\displaystyle \\left[\\begin{matrix}\\cos{\\left(\\theta_{1} \\right)} & - \\sin{\\left(\\theta_{1} \\right)} & 0 & 0\\\\\\sin{\\left(\\theta_{1} \\right)} & \\cos{\\left(\\theta_{1} \\right)} & 0 & 0\\\\0 & 0 & 1 & 0\\\\0 & 0 & 0 & 1\\end{matrix}\\right]$"
      ],
      "text/plain": [
       "Matrix([\n",
       "[cos(\\theta_1), -sin(\\theta_1), 0, 0],\n",
       "[sin(\\theta_1),  cos(\\theta_1), 0, 0],\n",
       "[            0,              0, 1, 0],\n",
       "[            0,              0, 0, 1]])"
      ]
     },
     "metadata": {},
     "output_type": "display_data"
    },
    {
     "data": {
      "text/latex": [
       "$\\displaystyle ^1T_{G}$"
      ],
      "text/plain": [
       "^1T_G"
      ]
     },
     "metadata": {},
     "output_type": "display_data"
    },
    {
     "data": {
      "text/latex": [
       "$\\displaystyle \\left[\\begin{matrix}1 & 0 & 0 & l_{g}\\\\0 & 1 & 0 & 0\\\\0 & 0 & 1 & 0\\\\0 & 0 & 0 & 1\\end{matrix}\\right]$"
      ],
      "text/plain": [
       "Matrix([\n",
       "[1, 0, 0, l_g],\n",
       "[0, 1, 0,   0],\n",
       "[0, 0, 1,   0],\n",
       "[0, 0, 0,   1]])"
      ]
     },
     "metadata": {},
     "output_type": "display_data"
    },
    {
     "data": {
      "text/latex": [
       "$\\displaystyle ^0T_{G}$"
      ],
      "text/plain": [
       "^0T_G"
      ]
     },
     "metadata": {},
     "output_type": "display_data"
    },
    {
     "data": {
      "text/latex": [
       "$\\displaystyle \\left[\\begin{matrix}\\cos{\\left(\\theta_{1} \\right)} & - \\sin{\\left(\\theta_{1} \\right)} & 0 & l_{g} \\cos{\\left(\\theta_{1} \\right)}\\\\\\sin{\\left(\\theta_{1} \\right)} & \\cos{\\left(\\theta_{1} \\right)} & 0 & l_{g} \\sin{\\left(\\theta_{1} \\right)}\\\\0 & 0 & 1 & 0\\\\0 & 0 & 0 & 1\\end{matrix}\\right]$"
      ],
      "text/plain": [
       "Matrix([\n",
       "[cos(\\theta_1), -sin(\\theta_1), 0, l_g*cos(\\theta_1)],\n",
       "[sin(\\theta_1),  cos(\\theta_1), 0, l_g*sin(\\theta_1)],\n",
       "[            0,              0, 1,                 0],\n",
       "[            0,              0, 0,                 1]])"
      ]
     },
     "metadata": {},
     "output_type": "display_data"
    },
    {
     "data": {
      "text/latex": [
       "$\\displaystyle ^1T_{E}$"
      ],
      "text/plain": [
       "^1T_E"
      ]
     },
     "metadata": {},
     "output_type": "display_data"
    },
    {
     "data": {
      "text/latex": [
       "$\\displaystyle \\left[\\begin{matrix}1 & 0 & 0 & l\\\\0 & 1 & 0 & 0\\\\0 & 0 & 1 & 0\\\\0 & 0 & 0 & 1\\end{matrix}\\right]$"
      ],
      "text/plain": [
       "Matrix([\n",
       "[1, 0, 0, l],\n",
       "[0, 1, 0, 0],\n",
       "[0, 0, 1, 0],\n",
       "[0, 0, 0, 1]])"
      ]
     },
     "metadata": {},
     "output_type": "display_data"
    },
    {
     "data": {
      "text/latex": [
       "$\\displaystyle ^0T_{E}$"
      ],
      "text/plain": [
       "^0T_E"
      ]
     },
     "metadata": {},
     "output_type": "display_data"
    },
    {
     "data": {
      "text/latex": [
       "$\\displaystyle \\left[\\begin{matrix}\\cos{\\left(\\theta_{1} \\right)} & - \\sin{\\left(\\theta_{1} \\right)} & 0 & l \\cos{\\left(\\theta_{1} \\right)}\\\\\\sin{\\left(\\theta_{1} \\right)} & \\cos{\\left(\\theta_{1} \\right)} & 0 & l \\sin{\\left(\\theta_{1} \\right)}\\\\0 & 0 & 1 & 0\\\\0 & 0 & 0 & 1\\end{matrix}\\right]$"
      ],
      "text/plain": [
       "Matrix([\n",
       "[cos(\\theta_1), -sin(\\theta_1), 0, l*cos(\\theta_1)],\n",
       "[sin(\\theta_1),  cos(\\theta_1), 0, l*sin(\\theta_1)],\n",
       "[            0,              0, 1,               0],\n",
       "[            0,              0, 0,               1]])"
      ]
     },
     "metadata": {},
     "output_type": "display_data"
    }
   ],
   "source": [
    "# Q1\n",
    "\n",
    "DH1 = [0, 0, 0, theta1]\n",
    "T01 = Tlink(DH1)\n",
    "symprint('T',0, 1)\n",
    "matprint(T01, alias)\n",
    "\n",
    "# IMPORTANT: Treat the centre of mass as a separate joint!\n",
    "DH2 = [lg, 0, 0, 0]\n",
    "T1G = Tlink(DH2)\n",
    "symprint('T',1, 'G')\n",
    "matprint(T1G, alias)\n",
    "\n",
    "T0G = simplify(T01 * T1G)\n",
    "symprint('T', 0, 'G')\n",
    "matprint(T0G, alias)\n",
    "\n",
    "DHE = [l, 0, 0, 0]\n",
    "T1E = Tlink(DHE)\n",
    "symprint('T',1, 'E')\n",
    "matprint(T1E, alias)\n",
    "\n",
    "T0E = simplify(T01 * T1E)\n",
    "symprint('T', 0, 'E')\n",
    "matprint(T0E, alias)\n"
   ]
  },
  {
   "cell_type": "code",
   "execution_count": 93,
   "id": "827fcbc1",
   "metadata": {},
   "outputs": [
    {
     "data": {
      "text/latex": [
       "$\\displaystyle ^e\\Omega_{e}$"
      ],
      "text/plain": [
       "^e\\Omega_e"
      ]
     },
     "metadata": {},
     "output_type": "display_data"
    },
    {
     "data": {
      "text/latex": [
       "$\\displaystyle \\left[\\begin{matrix}0\\\\0\\\\\\dot{\\theta_1}\\end{matrix}\\right]$"
      ],
      "text/plain": [
       "Matrix([\n",
       "[             0],\n",
       "[             0],\n",
       "[\\dot{\\theta_1}]])"
      ]
     },
     "metadata": {},
     "output_type": "display_data"
    },
    {
     "data": {
      "text/latex": [
       "$\\displaystyle ^eV_{e}$"
      ],
      "text/plain": [
       "^eV_e"
      ]
     },
     "metadata": {},
     "output_type": "display_data"
    },
    {
     "data": {
      "text/latex": [
       "$\\displaystyle \\left[\\begin{matrix}0\\\\\\dot{\\theta_1} l_{g}\\\\0\\end{matrix}\\right]$"
      ],
      "text/plain": [
       "Matrix([\n",
       "[                 0],\n",
       "[\\dot{\\theta_1}*l_g],\n",
       "[                 0]])"
      ]
     },
     "metadata": {},
     "output_type": "display_data"
    },
    {
     "data": {
      "text/latex": [
       "$\\displaystyle ^eJ_{e}$"
      ],
      "text/plain": [
       "^eJ_e"
      ]
     },
     "metadata": {},
     "output_type": "display_data"
    },
    {
     "data": {
      "text/latex": [
       "$\\displaystyle \\left[\\begin{matrix}0\\\\l_{g}\\\\0\\\\0\\\\0\\\\1\\end{matrix}\\right]$"
      ],
      "text/plain": [
       "Matrix([\n",
       "[  0],\n",
       "[l_g],\n",
       "[  0],\n",
       "[  0],\n",
       "[  0],\n",
       "[  1]])"
      ]
     },
     "metadata": {},
     "output_type": "display_data"
    },
    {
     "data": {
      "text/latex": [
       "$\\displaystyle ^0J_{}$"
      ],
      "text/plain": [
       "^0J_"
      ]
     },
     "metadata": {},
     "output_type": "display_data"
    },
    {
     "data": {
      "text/latex": [
       "$\\displaystyle \\left[\\begin{matrix}- l_{g} \\sin{\\left(\\theta_{1} \\right)}\\\\l_{g} \\cos{\\left(\\theta_{1} \\right)}\\\\0\\\\0\\\\0\\\\1\\end{matrix}\\right]$"
      ],
      "text/plain": [
       "Matrix([\n",
       "[-l_g*sin(\\theta_1)],\n",
       "[ l_g*cos(\\theta_1)],\n",
       "[                 0],\n",
       "[                 0],\n",
       "[                 0],\n",
       "[                 1]])"
      ]
     },
     "metadata": {},
     "output_type": "display_data"
    },
    {
     "data": {
      "text/latex": [
       "$\\displaystyle ^0V_{G}$"
      ],
      "text/plain": [
       "^0V_G"
      ]
     },
     "metadata": {},
     "output_type": "display_data"
    },
    {
     "data": {
      "text/latex": [
       "$\\displaystyle \\left[\\begin{matrix}- \\dot{\\theta_1} l_{g} \\sin{\\left(\\theta_{1} \\right)}\\\\\\dot{\\theta_1} l_{g} \\cos{\\left(\\theta_{1} \\right)}\\\\0\\end{matrix}\\right]$"
      ],
      "text/plain": [
       "Matrix([\n",
       "[-\\dot{\\theta_1}*l_g*sin(\\theta_1)],\n",
       "[ \\dot{\\theta_1}*l_g*cos(\\theta_1)],\n",
       "[                                0]])"
      ]
     },
     "metadata": {},
     "output_type": "display_data"
    },
    {
     "data": {
      "text/latex": [
       "$\\displaystyle ^0\\Omega_{G}$"
      ],
      "text/plain": [
       "^0\\Omega_G"
      ]
     },
     "metadata": {},
     "output_type": "display_data"
    },
    {
     "data": {
      "text/latex": [
       "$\\displaystyle \\left[\\begin{matrix}0\\\\0\\\\\\dot{\\theta_1}\\end{matrix}\\right]$"
      ],
      "text/plain": [
       "Matrix([\n",
       "[             0],\n",
       "[             0],\n",
       "[\\dot{\\theta_1}]])"
      ]
     },
     "metadata": {},
     "output_type": "display_data"
    }
   ],
   "source": [
    "# Q2\n",
    "\n",
    "omega = Matrix([0, 0, 0])\n",
    "v = Matrix([0, 0, 0])\n",
    "\n",
    "omega_11, v_11 = revolute_joint(frame = 1, \n",
    "                                theta_dot = theta1_dot, \n",
    "                                transform_low_high = T01, \n",
    "                                omega = omega, v = v, \n",
    "                                Display = False,\n",
    "                                alias = alias)\n",
    "\n",
    "\n",
    "# IMPORTANT: Treat the centre of mass as a separate joint!\n",
    "omega_GG, v_GG = revolute_joint(frame = 'e', \n",
    "                                theta_dot = theta1_dot, \n",
    "                                transform_low_high = T1G, \n",
    "                                omega = omega_11, v = v_11, \n",
    "                                alias = alias)\n",
    "\n",
    "\n",
    "Jee, J0 = Jacobian(parameters = [theta1_dot], \n",
    "                     v_ee = v_GG, omega_ee = omega_GG, \n",
    "                     transform_low_high = T0G, \n",
    "                     alias = alias, Display=True, Display_all_details=False)\n",
    "\n",
    "# Find velocity of G in frame {0}\n",
    "symprint('V', 0, 'G')\n",
    "v_0G = simplify(T0G[:3, :3] * v_GG)\n",
    "matprint(v_0G, alias)\n",
    "\n",
    "symprint('\\\\Omega', 0, 'G')\n",
    "omega_0G = simplify(T0G[:3, :3] * omega_GG)\n",
    "matprint(omega_0G, alias)\n"
   ]
  },
  {
   "cell_type": "code",
   "execution_count": 94,
   "id": "381118e6",
   "metadata": {},
   "outputs": [
    {
     "data": {
      "text/latex": [
       "$\\displaystyle ^0\\dot{V}_G$"
      ],
      "text/plain": [
       "^0\\dot{V}_G"
      ]
     },
     "metadata": {},
     "output_type": "display_data"
    },
    {
     "data": {
      "text/latex": [
       "$\\displaystyle \\left[\\begin{matrix}- l_{g} \\left(\\ddot{\\theta_1} \\sin{\\left(\\theta_{1} \\right)} + \\dot{\\theta_1}^{2} \\cos{\\left(\\theta_{1} \\right)}\\right)\\\\l_{g} \\left(\\ddot{\\theta_1} \\cos{\\left(\\theta_{1} \\right)} - \\dot{\\theta_1}^{2} \\sin{\\left(\\theta_{1} \\right)}\\right)\\\\0\\end{matrix}\\right]$"
      ],
      "text/plain": [
       "Matrix([\n",
       "[-l_g*(\\ddot{\\theta_1}*sin(\\theta_1) + \\dot{\\theta_1}**2*cos(\\theta_1))],\n",
       "[ l_g*(\\ddot{\\theta_1}*cos(\\theta_1) - \\dot{\\theta_1}**2*sin(\\theta_1))],\n",
       "[                                                                     0]])"
      ]
     },
     "metadata": {},
     "output_type": "display_data"
    }
   ],
   "source": [
    "# Q3\n",
    "\n",
    "# Differentiate with respect to t\n",
    "\n",
    "symprint('\\dot{V}', 0, 'G')\n",
    "\n",
    "A0G = simplify(v_0G.diff(t))\n",
    "matprint(A0G, alias)"
   ]
  },
  {
   "cell_type": "code",
   "execution_count": 95,
   "id": "2f80e439",
   "metadata": {},
   "outputs": [
    {
     "data": {
      "text/latex": [
       "$\\displaystyle ^1V_{G}$"
      ],
      "text/plain": [
       "^1V_G"
      ]
     },
     "metadata": {},
     "output_type": "display_data"
    },
    {
     "data": {
      "text/latex": [
       "$\\displaystyle \\left[\\begin{matrix}0\\\\\\dot{\\theta_1} l_{g}\\\\0\\end{matrix}\\right]$"
      ],
      "text/plain": [
       "Matrix([\n",
       "[                 0],\n",
       "[\\dot{\\theta_1}*l_g],\n",
       "[                 0]])"
      ]
     },
     "metadata": {},
     "output_type": "display_data"
    },
    {
     "data": {
      "text/latex": [
       "$\\displaystyle ^0\\Omega_{G}$"
      ],
      "text/plain": [
       "^0\\Omega_G"
      ]
     },
     "metadata": {},
     "output_type": "display_data"
    },
    {
     "data": {
      "text/latex": [
       "$\\displaystyle \\left[\\begin{matrix}0\\\\0\\\\\\dot{\\theta_1}\\end{matrix}\\right]$"
      ],
      "text/plain": [
       "Matrix([\n",
       "[             0],\n",
       "[             0],\n",
       "[\\dot{\\theta_1}]])"
      ]
     },
     "metadata": {},
     "output_type": "display_data"
    },
    {
     "data": {
      "text/latex": [
       "$\\displaystyle ^1\\dot{V}_G$"
      ],
      "text/plain": [
       "^1\\dot{V}_G"
      ]
     },
     "metadata": {},
     "output_type": "display_data"
    },
    {
     "data": {
      "text/latex": [
       "$\\displaystyle \\left[\\begin{matrix}- \\dot{\\theta_1}^{2} l_{g}\\\\\\ddot{\\theta_1} l_{g}\\\\0\\end{matrix}\\right]$"
      ],
      "text/plain": [
       "Matrix([\n",
       "[-\\dot{\\theta_1}**2*l_g],\n",
       "[   \\ddot{\\theta_1}*l_g],\n",
       "[                     0]])"
      ]
     },
     "metadata": {},
     "output_type": "display_data"
    }
   ],
   "source": [
    "# Q4\n",
    "\n",
    "# Find velocity of G in frame {1}\n",
    "\n",
    "symprint('V', 1, 'G')\n",
    "v_1G = simplify(T1G[:3, :3] * v_GG)\n",
    "matprint(v_1G, alias)\n",
    "\n",
    "symprint('\\\\Omega', 0, 'G')\n",
    "omega_1G = simplify(T1G[:3, :3] * omega_GG)\n",
    "matprint(omega_1G, alias)\n",
    "\n",
    "#------------------------------\n",
    "\n",
    "# Find acceleration\n",
    "\n",
    "# DON'T DIRECTLY APPLY ELEMENT-WISE DIFFERENTIATE, EXCEPT WITH RESPECT TO {0}\n",
    "# Differentiate with respect to t\n",
    "# symprint('\\dot{V}', 1, 'G')\n",
    "# A1G = simplify(v_1G.diff(t))\n",
    "# matprint(A1G, alias)\n",
    "\n",
    "# Find A1G by transforming from A0G\n",
    "symprint('\\dot{V}', 1, 'G')\n",
    "A1G = simplify(T01[:3, :3]**-1 * A0G)\n",
    "matprint(A1G, alias)"
   ]
  },
  {
   "cell_type": "code",
   "execution_count": 109,
   "id": "b2c7d784",
   "metadata": {},
   "outputs": [],
   "source": [
    "# Q5\n",
    "\n",
    "def angular_acce(frame, joint_type, transform_low_high, omega_dot, theta_dot, theta_ddot, alias, Display = True):\n",
    "    # Transpose and extract the 3x3 matrix\n",
    "    rotation_high_low = transform_low_high.T[:3, :3]\n",
    "    \n",
    "    if joint_type == 'r':\n",
    "        omega_new = simplify(rotation_high_low * omega_dot +\n",
    "                             rotation_high_low * omega_dot.cross(theta_dot * Matrix([0, 0, 1])) +\n",
    "                             theta_ddot * Matrix([0, 0, 1])\n",
    "                            )\n",
    "        if Display == True:\n",
    "            symprint('\\dot{\\\\Omega}', frame, frame)\n",
    "            matprint(omega_new, alias)\n",
    "            \n",
    "    elif joint_type == 'p':\n",
    "        omega_new = simplify(rotation_high_low * omega_dot)\n",
    "        \n",
    "        if Display == True:\n",
    "            symprint('\\dot{\\\\Omega}', frame, frame)\n",
    "            matprint(omega_new, alias)\n",
    "            \n",
    "    else:\n",
    "        print('Joint type not found, try r and p')\n",
    "        return None\n",
    "    \n",
    "    \n",
    "    return omega_new\n",
    "\n",
    "\n",
    "def linear_acce(frame, joint_type, transform_low_high, omega, omega_dot, v_dot, alias, Display = True):\n",
    "    \n",
    "    # Transpose and extract the 3x3 matrix\n",
    "    rotation_high_low = transform_low_high.T[:3, :3]\n",
    "    P = transform_low_high[:3, -1]\n",
    "    \n",
    "    if joint_type == 'r':\n",
    "\n",
    "        v_new = simplify(rotation_high_low * (v_dot + omega_dot.cross(P) + omega.cross(omega.cross(P))))\n",
    "        \n",
    "        if Display == True:\n",
    "            symprint('\\dot{V}', frame, frame)\n",
    "            matprint(v_new, alias)\n",
    "    elif joint_type == 'p':\n",
    "        pass\n",
    "        \n",
    "    else:\n",
    "        print('Joint type not found, try r and p')\n",
    "        return None\n",
    "    \n",
    "    return v_new\n",
    "\n",
    "def force_cal(mass, v_dot):\n",
    "    F = simplify(mass * v_dot)  \n",
    "    return F\n",
    "    \n",
    "def moment_cal(I, omega_dot, omega):\n",
    "    \n",
    "    intermediate = I * omega\n",
    "    M = simplify(I * omega_dot + omega.cross(intermediate))\n",
    "    return M\n",
    "\n",
    "    \n",
    "    "
   ]
  },
  {
   "cell_type": "code",
   "execution_count": 111,
   "id": "b3bebd9d",
   "metadata": {},
   "outputs": [
    {
     "data": {
      "text/latex": [
       "$\\displaystyle ^1\\dot{\\Omega}_1$"
      ],
      "text/plain": [
       "^1\\dot{\\Omega}_1"
      ]
     },
     "metadata": {},
     "output_type": "display_data"
    },
    {
     "data": {
      "text/latex": [
       "$\\displaystyle \\left[\\begin{matrix}0\\\\0\\\\\\ddot{\\theta_1}\\end{matrix}\\right]$"
      ],
      "text/plain": [
       "Matrix([\n",
       "[              0],\n",
       "[              0],\n",
       "[\\ddot{\\theta_1}]])"
      ]
     },
     "metadata": {},
     "output_type": "display_data"
    },
    {
     "data": {
      "text/latex": [
       "$\\displaystyle ^1\\dot{V}_1$"
      ],
      "text/plain": [
       "^1\\dot{V}_1"
      ]
     },
     "metadata": {},
     "output_type": "display_data"
    },
    {
     "data": {
      "text/latex": [
       "$\\displaystyle \\left[\\begin{matrix}0\\\\0\\\\g\\end{matrix}\\right]$"
      ],
      "text/plain": [
       "Matrix([\n",
       "[0],\n",
       "[0],\n",
       "[g]])"
      ]
     },
     "metadata": {},
     "output_type": "display_data"
    },
    {
     "data": {
      "text/latex": [
       "$\\displaystyle ^G\\dot{V}_G$"
      ],
      "text/plain": [
       "^G\\dot{V}_G"
      ]
     },
     "metadata": {},
     "output_type": "display_data"
    },
    {
     "data": {
      "text/latex": [
       "$\\displaystyle \\left[\\begin{matrix}- \\dot{\\theta_1}^{2} l_{g}\\\\\\ddot{\\theta_1} l_{g}\\\\g\\end{matrix}\\right]$"
      ],
      "text/plain": [
       "Matrix([\n",
       "[-\\dot{\\theta_1}**2*l_g],\n",
       "[   \\ddot{\\theta_1}*l_g],\n",
       "[                     g]])"
      ]
     },
     "metadata": {},
     "output_type": "display_data"
    },
    {
     "data": {
      "text/latex": [
       "$\\displaystyle ^1F_{G}$"
      ],
      "text/plain": [
       "^1F_G"
      ]
     },
     "metadata": {},
     "output_type": "display_data"
    },
    {
     "data": {
      "text/latex": [
       "$\\displaystyle \\left[\\begin{matrix}- \\dot{\\theta_1}^{2} l_{g} m_{1}\\\\\\ddot{\\theta_1} l_{g} m_{1}\\\\g m_{1}\\end{matrix}\\right]$"
      ],
      "text/plain": [
       "Matrix([\n",
       "[-\\dot{\\theta_1}**2*l_g*m_1],\n",
       "[   \\ddot{\\theta_1}*l_g*m_1],\n",
       "[                     g*m_1]])"
      ]
     },
     "metadata": {},
     "output_type": "display_data"
    },
    {
     "data": {
      "text/latex": [
       "$\\displaystyle ^1M_{G}$"
      ],
      "text/plain": [
       "^1M_G"
      ]
     },
     "metadata": {},
     "output_type": "display_data"
    },
    {
     "data": {
      "text/latex": [
       "$\\displaystyle \\left[\\begin{matrix}0\\\\0\\\\I_{zz} \\ddot{\\theta_1}\\end{matrix}\\right]$"
      ],
      "text/plain": [
       "Matrix([\n",
       "[                     0],\n",
       "[                     0],\n",
       "[I_{zz}*\\ddot{\\theta_1}]])"
      ]
     },
     "metadata": {},
     "output_type": "display_data"
    }
   ],
   "source": [
    "omega_00 = Matrix([0, 0, 0])\n",
    "omega_dot_00 = Matrix([0, 0, 0])\n",
    "v_00 = Matrix([0, 0, 0])\n",
    "g = symbols('g')\n",
    "v_dot_00 = Matrix([0, 0, g])\n",
    "\n",
    "\n",
    "omega_11, v_11 = revolute_joint(frame = 1, \n",
    "                                theta_dot = theta1_dot, \n",
    "                                transform_low_high = T01, \n",
    "                                omega = omega, v = v, \n",
    "                                Display = False,\n",
    "                                alias = alias)\n",
    "\n",
    "omega_dot_11 = angular_acce(frame = 1,\n",
    "                 joint_type = 'r',\n",
    "                 transform_low_high = T01,\n",
    "                 omega_dot = omega_dot_00,\n",
    "                 theta_dot = theta1_dot,\n",
    "                 theta_ddot = theta1_ddot,\n",
    "                 alias = alias)\n",
    "\n",
    "v_dot_11 = linear_acce(frame = 1,\n",
    "                 joint_type = 'r',\n",
    "                 transform_low_high = T01,\n",
    "                 omega = omega_00,\n",
    "                 omega_dot = omega_dot_00,\n",
    "                 v_dot = v_dot_00,\n",
    "                 alias = alias)\n",
    "\n",
    "v_dot_GG = linear_acce(frame = 'G',\n",
    "                 joint_type = 'r',\n",
    "                 transform_low_high = T1G,\n",
    "                 omega = omega_11,\n",
    "                 omega_dot = omega_dot_11,\n",
    "                 v_dot = v_dot_11,\n",
    "                 alias = alias)\n",
    "\n",
    "# Calculate force\n",
    "Ixx = symbols('I_{xx}')\n",
    "Iyy = symbols('I_{yy}')\n",
    "Izz = symbols('I_{zz}')\n",
    "\n",
    "I = Matrix([[Ixx, 0, 0],\n",
    "            [0, Iyy, 0],\n",
    "            [0, 0, Izz]])\n",
    "\n",
    "m1 = symbols('m_1')\n",
    "\n",
    "F1G = force_cal(mass = m1, \n",
    "              v_dot = v_dot_GG)\n",
    "symprint('F', 1, 'G')\n",
    "matprint(F1G, alias)\n",
    "\n",
    "M1G = moment_cal(I = I, \n",
    "               omega_dot = omega_dot_11, \n",
    "               omega = omega_11)\n",
    "symprint('M', 1, 'G')\n",
    "matprint(M1G, alias)\n"
   ]
  },
  {
   "cell_type": "code",
   "execution_count": 112,
   "id": "c10efbac",
   "metadata": {},
   "outputs": [],
   "source": [
    "def inward_iteration(transform_low_high, Fnext, Fcom):\n",
    " \n",
    "    rotation_low_high = transform_low_high[:3, :3]\n",
    "    \n",
    "    Fprev = simplify(rotation_low_high * Fnext + Fcom)\n",
    "\n",
    "    Mprev = Mcom + rotation_low_high * Mnext + Pcom.cross(Fcom) + P.cross(rotation_low_high * Fnext)\n",
    "    \n",
    "    return Fprev\n",
    "\n",
    "\n",
    "\n",
    "\n",
    "\n",
    "\n"
   ]
  },
  {
   "cell_type": "code",
   "execution_count": 116,
   "id": "34f97ef8",
   "metadata": {},
   "outputs": [
    {
     "data": {
      "text/latex": [
       "$\\displaystyle \\left[\\begin{matrix}- \\dot{\\theta_1}^{2} l_{g} m_{1}\\\\\\ddot{\\theta_1} l_{g} m_{1}\\\\g m_{1}\\end{matrix}\\right]$"
      ],
      "text/plain": [
       "Matrix([\n",
       "[-\\dot{\\theta_1}**2*l_g*m_1],\n",
       "[   \\ddot{\\theta_1}*l_g*m_1],\n",
       "[                     g*m_1]])"
      ]
     },
     "metadata": {},
     "output_type": "display_data"
    }
   ],
   "source": [
    "Fee = Matrix([0, 0, 0])\n",
    "Mee = Matrix([0, 0, 0])\n",
    "F11 = inward_iteration(transform_low_high = T1G, \n",
    "                 Fnext = Fee, \n",
    "                 Fcom = F1G)\n",
    "matprint(F11, alias)"
   ]
  },
  {
   "cell_type": "markdown",
   "id": "a1ced1ec",
   "metadata": {},
   "source": [
    "### 5.7.2 Variables"
   ]
  },
  {
   "cell_type": "code",
   "execution_count": 2,
   "id": "c3bbb3cc",
   "metadata": {},
   "outputs": [],
   "source": [
    "t = symbols('t')\n",
    "theta1 = Function(r\"\\theta_1\")(t)\n",
    "theta1_dot = diff(theta1, t)\n",
    "theta1_ddot = diff(theta1, t, t)\n",
    "\n",
    "theta2 = Function(r\"\\theta_2\")(t)\n",
    "theta2_dot = diff(theta2, t)\n",
    "theta2_ddot = diff(theta2, t, t)\n",
    "\n",
    "alias = {}\n",
    "\n",
    "# display as theta dot instead of d(theta)/dt, and ignore dependency (t)\n",
    "alias.update({theta1: symbols(r\"\\theta_1\"),\n",
    "              theta1_dot: symbols(r\"\\dot{\\theta_1}\"),\n",
    "              theta1_ddot: symbols(r\"\\ddot{\\theta_1}\"),\n",
    "              theta2: symbols(r\"\\theta_2\"),\n",
    "              theta2_dot: symbols(r\"\\dot{\\theta_2}\"),\n",
    "              theta2_ddot: symbols(r\"\\ddot{\\theta_2}\")\n",
    "             })"
   ]
  },
  {
   "cell_type": "code",
   "execution_count": 3,
   "id": "a73a7516",
   "metadata": {},
   "outputs": [
    {
     "data": {
      "text/latex": [
       "$\\displaystyle ^0T_{1}$"
      ],
      "text/plain": [
       "^0T_1"
      ]
     },
     "metadata": {},
     "output_type": "display_data"
    },
    {
     "data": {
      "text/latex": [
       "$\\displaystyle \\left[\\begin{matrix}\\cos{\\left(\\theta_{1} \\right)} & - \\sin{\\left(\\theta_{1} \\right)} & 0 & 0\\\\\\sin{\\left(\\theta_{1} \\right)} & \\cos{\\left(\\theta_{1} \\right)} & 0 & 0\\\\0 & 0 & 1 & 0\\\\0 & 0 & 0 & 1\\end{matrix}\\right]$"
      ],
      "text/plain": [
       "Matrix([\n",
       "[cos(\\theta_1), -sin(\\theta_1), 0, 0],\n",
       "[sin(\\theta_1),  cos(\\theta_1), 0, 0],\n",
       "[            0,              0, 1, 0],\n",
       "[            0,              0, 0, 1]])"
      ]
     },
     "metadata": {},
     "output_type": "display_data"
    },
    {
     "data": {
      "text/latex": [
       "$\\displaystyle ^1T_{2}$"
      ],
      "text/plain": [
       "^1T_2"
      ]
     },
     "metadata": {},
     "output_type": "display_data"
    },
    {
     "data": {
      "text/latex": [
       "$\\displaystyle \\left[\\begin{matrix}\\cos{\\left(\\theta_{2} \\right)} & - \\sin{\\left(\\theta_{2} \\right)} & 0 & L_{1}\\\\0 & 0 & 1 & 0\\\\- \\sin{\\left(\\theta_{2} \\right)} & - \\cos{\\left(\\theta_{2} \\right)} & 0 & 0\\\\0 & 0 & 0 & 1\\end{matrix}\\right]$"
      ],
      "text/plain": [
       "Matrix([\n",
       "[ cos(\\theta_2), -sin(\\theta_2), 0, L1],\n",
       "[             0,              0, 1,  0],\n",
       "[-sin(\\theta_2), -cos(\\theta_2), 0,  0],\n",
       "[             0,              0, 0,  1]])"
      ]
     },
     "metadata": {},
     "output_type": "display_data"
    },
    {
     "data": {
      "text/latex": [
       "$\\displaystyle ^0T_{2}$"
      ],
      "text/plain": [
       "^0T_2"
      ]
     },
     "metadata": {},
     "output_type": "display_data"
    },
    {
     "data": {
      "text/latex": [
       "$\\displaystyle \\left[\\begin{matrix}\\cos{\\left(\\theta_{1} \\right)} \\cos{\\left(\\theta_{2} \\right)} & - \\sin{\\left(\\theta_{2} \\right)} \\cos{\\left(\\theta_{1} \\right)} & - \\sin{\\left(\\theta_{1} \\right)} & L_{1} \\cos{\\left(\\theta_{1} \\right)}\\\\\\sin{\\left(\\theta_{1} \\right)} \\cos{\\left(\\theta_{2} \\right)} & - \\sin{\\left(\\theta_{1} \\right)} \\sin{\\left(\\theta_{2} \\right)} & \\cos{\\left(\\theta_{1} \\right)} & L_{1} \\sin{\\left(\\theta_{1} \\right)}\\\\- \\sin{\\left(\\theta_{2} \\right)} & - \\cos{\\left(\\theta_{2} \\right)} & 0 & 0\\\\0 & 0 & 0 & 1\\end{matrix}\\right]$"
      ],
      "text/plain": [
       "Matrix([\n",
       "[cos(\\theta_1)*cos(\\theta_2), -sin(\\theta_2)*cos(\\theta_1), -sin(\\theta_1), L1*cos(\\theta_1)],\n",
       "[sin(\\theta_1)*cos(\\theta_2), -sin(\\theta_1)*sin(\\theta_2),  cos(\\theta_1), L1*sin(\\theta_1)],\n",
       "[             -sin(\\theta_2),               -cos(\\theta_2),              0,                0],\n",
       "[                          0,                            0,              0,                1]])"
      ]
     },
     "metadata": {},
     "output_type": "display_data"
    }
   ],
   "source": [
    "# Q1\n",
    "\n",
    "L1 = symbols('L1')\n",
    "L2 = symbols('L2')\n",
    "theta1 = symbols('\\\\theta_1')\n",
    "theta2 = symbols('\\\\theta_2')\n",
    "\n",
    "DH1 = [0, 0, 0, theta1]\n",
    "T01 = Tlink(DH1)\n",
    "symprint('T',0, 1)\n",
    "matprint(T01)\n",
    "\n",
    "DH2 = [L1, -pi/2, 0, theta2]\n",
    "T12 = Tlink(DH2)\n",
    "symprint('T',1, 2)\n",
    "matprint(T12)\n",
    "\n",
    "T02 = simplify(T01 * T12)\n",
    "symprint('T',0, 2)\n",
    "matprint(T02)\n"
   ]
  },
  {
   "cell_type": "code",
   "execution_count": 13,
   "id": "9d6e80a4",
   "metadata": {},
   "outputs": [
    {
     "data": {
      "text/latex": [
       "$\\displaystyle ^1\\Omega_{1}$"
      ],
      "text/plain": [
       "^1\\Omega_1"
      ]
     },
     "metadata": {},
     "output_type": "display_data"
    },
    {
     "data": {
      "text/latex": [
       "$\\displaystyle \\left[\\begin{matrix}0\\\\0\\\\\\dot{\\theta_1}\\end{matrix}\\right]$"
      ],
      "text/plain": [
       "Matrix([\n",
       "[             0],\n",
       "[             0],\n",
       "[\\dot{\\theta_1}]])"
      ]
     },
     "metadata": {},
     "output_type": "display_data"
    },
    {
     "data": {
      "text/latex": [
       "$\\displaystyle ^1V_{1}$"
      ],
      "text/plain": [
       "^1V_1"
      ]
     },
     "metadata": {},
     "output_type": "display_data"
    },
    {
     "data": {
      "text/latex": [
       "$\\displaystyle \\left[\\begin{matrix}0\\\\0\\\\0\\end{matrix}\\right]$"
      ],
      "text/plain": [
       "Matrix([\n",
       "[0],\n",
       "[0],\n",
       "[0]])"
      ]
     },
     "metadata": {},
     "output_type": "display_data"
    },
    {
     "data": {
      "text/latex": [
       "$\\displaystyle ^2\\Omega_{2}$"
      ],
      "text/plain": [
       "^2\\Omega_2"
      ]
     },
     "metadata": {},
     "output_type": "display_data"
    },
    {
     "data": {
      "text/latex": [
       "$\\displaystyle \\left[\\begin{matrix}- \\dot{\\theta_1} \\sin{\\left(\\theta_{2} \\right)}\\\\- \\dot{\\theta_1} \\cos{\\left(\\theta_{2} \\right)}\\\\\\dot{\\theta_2}\\end{matrix}\\right]$"
      ],
      "text/plain": [
       "Matrix([\n",
       "[-\\dot{\\theta_1}*sin(\\theta_2)],\n",
       "[-\\dot{\\theta_1}*cos(\\theta_2)],\n",
       "[               \\dot{\\theta_2}]])"
      ]
     },
     "metadata": {},
     "output_type": "display_data"
    },
    {
     "data": {
      "text/latex": [
       "$\\displaystyle ^2V_{2}$"
      ],
      "text/plain": [
       "^2V_2"
      ]
     },
     "metadata": {},
     "output_type": "display_data"
    },
    {
     "data": {
      "text/latex": [
       "$\\displaystyle \\left[\\begin{matrix}0\\\\0\\\\L_{1} \\dot{\\theta_1}\\end{matrix}\\right]$"
      ],
      "text/plain": [
       "Matrix([\n",
       "[                0],\n",
       "[                0],\n",
       "[L1*\\dot{\\theta_1}]])"
      ]
     },
     "metadata": {},
     "output_type": "display_data"
    },
    {
     "data": {
      "text/latex": [
       "$\\displaystyle ^2V_{G 2}$"
      ],
      "text/plain": [
       "^2V_G_2"
      ]
     },
     "metadata": {},
     "output_type": "display_data"
    },
    {
     "data": {
      "text/latex": [
       "$\\displaystyle \\left[\\begin{matrix}0\\\\Lg_{2} \\dot{\\theta_2}\\\\\\dot{\\theta_1} \\left(L_{1} + Lg_{2} \\cos{\\left(\\theta_{2} \\right)}\\right)\\end{matrix}\\right]$"
      ],
      "text/plain": [
       "Matrix([\n",
       "[                                       0],\n",
       "[                     Lg_2*\\dot{\\theta_2}],\n",
       "[\\dot{\\theta_1}*(L1 + Lg_2*cos(\\theta_2))]])"
      ]
     },
     "metadata": {},
     "output_type": "display_data"
    },
    {
     "data": {
      "text/latex": [
       "$\\displaystyle ^0V_{G 2}$"
      ],
      "text/plain": [
       "^0V_G_2"
      ]
     },
     "metadata": {},
     "output_type": "display_data"
    },
    {
     "data": {
      "text/latex": [
       "$\\displaystyle \\left[\\begin{matrix}- Lg_{2} \\dot{\\theta_2} \\sin{\\left(\\theta_{2} \\right)} \\cos{\\left(\\theta_{1} \\right)} - \\dot{\\theta_1} \\left(L_{1} + Lg_{2} \\cos{\\left(\\theta_{2} \\right)}\\right) \\sin{\\left(\\theta_{1} \\right)}\\\\- Lg_{2} \\dot{\\theta_2} \\sin{\\left(\\theta_{1} \\right)} \\sin{\\left(\\theta_{2} \\right)} + \\dot{\\theta_1} \\left(L_{1} + Lg_{2} \\cos{\\left(\\theta_{2} \\right)}\\right) \\cos{\\left(\\theta_{1} \\right)}\\\\- Lg_{2} \\dot{\\theta_2} \\cos{\\left(\\theta_{2} \\right)}\\end{matrix}\\right]$"
      ],
      "text/plain": [
       "Matrix([\n",
       "[-Lg_2*\\dot{\\theta_2}*sin(\\theta_2)*cos(\\theta_1) - \\dot{\\theta_1}*(L1 + Lg_2*cos(\\theta_2))*sin(\\theta_1)],\n",
       "[-Lg_2*\\dot{\\theta_2}*sin(\\theta_1)*sin(\\theta_2) + \\dot{\\theta_1}*(L1 + Lg_2*cos(\\theta_2))*cos(\\theta_1)],\n",
       "[                                                                       -Lg_2*\\dot{\\theta_2}*cos(\\theta_2)]])"
      ]
     },
     "metadata": {},
     "output_type": "display_data"
    }
   ],
   "source": [
    "# Q2 \n",
    "\n",
    "omega = Matrix([0, 0, 0])\n",
    "v = Matrix([0, 0, 0])\n",
    "\n",
    "# theta_1_dot = symbols('\\dot{\\\\theta_1}')\n",
    "# theta_2_dot = symbols('\\dot{\\\\theta_2}')\n",
    "\n",
    "omega_11, v_11 = revolute_joint(frame = 1, \n",
    "                                theta_dot = theta1_dot, \n",
    "                                transform_low_high = T02, \n",
    "                                omega = omega, v = v, \n",
    "                                alias = alias)\n",
    "\n",
    "omega_22, v_22 = revolute_joint(frame = 2, \n",
    "                                theta_dot = theta2_dot, \n",
    "                                transform_low_high = T02, \n",
    "                                omega = omega_11, v = v_11, \n",
    "                                alias = alias)\n",
    "\n",
    "\n",
    "# Location of the centre of mass\n",
    "lg2 = symbols('Lg_2')\n",
    "PG22 = Matrix([lg2, 0, 0])\n",
    "\n",
    "\n",
    "VG22 = velocity_COM(2, \n",
    "                    P = PG22,\n",
    "                    v = v_22,\n",
    "                    omega = omega_22, \n",
    "                    alias = alias)\n",
    "\n",
    "symprint('V_G', 0, 2)\n",
    "\n",
    "# Velocity of G2 in {0} = rotational matrix from 0 to 2 * Velocity of G2 in {2}\n",
    "VG02 = simplify(T02[:3, :3] * VG22)\n",
    "matprint(VG02, alias)"
   ]
  },
  {
   "cell_type": "code",
   "execution_count": 14,
   "id": "95117ca6",
   "metadata": {},
   "outputs": [
    {
     "data": {
      "text/latex": [
       "$\\displaystyle \\left[\\begin{matrix}- Lg_{2} \\ddot{\\theta_2} \\sin{\\left(\\theta_{2} \\right)} \\cos{\\left(\\theta_{1} \\right)} - \\ddot{\\theta_1} \\left(L_{1} + Lg_{2} \\cos{\\left(\\theta_{2} \\right)}\\right) \\sin{\\left(\\theta_{1} \\right)}\\\\- Lg_{2} \\ddot{\\theta_2} \\sin{\\left(\\theta_{1} \\right)} \\sin{\\left(\\theta_{2} \\right)} + \\ddot{\\theta_1} \\left(L_{1} + Lg_{2} \\cos{\\left(\\theta_{2} \\right)}\\right) \\cos{\\left(\\theta_{1} \\right)}\\\\- Lg_{2} \\ddot{\\theta_2} \\cos{\\left(\\theta_{2} \\right)}\\end{matrix}\\right]$"
      ],
      "text/plain": [
       "Matrix([\n",
       "[-Lg_2*\\ddot{\\theta_2}*sin(\\theta_2)*cos(\\theta_1) - \\ddot{\\theta_1}*(L1 + Lg_2*cos(\\theta_2))*sin(\\theta_1)],\n",
       "[-Lg_2*\\ddot{\\theta_2}*sin(\\theta_1)*sin(\\theta_2) + \\ddot{\\theta_1}*(L1 + Lg_2*cos(\\theta_2))*cos(\\theta_1)],\n",
       "[                                                                        -Lg_2*\\ddot{\\theta_2}*cos(\\theta_2)]])"
      ]
     },
     "metadata": {},
     "output_type": "display_data"
    }
   ],
   "source": [
    "# Q3\n",
    "matprint(VG02.diff(t), alias)"
   ]
  },
  {
   "cell_type": "code",
   "execution_count": null,
   "id": "a5d4526f",
   "metadata": {},
   "outputs": [],
   "source": []
  }
 ],
 "metadata": {
  "kernelspec": {
   "display_name": "Python 3 (ipykernel)",
   "language": "python",
   "name": "python3"
  },
  "language_info": {
   "codemirror_mode": {
    "name": "ipython",
    "version": 3
   },
   "file_extension": ".py",
   "mimetype": "text/x-python",
   "name": "python",
   "nbconvert_exporter": "python",
   "pygments_lexer": "ipython3",
   "version": "3.8.15"
  }
 },
 "nbformat": 4,
 "nbformat_minor": 5
}
